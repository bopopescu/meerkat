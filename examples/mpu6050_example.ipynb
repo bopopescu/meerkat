{
 "cells": [
  {
   "cell_type": "markdown",
   "metadata": {},
   "source": [
    "## MPU6050  \n",
    "6-axis Gyro and Accelerometer  \n",
    "\n",
    "Manufacturer Link:  https://www.invensense.com/products/motion-tracking/6-axis/mpu-6050/\n",
    "\n",
    "Breakout Board Link:  https://www.sparkfun.com/products/11028"
   ]
  },
  {
   "cell_type": "code",
   "execution_count": 1,
   "metadata": {},
   "outputs": [],
   "source": [
    "import smbus\n",
    "import matplotlib.pyplot as plt\n",
    "\n",
    "from meerkat import mpu6050, parser"
   ]
  },
  {
   "cell_type": "code",
   "execution_count": 2,
   "metadata": {},
   "outputs": [],
   "source": [
    "dev = mpu6050.mpu6050(bus_n=1, output='json')"
   ]
  },
  {
   "cell_type": "markdown",
   "metadata": {},
   "source": [
    "#### Configuration"
   ]
  },
  {
   "cell_type": "code",
   "execution_count": 3,
   "metadata": {},
   "outputs": [],
   "source": [
    "dev.set_gyro_range(dev.GYRO_RANGE_1000DEG)\n",
    "dev.set_accel_range(dev.ACCEL_RANGE_2G)"
   ]
  },
  {
   "cell_type": "markdown",
   "metadata": {},
   "source": [
    "#### Measurements"
   ]
  },
  {
   "cell_type": "code",
   "execution_count": 4,
   "metadata": {},
   "outputs": [
    {
     "data": {
      "text/plain": [
       "23.73"
      ]
     },
     "execution_count": 4,
     "metadata": {},
     "output_type": "execute_result"
    }
   ],
   "source": [
    "dev.get_temp()"
   ]
  },
  {
   "cell_type": "code",
   "execution_count": 5,
   "metadata": {},
   "outputs": [
    {
     "data": {
      "text/plain": [
       "(38.31680336914062, 36.00879296875, 7.505822204589843)"
      ]
     },
     "execution_count": 5,
     "metadata": {},
     "output_type": "execute_result"
    }
   ],
   "source": [
    "dev.get_accel()"
   ]
  },
  {
   "cell_type": "code",
   "execution_count": 6,
   "metadata": {},
   "outputs": [
    {
     "data": {
      "text/plain": [
       "(-5.00763358778626, -1.3893129770992367, -2.3587786259541983)"
      ]
     },
     "execution_count": 6,
     "metadata": {},
     "output_type": "execute_result"
    }
   ],
   "source": [
    "dev.get_gyro()"
   ]
  },
  {
   "cell_type": "code",
   "execution_count": 7,
   "metadata": {},
   "outputs": [
    {
     "data": {
      "text/plain": [
       "[23.635882352941177,\n",
       " 37.83317463378906,\n",
       " 36.231453723144526,\n",
       " 7.558494641113281,\n",
       " -5.030534351145038,\n",
       " 4.572519083969466,\n",
       " 1.2366412213740459]"
      ]
     },
     "execution_count": 7,
     "metadata": {},
     "output_type": "execute_result"
    }
   ],
   "source": [
    "dev.get_all()"
   ]
  },
  {
   "cell_type": "code",
   "execution_count": 8,
   "metadata": {},
   "outputs": [
    {
     "data": {
      "text/plain": [
       "['NA',\n",
       " 1,\n",
       " 38.08217160644531,\n",
       " 36.042311791992184,\n",
       " 7.407659936523437,\n",
       " -5.427480916030534,\n",
       " 0.3511450381679389,\n",
       " -1.0076335877862594]"
      ]
     },
     "execution_count": 8,
     "metadata": {},
     "output_type": "execute_result"
    }
   ],
   "source": [
    "dev.get()"
   ]
  },
  {
   "cell_type": "code",
   "execution_count": 9,
   "metadata": {},
   "outputs": [
    {
     "data": {
      "text/plain": [
       "[['test_1',\n",
       "  1,\n",
       "  38.266525134277344,\n",
       "  35.88190028076172,\n",
       "  7.481880187988281,\n",
       "  -5.603053435114504,\n",
       "  -0.26717557251908397,\n",
       "  -1.4427480916030535],\n",
       " ['test_1',\n",
       "  2,\n",
       "  38.29286135253906,\n",
       "  35.951332128906245,\n",
       "  7.3549875,\n",
       "  -5.793893129770993,\n",
       "  1.8473282442748091,\n",
       "  -1.1221374045801527],\n",
       " ['test_1',\n",
       "  3,\n",
       "  38.08935421142578,\n",
       "  36.12850305175781,\n",
       "  7.419630944824219,\n",
       "  -5.396946564885496,\n",
       "  -0.183206106870229,\n",
       "  -1.0687022900763359],\n",
       " ['test_1',\n",
       "  4,\n",
       "  38.03428757324219,\n",
       "  36.176387084960936,\n",
       "  7.520187414550781,\n",
       "  -6.175572519083969,\n",
       "  -1.5954198473282444,\n",
       "  -1.2061068702290076],\n",
       " ['test_1',\n",
       "  5,\n",
       "  38.240188916015626,\n",
       "  36.1237146484375,\n",
       "  7.498639599609374,\n",
       "  -5.732824427480916,\n",
       "  0.5114503816793893,\n",
       "  -1.1374045801526718]]"
      ]
     },
     "execution_count": 9,
     "metadata": {},
     "output_type": "execute_result"
    }
   ],
   "source": [
    "dev.get(description=\"test_1\", n=5)"
   ]
  },
  {
   "cell_type": "markdown",
   "metadata": {},
   "source": [
    "#### JSON Data Publishing"
   ]
  },
  {
   "cell_type": "code",
   "execution_count": 10,
   "metadata": {},
   "outputs": [],
   "source": [
    "# lower metadata interval from a default of once every 10 samples\n",
    "dev.json_writer.metadata_interval = 3"
   ]
  },
  {
   "cell_type": "code",
   "execution_count": 11,
   "metadata": {},
   "outputs": [
    {
     "data": {
      "text/plain": [
       "['{\"description\": \"test_2\", \"sample_n\": 0, \"ax\": 38.09414261474609, \"ay\": 36.15962767333984, \"az\": 7.381323718261719, \"gx\": -5.748091603053435, \"gy\": -0.6030534351145038, \"gz\": -1.16793893129771, \"std_time_ms\": \"2020-02-16 11:22:42.332035\"}',\n",
       " '{\"description\": \"test_2\", \"sample_n\": 1, \"ax\": 38.12766143798828, \"ay\": 36.169204479980465, \"az\": 7.532158422851562, \"gx\": -5.732824427480916, \"gy\": 0.3435114503816794, \"gz\": -1.1908396946564885, \"std_time_ms\": \"2020-02-16 11:22:42.347846\"}',\n",
       " '{\"description\": null, \"sample_n\": 2, \"ax\": 38.046258581542965, \"ay\": 36.13089725341796, \"az\": 7.4699091796875, \"gx\": -5.778625954198473, \"gy\": -0.6793893129770993, \"gz\": -1.099236641221374, \"std_time_ms\": \"2020-02-16 11:22:42.362325\", \"name\": \"MCP9808\", \"title\": null, \"format\": null, \"encoding\": \"utf-8\", \"bytes\": null, \"hash\": null, \"schema\": null, \"sources\": null, \"licenses\": null, \"line_terminator\": \"\\\\n\", \"quote_char\": \"\\\\\"\", \"double_quote\": true, \"escape_char\": \"\\\\\\\\\", \"null_sequence\": \"NA\", \"comment\": \"#\", \"skip_lines\": 0, \"path\": null, \"device\": {\"name\": \"MPU-6050\", \"version_hw\": \"0.1\", \"version_sw\": \"0.1\", \"accuracy\": null, \"precision\": null, \"bus\": \"<meerkat.i2c_pi.WrapI2C object at 0xad043630>\", \"state\": null, \"active\": null, \"error\": null, \"dtype\": null, \"description\": \"TDK InvenSense Gyro & Accelerometer\", \"urls\": \"https://www.invensense.com/products/motion-tracking/6-axis/mpu-6050/\", \"manufacturer\": \"TDK\", \"gyro_accuracy\": \"+/-3%, +/-2% cross axis\", \"gyro_precision\": \"16bit\", \"gyro_noise\": \"0.05 deg/s-rms\", \"accel_accuracy\": \"+/-0.5%, +/-2 cross axis\", \"accel_precision\": \"16bit\", \"accel_noise\": \"PSD 400 ug / Hz**1/2\", \"calibration_date\": null}, \"units\": null, \"dtypes\": null, \"accuracy\": null, \"precision\": null, \"time_format\": \"std_time_ms\", \"strfmtime\": \"%Y-%m-%d %H:%M:%S.%f\", \"version\": \"0.1 Alpha\", \"standard\": \"RFC 8259\", \"media_type\": \"text/json\", \"metadata_interval\": 3, \"metadata_file_i\": 1, \"metadata_stream_i\": 0, \"header\": [\"description\", \"sample_n\", \"ax\", \"ay\", \"az\", \"gx\", \"gy\", \"gz\"]}',\n",
       " '{\"description\": \"test_2\", \"sample_n\": 3, \"ax\": 38.12766143798828, \"ay\": 36.15483927001953, \"az\": 7.414842541503906, \"gx\": -5.793893129770993, \"gy\": -0.04580152671755725, \"gz\": -1.1603053435114503, \"std_time_ms\": \"2020-02-16 11:22:42.376625\"}',\n",
       " '{\"description\": \"test_2\", \"sample_n\": 4, \"ax\": 38.12047883300781, \"ay\": 36.09737843017578, \"az\": 7.465120776367187, \"gx\": -5.656488549618321, \"gy\": -0.022900763358778626, \"gz\": -1.16793893129771, \"std_time_ms\": \"2020-02-16 11:22:42.389380\"}']"
      ]
     },
     "execution_count": 11,
     "metadata": {},
     "output_type": "execute_result"
    }
   ],
   "source": [
    "# writing method with description and sample number\n",
    "dev.publish(description='test_2', n=5)"
   ]
  },
  {
   "cell_type": "markdown",
   "metadata": {},
   "source": [
    "#### JSON Writer Output"
   ]
  },
  {
   "cell_type": "code",
   "execution_count": 12,
   "metadata": {},
   "outputs": [],
   "source": [
    "# default writer format is CSV, switch to JSON\n",
    "dev.writer_output = 'json'"
   ]
  },
  {
   "cell_type": "code",
   "execution_count": 13,
   "metadata": {},
   "outputs": [],
   "source": [
    "# writer method with description and sample number\n",
    "dev.write(description='test_3', n=30)"
   ]
  },
  {
   "cell_type": "code",
   "execution_count": 14,
   "metadata": {},
   "outputs": [
    {
     "data": {
      "text/plain": [
       "'2020_02_16_11_22_42.jsontxt'"
      ]
     },
     "execution_count": 14,
     "metadata": {},
     "output_type": "execute_result"
    }
   ],
   "source": [
    "dev.json_writer.path"
   ]
  },
  {
   "cell_type": "code",
   "execution_count": 15,
   "metadata": {},
   "outputs": [
    {
     "name": "stdout",
     "output_type": "stream",
     "text": [
      "{\"description\": \"test_3\", \"sample_n\": 0, \"ax\": 38.113296228027345, \"ay\": 36.09019582519531, \"az\": 7.56567724609375, \"gx\": -5.702290076335878, \"gy\": 0.022900763358778626, \"gz\": -1.2366412213740459, \"std_time_ms\": \"2020-02-16 11:22:42.497328\"}\n",
      "{\"description\": \"test_3\", \"sample_n\": 1, \"ax\": 38.18272807617187, \"ay\": 36.06625380859375, \"az\": 7.513004809570312, \"gx\": -5.763358778625954, \"gy\": -0.3893129770992366, \"gz\": -1.1068702290076335, \"std_time_ms\": \"2020-02-16 11:22:42.514463\"}\n",
      "{\"description\": null, \"sample_n\": 2, \"ax\": 38.15160345458984, \"ay\": 36.042311791992184, \"az\": 7.481880187988281, \"gx\": -5.687022900763359, \"gy\": -0.2366412213740458, \"gz\": -1.1755725190839694, \"std_time_ms\": \"2020-02-16 11:22:42.532653\", \"name\": \"MCP9808\", \"title\": null, \"format\": null, \"encoding\": \"utf-8\", \"bytes\": null, \"hash\": null, \"schema\": null, \"sources\": null, \"licenses\": null, \"line_terminator\": \"\\n\", \"quote_char\": \"\\\"\", \"double_quote\": true, \"escape_char\": \"\\\\\", \"null_sequence\": \"NA\", \"comment\": \"#\", \"skip_lines\": 0, \"path\": \"2020_02_16_11_22_42.jsontxt\", \"device\": {\"name\": \"MPU-6050\", \"version_hw\": \"0.1\", \"version_sw\": \"0.1\", \"accuracy\": null, \"precision\": null, \"bus\": \"<meerkat.i2c_pi.WrapI2C object at 0xad043630>\", \"state\": null, \"active\": null, \"error\": null, \"dtype\": null, \"description\": \"TDK InvenSense Gyro & Accelerometer\", \"urls\": \"https://www.invensense.com/products/motion-tracking/6-axis/mpu-6050/\", \"manufacturer\": \"TDK\", \"gyro_accuracy\": \"+/-3%, +/-2% cross axis\", \"gyro_precision\": \"16bit\", \"gyro_noise\": \"0.05 deg/s-rms\", \"accel_accuracy\": \"+/-0.5%, +/-2 cross axis\", \"accel_precision\": \"16bit\", \"accel_noise\": \"PSD 400 ug / Hz**1/2\", \"calibration_date\": null}, \"units\": null, \"dtypes\": null, \"accuracy\": null, \"precision\": null, \"time_format\": \"std_time_ms\", \"strfmtime\": \"%Y-%m-%d %H:%M:%S.%f\", \"version\": \"0.1 Alpha\", \"standard\": \"RFC 8259\", \"media_type\": \"text/json\", \"metadata_interval\": 3, \"metadata_file_i\": 0, \"metadata_stream_i\": 3, \"header\": [\"description\", \"sample_n\", \"ax\", \"ay\", \"az\", \"gx\", \"gy\", \"gz\"]}\n",
      "{\"description\": \"test_3\", \"sample_n\": 3, \"ax\": 38.21385269775391, \"ay\": 35.97527414550781, \"az\": 7.4579381713867186, \"gx\": -5.709923664122138, \"gy\": 0.12213740458015267, \"gz\": -1.2366412213740459, \"std_time_ms\": \"2020-02-16 11:22:42.540789\"}\n"
     ]
    }
   ],
   "source": [
    "with open(dev.json_writer.path, 'r') as f:\n",
    "    for _ in range(4):\n",
    "        print(f.readline().strip())"
   ]
  },
  {
   "cell_type": "markdown",
   "metadata": {},
   "source": [
    "#### CSV Writer Output"
   ]
  },
  {
   "cell_type": "code",
   "execution_count": 16,
   "metadata": {},
   "outputs": [],
   "source": [
    "# switch back to CSV format\n",
    "dev.writer_output = 'csv'"
   ]
  },
  {
   "cell_type": "code",
   "execution_count": 17,
   "metadata": {},
   "outputs": [],
   "source": [
    "# writer method with description and sample number\n",
    "dev.write(description='test_4', n=30)"
   ]
  },
  {
   "cell_type": "code",
   "execution_count": 18,
   "metadata": {},
   "outputs": [
    {
     "data": {
      "text/plain": [
       "'2020_02_16_11_22_43_data.csv'"
      ]
     },
     "execution_count": 18,
     "metadata": {},
     "output_type": "execute_result"
    }
   ],
   "source": [
    "dev.csv_writer.path"
   ]
  },
  {
   "cell_type": "code",
   "execution_count": 19,
   "metadata": {},
   "outputs": [],
   "source": [
    "# load .csv data written with dev.write\n",
    "m, df = parser.csv_resource(dev.csv_writer.path)"
   ]
  },
  {
   "cell_type": "markdown",
   "metadata": {},
   "source": [
    "#### Metadata in CSV"
   ]
  },
  {
   "cell_type": "code",
   "execution_count": 20,
   "metadata": {},
   "outputs": [
    {
     "data": {
      "text/plain": [
       "{'name': 'MPU-6050',\n",
       " 'title': None,\n",
       " 'description': None,\n",
       " 'format': None,\n",
       " 'encoding': 'utf-8',\n",
       " 'bytes': None,\n",
       " 'hash': None,\n",
       " 'schema': None,\n",
       " 'sources': None,\n",
       " 'licenses': None,\n",
       " 'line_terminator': '\\n',\n",
       " 'quote_char': '\"',\n",
       " 'double_quote': True,\n",
       " 'escape_char': '\\\\',\n",
       " 'null_sequence': 'NA',\n",
       " 'comment': '#',\n",
       " 'skip_lines': 1,\n",
       " 'path': '2020_02_16_11_22_43_data.csv',\n",
       " 'device': {'name': 'MPU-6050',\n",
       "  'version_hw': '0.1',\n",
       "  'version_sw': '0.1',\n",
       "  'accuracy': None,\n",
       "  'precision': None,\n",
       "  'bus': '<meerkat.i2c_pi.WrapI2C object at 0xad043630>',\n",
       "  'state': None,\n",
       "  'active': None,\n",
       "  'error': None,\n",
       "  'dtype': None,\n",
       "  'description': 'TDK InvenSense Gyro & Accelerometer',\n",
       "  'urls': 'https://www.invensense.com/products/motion-tracking/6-axis/mpu-6050/',\n",
       "  'manufacturer': 'TDK',\n",
       "  'gyro_accuracy': '+/-3%, +/-2% cross axis',\n",
       "  'gyro_precision': '16bit',\n",
       "  'gyro_noise': '0.05 deg/s-rms',\n",
       "  'accel_accuracy': '+/-0.5%, +/-2 cross axis',\n",
       "  'accel_precision': '16bit',\n",
       "  'accel_noise': 'PSD 400 ug / Hz**1/2',\n",
       "  'calibration_date': None},\n",
       " 'units': None,\n",
       " 'dtypes': None,\n",
       " 'accuracy': None,\n",
       " 'precision': None,\n",
       " 'time_format': 'std_time_ms',\n",
       " 'strfmtime': '%Y-%m-%d %H:%M:%S.%f',\n",
       " 'version': '0.1 Alpha',\n",
       " 'standard': 'Follow RFC 4180',\n",
       " 'media_type': 'text/csv',\n",
       " 'header': ['description', 'sample_n', 'ax', 'ay', 'az', 'gx', 'gy', 'gz'],\n",
       " 'delimiter': ',',\n",
       " 'skip_initial_space': True,\n",
       " 'case_sensitive_header': False}"
      ]
     },
     "execution_count": 20,
     "metadata": {},
     "output_type": "execute_result"
    }
   ],
   "source": [
    "m"
   ]
  },
  {
   "cell_type": "markdown",
   "metadata": {},
   "source": [
    "#### Parsed CSV data"
   ]
  },
  {
   "cell_type": "code",
   "execution_count": 21,
   "metadata": {},
   "outputs": [
    {
     "data": {
      "text/html": [
       "<div>\n",
       "<style scoped>\n",
       "    .dataframe tbody tr th:only-of-type {\n",
       "        vertical-align: middle;\n",
       "    }\n",
       "\n",
       "    .dataframe tbody tr th {\n",
       "        vertical-align: top;\n",
       "    }\n",
       "\n",
       "    .dataframe thead th {\n",
       "        text-align: right;\n",
       "    }\n",
       "</style>\n",
       "<table border=\"1\" class=\"dataframe\">\n",
       "  <thead>\n",
       "    <tr style=\"text-align: right;\">\n",
       "      <th></th>\n",
       "      <th>std_time_ms</th>\n",
       "      <th>description</th>\n",
       "      <th>sample_n</th>\n",
       "      <th>ax</th>\n",
       "      <th>ay</th>\n",
       "      <th>az</th>\n",
       "      <th>gx</th>\n",
       "      <th>gy</th>\n",
       "      <th>gz</th>\n",
       "      <th>datetime64_ns</th>\n",
       "    </tr>\n",
       "  </thead>\n",
       "  <tbody>\n",
       "    <tr>\n",
       "      <th>0</th>\n",
       "      <td>2020-02-16 11:22:43.085860</td>\n",
       "      <td>test_4</td>\n",
       "      <td>0</td>\n",
       "      <td>38.165969</td>\n",
       "      <td>36.116532</td>\n",
       "      <td>7.453150</td>\n",
       "      <td>-5.778626</td>\n",
       "      <td>-0.007634</td>\n",
       "      <td>-1.183206</td>\n",
       "      <td>2020-02-16 11:22:43.085860</td>\n",
       "    </tr>\n",
       "    <tr>\n",
       "      <th>1</th>\n",
       "      <td>2020-02-16 11:22:43.106693</td>\n",
       "      <td>test_4</td>\n",
       "      <td>1</td>\n",
       "      <td>38.118085</td>\n",
       "      <td>36.068648</td>\n",
       "      <td>7.445967</td>\n",
       "      <td>-5.770992</td>\n",
       "      <td>0.045802</td>\n",
       "      <td>-1.076336</td>\n",
       "      <td>2020-02-16 11:22:43.106693</td>\n",
       "    </tr>\n",
       "    <tr>\n",
       "      <th>2</th>\n",
       "      <td>2020-02-16 11:22:43.122480</td>\n",
       "      <td>test_4</td>\n",
       "      <td>2</td>\n",
       "      <td>38.142027</td>\n",
       "      <td>36.126109</td>\n",
       "      <td>7.493851</td>\n",
       "      <td>-5.755725</td>\n",
       "      <td>-0.091603</td>\n",
       "      <td>-1.152672</td>\n",
       "      <td>2020-02-16 11:22:43.122480</td>\n",
       "    </tr>\n",
       "    <tr>\n",
       "      <th>3</th>\n",
       "      <td>2020-02-16 11:22:43.138725</td>\n",
       "      <td>test_4</td>\n",
       "      <td>3</td>\n",
       "      <td>38.146815</td>\n",
       "      <td>36.157233</td>\n",
       "      <td>7.450756</td>\n",
       "      <td>-5.755725</td>\n",
       "      <td>0.045802</td>\n",
       "      <td>-1.160305</td>\n",
       "      <td>2020-02-16 11:22:43.138725</td>\n",
       "    </tr>\n",
       "    <tr>\n",
       "      <th>4</th>\n",
       "      <td>2020-02-16 11:22:43.153926</td>\n",
       "      <td>test_4</td>\n",
       "      <td>4</td>\n",
       "      <td>38.163574</td>\n",
       "      <td>36.173993</td>\n",
       "      <td>7.496245</td>\n",
       "      <td>-5.763359</td>\n",
       "      <td>-0.343511</td>\n",
       "      <td>-1.221374</td>\n",
       "      <td>2020-02-16 11:22:43.153926</td>\n",
       "    </tr>\n",
       "  </tbody>\n",
       "</table>\n",
       "</div>"
      ],
      "text/plain": [
       "                  std_time_ms description  sample_n         ax         ay  \\\n",
       "0  2020-02-16 11:22:43.085860      test_4         0  38.165969  36.116532   \n",
       "1  2020-02-16 11:22:43.106693      test_4         1  38.118085  36.068648   \n",
       "2  2020-02-16 11:22:43.122480      test_4         2  38.142027  36.126109   \n",
       "3  2020-02-16 11:22:43.138725      test_4         3  38.146815  36.157233   \n",
       "4  2020-02-16 11:22:43.153926      test_4         4  38.163574  36.173993   \n",
       "\n",
       "         az        gx        gy        gz              datetime64_ns  \n",
       "0  7.453150 -5.778626 -0.007634 -1.183206 2020-02-16 11:22:43.085860  \n",
       "1  7.445967 -5.770992  0.045802 -1.076336 2020-02-16 11:22:43.106693  \n",
       "2  7.493851 -5.755725 -0.091603 -1.152672 2020-02-16 11:22:43.122480  \n",
       "3  7.450756 -5.755725  0.045802 -1.160305 2020-02-16 11:22:43.138725  \n",
       "4  7.496245 -5.763359 -0.343511 -1.221374 2020-02-16 11:22:43.153926  "
      ]
     },
     "execution_count": 21,
     "metadata": {},
     "output_type": "execute_result"
    }
   ],
   "source": [
    "df.head()"
   ]
  },
  {
   "cell_type": "code",
   "execution_count": 22,
   "metadata": {},
   "outputs": [],
   "source": [
    "# Pandas 0.24.1 hack\n",
    "df.datetime64_ns = df.datetime64_ns.dt.tz_localize('UTC')"
   ]
  },
  {
   "cell_type": "code",
   "execution_count": 23,
   "metadata": {},
   "outputs": [
    {
     "data": {
      "image/png": "[encoded data removed]",
      "text/plain": [
       "<Figure size 432x288 with 1 Axes>"
      ]
     },
     "metadata": {
      "needs_background": "light"
     },
     "output_type": "display_data"
    }
   ],
   "source": [
    "df[['datetime64_ns', \n",
    "    'ax', 'ay', 'az', \n",
    "    'gx', 'gy', 'gz']].plot(x='datetime64_ns');\n",
    "plt.legend(loc='center left', bbox_to_anchor=(1, 0.5));\n",
    "plt.xlabel('Date & Time');\n",
    "plt.ylabel('m/s**2 or degree/s');"
   ]
  }
 ],
 "metadata": {
  "kernelspec": {
   "display_name": "Python 3",
   "language": "python",
   "name": "python3"
  },
  "language_info": {
   "codemirror_mode": {
    "name": "ipython",
    "version": 3
   },
   "file_extension": ".py",
   "mimetype": "text/x-python",
   "name": "python",
   "nbconvert_exporter": "python",
   "pygments_lexer": "ipython3",
   "version": "3.7.3"
  }
 },
 "nbformat": 4,
 "nbformat_minor": 4
}

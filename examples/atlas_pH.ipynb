{
 "cells": [
  {
   "cell_type": "code",
   "execution_count": 1,
   "metadata": {},
   "outputs": [],
   "source": [
    "from meerkat.base import time\n",
    "from meerkat import atlas"
   ]
  },
  {
   "cell_type": "code",
   "execution_count": 2,
   "metadata": {},
   "outputs": [],
   "source": [
    "# instance device and set output format to .csv (which is default)\n",
    "dev = atlas.pH(bus_n=1, output='csv')"
   ]
  },
  {
   "cell_type": "code",
   "execution_count": 3,
   "metadata": {},
   "outputs": [
    {
     "data": {
      "text/plain": [
       "5.111"
      ]
     },
     "execution_count": 3,
     "metadata": {},
     "output_type": "execute_result"
    }
   ],
   "source": [
    "# single pH measurement\n",
    "dev.measure()"
   ]
  },
  {
   "cell_type": "code",
   "execution_count": 4,
   "metadata": {},
   "outputs": [],
   "source": [
    "# write 5 samples to .csv file with description\n",
    "dev.write(description='test_csv', n=5)"
   ]
  },
  {
   "cell_type": "code",
   "execution_count": 5,
   "metadata": {},
   "outputs": [
    {
     "data": {
      "text/plain": [
       "'2019_04_17_23_17_25_data.csv'"
      ]
     },
     "execution_count": 5,
     "metadata": {},
     "output_type": "execute_result"
    }
   ],
   "source": [
    "# name of file written\n",
    "dev.writer.path"
   ]
  },
  {
   "cell_type": "code",
   "execution_count": 6,
   "metadata": {},
   "outputs": [
    {
     "name": "stdout",
     "output_type": "stream",
     "text": [
      "#!{\"accuracy\": null, \"bytes\": null, \"case_sensitive_header\": false, \"comment\": \"#\", \"delimiter\": \",\", \"description\": null, \"device\": {\"accuracy\": null, \"active\": null, \"bus\": \"<meerkat.i2c_pi.WrapI2C object at 0x70f81d10>\", \"calibration_date\": null, \"description\": \"\", \"dtype\": null, \"error\": null, \"manufacturer\": \"Atlas Scientific\", \"name\": \"Atlas_Base\", \"precision\": \"Varies\", \"state\": null, \"urls\": \"www.atlas-scientific.com\", \"version_hw\": \"1.0\", \"version_sw\": \"1.0\"}, \"double_quote\": true, \"dtypes\": null, \"encoding\": \"utf-8\", \"escape_char\": \"\\\\\", \"format\": null, \"hash\": null, \"header\": [\"description\", \"sample_n\", \"pH\"], \"licenses\": null, \"line_terminator\": \"\\n\", \"media_type\": \"text/csv\", \"name\": \"Atlas_pH\", \"null_sequence\": \"NA\", \"path\": \"2019_04_17_23_17_25_data.csv\", \"precision\": null, \"quote_char\": \"\\\"\", \"schema\": null, \"shebang\": true, \"skip_initial_space\": true, \"skip_lines\": 1, \"sources\": null, \"standard\": \"Follow RFC 4180\", \"strfmtime\": \"%Y-%m-%d %H:%M:%S.%f\", \"time_format\": \"std_time_ms\", \"title\": null, \"units\": null, \"version\": \"0.1 Alpha\"}\r\n",
      "std_time_ms,description,sample_n,pH\r\n",
      "2019-04-17 23:17:25.045710,test_csv,0,5.109\r\n",
      "2019-04-17 23:17:27.501326,test_csv,1,5.107\r\n",
      "2019-04-17 23:17:29.957269,test_csv,2,5.107\r\n",
      "2019-04-17 23:17:32.413315,test_csv,3,5.106\r\n",
      "2019-04-17 23:17:34.868096,test_csv,4,5.104\r\n"
     ]
    }
   ],
   "source": [
    "!head $dev.writer.path"
   ]
  },
  {
   "cell_type": "code",
   "execution_count": 7,
   "metadata": {},
   "outputs": [
    {
     "data": {
      "text/plain": [
       "3"
      ]
     },
     "execution_count": 7,
     "metadata": {},
     "output_type": "execute_result"
    }
   ],
   "source": [
    "# Three point calibration\n",
    "dev.cal_set_mid(7.00)\n",
    "time.sleep(1)\n",
    "dev.cal_set_low(3.00)\n",
    "time.sleep(1)\n",
    "dev.cal_set_high(10.09)\n",
    "time.sleep(1)\n",
    "dev.cal_get()"
   ]
  },
  {
   "cell_type": "code",
   "execution_count": 8,
   "metadata": {},
   "outputs": [
    {
     "data": {
      "text/plain": [
       "0"
      ]
     },
     "execution_count": 8,
     "metadata": {},
     "output_type": "execute_result"
    }
   ],
   "source": [
    "# clear calibration\n",
    "time.sleep(1)\n",
    "dev.cal_clear()\n",
    "time.sleep(1)\n",
    "dev.cal_get()"
   ]
  },
  {
   "cell_type": "code",
   "execution_count": 9,
   "metadata": {},
   "outputs": [
    {
     "data": {
      "text/plain": [
       "(99.9, 99.9)"
      ]
     },
     "execution_count": 9,
     "metadata": {},
     "output_type": "execute_result"
    }
   ],
   "source": [
    "# response breakdown of calibration\n",
    "time.sleep(0.5)\n",
    "dev.cal_slope()"
   ]
  },
  {
   "cell_type": "code",
   "execution_count": 10,
   "metadata": {},
   "outputs": [
    {
     "data": {
      "text/plain": [
       "24.39"
      ]
     },
     "execution_count": 10,
     "metadata": {},
     "output_type": "execute_result"
    }
   ],
   "source": [
    "# temperature compensation\n",
    "time.sleep(0.5)\n",
    "dev.temp_set(24.4)\n",
    "time.sleep(0.5)\n",
    "dev.temp_get()"
   ]
  },
  {
   "cell_type": "code",
   "execution_count": 11,
   "metadata": {},
   "outputs": [
    {
     "data": {
      "text/plain": [
       "('pH', '1.7')"
      ]
     },
     "execution_count": 11,
     "metadata": {},
     "output_type": "execute_result"
    }
   ],
   "source": [
    "# device information: device type, firmware version\n",
    "time.sleep(0.5)\n",
    "dev.info()"
   ]
  },
  {
   "cell_type": "code",
   "execution_count": 12,
   "metadata": {},
   "outputs": [
    {
     "data": {
      "text/plain": [
       "('B', 3.03)"
      ]
     },
     "execution_count": 12,
     "metadata": {},
     "output_type": "execute_result"
    }
   ],
   "source": [
    "# status of device power: restart code, input voltage Vcc\n",
    "time.sleep(0.5)\n",
    "dev.status()"
   ]
  },
  {
   "cell_type": "code",
   "execution_count": 13,
   "metadata": {},
   "outputs": [
    {
     "data": {
      "text/plain": [
       "5.099"
      ]
     },
     "execution_count": 13,
     "metadata": {},
     "output_type": "execute_result"
    }
   ],
   "source": [
    "# measure pH\n",
    "time.sleep(0.5)\n",
    "dev.measure()"
   ]
  },
  {
   "cell_type": "code",
   "execution_count": 14,
   "metadata": {},
   "outputs": [
    {
     "data": {
      "text/plain": [
       "['no_description', 0, 5.099]"
      ]
     },
     "execution_count": 14,
     "metadata": {},
     "output_type": "execute_result"
    }
   ],
   "source": [
    "# get one sample without a description\n",
    "dev.get()"
   ]
  },
  {
   "cell_type": "code",
   "execution_count": 15,
   "metadata": {},
   "outputs": [
    {
     "data": {
      "text/plain": [
       "['test_1', 0, 5.098]"
      ]
     },
     "execution_count": 15,
     "metadata": {},
     "output_type": "execute_result"
    }
   ],
   "source": [
    "# get one sample with a description\n",
    "dev.get('test_1')"
   ]
  },
  {
   "cell_type": "code",
   "execution_count": 16,
   "metadata": {},
   "outputs": [
    {
     "data": {
      "text/plain": [
       "[['test_2', 0, 5.097],\n",
       " ['test_2', 1, 5.098],\n",
       " ['test_2', 2, 5.098],\n",
       " ['test_2', 3, 5.098],\n",
       " ['test_2', 4, 5.096]]"
      ]
     },
     "execution_count": 16,
     "metadata": {},
     "output_type": "execute_result"
    }
   ],
   "source": [
    "# get 5 samples with a description\n",
    "dev.get('test_2', 5)"
   ]
  },
  {
   "cell_type": "code",
   "execution_count": 17,
   "metadata": {},
   "outputs": [
    {
     "data": {
      "text/plain": [
       "['description', 'sample_n', 'pH']"
      ]
     },
     "execution_count": 17,
     "metadata": {},
     "output_type": "execute_result"
    }
   ],
   "source": [
    "# column names of .csv file and get() method\n",
    "dev.writer.header"
   ]
  },
  {
   "cell_type": "code",
   "execution_count": 18,
   "metadata": {},
   "outputs": [],
   "source": [
    "# switch to JSON output, csv is default\n",
    "dev = atlas.pH(bus_n=1, output='json')"
   ]
  },
  {
   "cell_type": "code",
   "execution_count": 19,
   "metadata": {},
   "outputs": [],
   "source": [
    "# set the metadata publishing interval to every third sample\n",
    "dev.writer.metadata_interval = 3"
   ]
  },
  {
   "cell_type": "code",
   "execution_count": 20,
   "metadata": {},
   "outputs": [],
   "source": [
    "# get 7 samples with a description\n",
    "dev.write(description='test_json', n=7)"
   ]
  },
  {
   "cell_type": "code",
   "execution_count": 21,
   "metadata": {},
   "outputs": [
    {
     "data": {
      "text/plain": [
       "'2019_04_17_23_18_00_JSON_data.txt'"
      ]
     },
     "execution_count": 21,
     "metadata": {},
     "output_type": "execute_result"
    }
   ],
   "source": [
    "# name of file written\n",
    "dev.writer.path"
   ]
  },
  {
   "cell_type": "code",
   "execution_count": 22,
   "metadata": {},
   "outputs": [
    {
     "name": "stdout",
     "output_type": "stream",
     "text": [
      "{\"sample_n\": 0, \"pH\": 5.097, \"std_time_ms\": \"2019-04-17 23:18:00.182505\", \"description\": \"test_json\"}\r\n",
      "{\"sample_n\": 1, \"pH\": 5.095, \"std_time_ms\": \"2019-04-17 23:18:02.638446\", \"description\": \"test_json\"}\r\n",
      "{\"name\": \"Atlas_pH\", \"units\": null, \"skip_lines\": 0, \"header\": [\"description\", \"sample_n\", \"pH\"], \"sample_n\": 2, \"standard\": \"RFC 8259\", \"path\": \"2019_04_17_23_18_00_JSON_data.txt\", \"dtypes\": null, \"null_sequence\": \"NA\", \"metadata_interval\": 3, \"comment\": \"#\", \"accuracy\": null, \"format\": null, \"double_quote\": true, \"metadata_file_i\": 0, \"line_terminator\": \"\\n\", \"pH\": 5.094, \"title\": null, \"time_format\": \"std_time_ms\", \"media_type\": \"text/json\", \"hash\": null, \"escape_char\": \"\\\\\", \"precision\": null, \"std_time_ms\": \"2019-04-17 23:18:05.094610\", \"metadata_stream_i\": 1, \"device\": {\"name\": \"Atlas_Base\", \"state\": null, \"description\": \"\", \"accuracy\": null, \"dtype\": null, \"precision\": \"Varies\", \"manufacturer\": \"Atlas Scientific\", \"version_sw\": \"1.0\", \"calibration_date\": null, \"bus\": \"<meerkat.i2c_pi.WrapI2C object at 0x70fa9d30>\", \"error\": null, \"version_hw\": \"1.0\", \"active\": null, \"urls\": \"www.atlas-scientific.com\"}, \"schema\": null, \"sources\": null, \"quote_char\": \"\\\"\", \"bytes\": null, \"description\": null, \"encoding\": \"utf-8\", \"version\": \"0.1 Alpha\", \"licenses\": null, \"strfmtime\": \"%Y-%m-%d %H:%M:%S.%f\"}\r\n",
      "{\"sample_n\": 3, \"pH\": 5.094, \"std_time_ms\": \"2019-04-17 23:18:07.551211\", \"description\": \"test_json\"}\r\n",
      "{\"sample_n\": 4, \"pH\": 5.093, \"std_time_ms\": \"2019-04-17 23:18:10.007371\", \"description\": \"test_json\"}\r\n",
      "{\"name\": \"Atlas_pH\", \"units\": null, \"skip_lines\": 0, \"header\": [\"description\", \"sample_n\", \"pH\"], \"sample_n\": 5, \"standard\": \"RFC 8259\", \"path\": \"2019_04_17_23_18_00_JSON_data.txt\", \"dtypes\": null, \"null_sequence\": \"NA\", \"metadata_interval\": 3, \"comment\": \"#\", \"accuracy\": null, \"format\": null, \"double_quote\": true, \"metadata_file_i\": 0, \"line_terminator\": \"\\n\", \"pH\": 5.091, \"title\": null, \"time_format\": \"std_time_ms\", \"media_type\": \"text/json\", \"hash\": null, \"escape_char\": \"\\\\\", \"precision\": null, \"std_time_ms\": \"2019-04-17 23:18:12.463508\", \"metadata_stream_i\": 1, \"device\": {\"name\": \"Atlas_Base\", \"state\": null, \"description\": \"\", \"accuracy\": null, \"dtype\": null, \"precision\": \"Varies\", \"manufacturer\": \"Atlas Scientific\", \"version_sw\": \"1.0\", \"calibration_date\": null, \"bus\": \"<meerkat.i2c_pi.WrapI2C object at 0x70fa9d30>\", \"error\": null, \"version_hw\": \"1.0\", \"active\": null, \"urls\": \"www.atlas-scientific.com\"}, \"schema\": null, \"sources\": null, \"quote_char\": \"\\\"\", \"bytes\": null, \"description\": null, \"encoding\": \"utf-8\", \"version\": \"0.1 Alpha\", \"licenses\": null, \"strfmtime\": \"%Y-%m-%d %H:%M:%S.%f\"}\r\n",
      "{\"sample_n\": 6, \"pH\": 5.092, \"std_time_ms\": \"2019-04-17 23:18:14.920116\", \"description\": \"test_json\"}\r\n"
     ]
    }
   ],
   "source": [
    "!head $dev.writer.path"
   ]
  },
  {
   "cell_type": "code",
   "execution_count": 23,
   "metadata": {},
   "outputs": [
    {
     "data": {
      "text/plain": [
       "['{\"sample_n\": 0, \"pH\": 5.089, \"std_time_ms\": \"2019-04-17 23:18:18.389019\", \"description\": \"test_2\"}',\n",
       " '{\"sample_n\": 1, \"pH\": 5.089, \"std_time_ms\": \"2019-04-17 23:18:19.341835\", \"description\": \"test_2\"}',\n",
       " '{\"name\": \"Atlas_pH\", \"units\": null, \"skip_lines\": 0, \"header\": [\"description\", \"sample_n\", \"pH\"], \"sample_n\": 2, \"standard\": \"RFC 8259\", \"path\": \"2019_04_17_23_18_00_JSON_data.txt\", \"dtypes\": null, \"null_sequence\": \"NA\", \"metadata_interval\": 3, \"comment\": \"#\", \"accuracy\": null, \"format\": null, \"double_quote\": true, \"metadata_file_i\": 2, \"line_terminator\": \"\\\\n\", \"pH\": 5.091, \"title\": null, \"time_format\": \"std_time_ms\", \"media_type\": \"text/json\", \"hash\": null, \"escape_char\": \"\\\\\\\\\", \"precision\": null, \"std_time_ms\": \"2019-04-17 23:18:20.294609\", \"metadata_stream_i\": 0, \"device\": {\"name\": \"Atlas_Base\", \"state\": null, \"description\": \"\", \"accuracy\": null, \"dtype\": null, \"precision\": \"Varies\", \"manufacturer\": \"Atlas Scientific\", \"version_sw\": \"1.0\", \"calibration_date\": null, \"bus\": \"<meerkat.i2c_pi.WrapI2C object at 0x70fa9d30>\", \"error\": null, \"version_hw\": \"1.0\", \"active\": null, \"urls\": \"www.atlas-scientific.com\"}, \"schema\": null, \"sources\": null, \"quote_char\": \"\\\\\"\", \"bytes\": null, \"description\": null, \"encoding\": \"utf-8\", \"version\": \"0.1 Alpha\", \"licenses\": null, \"strfmtime\": \"%Y-%m-%d %H:%M:%S.%f\"}']"
      ]
     },
     "execution_count": 23,
     "metadata": {},
     "output_type": "execute_result"
    }
   ],
   "source": [
    "# get 5 samples with a description\n",
    "dev.get('test_2', 3)"
   ]
  }
 ],
 "metadata": {
  "kernelspec": {
   "display_name": "Python 3",
   "language": "python",
   "name": "python3"
  },
  "language_info": {
   "codemirror_mode": {
    "name": "ipython",
    "version": 3
   },
   "file_extension": ".py",
   "mimetype": "text/x-python",
   "name": "python",
   "nbconvert_exporter": "python",
   "pygments_lexer": "ipython3",
   "version": "3.5.2"
  }
 },
 "nbformat": 4,
 "nbformat_minor": 2
}

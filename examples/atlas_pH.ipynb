{
 "cells": [
  {
   "cell_type": "markdown",
   "metadata": {},
   "source": [
    "### Atlas Scientific pH  \n",
    "pH Sensor for measuring acidity (hydrogen ion concentration) of liquids  \n",
    "\n",
    "Manufacturer Link: https://www.atlas-scientific.com/ph.html  "
   ]
  },
  {
   "cell_type": "code",
   "execution_count": 1,
   "metadata": {},
   "outputs": [],
   "source": [
    "import matplotlib.pyplot as plt\n",
    "\n",
    "from meerkat.base import time\n",
    "from meerkat import atlas, parser"
   ]
  },
  {
   "cell_type": "code",
   "execution_count": 2,
   "metadata": {},
   "outputs": [],
   "source": [
    "# instance device and set output format to .csv (which is default)\n",
    "dev = atlas.pH(bus_n=1, output='csv')"
   ]
  },
  {
   "cell_type": "markdown",
   "metadata": {},
   "source": [
    "#### Configuration"
   ]
  },
  {
   "cell_type": "code",
   "execution_count": 3,
   "metadata": {},
   "outputs": [
    {
     "data": {
      "text/plain": [
       "('pH', '1.7')"
      ]
     },
     "execution_count": 3,
     "metadata": {},
     "output_type": "execute_result"
    }
   ],
   "source": [
    "# device information: device type, firmware version\n",
    "time.sleep(0.5)\n",
    "dev.info()"
   ]
  },
  {
   "cell_type": "code",
   "execution_count": 4,
   "metadata": {},
   "outputs": [
    {
     "data": {
      "text/plain": [
       "('P', 3.21)"
      ]
     },
     "execution_count": 4,
     "metadata": {},
     "output_type": "execute_result"
    }
   ],
   "source": [
    "# status of device power: restart code, input voltage Vcc\n",
    "time.sleep(0.5)\n",
    "dev.status()"
   ]
  },
  {
   "cell_type": "code",
   "execution_count": 5,
   "metadata": {},
   "outputs": [
    {
     "data": {
      "text/plain": [
       "24.39"
      ]
     },
     "execution_count": 5,
     "metadata": {},
     "output_type": "execute_result"
    }
   ],
   "source": [
    "# set current temperature for compensation\n",
    "time.sleep(0.5)\n",
    "dev.temp_set(24.4)\n",
    "time.sleep(0.5)\n",
    "dev.temp_get()"
   ]
  },
  {
   "cell_type": "markdown",
   "metadata": {},
   "source": [
    "#### Calibration"
   ]
  },
  {
   "cell_type": "code",
   "execution_count": 6,
   "metadata": {},
   "outputs": [
    {
     "data": {
      "text/plain": [
       "3"
      ]
     },
     "execution_count": 6,
     "metadata": {},
     "output_type": "execute_result"
    }
   ],
   "source": [
    "# Three point calibration\n",
    "dev.cal_set_mid(7.00)\n",
    "time.sleep(1)\n",
    "dev.cal_set_low(3.00)\n",
    "time.sleep(1)\n",
    "dev.cal_set_high(10.09)\n",
    "time.sleep(1)\n",
    "dev.cal_get()"
   ]
  },
  {
   "cell_type": "code",
   "execution_count": 7,
   "metadata": {},
   "outputs": [
    {
     "data": {
      "text/plain": [
       "0"
      ]
     },
     "execution_count": 7,
     "metadata": {},
     "output_type": "execute_result"
    }
   ],
   "source": [
    "# clear calibration\n",
    "time.sleep(1)\n",
    "dev.cal_clear()\n",
    "time.sleep(1)\n",
    "dev.cal_get()"
   ]
  },
  {
   "cell_type": "code",
   "execution_count": 8,
   "metadata": {},
   "outputs": [
    {
     "data": {
      "text/plain": [
       "(99.9, 99.9)"
      ]
     },
     "execution_count": 8,
     "metadata": {},
     "output_type": "execute_result"
    }
   ],
   "source": [
    "# response breakdown of calibration\n",
    "time.sleep(0.5)\n",
    "dev.cal_slope()"
   ]
  },
  {
   "cell_type": "code",
   "execution_count": 9,
   "metadata": {},
   "outputs": [
    {
     "data": {
      "text/plain": [
       "3.811"
      ]
     },
     "execution_count": 9,
     "metadata": {},
     "output_type": "execute_result"
    }
   ],
   "source": [
    "# single pH measurement\n",
    "time.sleep(0.5)\n",
    "dev.measure()"
   ]
  },
  {
   "cell_type": "markdown",
   "metadata": {},
   "source": [
    "#### CSV Writer Output"
   ]
  },
  {
   "cell_type": "code",
   "execution_count": 10,
   "metadata": {},
   "outputs": [],
   "source": [
    "# write 5 samples to .csv file with description\n",
    "dev.write(description='test_1', n=5)"
   ]
  },
  {
   "cell_type": "code",
   "execution_count": 11,
   "metadata": {},
   "outputs": [
    {
     "data": {
      "text/plain": [
       "'2019_06_04_13_37_04_data.csv'"
      ]
     },
     "execution_count": 11,
     "metadata": {},
     "output_type": "execute_result"
    }
   ],
   "source": [
    "# name of file written\n",
    "dev.writer.path"
   ]
  },
  {
   "cell_type": "code",
   "execution_count": 12,
   "metadata": {},
   "outputs": [],
   "source": [
    "# load .csv data written with dev.write\n",
    "m, df = parser.csv_resource(dev.writer.path)"
   ]
  },
  {
   "cell_type": "code",
   "execution_count": 13,
   "metadata": {},
   "outputs": [
    {
     "data": {
      "text/html": [
       "<div>\n",
       "<style scoped>\n",
       "    .dataframe tbody tr th:only-of-type {\n",
       "        vertical-align: middle;\n",
       "    }\n",
       "\n",
       "    .dataframe tbody tr th {\n",
       "        vertical-align: top;\n",
       "    }\n",
       "\n",
       "    .dataframe thead th {\n",
       "        text-align: right;\n",
       "    }\n",
       "</style>\n",
       "<table border=\"1\" class=\"dataframe\">\n",
       "  <thead>\n",
       "    <tr style=\"text-align: right;\">\n",
       "      <th></th>\n",
       "      <th>std_time_ms</th>\n",
       "      <th>description</th>\n",
       "      <th>sample_n</th>\n",
       "      <th>pH</th>\n",
       "      <th>datetime64_ns</th>\n",
       "    </tr>\n",
       "  </thead>\n",
       "  <tbody>\n",
       "    <tr>\n",
       "      <th>0</th>\n",
       "      <td>2019-06-04 13:37:04.592467</td>\n",
       "      <td>test_1</td>\n",
       "      <td>0</td>\n",
       "      <td>3.809</td>\n",
       "      <td>2019-06-04 13:37:04.592467</td>\n",
       "    </tr>\n",
       "    <tr>\n",
       "      <th>1</th>\n",
       "      <td>2019-06-04 13:37:07.048463</td>\n",
       "      <td>test_1</td>\n",
       "      <td>1</td>\n",
       "      <td>3.811</td>\n",
       "      <td>2019-06-04 13:37:07.048463</td>\n",
       "    </tr>\n",
       "    <tr>\n",
       "      <th>2</th>\n",
       "      <td>2019-06-04 13:37:09.504308</td>\n",
       "      <td>test_1</td>\n",
       "      <td>2</td>\n",
       "      <td>3.810</td>\n",
       "      <td>2019-06-04 13:37:09.504308</td>\n",
       "    </tr>\n",
       "    <tr>\n",
       "      <th>3</th>\n",
       "      <td>2019-06-04 13:37:11.959677</td>\n",
       "      <td>test_1</td>\n",
       "      <td>3</td>\n",
       "      <td>3.810</td>\n",
       "      <td>2019-06-04 13:37:11.959677</td>\n",
       "    </tr>\n",
       "    <tr>\n",
       "      <th>4</th>\n",
       "      <td>2019-06-04 13:37:14.414421</td>\n",
       "      <td>test_1</td>\n",
       "      <td>4</td>\n",
       "      <td>3.808</td>\n",
       "      <td>2019-06-04 13:37:14.414421</td>\n",
       "    </tr>\n",
       "  </tbody>\n",
       "</table>\n",
       "</div>"
      ],
      "text/plain": [
       "                  std_time_ms description  sample_n     pH  \\\n",
       "0  2019-06-04 13:37:04.592467      test_1         0  3.809   \n",
       "1  2019-06-04 13:37:07.048463      test_1         1  3.811   \n",
       "2  2019-06-04 13:37:09.504308      test_1         2  3.810   \n",
       "3  2019-06-04 13:37:11.959677      test_1         3  3.810   \n",
       "4  2019-06-04 13:37:14.414421      test_1         4  3.808   \n",
       "\n",
       "               datetime64_ns  \n",
       "0 2019-06-04 13:37:04.592467  \n",
       "1 2019-06-04 13:37:07.048463  \n",
       "2 2019-06-04 13:37:09.504308  \n",
       "3 2019-06-04 13:37:11.959677  \n",
       "4 2019-06-04 13:37:14.414421  "
      ]
     },
     "execution_count": 13,
     "metadata": {},
     "output_type": "execute_result"
    }
   ],
   "source": [
    "df"
   ]
  },
  {
   "cell_type": "code",
   "execution_count": 14,
   "metadata": {},
   "outputs": [],
   "source": [
    "df.datetime64_ns = df.datetime64_ns.dt.tz_localize('UTC')  # Pandas 0.24.1 hack"
   ]
  },
  {
   "cell_type": "code",
   "execution_count": 15,
   "metadata": {},
   "outputs": [
    {
     "data": {
      "image/png": "[encoded data removed]",
      "text/plain": [
       "<Figure size 432x288 with 1 Axes>"
      ]
     },
     "metadata": {
      "needs_background": "light"
     },
     "output_type": "display_data"
    }
   ],
   "source": [
    "df[[\"datetime64_ns\", \"pH\"]].plot(x=\"datetime64_ns\");"
   ]
  },
  {
   "cell_type": "code",
   "execution_count": 16,
   "metadata": {},
   "outputs": [
    {
     "data": {
      "text/plain": [
       "{'accuracy': None,\n",
       " 'bytes': None,\n",
       " 'case_sensitive_header': False,\n",
       " 'comment': '#',\n",
       " 'delimiter': ',',\n",
       " 'description': None,\n",
       " 'device': {'accuracy': None,\n",
       "  'active': None,\n",
       "  'bus': '<meerkat.i2c_pi.WrapI2C object at 0x6e8fdd70>',\n",
       "  'calibration_date': None,\n",
       "  'description': '',\n",
       "  'dtype': None,\n",
       "  'error': None,\n",
       "  'manufacturer': 'Atlas Scientific',\n",
       "  'name': 'Atlas_Base',\n",
       "  'precision': 'Varies',\n",
       "  'state': None,\n",
       "  'urls': 'www.atlas-scientific.com',\n",
       "  'version_hw': '1.0',\n",
       "  'version_sw': '1.0'},\n",
       " 'double_quote': True,\n",
       " 'dtypes': None,\n",
       " 'encoding': 'utf-8',\n",
       " 'escape_char': '\\\\',\n",
       " 'format': None,\n",
       " 'hash': None,\n",
       " 'header': ['description', 'sample_n', 'pH'],\n",
       " 'licenses': None,\n",
       " 'line_terminator': '\\n',\n",
       " 'media_type': 'text/csv',\n",
       " 'name': 'Atlas_pH',\n",
       " 'null_sequence': 'NA',\n",
       " 'path': '2019_06_04_13_37_04_data.csv',\n",
       " 'precision': None,\n",
       " 'quote_char': '\"',\n",
       " 'schema': None,\n",
       " 'shebang': True,\n",
       " 'skip_initial_space': True,\n",
       " 'skip_lines': 1,\n",
       " 'sources': None,\n",
       " 'standard': 'Follow RFC 4180',\n",
       " 'strfmtime': '%Y-%m-%d %H:%M:%S.%f',\n",
       " 'time_format': 'std_time_ms',\n",
       " 'title': None,\n",
       " 'units': None,\n",
       " 'version': '0.1 Alpha'}"
      ]
     },
     "execution_count": 16,
     "metadata": {},
     "output_type": "execute_result"
    }
   ],
   "source": [
    "m"
   ]
  },
  {
   "cell_type": "raw",
   "metadata": {},
   "source": [
    "!head $dev.writer.path"
   ]
  },
  {
   "cell_type": "code",
   "execution_count": 17,
   "metadata": {},
   "outputs": [
    {
     "data": {
      "text/plain": [
       "['no_description', 0, 3.808]"
      ]
     },
     "execution_count": 17,
     "metadata": {},
     "output_type": "execute_result"
    }
   ],
   "source": [
    "# get one sample without a description\n",
    "dev.get()"
   ]
  },
  {
   "cell_type": "code",
   "execution_count": 19,
   "metadata": {},
   "outputs": [
    {
     "data": {
      "text/plain": [
       "[['test_2', 0, 3.806],\n",
       " ['test_2', 1, 3.805],\n",
       " ['test_2', 2, 3.807],\n",
       " ['test_2', 3, 3.81],\n",
       " ['test_2', 4, 3.805]]"
      ]
     },
     "execution_count": 19,
     "metadata": {},
     "output_type": "execute_result"
    }
   ],
   "source": [
    "# get 5 samples with a description\n",
    "dev.get('test_2', n=5)"
   ]
  },
  {
   "cell_type": "markdown",
   "metadata": {},
   "source": [
    "#### JSON Writer Output"
   ]
  },
  {
   "cell_type": "code",
   "execution_count": 20,
   "metadata": {},
   "outputs": [],
   "source": [
    "# switch to JSON output, csv is default\n",
    "dev = atlas.pH(bus_n=1, output='json')"
   ]
  },
  {
   "cell_type": "code",
   "execution_count": 21,
   "metadata": {},
   "outputs": [],
   "source": [
    "# set the metadata publishing interval to every third sample\n",
    "dev.writer.metadata_interval = 3"
   ]
  },
  {
   "cell_type": "code",
   "execution_count": 22,
   "metadata": {},
   "outputs": [],
   "source": [
    "# get 7 samples with a description\n",
    "dev.write(description='test_3', n=7)"
   ]
  },
  {
   "cell_type": "code",
   "execution_count": 23,
   "metadata": {},
   "outputs": [
    {
     "data": {
      "text/plain": [
       "'2019_06_04_13_41_58_JSON_data.txt'"
      ]
     },
     "execution_count": 23,
     "metadata": {},
     "output_type": "execute_result"
    }
   ],
   "source": [
    "# name of file written\n",
    "dev.writer.path"
   ]
  },
  {
   "cell_type": "code",
   "execution_count": 24,
   "metadata": {},
   "outputs": [
    {
     "name": "stdout",
     "output_type": "stream",
     "text": [
      "{\"description\": \"test_3\", \"sample_n\": 0, \"std_time_ms\": \"2019-06-04 13:41:58.643936\", \"pH\": 3.804}\r\n",
      "{\"description\": \"test_3\", \"sample_n\": 1, \"std_time_ms\": \"2019-06-04 13:42:01.099754\", \"pH\": 3.805}\r\n",
      "{\"strfmtime\": \"%Y-%m-%d %H:%M:%S.%f\", \"metadata_interval\": 3, \"skip_lines\": 0, \"sample_n\": 2, \"media_type\": \"text/json\", \"schema\": null, \"null_sequence\": \"NA\", \"encoding\": \"utf-8\", \"standard\": \"RFC 8259\", \"time_format\": \"std_time_ms\", \"quote_char\": \"\\\"\", \"title\": null, \"name\": \"Atlas_pH\", \"pH\": 3.808, \"line_terminator\": \"\\n\", \"accuracy\": null, \"description\": null, \"units\": null, \"escape_char\": \"\\\\\", \"dtypes\": null, \"version\": \"0.1 Alpha\", \"path\": \"2019_06_04_13_41_58_JSON_data.txt\", \"double_quote\": true, \"licenses\": null, \"metadata_file_i\": 0, \"metadata_stream_i\": 1, \"format\": null, \"bytes\": null, \"device\": {\"state\": null, \"accuracy\": null, \"bus\": \"<meerkat.i2c_pi.WrapI2C object at 0x6e90a990>\", \"manufacturer\": \"Atlas Scientific\", \"version_hw\": \"1.0\", \"calibration_date\": null, \"active\": null, \"precision\": \"Varies\", \"error\": null, \"urls\": \"www.atlas-scientific.com\", \"dtype\": null, \"description\": \"\", \"version_sw\": \"1.0\", \"name\": \"Atlas_Base\"}, \"header\": [\"description\", \"sample_n\", \"pH\"], \"comment\": \"#\", \"hash\": null, \"precision\": null, \"sources\": null, \"std_time_ms\": \"2019-06-04 13:42:03.555515\"}\r\n",
      "{\"description\": \"test_3\", \"sample_n\": 3, \"std_time_ms\": \"2019-06-04 13:42:06.011533\", \"pH\": 3.806}\r\n",
      "{\"description\": \"test_3\", \"sample_n\": 4, \"std_time_ms\": \"2019-06-04 13:42:08.467034\", \"pH\": 3.807}\r\n",
      "{\"strfmtime\": \"%Y-%m-%d %H:%M:%S.%f\", \"metadata_interval\": 3, \"skip_lines\": 0, \"sample_n\": 5, \"media_type\": \"text/json\", \"schema\": null, \"null_sequence\": \"NA\", \"encoding\": \"utf-8\", \"standard\": \"RFC 8259\", \"time_format\": \"std_time_ms\", \"quote_char\": \"\\\"\", \"title\": null, \"name\": \"Atlas_pH\", \"pH\": 3.808, \"line_terminator\": \"\\n\", \"accuracy\": null, \"description\": null, \"units\": null, \"escape_char\": \"\\\\\", \"dtypes\": null, \"version\": \"0.1 Alpha\", \"path\": \"2019_06_04_13_41_58_JSON_data.txt\", \"double_quote\": true, \"licenses\": null, \"metadata_file_i\": 0, \"metadata_stream_i\": 1, \"format\": null, \"bytes\": null, \"device\": {\"state\": null, \"accuracy\": null, \"bus\": \"<meerkat.i2c_pi.WrapI2C object at 0x6e90a990>\", \"manufacturer\": \"Atlas Scientific\", \"version_hw\": \"1.0\", \"calibration_date\": null, \"active\": null, \"precision\": \"Varies\", \"error\": null, \"urls\": \"www.atlas-scientific.com\", \"dtype\": null, \"description\": \"\", \"version_sw\": \"1.0\", \"name\": \"Atlas_Base\"}, \"header\": [\"description\", \"sample_n\", \"pH\"], \"comment\": \"#\", \"hash\": null, \"precision\": null, \"sources\": null, \"std_time_ms\": \"2019-06-04 13:42:10.922711\"}\r\n",
      "{\"description\": \"test_3\", \"sample_n\": 6, \"std_time_ms\": \"2019-06-04 13:42:13.379067\", \"pH\": 3.808}\r\n"
     ]
    }
   ],
   "source": [
    "!head $dev.writer.path"
   ]
  },
  {
   "cell_type": "code",
   "execution_count": 25,
   "metadata": {},
   "outputs": [
    {
     "data": {
      "text/plain": [
       "['{\"description\": \"test_4\", \"sample_n\": 0, \"std_time_ms\": \"2019-06-04 13:42:16.150308\", \"pH\": 3.806}',\n",
       " '{\"description\": \"test_4\", \"sample_n\": 1, \"std_time_ms\": \"2019-06-04 13:42:17.103131\", \"pH\": 3.806}',\n",
       " '{\"strfmtime\": \"%Y-%m-%d %H:%M:%S.%f\", \"metadata_interval\": 3, \"skip_lines\": 0, \"sample_n\": 2, \"media_type\": \"text/json\", \"schema\": null, \"null_sequence\": \"NA\", \"encoding\": \"utf-8\", \"standard\": \"RFC 8259\", \"time_format\": \"std_time_ms\", \"quote_char\": \"\\\\\"\", \"title\": null, \"name\": \"Atlas_pH\", \"pH\": 3.808, \"line_terminator\": \"\\\\n\", \"accuracy\": null, \"description\": null, \"units\": null, \"escape_char\": \"\\\\\\\\\", \"dtypes\": null, \"version\": \"0.1 Alpha\", \"path\": \"2019_06_04_13_41_58_JSON_data.txt\", \"double_quote\": true, \"licenses\": null, \"metadata_file_i\": 2, \"metadata_stream_i\": 0, \"format\": null, \"bytes\": null, \"device\": {\"state\": null, \"accuracy\": null, \"bus\": \"<meerkat.i2c_pi.WrapI2C object at 0x6e90a990>\", \"manufacturer\": \"Atlas Scientific\", \"version_hw\": \"1.0\", \"calibration_date\": null, \"active\": null, \"precision\": \"Varies\", \"error\": null, \"urls\": \"www.atlas-scientific.com\", \"dtype\": null, \"description\": \"\", \"version_sw\": \"1.0\", \"name\": \"Atlas_Base\"}, \"header\": [\"description\", \"sample_n\", \"pH\"], \"comment\": \"#\", \"hash\": null, \"precision\": null, \"sources\": null, \"std_time_ms\": \"2019-06-04 13:42:18.055935\"}']"
      ]
     },
     "execution_count": 25,
     "metadata": {},
     "output_type": "execute_result"
    }
   ],
   "source": [
    "# get 3 samples with a description\n",
    "dev.get('test_4', 3)"
   ]
  }
 ],
 "metadata": {
  "kernelspec": {
   "display_name": "Python 3",
   "language": "python",
   "name": "python3"
  },
  "language_info": {
   "codemirror_mode": {
    "name": "ipython",
    "version": 3
   },
   "file_extension": ".py",
   "mimetype": "text/x-python",
   "name": "python",
   "nbconvert_exporter": "python",
   "pygments_lexer": "ipython3",
   "version": "3.5.2"
  }
 },
 "nbformat": 4,
 "nbformat_minor": 2
}

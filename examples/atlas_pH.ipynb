{
 "cells": [
  {
   "cell_type": "code",
   "execution_count": 1,
   "metadata": {},
   "outputs": [],
   "source": [
    "from meerkat.base import time\n",
    "from meerkat import atlas"
   ]
  },
  {
   "cell_type": "code",
   "execution_count": 2,
   "metadata": {},
   "outputs": [],
   "source": [
    "# instance device and set output format to .csv (which is default)\n",
    "dev = atlas.pH(bus_n=1, output='csv')"
   ]
  },
  {
   "cell_type": "code",
   "execution_count": 3,
   "metadata": {},
   "outputs": [
    {
     "data": {
      "text/plain": [
       "6.076"
      ]
     },
     "execution_count": 3,
     "metadata": {},
     "output_type": "execute_result"
    }
   ],
   "source": [
    "# single pH measurement\n",
    "dev.measure()"
   ]
  },
  {
   "cell_type": "code",
   "execution_count": 4,
   "metadata": {},
   "outputs": [],
   "source": [
    "# write 5 samples to .csv file with description\n",
    "dev.write(description='test_csv', n=5)"
   ]
  },
  {
   "cell_type": "code",
   "execution_count": 5,
   "metadata": {},
   "outputs": [
    {
     "data": {
      "text/plain": [
       "'2019_04_16_22_25_38_data.csv'"
      ]
     },
     "execution_count": 5,
     "metadata": {},
     "output_type": "execute_result"
    }
   ],
   "source": [
    "# name of file written\n",
    "dev.writer.path"
   ]
  },
  {
   "cell_type": "code",
   "execution_count": 6,
   "metadata": {},
   "outputs": [
    {
     "name": "stdout",
     "output_type": "stream",
     "text": [
      "#!{\"accuracy\": null, \"bytes\": null, \"case_sensitive_header\": false, \"comment\": \"#\", \"delimiter\": \",\", \"description\": null, \"device\": {\"accuracy\": null, \"active\": null, \"bus\": \"<meerkat.i2c_pi.WrapI2C object at 0x70f41df0>\", \"calibration_date\": null, \"description\": \"\", \"dtype\": null, \"error\": null, \"manufacturer\": \"Atlas Scientific\", \"name\": \"Atlas_Base\", \"precision\": \"Varies\", \"state\": null, \"urls\": \"www.atlas-scientific.com\", \"version_hw\": \"1.0\", \"version_sw\": \"1.0\"}, \"double_quote\": true, \"dtypes\": null, \"encoding\": \"utf-8\", \"escape_char\": \"\\\\\", \"format\": null, \"hash\": null, \"header\": [\"description\", \"sample_n\", \"pH\"], \"licenses\": null, \"line_terminator\": \"\\n\", \"media_type\": \"text/csv\", \"name\": \"Atlas_pH\", \"null_sequence\": \"NA\", \"path\": \"2019_04_16_22_25_38_data.csv\", \"precision\": null, \"quote_char\": \"\\\"\", \"schema\": null, \"shebang\": true, \"skip_initial_space\": true, \"skip_lines\": 1, \"sources\": null, \"standard\": \"Follow RFC 4180\", \"strfmtime\": \"%Y-%m-%d %H:%M:%S.%f\", \"time_format\": \"std_time_ms\", \"title\": null, \"units\": null, \"version\": \"0.1 Alpha\"}\r\n",
      "std_time_ms,description,sample_n,pH\r\n",
      "2019-04-16 22:25:38.569509,test_csv,0,6.073\r\n",
      "2019-04-16 22:25:41.024075,test_csv,1,6.075\r\n",
      "2019-04-16 22:25:43.479920,test_csv,2,6.073\r\n",
      "2019-04-16 22:25:45.935903,test_csv,3,6.073\r\n",
      "2019-04-16 22:25:48.391876,test_csv,4,6.077\r\n"
     ]
    }
   ],
   "source": [
    "!head $dev.writer.path"
   ]
  },
  {
   "cell_type": "code",
   "execution_count": 7,
   "metadata": {},
   "outputs": [
    {
     "data": {
      "text/plain": [
       "3"
      ]
     },
     "execution_count": 7,
     "metadata": {},
     "output_type": "execute_result"
    }
   ],
   "source": [
    "# Three point calibration\n",
    "dev.cal_set_mid(7.00)\n",
    "time.sleep(1)\n",
    "dev.cal_set_low(3.00)\n",
    "time.sleep(1)\n",
    "dev.cal_set_high(10.09)\n",
    "time.sleep(1)\n",
    "dev.cal_get()"
   ]
  },
  {
   "cell_type": "code",
   "execution_count": 8,
   "metadata": {},
   "outputs": [
    {
     "data": {
      "text/plain": [
       "0"
      ]
     },
     "execution_count": 8,
     "metadata": {},
     "output_type": "execute_result"
    }
   ],
   "source": [
    "# clear calibration\n",
    "time.sleep(1)\n",
    "dev.cal_clear()\n",
    "time.sleep(1)\n",
    "dev.cal_get()"
   ]
  },
  {
   "cell_type": "code",
   "execution_count": 9,
   "metadata": {},
   "outputs": [
    {
     "data": {
      "text/plain": [
       "(99.9, 99.9)"
      ]
     },
     "execution_count": 9,
     "metadata": {},
     "output_type": "execute_result"
    }
   ],
   "source": [
    "# response breakdown of calibration\n",
    "time.sleep(0.5)\n",
    "dev.cal_slope()"
   ]
  },
  {
   "cell_type": "code",
   "execution_count": 10,
   "metadata": {},
   "outputs": [
    {
     "data": {
      "text/plain": [
       "24.39"
      ]
     },
     "execution_count": 10,
     "metadata": {},
     "output_type": "execute_result"
    }
   ],
   "source": [
    "# temperature compensation\n",
    "time.sleep(0.5)\n",
    "dev.temp_set(24.4)\n",
    "time.sleep(0.5)\n",
    "dev.temp_get()"
   ]
  },
  {
   "cell_type": "code",
   "execution_count": 11,
   "metadata": {},
   "outputs": [
    {
     "data": {
      "text/plain": [
       "('pH', '1.7')"
      ]
     },
     "execution_count": 11,
     "metadata": {},
     "output_type": "execute_result"
    }
   ],
   "source": [
    "# device information: device type, firmware version\n",
    "time.sleep(0.5)\n",
    "dev.info()"
   ]
  },
  {
   "cell_type": "code",
   "execution_count": 12,
   "metadata": {},
   "outputs": [
    {
     "data": {
      "text/plain": [
       "('B', 3.03)"
      ]
     },
     "execution_count": 12,
     "metadata": {},
     "output_type": "execute_result"
    }
   ],
   "source": [
    "# status of device power: restart code, input voltage Vcc\n",
    "time.sleep(0.5)\n",
    "dev.status()"
   ]
  },
  {
   "cell_type": "code",
   "execution_count": 13,
   "metadata": {},
   "outputs": [
    {
     "data": {
      "text/plain": [
       "6.075"
      ]
     },
     "execution_count": 13,
     "metadata": {},
     "output_type": "execute_result"
    }
   ],
   "source": [
    "# measure pH\n",
    "time.sleep(0.5)\n",
    "dev.measure()"
   ]
  },
  {
   "cell_type": "code",
   "execution_count": 14,
   "metadata": {},
   "outputs": [
    {
     "data": {
      "text/plain": [
       "['no_description', 0, 6.073]"
      ]
     },
     "execution_count": 14,
     "metadata": {},
     "output_type": "execute_result"
    }
   ],
   "source": [
    "# get one sample without a description\n",
    "dev.get()"
   ]
  },
  {
   "cell_type": "code",
   "execution_count": 15,
   "metadata": {},
   "outputs": [
    {
     "data": {
      "text/plain": [
       "['test_1', 0, 6.074]"
      ]
     },
     "execution_count": 15,
     "metadata": {},
     "output_type": "execute_result"
    }
   ],
   "source": [
    "# get one sample with a description\n",
    "dev.get('test_1')"
   ]
  },
  {
   "cell_type": "code",
   "execution_count": 16,
   "metadata": {},
   "outputs": [
    {
     "data": {
      "text/plain": [
       "[['test_2', 0, 6.075],\n",
       " ['test_2', 1, 6.075],\n",
       " ['test_2', 2, 6.076],\n",
       " ['test_2', 3, 6.076],\n",
       " ['test_2', 4, 6.077]]"
      ]
     },
     "execution_count": 16,
     "metadata": {},
     "output_type": "execute_result"
    }
   ],
   "source": [
    "# get 5 samples with a description\n",
    "dev.get('test_2', 5)"
   ]
  },
  {
   "cell_type": "code",
   "execution_count": 17,
   "metadata": {},
   "outputs": [
    {
     "data": {
      "text/plain": [
       "['description', 'sample_n', 'pH']"
      ]
     },
     "execution_count": 17,
     "metadata": {},
     "output_type": "execute_result"
    }
   ],
   "source": [
    "# column names of .csv file and get() method\n",
    "dev.writer.header"
   ]
  },
  {
   "cell_type": "code",
   "execution_count": 18,
   "metadata": {},
   "outputs": [],
   "source": [
    "# switch to JSON output, csv is default\n",
    "dev = atlas.pH(bus_n=1, output='json')"
   ]
  },
  {
   "cell_type": "code",
   "execution_count": 19,
   "metadata": {},
   "outputs": [],
   "source": [
    "# set the metadata publishing interval to every third sample\n",
    "dev.writer.metadata_interval = 3"
   ]
  },
  {
   "cell_type": "code",
   "execution_count": 20,
   "metadata": {},
   "outputs": [],
   "source": [
    "# get 7 samples with a description\n",
    "dev.write(description='test_json', n=7)"
   ]
  },
  {
   "cell_type": "code",
   "execution_count": 21,
   "metadata": {},
   "outputs": [
    {
     "data": {
      "text/plain": [
       "'2019_04_16_22_26_13_JSON_data.txt'"
      ]
     },
     "execution_count": 21,
     "metadata": {},
     "output_type": "execute_result"
    }
   ],
   "source": [
    "# name of file written\n",
    "dev.writer.path"
   ]
  },
  {
   "cell_type": "code",
   "execution_count": 22,
   "metadata": {},
   "outputs": [
    {
     "name": "stdout",
     "output_type": "stream",
     "text": [
      "{\"pH\": 6.076, \"sample_n\": 0, \"std_time_ms\": \"2019-04-16 22:26:13.808193\", \"description\": \"test_json\"}\r\n",
      "{\"pH\": 6.077, \"sample_n\": 1, \"std_time_ms\": \"2019-04-16 22:26:16.263879\", \"description\": \"test_json\"}\r\n",
      "{\"pH\": 6.076, \"sample_n\": 2, \"metadata\": \"{\\\"accuracy\\\": null, \\\"bytes\\\": null, \\\"comment\\\": \\\"#\\\", \\\"description\\\": null, \\\"device\\\": {\\\"accuracy\\\": null, \\\"active\\\": null, \\\"bus\\\": \\\"<meerkat.i2c_pi.WrapI2C object at 0x70f2cf50>\\\", \\\"calibration_date\\\": null, \\\"description\\\": \\\"\\\", \\\"dtype\\\": null, \\\"error\\\": null, \\\"manufacturer\\\": \\\"Atlas Scientific\\\", \\\"name\\\": \\\"Atlas_Base\\\", \\\"precision\\\": \\\"Varies\\\", \\\"state\\\": null, \\\"urls\\\": \\\"www.atlas-scientific.com\\\", \\\"version_hw\\\": \\\"1.0\\\", \\\"version_sw\\\": \\\"1.0\\\"}, \\\"double_quote\\\": true, \\\"dtypes\\\": null, \\\"encoding\\\": \\\"utf-8\\\", \\\"escape_char\\\": \\\"\\\\\\\\\\\", \\\"format\\\": null, \\\"hash\\\": null, \\\"header\\\": [\\\"description\\\", \\\"sample_n\\\", \\\"pH\\\"], \\\"licenses\\\": null, \\\"line_terminator\\\": \\\"\\\\n\\\", \\\"media_type\\\": \\\"text/json\\\", \\\"metadata_file_i\\\": 0, \\\"metadata_interval\\\": 3, \\\"metadata_stream_i\\\": 1, \\\"name\\\": \\\"Atlas_pH\\\", \\\"null_sequence\\\": \\\"NA\\\", \\\"path\\\": \\\"2019_04_16_22_26_13_JSON_data.txt\\\", \\\"precision\\\": null, \\\"quote_char\\\": \\\"\\\\\\\"\\\", \\\"schema\\\": null, \\\"skip_lines\\\": 0, \\\"sources\\\": null, \\\"standard\\\": \\\"RFC 8259\\\", \\\"strfmtime\\\": \\\"%Y-%m-%d %H:%M:%S.%f\\\", \\\"time_format\\\": \\\"std_time_ms\\\", \\\"title\\\": null, \\\"units\\\": null, \\\"version\\\": \\\"0.1 Alpha\\\"}\", \"std_time_ms\": \"2019-04-16 22:26:18.720129\", \"description\": \"test_json\"}\r\n",
      "{\"pH\": 6.077, \"sample_n\": 3, \"std_time_ms\": \"2019-04-16 22:26:21.177060\", \"description\": \"test_json\"}\r\n",
      "{\"pH\": 6.076, \"sample_n\": 4, \"std_time_ms\": \"2019-04-16 22:26:23.633166\", \"description\": \"test_json\"}\r\n",
      "{\"pH\": 6.075, \"sample_n\": 5, \"metadata\": \"{\\\"accuracy\\\": null, \\\"bytes\\\": null, \\\"comment\\\": \\\"#\\\", \\\"description\\\": null, \\\"device\\\": {\\\"accuracy\\\": null, \\\"active\\\": null, \\\"bus\\\": \\\"<meerkat.i2c_pi.WrapI2C object at 0x70f2cf50>\\\", \\\"calibration_date\\\": null, \\\"description\\\": \\\"\\\", \\\"dtype\\\": null, \\\"error\\\": null, \\\"manufacturer\\\": \\\"Atlas Scientific\\\", \\\"name\\\": \\\"Atlas_Base\\\", \\\"precision\\\": \\\"Varies\\\", \\\"state\\\": null, \\\"urls\\\": \\\"www.atlas-scientific.com\\\", \\\"version_hw\\\": \\\"1.0\\\", \\\"version_sw\\\": \\\"1.0\\\"}, \\\"double_quote\\\": true, \\\"dtypes\\\": null, \\\"encoding\\\": \\\"utf-8\\\", \\\"escape_char\\\": \\\"\\\\\\\\\\\", \\\"format\\\": null, \\\"hash\\\": null, \\\"header\\\": [\\\"description\\\", \\\"sample_n\\\", \\\"pH\\\"], \\\"licenses\\\": null, \\\"line_terminator\\\": \\\"\\\\n\\\", \\\"media_type\\\": \\\"text/json\\\", \\\"metadata_file_i\\\": 0, \\\"metadata_interval\\\": 3, \\\"metadata_stream_i\\\": 1, \\\"name\\\": \\\"Atlas_pH\\\", \\\"null_sequence\\\": \\\"NA\\\", \\\"path\\\": \\\"2019_04_16_22_26_13_JSON_data.txt\\\", \\\"precision\\\": null, \\\"quote_char\\\": \\\"\\\\\\\"\\\", \\\"schema\\\": null, \\\"skip_lines\\\": 0, \\\"sources\\\": null, \\\"standard\\\": \\\"RFC 8259\\\", \\\"strfmtime\\\": \\\"%Y-%m-%d %H:%M:%S.%f\\\", \\\"time_format\\\": \\\"std_time_ms\\\", \\\"title\\\": null, \\\"units\\\": null, \\\"version\\\": \\\"0.1 Alpha\\\"}\", \"std_time_ms\": \"2019-04-16 22:26:26.089272\", \"description\": \"test_json\"}\r\n",
      "{\"pH\": 6.078, \"sample_n\": 6, \"std_time_ms\": \"2019-04-16 22:26:28.546148\", \"description\": \"test_json\"}\r\n"
     ]
    }
   ],
   "source": [
    "!head $dev.writer.path"
   ]
  },
  {
   "cell_type": "code",
   "execution_count": 23,
   "metadata": {},
   "outputs": [
    {
     "data": {
      "text/plain": [
       "['{\"pH\": 6.077, \"sample_n\": 0, \"std_time_ms\": \"2019-04-16 22:26:31.322782\", \"description\": \"test_2\"}',\n",
       " '{\"pH\": 6.076, \"sample_n\": 1, \"std_time_ms\": \"2019-04-16 22:26:32.276824\", \"description\": \"test_2\"}']"
      ]
     },
     "execution_count": 23,
     "metadata": {},
     "output_type": "execute_result"
    }
   ],
   "source": [
    "# get 5 samples with a description\n",
    "dev.get('test_2', 2)"
   ]
  }
 ],
 "metadata": {
  "kernelspec": {
   "display_name": "Python 3",
   "language": "python",
   "name": "python3"
  },
  "language_info": {
   "codemirror_mode": {
    "name": "ipython",
    "version": 3
   },
   "file_extension": ".py",
   "mimetype": "text/x-python",
   "name": "python",
   "nbconvert_exporter": "python",
   "pygments_lexer": "ipython3",
   "version": "3.5.2"
  }
 },
 "nbformat": 4,
 "nbformat_minor": 2
}

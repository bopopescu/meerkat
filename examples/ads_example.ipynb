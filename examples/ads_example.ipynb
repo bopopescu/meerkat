{
 "cells": [
  {
   "cell_type": "code",
   "execution_count": 1,
   "metadata": {},
   "outputs": [],
   "source": [
    "import os\n",
    "import sys\n",
    "import smbus\n",
    "\n",
    "from time import sleep\n",
    "from datetime import datetime"
   ]
  },
  {
   "cell_type": "code",
   "execution_count": 2,
   "metadata": {},
   "outputs": [
    {
     "name": "stdout",
     "output_type": "stream",
     "text": [
      "Current working directory is: /home/colin/code/meerkat/examples\n",
      "Appending directory to path: /home/colin/code/meerkat\n"
     ]
    }
   ],
   "source": [
    "# get current working directory and append relative path for package import\n",
    "if os.name == 'posix':\n",
    "    _wd = !pwd\n",
    "    _wd = _wd[0]\n",
    "elif os.name == 'nt':\n",
    "    _wd = !cd\n",
    "    _wd = _wd[0]\n",
    "else:\n",
    "    _wd = os.getcwd()\n",
    "print('Current working directory is:', _wd)\n",
    "p = os.path.dirname(_wd)\n",
    "p = os.path.join(p, '.')\n",
    "p = os.path.abspath(p)\n",
    "print('Appending directory to path:', p)\n",
    "sys.path.insert(0, p)\n",
    "\n",
    "# alternatively, manually set the path to meerkat\n",
    "#sys.path.insert(0, '/path_to_meerkat')"
   ]
  },
  {
   "cell_type": "code",
   "execution_count": 3,
   "metadata": {},
   "outputs": [],
   "source": [
    "from meerkat import ads"
   ]
  },
  {
   "cell_type": "markdown",
   "metadata": {},
   "source": [
    "### Setup ADS1115"
   ]
  },
  {
   "cell_type": "code",
   "execution_count": 4,
   "metadata": {},
   "outputs": [],
   "source": [
    "i2c = smbus.SMBus(1)\n",
    "dev = ads.ADS1115(bus=i2c)\n",
    "dev.get_config()\n",
    "dev.pga('6.144')  # Other options: '6.144', '4.096'\n",
    "dev.mux('0G')     # pin 0 relative to ground\n",
    "dev.get_config()  # refresh for measurements"
   ]
  },
  {
   "cell_type": "markdown",
   "metadata": {},
   "source": [
    "### Print Status"
   ]
  },
  {
   "cell_type": "code",
   "execution_count": 5,
   "metadata": {},
   "outputs": [
    {
     "name": "stdout",
     "output_type": "stream",
     "text": [
      "ADS11x5 Configuration Attributes\n",
      "--------------------------------\n",
      "Config Register: 16771 0x4183 0b100000110000011\n",
      "PGA Range: +/- 6.144 Volts\n",
      "Mode: single\n",
      "Data Rate: 128 SPS\n",
      "Input Multiplexer: 0G\n",
      "Comparator:\n",
      " Queue: off\n",
      " Latching: off\n",
      " Polarity: Active 1\n",
      " Mode: trad\n"
     ]
    }
   ],
   "source": [
    "dev.print_attributes()"
   ]
  },
  {
   "cell_type": "code",
   "execution_count": 6,
   "metadata": {},
   "outputs": [],
   "source": [
    "def get_time():\n",
    "    return datetime.now().strftime('%Y-%m-%d %H:%M:%S.%f')"
   ]
  },
  {
   "cell_type": "markdown",
   "metadata": {},
   "source": [
    "### Single Tests"
   ]
  },
  {
   "cell_type": "code",
   "execution_count": 7,
   "metadata": {},
   "outputs": [
    {
     "name": "stdout",
     "output_type": "stream",
     "text": [
      "Measured voltage: 4.1004375\n"
     ]
    }
   ],
   "source": [
    "print('Measured voltage: {}'.format(dev.voltage()))"
   ]
  },
  {
   "cell_type": "code",
   "execution_count": 8,
   "metadata": {},
   "outputs": [
    {
     "name": "stdout",
     "output_type": "stream",
     "text": [
      "#!{\"_file_init\": false, \"accuracy\": null, \"bytes\": null, \"case_sensitive_header\": false, \"comment\": \"#\", \"delimiter\": \",\", \"description\": null, \"device_metadata\": null, \"double_quote\": true, \"dtypes\": null, \"encoding\": \"utf-8\", \"escape_char\": \"\\\\\", \"format\": null, \"hash\": null, \"header\": [\"datetime\", \"sample_id\", \"voltage\"], \"licenses\": null, \"line_terminator\": \"\\n\", \"media_type\": \"text/csv\", \"name\": \"ADS1115\", \"null_sequence\": \"NA\", \"path\": null, \"precision\": null, \"quote_char\": \"\\\"\", \"schema\": null, \"shebang\": true, \"skip_initial_space\": true, \"skip_lines\": 1, \"sources\": null, \"standard\": \"Follow RFC 4180\", \"title\": null, \"units\": null, \"version\": \"0.1 Alpha\"}\n"
     ]
    }
   ],
   "source": [
    "print(dev.data.writer.create_metadata())"
   ]
  },
  {
   "cell_type": "code",
   "execution_count": 9,
   "metadata": {},
   "outputs": [
    {
     "name": "stdout",
     "output_type": "stream",
     "text": [
      "['datetime', 'sample_id', 'voltage']\n"
     ]
    }
   ],
   "source": [
    "print(dev.data.writer.header)"
   ]
  },
  {
   "cell_type": "code",
   "execution_count": 10,
   "metadata": {},
   "outputs": [
    {
     "name": "stdout",
     "output_type": "stream",
     "text": [
      "['2018-07-12 08:44:41.026208', 'test', 4.10025]\n"
     ]
    }
   ],
   "source": [
    "print(dev.get(t=get_time(), sid='test'))"
   ]
  },
  {
   "cell_type": "markdown",
   "metadata": {},
   "source": [
    "### File Save Test\n",
    "LM4040 2.048 V reference source connected to A0"
   ]
  },
  {
   "cell_type": "code",
   "execution_count": 11,
   "metadata": {},
   "outputs": [],
   "source": [
    "samples = 20"
   ]
  },
  {
   "cell_type": "code",
   "execution_count": 12,
   "metadata": {},
   "outputs": [],
   "source": [
    "dev.data.writer.path = 'test.csv'\n",
    "for _ in range(samples):\n",
    "    dev.write(t=get_time(), sid='test_' + str(_))"
   ]
  },
  {
   "cell_type": "code",
   "execution_count": 13,
   "metadata": {},
   "outputs": [],
   "source": [
    "import pandas as pd\n",
    "import matplotlib.pyplot as plt\n",
    "\n",
    "from meerkat import parser"
   ]
  },
  {
   "cell_type": "code",
   "execution_count": 14,
   "metadata": {},
   "outputs": [],
   "source": [
    "m, df = parser.csv_resource('test.csv')"
   ]
  },
  {
   "cell_type": "markdown",
   "metadata": {},
   "source": [
    "### Plot Data"
   ]
  },
  {
   "cell_type": "code",
   "execution_count": 15,
   "metadata": {},
   "outputs": [],
   "source": [
    "df['datetime64_ns'] = pd.to_datetime(df.datetime)"
   ]
  },
  {
   "cell_type": "code",
   "execution_count": 16,
   "metadata": {},
   "outputs": [],
   "source": [
    "df.index = df.datetime64_ns"
   ]
  },
  {
   "cell_type": "code",
   "execution_count": 17,
   "metadata": {},
   "outputs": [],
   "source": [
    "df['rolling_mean'] = df.voltage.rolling(4, win_type='triang').mean()"
   ]
  },
  {
   "cell_type": "code",
   "execution_count": 18,
   "metadata": {},
   "outputs": [],
   "source": [
    "df_mean = df.voltage.mean()\n",
    "df['mean'] = df_mean"
   ]
  },
  {
   "cell_type": "code",
   "execution_count": 19,
   "metadata": {},
   "outputs": [
    {
     "data": {
      "image/png": "[encoded data removed]",
      "text/plain": [
       "<Figure size 432x288 with 1 Axes>"
      ]
     },
     "metadata": {},
     "output_type": "display_data"
    }
   ],
   "source": [
    "df[['voltage', 'rolling_mean', 'mean']].plot(style=[' xb', '-g', '-r']);"
   ]
  },
  {
   "cell_type": "code",
   "execution_count": 26,
   "metadata": {},
   "outputs": [
    {
     "data": {
      "image/png": "[encoded data removed]",
      "text/plain": [
       "<Figure size 432x288 with 1 Axes>"
      ]
     },
     "metadata": {},
     "output_type": "display_data"
    }
   ],
   "source": [
    "df[['voltage', 'rolling_mean', 'mean']].plot(style=[' xb', '-g', '-r'],\n",
    "                                             ylim=(4.1003, 4.1005));"
   ]
  },
  {
   "cell_type": "code",
   "execution_count": 21,
   "metadata": {},
   "outputs": [
    {
     "name": "stdout",
     "output_type": "stream",
     "text": [
      "Mean: 4.10041875 Volts DC\n",
      "Standard Deviation: 5.77112823048e-05\n"
     ]
    }
   ],
   "source": [
    "print('Mean:', df_mean, 'Volts DC')\n",
    "print('Standard Deviation:', df.voltage.std())"
   ]
  },
  {
   "cell_type": "code",
   "execution_count": 22,
   "metadata": {},
   "outputs": [
    {
     "name": "stdout",
     "output_type": "stream",
     "text": [
      "Sample Rate: 72.5813 Hz\n"
     ]
    }
   ],
   "source": [
    "dt = df.index[-1]-df.index[0]\n",
    "dtt = dt.seconds + dt.microseconds / 10**6\n",
    "print('Sample Rate: {:.4f} Hz'.format(len(df)/dtt))"
   ]
  },
  {
   "cell_type": "code",
   "execution_count": 23,
   "metadata": {},
   "outputs": [
    {
     "data": {
      "image/png": "[encoded data removed]",
      "text/plain": [
       "<Figure size 432x288 with 1 Axes>"
      ]
     },
     "metadata": {},
     "output_type": "display_data"
    }
   ],
   "source": [
    "df.voltage.hist(bins=20);"
   ]
  },
  {
   "cell_type": "code",
   "execution_count": 34,
   "metadata": {},
   "outputs": [
    {
     "name": "stdout",
     "output_type": "stream",
     "text": [
      "1000000100000000\n",
      "1\n"
     ]
    }
   ],
   "source": [
    "dev.mode('continuous')\n",
    "dev.get_config()\n",
    "print('{:b}'.format(dev.config_value))\n",
    "print(dev.mode_value)"
   ]
  },
  {
   "cell_type": "code",
   "execution_count": 35,
   "metadata": {},
   "outputs": [
    {
     "name": "stdout",
     "output_type": "stream",
     "text": [
      "1000000100000000\n",
      "1\n"
     ]
    }
   ],
   "source": [
    "dev.mode('single')\n",
    "dev.get_config()\n",
    "print('{:b}'.format(dev.config_value))\n",
    "print(dev.mode_value)"
   ]
  },
  {
   "cell_type": "code",
   "execution_count": 38,
   "metadata": {},
   "outputs": [
    {
     "data": {
      "text/plain": [
       "256"
      ]
     },
     "execution_count": 38,
     "metadata": {},
     "output_type": "execute_result"
    }
   ],
   "source": [
    "((dev.config_value & 256) | (dev.str_mode['single'] << 8))"
   ]
  },
  {
   "cell_type": "code",
   "execution_count": 39,
   "metadata": {},
   "outputs": [
    {
     "data": {
      "text/plain": [
       "'0b100000000'"
      ]
     },
     "execution_count": 39,
     "metadata": {},
     "output_type": "execute_result"
    }
   ],
   "source": [
    "bin(256)"
   ]
  },
  {
   "cell_type": "code",
   "execution_count": 41,
   "metadata": {},
   "outputs": [
    {
     "data": {
      "text/plain": [
       "'0b1000000100000000'"
      ]
     },
     "execution_count": 41,
     "metadata": {},
     "output_type": "execute_result"
    }
   ],
   "source": [
    "bin(dev.config_value)"
   ]
  },
  {
   "cell_type": "code",
   "execution_count": null,
   "metadata": {},
   "outputs": [],
   "source": []
  }
 ],
 "metadata": {
  "kernelspec": {
   "display_name": "Python 3",
   "language": "python",
   "name": "python3"
  },
  "language_info": {
   "codemirror_mode": {
    "name": "ipython",
    "version": 3
   },
   "file_extension": ".py",
   "mimetype": "text/x-python",
   "name": "python",
   "nbconvert_exporter": "python",
   "pygments_lexer": "ipython3",
   "version": "3.5.2"
  }
 },
 "nbformat": 4,
 "nbformat_minor": 2
}

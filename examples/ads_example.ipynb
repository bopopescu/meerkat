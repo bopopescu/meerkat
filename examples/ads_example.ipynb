{
 "cells": [
  {
   "cell_type": "code",
   "execution_count": 1,
   "metadata": {},
   "outputs": [],
   "source": [
    "import os\n",
    "import sys\n",
    "import smbus\n",
    "\n",
    "from time import sleep\n",
    "from datetime import datetime"
   ]
  },
  {
   "cell_type": "raw",
   "metadata": {},
   "source": [
    "# if meerkat install directory isn't already in path,\n",
    "# uncomment this to get current working directory \n",
    "# and append relative path for package import\n",
    "if os.name == 'posix':\n",
    "    _wd = !pwd\n",
    "    _wd = _wd[0]\n",
    "elif os.name == 'nt':\n",
    "    _wd = !cd\n",
    "    _wd = _wd[0]\n",
    "else:\n",
    "    _wd = os.getcwd()\n",
    "print('Current working directory is:', _wd)\n",
    "p = os.path.dirname(_wd)\n",
    "p = os.path.join(p, '.')\n",
    "p = os.path.abspath(p)\n",
    "print('Appending directory to path:', p)\n",
    "sys.path.insert(0, p)\n",
    "\n",
    "# alternatively, manually set the path to meerkat\n",
    "#sys.path.insert(0, '/path_to_meerkat')"
   ]
  },
  {
   "cell_type": "code",
   "execution_count": 2,
   "metadata": {},
   "outputs": [],
   "source": [
    "from meerkat import ads"
   ]
  },
  {
   "cell_type": "markdown",
   "metadata": {},
   "source": [
    "### Setup ADS1115"
   ]
  },
  {
   "cell_type": "code",
   "execution_count": 3,
   "metadata": {},
   "outputs": [],
   "source": [
    "i2c = smbus.SMBus(1)\n",
    "dev = ads.ADS1115(bus=i2c)\n",
    "dev.get_config()\n",
    "dev.pga('6.144')  # Other options: '6.144', '4.096'\n",
    "dev.mux('1G')     # pin 1 relative to ground\n",
    "dev.get_config()  # refresh for measurements"
   ]
  },
  {
   "cell_type": "markdown",
   "metadata": {},
   "source": [
    "### Print Status"
   ]
  },
  {
   "cell_type": "code",
   "execution_count": 4,
   "metadata": {},
   "outputs": [
    {
     "name": "stdout",
     "output_type": "stream",
     "text": [
      "ADS11x5 Configuration Attributes\n",
      "--------------------------------\n",
      "Config Register: 20736 0x5100 0b101000100000000\n",
      "PGA Range: +/- 6.144 Volts\n",
      "Mode: single\n",
      "Data Rate: 8 SPS\n",
      "Input Multiplexer: 1G\n",
      "Comparator:\n",
      " Queue: 1\n",
      " Latching: off\n",
      " Polarity: Active 1\n",
      " Mode: trad\n"
     ]
    }
   ],
   "source": [
    "dev.print_attributes()"
   ]
  },
  {
   "cell_type": "code",
   "execution_count": 5,
   "metadata": {},
   "outputs": [],
   "source": [
    "def get_time():\n",
    "    return datetime.now().strftime('%Y-%m-%d %H:%M:%S.%f')"
   ]
  },
  {
   "cell_type": "markdown",
   "metadata": {},
   "source": [
    "### Single Tests"
   ]
  },
  {
   "cell_type": "code",
   "execution_count": 6,
   "metadata": {},
   "outputs": [
    {
     "name": "stdout",
     "output_type": "stream",
     "text": [
      "Measured voltage: 0.96225\n"
     ]
    }
   ],
   "source": [
    "print('Measured voltage: {}'.format(dev.voltage()))"
   ]
  },
  {
   "cell_type": "code",
   "execution_count": 7,
   "metadata": {},
   "outputs": [
    {
     "name": "stdout",
     "output_type": "stream",
     "text": [
      "#!{\"accuracy\": null, \"bytes\": null, \"case_sensitive_header\": false, \"comment\": \"#\", \"delimiter\": \",\", \"description\": null, \"device\": {\"accuracy\": null, \"active\": null, \"bus\": \"<SMBus object at 0x7424aef0>\", \"calibration_date\": null, \"description\": \"Texas Instruments 16-bit 860SPS 4-Ch Delta-Sigma ADC with PGA\", \"dtype\": null, \"error\": null, \"manufacturer\": \"Texas Instruments\", \"name\": \"ADS1115\", \"pga_gain\": -999, \"precision\": \"16bit\", \"state\": null, \"urls\": \"www.ti.com/product/ADS1115\", \"version_hw\": \"1.0\", \"version_sw\": \"1.0\"}, \"double_quote\": true, \"dtypes\": null, \"encoding\": \"utf-8\", \"escape_char\": \"\\\\\", \"format\": null, \"hash\": null, \"header\": [\"sample_id\", \"voltage\"], \"licenses\": null, \"line_terminator\": \"\\n\", \"media_type\": \"text/csv\", \"name\": \"ADS1115\", \"null_sequence\": \"NA\", \"path\": null, \"precision\": null, \"quote_char\": \"\\\"\", \"schema\": null, \"shebang\": true, \"skip_initial_space\": true, \"skip_lines\": 1, \"sources\": null, \"standard\": \"Follow RFC 4180\", \"time_format\": \"std_time_ms\", \"title\": null, \"units\": null, \"version\": \"0.1 Alpha\"}\n"
     ]
    }
   ],
   "source": [
    "print(dev.writer.create_metadata())"
   ]
  },
  {
   "cell_type": "code",
   "execution_count": 8,
   "metadata": {},
   "outputs": [
    {
     "name": "stdout",
     "output_type": "stream",
     "text": [
      "['sample_id', 'voltage']\n"
     ]
    }
   ],
   "source": [
    "print(dev.writer.header)"
   ]
  },
  {
   "cell_type": "code",
   "execution_count": 9,
   "metadata": {},
   "outputs": [
    {
     "name": "stdout",
     "output_type": "stream",
     "text": [
      "['test', 2.04825]\n"
     ]
    }
   ],
   "source": [
    "print(dev.get(sid='test'))"
   ]
  },
  {
   "cell_type": "markdown",
   "metadata": {},
   "source": [
    "### File Save Test\n",
    "LM4040 2.048 V reference source connected to A0"
   ]
  },
  {
   "cell_type": "code",
   "execution_count": 10,
   "metadata": {},
   "outputs": [],
   "source": [
    "samples = 20"
   ]
  },
  {
   "cell_type": "code",
   "execution_count": 11,
   "metadata": {},
   "outputs": [],
   "source": [
    "for _ in range(samples):\n",
    "    dev.write(sid='sample_' + str(_))"
   ]
  },
  {
   "cell_type": "code",
   "execution_count": 12,
   "metadata": {},
   "outputs": [],
   "source": [
    "import pandas as pd\n",
    "import matplotlib.pyplot as plt\n",
    "\n",
    "from meerkat import parser"
   ]
  },
  {
   "cell_type": "code",
   "execution_count": 13,
   "metadata": {},
   "outputs": [
    {
     "data": {
      "text/plain": [
       "'2018_12_27_18_21_06_data.csv'"
      ]
     },
     "execution_count": 13,
     "metadata": {},
     "output_type": "execute_result"
    }
   ],
   "source": [
    "dev.writer.path"
   ]
  },
  {
   "cell_type": "code",
   "execution_count": 14,
   "metadata": {},
   "outputs": [],
   "source": [
    "m, df = parser.csv_resource(dev.writer.path)"
   ]
  },
  {
   "cell_type": "markdown",
   "metadata": {},
   "source": [
    "### Verify Timestamp Format"
   ]
  },
  {
   "cell_type": "code",
   "execution_count": 15,
   "metadata": {},
   "outputs": [
    {
     "data": {
      "text/plain": [
       "'std_time_ms'"
      ]
     },
     "execution_count": 15,
     "metadata": {},
     "output_type": "execute_result"
    }
   ],
   "source": [
    "dev.writer._timepiece.format_used"
   ]
  },
  {
   "cell_type": "code",
   "execution_count": 16,
   "metadata": {},
   "outputs": [
    {
     "data": {
      "text/plain": [
       "True"
      ]
     },
     "execution_count": 16,
     "metadata": {},
     "output_type": "execute_result"
    }
   ],
   "source": [
    "m['time_format'] == dev.writer._timepiece.format_used"
   ]
  },
  {
   "cell_type": "markdown",
   "metadata": {},
   "source": [
    "### Plot Data"
   ]
  },
  {
   "cell_type": "code",
   "execution_count": 17,
   "metadata": {},
   "outputs": [],
   "source": [
    "df['datetime64_ns'] = pd.to_datetime(df[m['time_format']])"
   ]
  },
  {
   "cell_type": "code",
   "execution_count": 18,
   "metadata": {},
   "outputs": [],
   "source": [
    "df.index = df.datetime64_ns"
   ]
  },
  {
   "cell_type": "code",
   "execution_count": 19,
   "metadata": {},
   "outputs": [],
   "source": [
    "df['rolling_mean'] = df.voltage.rolling(4, win_type='triang').mean()"
   ]
  },
  {
   "cell_type": "code",
   "execution_count": 20,
   "metadata": {},
   "outputs": [],
   "source": [
    "df_mean = df.voltage.mean()\n",
    "df['mean'] = df_mean"
   ]
  },
  {
   "cell_type": "code",
   "execution_count": 21,
   "metadata": {},
   "outputs": [
    {
     "data": {
      "image/png": "[encoded data removed]",
      "text/plain": [
       "<Figure size 432x288 with 1 Axes>"
      ]
     },
     "metadata": {
      "needs_background": "light"
     },
     "output_type": "display_data"
    }
   ],
   "source": [
    "df[['voltage', 'rolling_mean', 'mean']].plot(style=[' xb', '-g', '-r']);"
   ]
  },
  {
   "cell_type": "code",
   "execution_count": 22,
   "metadata": {},
   "outputs": [
    {
     "data": {
      "image/png": "[encoded data removed]",
      "text/plain": [
       "<Figure size 432x288 with 1 Axes>"
      ]
     },
     "metadata": {
      "needs_background": "light"
     },
     "output_type": "display_data"
    }
   ],
   "source": [
    "df[['voltage', 'rolling_mean', 'mean']].plot(style=[' xb', '-g', '-r'],\n",
    "                                             ylim=(2.0, 2.1));"
   ]
  },
  {
   "cell_type": "code",
   "execution_count": 23,
   "metadata": {},
   "outputs": [
    {
     "name": "stdout",
     "output_type": "stream",
     "text": [
      "Mean: 2.0482500000000003 Volts DC\n",
      "Standard Deviation: 4.556259157007654e-16\n"
     ]
    }
   ],
   "source": [
    "print('Mean:', df_mean, 'Volts DC')\n",
    "print('Standard Deviation:', df.voltage.std())"
   ]
  },
  {
   "cell_type": "code",
   "execution_count": 24,
   "metadata": {},
   "outputs": [
    {
     "name": "stdout",
     "output_type": "stream",
     "text": [
      "Sample Rate: 91.5474 Hz\n"
     ]
    }
   ],
   "source": [
    "dt = df.index[-1]-df.index[0]\n",
    "dtt = dt.seconds + dt.microseconds / 10**6\n",
    "print('Sample Rate: {:.4f} Hz'.format(len(df)/dtt))"
   ]
  },
  {
   "cell_type": "code",
   "execution_count": 25,
   "metadata": {},
   "outputs": [
    {
     "data": {
      "image/png": "[encoded data removed]",
      "text/plain": [
       "<Figure size 432x288 with 1 Axes>"
      ]
     },
     "metadata": {
      "needs_background": "light"
     },
     "output_type": "display_data"
    }
   ],
   "source": [
    "df.voltage.hist(bins=20);"
   ]
  },
  {
   "cell_type": "code",
   "execution_count": 26,
   "metadata": {},
   "outputs": [
    {
     "name": "stdout",
     "output_type": "stream",
     "text": [
      "1000000100000000\n",
      "1\n"
     ]
    }
   ],
   "source": [
    "dev.mode('continuous')\n",
    "dev.get_config()\n",
    "print('{:b}'.format(dev.config_value))\n",
    "print(dev.mode_value)"
   ]
  },
  {
   "cell_type": "code",
   "execution_count": 27,
   "metadata": {},
   "outputs": [
    {
     "name": "stdout",
     "output_type": "stream",
     "text": [
      "1000000100000000\n",
      "1\n"
     ]
    }
   ],
   "source": [
    "dev.mode('single')\n",
    "dev.get_config()\n",
    "print('{:b}'.format(dev.config_value))\n",
    "print(dev.mode_value)"
   ]
  },
  {
   "cell_type": "code",
   "execution_count": 28,
   "metadata": {},
   "outputs": [
    {
     "data": {
      "text/plain": [
       "'0b1000000100000000'"
      ]
     },
     "execution_count": 28,
     "metadata": {},
     "output_type": "execute_result"
    }
   ],
   "source": [
    "bin(dev.config_value)"
   ]
  }
 ],
 "metadata": {
  "kernelspec": {
   "display_name": "Python 3",
   "language": "python",
   "name": "python3"
  },
  "language_info": {
   "codemirror_mode": {
    "name": "ipython",
    "version": 3
   },
   "file_extension": ".py",
   "mimetype": "text/x-python",
   "name": "python",
   "nbconvert_exporter": "python",
   "pygments_lexer": "ipython3",
   "version": "3.6.6"
  }
 },
 "nbformat": 4,
 "nbformat_minor": 2
}

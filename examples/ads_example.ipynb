{
 "cells": [
  {
   "cell_type": "markdown",
   "metadata": {},
   "source": [
    "## ADS1115 Analog to Digitial Converter  \n",
    "\n",
    "The ADS1115 is a 16 bit resolution analog to digitial converter.\n",
    "\n",
    "Manufacturer Link: www.ti.com/product/ADS1115  \n",
    "\n",
    "Breakout Board Used: https://www.adafruit.com/product/1085"
   ]
  },
  {
   "cell_type": "code",
   "execution_count": 1,
   "metadata": {},
   "outputs": [],
   "source": [
    "import pandas as pd\n",
    "import matplotlib.pyplot as plt\n",
    "\n",
    "from meerkat import base, ads, parser"
   ]
  },
  {
   "cell_type": "code",
   "execution_count": 2,
   "metadata": {},
   "outputs": [],
   "source": [
    "dev = ads.ADS1115(bus_n=1)"
   ]
  },
  {
   "cell_type": "markdown",
   "metadata": {},
   "source": [
    "#### Configuration"
   ]
  },
  {
   "cell_type": "code",
   "execution_count": 3,
   "metadata": {},
   "outputs": [],
   "source": [
    "dev.pga('6.144')  # Other options: '6.144', '4.096'\n",
    "dev.mux('1G')     # pin 0 relative to ground"
   ]
  },
  {
   "cell_type": "code",
   "execution_count": 4,
   "metadata": {},
   "outputs": [
    {
     "name": "stdout",
     "output_type": "stream",
     "text": [
      "ADS11x5 Configuration Attributes\n",
      "--------------------------------\n",
      "Config Register: 53504 0xd100 0b1101000100000000\n",
      "PGA Range: +/- 6.144 Volts\n",
      "Mode: single\n",
      "Data Rate: 8 SPS\n",
      "Input Multiplexer: 1G\n",
      "Comparator:\n",
      " Queue: 1\n",
      " Latching: off\n",
      " Polarity: Active 1\n",
      " Mode: trad\n"
     ]
    }
   ],
   "source": [
    "dev.print_attributes()"
   ]
  },
  {
   "cell_type": "markdown",
   "metadata": {},
   "source": [
    "#### Measurements  \n",
    "For this demo, a 2.048 V reference is connected to A1"
   ]
  },
  {
   "cell_type": "code",
   "execution_count": 5,
   "metadata": {},
   "outputs": [
    {
     "name": "stdout",
     "output_type": "stream",
     "text": [
      "Measured voltage: 3.0035625\n"
     ]
    }
   ],
   "source": [
    "print('Measured voltage: {}'.format(dev.voltage()))"
   ]
  },
  {
   "cell_type": "code",
   "execution_count": 6,
   "metadata": {},
   "outputs": [
    {
     "data": {
      "text/plain": [
       "[['ADS1115_example_1', 1, 5, 2.047875],\n",
       " ['ADS1115_example_1', 2, 5, 2.047875],\n",
       " ['ADS1115_example_1', 3, 5, 2.047875],\n",
       " ['ADS1115_example_1', 4, 5, 2.047875],\n",
       " ['ADS1115_example_1', 5, 5, 2.047875]]"
      ]
     },
     "execution_count": 6,
     "metadata": {},
     "output_type": "execute_result"
    }
   ],
   "source": [
    "dev.get(description='ADS1115_example_1', n=5)"
   ]
  },
  {
   "cell_type": "markdown",
   "metadata": {},
   "source": [
    "#### CSV Writer Output"
   ]
  },
  {
   "cell_type": "code",
   "execution_count": 7,
   "metadata": {},
   "outputs": [],
   "source": [
    "dev.write(description='test_1', n=15)"
   ]
  },
  {
   "cell_type": "code",
   "execution_count": 8,
   "metadata": {},
   "outputs": [],
   "source": [
    "m, df = parser.csv_resource(dev.writer.path)"
   ]
  },
  {
   "cell_type": "code",
   "execution_count": 9,
   "metadata": {},
   "outputs": [
    {
     "data": {
      "text/html": [
       "<div>\n",
       "<style scoped>\n",
       "    .dataframe tbody tr th:only-of-type {\n",
       "        vertical-align: middle;\n",
       "    }\n",
       "\n",
       "    .dataframe tbody tr th {\n",
       "        vertical-align: top;\n",
       "    }\n",
       "\n",
       "    .dataframe thead th {\n",
       "        text-align: right;\n",
       "    }\n",
       "</style>\n",
       "<table border=\"1\" class=\"dataframe\">\n",
       "  <thead>\n",
       "    <tr style=\"text-align: right;\">\n",
       "      <th></th>\n",
       "      <th>std_time_ms</th>\n",
       "      <th>description</th>\n",
       "      <th>sample_n</th>\n",
       "      <th>mux</th>\n",
       "      <th>voltage</th>\n",
       "      <th>datetime64_ns</th>\n",
       "    </tr>\n",
       "  </thead>\n",
       "  <tbody>\n",
       "    <tr>\n",
       "      <th>0</th>\n",
       "      <td>2019-06-02 14:44:47.664919</td>\n",
       "      <td>test_1</td>\n",
       "      <td>1</td>\n",
       "      <td>5</td>\n",
       "      <td>2.047875</td>\n",
       "      <td>2019-06-02 14:44:47.664919</td>\n",
       "    </tr>\n",
       "    <tr>\n",
       "      <th>1</th>\n",
       "      <td>2019-06-02 14:44:47.676855</td>\n",
       "      <td>test_1</td>\n",
       "      <td>2</td>\n",
       "      <td>5</td>\n",
       "      <td>2.047875</td>\n",
       "      <td>2019-06-02 14:44:47.676855</td>\n",
       "    </tr>\n",
       "    <tr>\n",
       "      <th>2</th>\n",
       "      <td>2019-06-02 14:44:47.688656</td>\n",
       "      <td>test_1</td>\n",
       "      <td>3</td>\n",
       "      <td>5</td>\n",
       "      <td>2.047875</td>\n",
       "      <td>2019-06-02 14:44:47.688656</td>\n",
       "    </tr>\n",
       "    <tr>\n",
       "      <th>3</th>\n",
       "      <td>2019-06-02 14:44:47.700464</td>\n",
       "      <td>test_1</td>\n",
       "      <td>4</td>\n",
       "      <td>5</td>\n",
       "      <td>2.047875</td>\n",
       "      <td>2019-06-02 14:44:47.700464</td>\n",
       "    </tr>\n",
       "    <tr>\n",
       "      <th>4</th>\n",
       "      <td>2019-06-02 14:44:47.752649</td>\n",
       "      <td>test_1</td>\n",
       "      <td>5</td>\n",
       "      <td>5</td>\n",
       "      <td>2.047875</td>\n",
       "      <td>2019-06-02 14:44:47.752649</td>\n",
       "    </tr>\n",
       "  </tbody>\n",
       "</table>\n",
       "</div>"
      ],
      "text/plain": [
       "                  std_time_ms description  sample_n  mux   voltage  \\\n",
       "0  2019-06-02 14:44:47.664919      test_1         1    5  2.047875   \n",
       "1  2019-06-02 14:44:47.676855      test_1         2    5  2.047875   \n",
       "2  2019-06-02 14:44:47.688656      test_1         3    5  2.047875   \n",
       "3  2019-06-02 14:44:47.700464      test_1         4    5  2.047875   \n",
       "4  2019-06-02 14:44:47.752649      test_1         5    5  2.047875   \n",
       "\n",
       "               datetime64_ns  \n",
       "0 2019-06-02 14:44:47.664919  \n",
       "1 2019-06-02 14:44:47.676855  \n",
       "2 2019-06-02 14:44:47.688656  \n",
       "3 2019-06-02 14:44:47.700464  \n",
       "4 2019-06-02 14:44:47.752649  "
      ]
     },
     "execution_count": 9,
     "metadata": {},
     "output_type": "execute_result"
    }
   ],
   "source": [
    "df.head()"
   ]
  },
  {
   "cell_type": "code",
   "execution_count": 10,
   "metadata": {},
   "outputs": [],
   "source": [
    "df['rolling_mean'] = df.voltage.rolling(4, win_type='triang').mean()"
   ]
  },
  {
   "cell_type": "code",
   "execution_count": 11,
   "metadata": {},
   "outputs": [],
   "source": [
    "df_mean = df.voltage.mean()\n",
    "df['mean'] = df_mean"
   ]
  },
  {
   "cell_type": "code",
   "execution_count": 12,
   "metadata": {},
   "outputs": [
    {
     "data": {
      "image/png": "[encoded data removed]",
      "text/plain": [
       "<Figure size 432x288 with 1 Axes>"
      ]
     },
     "metadata": {
      "needs_background": "light"
     },
     "output_type": "display_data"
    }
   ],
   "source": [
    "df.datetime64_ns = df.datetime64_ns.dt.tz_localize('UTC')  # Pandas 0.24.1 hack\n",
    "df[['datetime64_ns', 'voltage',\n",
    "    'rolling_mean', 'mean']].plot(x='datetime64_ns',\n",
    "                                  style=[' xb', '-g', '-r']);"
   ]
  },
  {
   "cell_type": "code",
   "execution_count": 13,
   "metadata": {},
   "outputs": [
    {
     "name": "stdout",
     "output_type": "stream",
     "text": [
      "Mean:  2.04788 Volts DC\n",
      "Standard Deviation: 4.596760034896314e-16\n"
     ]
    }
   ],
   "source": [
    "print('Mean: {:8.6} Volts DC'.format(df_mean))\n",
    "print('Standard Deviation: {}'.format(df.voltage.std()))"
   ]
  },
  {
   "cell_type": "code",
   "execution_count": 14,
   "metadata": {},
   "outputs": [
    {
     "name": "stdout",
     "output_type": "stream",
     "text": [
      "Sample Rate: 58.3964 Hz\n"
     ]
    }
   ],
   "source": [
    "dt = df.datetime64_ns[len(df)-1]-df.datetime64_ns[0]\n",
    "dtt = dt.seconds + dt.microseconds / 10**6\n",
    "print('Sample Rate: {:.4f} Hz'.format(len(df)/dtt))"
   ]
  },
  {
   "cell_type": "code",
   "execution_count": 15,
   "metadata": {},
   "outputs": [
    {
     "data": {
      "image/png": "[encoded data removed]",
      "text/plain": [
       "<Figure size 432x288 with 1 Axes>"
      ]
     },
     "metadata": {
      "needs_background": "light"
     },
     "output_type": "display_data"
    }
   ],
   "source": [
    "df.voltage.hist(bins=40);"
   ]
  },
  {
   "cell_type": "markdown",
   "metadata": {},
   "source": [
    "#### JSON Writer Output"
   ]
  },
  {
   "cell_type": "code",
   "execution_count": 16,
   "metadata": {},
   "outputs": [],
   "source": [
    "dev = ads.ADS1115(bus_n=1, output='json')\n",
    "dev.pga('6.144')  # Other options: '6.144', '4.096'\n",
    "dev.mux('1G')     # pin 0 relative to ground"
   ]
  },
  {
   "cell_type": "code",
   "execution_count": 17,
   "metadata": {},
   "outputs": [],
   "source": [
    "dev.write(description='test_4', n=5)"
   ]
  },
  {
   "cell_type": "code",
   "execution_count": 18,
   "metadata": {},
   "outputs": [
    {
     "name": "stdout",
     "output_type": "stream",
     "text": [
      "{\"mux\": 5, \"description\": \"test_4\", \"std_time_ms\": \"2019-06-02 14:45:04.816512\", \"sample_n\": 1, \"voltage\": 2.047875}\n",
      "\n"
     ]
    }
   ],
   "source": [
    "with open(dev.writer.path, 'r') as f:\n",
    "    print(f.readline())"
   ]
  }
 ],
 "metadata": {
  "kernelspec": {
   "display_name": "Python 3",
   "language": "python",
   "name": "python3"
  },
  "language_info": {
   "codemirror_mode": {
    "name": "ipython",
    "version": 3
   },
   "file_extension": ".py",
   "mimetype": "text/x-python",
   "name": "python",
   "nbconvert_exporter": "python",
   "pygments_lexer": "ipython3",
   "version": "3.5.2"
  }
 },
 "nbformat": 4,
 "nbformat_minor": 2
}

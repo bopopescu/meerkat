{
 "cells": [
  {
   "cell_type": "code",
   "execution_count": 1,
   "metadata": {},
   "outputs": [],
   "source": [
    "import pandas as pd\n",
    "import matplotlib.pyplot as plt\n",
    "\n",
    "from meerkat import ads, parser"
   ]
  },
  {
   "cell_type": "markdown",
   "metadata": {},
   "source": [
    "### Setup ADS1115"
   ]
  },
  {
   "cell_type": "code",
   "execution_count": 2,
   "metadata": {},
   "outputs": [],
   "source": [
    "dev = ads.ADS1115(bus_n=1)\n",
    "dev.get_config()\n",
    "dev.pga('6.144')  # Other options: '6.144', '4.096'\n",
    "dev.mux('1G')     # pin 1 relative to ground\n",
    "dev.get_config()  # refresh for measurements"
   ]
  },
  {
   "cell_type": "markdown",
   "metadata": {},
   "source": [
    "### Print Status"
   ]
  },
  {
   "cell_type": "code",
   "execution_count": 3,
   "metadata": {},
   "outputs": [
    {
     "name": "stdout",
     "output_type": "stream",
     "text": [
      "ADS11x5 Configuration Attributes\n",
      "--------------------------------\n",
      "Config Register: 53635 0xd183 0b1101000110000011\n",
      "PGA Range: +/- 6.144 Volts\n",
      "Mode: single\n",
      "Data Rate: 128 SPS\n",
      "Input Multiplexer: 1G\n",
      "Comparator:\n",
      " Queue: off\n",
      " Latching: off\n",
      " Polarity: Active 1\n",
      " Mode: trad\n"
     ]
    }
   ],
   "source": [
    "dev.print_attributes()"
   ]
  },
  {
   "cell_type": "markdown",
   "metadata": {},
   "source": [
    "### Single Tests"
   ]
  },
  {
   "cell_type": "code",
   "execution_count": 4,
   "metadata": {},
   "outputs": [
    {
     "name": "stdout",
     "output_type": "stream",
     "text": [
      "Measured voltage: 2.04825\n"
     ]
    }
   ],
   "source": [
    "print('Measured voltage: {}'.format(dev.voltage()))"
   ]
  },
  {
   "cell_type": "code",
   "execution_count": 5,
   "metadata": {},
   "outputs": [
    {
     "name": "stdout",
     "output_type": "stream",
     "text": [
      "#!{\n",
      "    \"accuracy\": null,\n",
      "    \"bytes\": null,\n",
      "    \"case_sensitive_header\": false,\n",
      "    \"comment\": \"#\",\n",
      "    \"delimiter\": \",\",\n",
      "    \"description\": null,\n",
      "    \"device\": {\n",
      "        \"accuracy\": null,\n",
      "        \"active\": null,\n",
      "        \"bus\": \"<meerkat.i2c_pi.WrapI2C object at 0x6e8ab7d0>\",\n",
      "        \"calibration_date\": null,\n",
      "        \"description\": \"Texas Instruments 16-bit 860SPS 4-Ch Delta-Sigma ADC with PGA\",\n",
      "        \"dtype\": null,\n",
      "        \"error\": null,\n",
      "        \"manufacturer\": \"Texas Instruments\",\n",
      "        \"name\": \"ADS1115\",\n",
      "        \"pga_gain\": -999,\n",
      "        \"precision\": \"16bit\",\n",
      "        \"state\": null,\n",
      "        \"urls\": \"www.ti.com/product/ADS1115\",\n",
      "        \"version_hw\": \"1.0\",\n",
      "        \"version_sw\": \"1.0\"\n",
      "    },\n",
      "    \"double_quote\": true,\n",
      "    \"dtypes\": null,\n",
      "    \"encoding\": \"utf-8\",\n",
      "    \"escape_char\": \"\\\\\",\n",
      "    \"format\": null,\n",
      "    \"hash\": null,\n",
      "    \"header\": [\n",
      "        \"description\",\n",
      "        \"sample_n\",\n",
      "        \"mux\",\n",
      "        \"voltage\"\n",
      "    ],\n",
      "    \"licenses\": null,\n",
      "    \"line_terminator\": \"\\n\",\n",
      "    \"media_type\": \"text/csv\",\n",
      "    \"name\": \"ADS1115\",\n",
      "    \"null_sequence\": \"NA\",\n",
      "    \"path\": null,\n",
      "    \"precision\": null,\n",
      "    \"quote_char\": \"\\\"\",\n",
      "    \"schema\": null,\n",
      "    \"shebang\": true,\n",
      "    \"skip_initial_space\": true,\n",
      "    \"skip_lines\": 1,\n",
      "    \"sources\": null,\n",
      "    \"standard\": \"Follow RFC 4180\",\n",
      "    \"strfmtime\": \"%Y-%m-%d %H:%M:%S.%f\",\n",
      "    \"time_format\": \"std_time_ms\",\n",
      "    \"title\": null,\n",
      "    \"units\": null,\n",
      "    \"version\": \"0.1 Alpha\"\n",
      "}\n"
     ]
    }
   ],
   "source": [
    "print(dev.writer.create_metadata(indent=4))"
   ]
  },
  {
   "cell_type": "code",
   "execution_count": 6,
   "metadata": {},
   "outputs": [
    {
     "name": "stdout",
     "output_type": "stream",
     "text": [
      "['description', 'sample_n', 'mux', 'voltage']\n"
     ]
    }
   ],
   "source": [
    "print(dev.writer.header)"
   ]
  },
  {
   "cell_type": "code",
   "execution_count": 7,
   "metadata": {},
   "outputs": [
    {
     "data": {
      "text/plain": [
       "[['ADS1115_example_1', 1, 5, 2.04825],\n",
       " ['ADS1115_example_1', 2, 5, 2.04825],\n",
       " ['ADS1115_example_1', 3, 5, 2.04825],\n",
       " ['ADS1115_example_1', 4, 5, 2.04825],\n",
       " ['ADS1115_example_1', 5, 5, 2.04825]]"
      ]
     },
     "execution_count": 7,
     "metadata": {},
     "output_type": "execute_result"
    }
   ],
   "source": [
    "dev.get(description='ADS1115_example_1', n=5)"
   ]
  },
  {
   "cell_type": "markdown",
   "metadata": {},
   "source": [
    "### File Save Test\n",
    "LM4040 2.048 V reference source connected to A0"
   ]
  },
  {
   "cell_type": "code",
   "execution_count": 8,
   "metadata": {},
   "outputs": [],
   "source": [
    "dev.writer.path = 'ADS1115_example.csv'"
   ]
  },
  {
   "cell_type": "code",
   "execution_count": 9,
   "metadata": {},
   "outputs": [],
   "source": [
    "dev.write(description='ADS1115_example_1', n=15)"
   ]
  },
  {
   "cell_type": "code",
   "execution_count": 10,
   "metadata": {},
   "outputs": [],
   "source": [
    "m, df = parser.csv_resource(dev.writer.path)"
   ]
  },
  {
   "cell_type": "code",
   "execution_count": 11,
   "metadata": {},
   "outputs": [
    {
     "data": {
      "text/html": [
       "<div>\n",
       "<style scoped>\n",
       "    .dataframe tbody tr th:only-of-type {\n",
       "        vertical-align: middle;\n",
       "    }\n",
       "\n",
       "    .dataframe tbody tr th {\n",
       "        vertical-align: top;\n",
       "    }\n",
       "\n",
       "    .dataframe thead th {\n",
       "        text-align: right;\n",
       "    }\n",
       "</style>\n",
       "<table border=\"1\" class=\"dataframe\">\n",
       "  <thead>\n",
       "    <tr style=\"text-align: right;\">\n",
       "      <th></th>\n",
       "      <th>std_time_ms</th>\n",
       "      <th>description</th>\n",
       "      <th>sample_n</th>\n",
       "      <th>mux</th>\n",
       "      <th>voltage</th>\n",
       "      <th>datetime64_ns</th>\n",
       "    </tr>\n",
       "  </thead>\n",
       "  <tbody>\n",
       "    <tr>\n",
       "      <th>0</th>\n",
       "      <td>2019-04-30 09:05:43.770437</td>\n",
       "      <td>ADS1115_example_1</td>\n",
       "      <td>1</td>\n",
       "      <td>5</td>\n",
       "      <td>2.04825</td>\n",
       "      <td>2019-04-30 09:05:43.770437</td>\n",
       "    </tr>\n",
       "    <tr>\n",
       "      <th>1</th>\n",
       "      <td>2019-04-30 09:05:43.781917</td>\n",
       "      <td>ADS1115_example_1</td>\n",
       "      <td>2</td>\n",
       "      <td>5</td>\n",
       "      <td>2.04825</td>\n",
       "      <td>2019-04-30 09:05:43.781917</td>\n",
       "    </tr>\n",
       "    <tr>\n",
       "      <th>2</th>\n",
       "      <td>2019-04-30 09:05:43.809786</td>\n",
       "      <td>ADS1115_example_1</td>\n",
       "      <td>3</td>\n",
       "      <td>5</td>\n",
       "      <td>2.04825</td>\n",
       "      <td>2019-04-30 09:05:43.809786</td>\n",
       "    </tr>\n",
       "    <tr>\n",
       "      <th>3</th>\n",
       "      <td>2019-04-30 09:05:43.821173</td>\n",
       "      <td>ADS1115_example_1</td>\n",
       "      <td>4</td>\n",
       "      <td>5</td>\n",
       "      <td>2.04825</td>\n",
       "      <td>2019-04-30 09:05:43.821173</td>\n",
       "    </tr>\n",
       "    <tr>\n",
       "      <th>4</th>\n",
       "      <td>2019-04-30 09:05:43.833428</td>\n",
       "      <td>ADS1115_example_1</td>\n",
       "      <td>5</td>\n",
       "      <td>5</td>\n",
       "      <td>2.04825</td>\n",
       "      <td>2019-04-30 09:05:43.833428</td>\n",
       "    </tr>\n",
       "  </tbody>\n",
       "</table>\n",
       "</div>"
      ],
      "text/plain": [
       "                  std_time_ms        description  sample_n  mux  voltage  \\\n",
       "0  2019-04-30 09:05:43.770437  ADS1115_example_1         1    5  2.04825   \n",
       "1  2019-04-30 09:05:43.781917  ADS1115_example_1         2    5  2.04825   \n",
       "2  2019-04-30 09:05:43.809786  ADS1115_example_1         3    5  2.04825   \n",
       "3  2019-04-30 09:05:43.821173  ADS1115_example_1         4    5  2.04825   \n",
       "4  2019-04-30 09:05:43.833428  ADS1115_example_1         5    5  2.04825   \n",
       "\n",
       "               datetime64_ns  \n",
       "0 2019-04-30 09:05:43.770437  \n",
       "1 2019-04-30 09:05:43.781917  \n",
       "2 2019-04-30 09:05:43.809786  \n",
       "3 2019-04-30 09:05:43.821173  \n",
       "4 2019-04-30 09:05:43.833428  "
      ]
     },
     "execution_count": 11,
     "metadata": {},
     "output_type": "execute_result"
    }
   ],
   "source": [
    "df.head()"
   ]
  },
  {
   "cell_type": "code",
   "execution_count": 12,
   "metadata": {},
   "outputs": [
    {
     "data": {
      "text/plain": [
       "std_time_ms              object\n",
       "description              object\n",
       "sample_n                  int64\n",
       "mux                       int64\n",
       "voltage                 float64\n",
       "datetime64_ns    datetime64[ns]\n",
       "dtype: object"
      ]
     },
     "execution_count": 12,
     "metadata": {},
     "output_type": "execute_result"
    }
   ],
   "source": [
    "df.dtypes"
   ]
  },
  {
   "cell_type": "markdown",
   "metadata": {},
   "source": [
    "### Verify Timestamp Format"
   ]
  },
  {
   "cell_type": "code",
   "execution_count": 13,
   "metadata": {},
   "outputs": [
    {
     "data": {
      "text/plain": [
       "'std_time_ms'"
      ]
     },
     "execution_count": 13,
     "metadata": {},
     "output_type": "execute_result"
    }
   ],
   "source": [
    "dev.writer.time_format"
   ]
  },
  {
   "cell_type": "code",
   "execution_count": 14,
   "metadata": {},
   "outputs": [
    {
     "data": {
      "text/plain": [
       "True"
      ]
     },
     "execution_count": 14,
     "metadata": {},
     "output_type": "execute_result"
    }
   ],
   "source": [
    "m['strfmtime'] == dev.writer.strfmtime"
   ]
  },
  {
   "cell_type": "markdown",
   "metadata": {},
   "source": [
    "### Plot Data"
   ]
  },
  {
   "cell_type": "raw",
   "metadata": {},
   "source": [
    "df.index = df.datetime64_ns"
   ]
  },
  {
   "cell_type": "code",
   "execution_count": 15,
   "metadata": {},
   "outputs": [],
   "source": [
    "df['rolling_mean'] = df.voltage.rolling(4, win_type='triang').mean()"
   ]
  },
  {
   "cell_type": "code",
   "execution_count": 16,
   "metadata": {},
   "outputs": [],
   "source": [
    "df_mean = df.voltage.mean()\n",
    "df['mean'] = df_mean"
   ]
  },
  {
   "cell_type": "code",
   "execution_count": 17,
   "metadata": {},
   "outputs": [
    {
     "data": {
      "image/png": "[encoded data removed]",
      "text/plain": [
       "<Figure size 432x288 with 1 Axes>"
      ]
     },
     "metadata": {
      "needs_background": "light"
     },
     "output_type": "display_data"
    }
   ],
   "source": [
    "df.datetime64_ns = df.datetime64_ns.dt.tz_localize('UTC')  # Pandas 0.24.1 hack\n",
    "df[['datetime64_ns', 'voltage',\n",
    "    'rolling_mean', 'mean']].plot(x='datetime64_ns',\n",
    "                                  style=[' xb', '-g', '-r'],\n",
    "                                  ylim=(2.0, 2.1));"
   ]
  },
  {
   "cell_type": "code",
   "execution_count": 18,
   "metadata": {},
   "outputs": [
    {
     "name": "stdout",
     "output_type": "stream",
     "text": [
      "Mean:  2.04825 Volts DC\n",
      "Standard Deviation: 0.0\n"
     ]
    }
   ],
   "source": [
    "print('Mean: {:8.6} Volts DC'.format(df_mean))\n",
    "print('Standard Deviation: {}'.format(df.voltage.std()))"
   ]
  },
  {
   "cell_type": "code",
   "execution_count": 19,
   "metadata": {},
   "outputs": [
    {
     "name": "stdout",
     "output_type": "stream",
     "text": [
      "Sample Rate: 84.5028 Hz\n"
     ]
    }
   ],
   "source": [
    "dt = df.datetime64_ns[len(df)-1]-df.datetime64_ns[0]\n",
    "dtt = dt.seconds + dt.microseconds / 10**6\n",
    "print('Sample Rate: {:.4f} Hz'.format(len(df)/dtt))"
   ]
  },
  {
   "cell_type": "code",
   "execution_count": 20,
   "metadata": {},
   "outputs": [
    {
     "data": {
      "image/png": "[encoded data removed]",
      "text/plain": [
       "<Figure size 432x288 with 1 Axes>"
      ]
     },
     "metadata": {
      "needs_background": "light"
     },
     "output_type": "display_data"
    }
   ],
   "source": [
    "df.voltage.hist(bins=40);"
   ]
  },
  {
   "cell_type": "code",
   "execution_count": 21,
   "metadata": {},
   "outputs": [
    {
     "name": "stdout",
     "output_type": "stream",
     "text": [
      "1000000100000000\n",
      "1\n"
     ]
    }
   ],
   "source": [
    "dev.mode('continuous')\n",
    "dev.get_config()\n",
    "print('{:b}'.format(dev.config_value))\n",
    "print(dev.mode_value)"
   ]
  },
  {
   "cell_type": "code",
   "execution_count": 22,
   "metadata": {},
   "outputs": [
    {
     "name": "stdout",
     "output_type": "stream",
     "text": [
      "1000000100000000\n",
      "1\n"
     ]
    }
   ],
   "source": [
    "dev.mode('single')\n",
    "dev.get_config()\n",
    "print('{:b}'.format(dev.config_value))\n",
    "print(dev.mode_value)"
   ]
  },
  {
   "cell_type": "code",
   "execution_count": 23,
   "metadata": {},
   "outputs": [
    {
     "data": {
      "text/plain": [
       "'0b1000000100000000'"
      ]
     },
     "execution_count": 23,
     "metadata": {},
     "output_type": "execute_result"
    }
   ],
   "source": [
    "bin(dev.config_value)"
   ]
  }
 ],
 "metadata": {
  "kernelspec": {
   "display_name": "Python 3",
   "language": "python",
   "name": "python3"
  },
  "language_info": {
   "codemirror_mode": {
    "name": "ipython",
    "version": 3
   },
   "file_extension": ".py",
   "mimetype": "text/x-python",
   "name": "python",
   "nbconvert_exporter": "python",
   "pygments_lexer": "ipython3",
   "version": "3.5.2"
  }
 },
 "nbformat": 4,
 "nbformat_minor": 2
}

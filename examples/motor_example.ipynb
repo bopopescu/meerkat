{
 "cells": [
  {
   "cell_type": "markdown",
   "metadata": {},
   "source": [
    "# Grove Motor Driver v1.3  \n",
    "http://wiki.seeedstudio.com/Grove-I2C_Motor_Driver_V1.3/"
   ]
  },
  {
   "cell_type": "code",
   "execution_count": 1,
   "metadata": {},
   "outputs": [],
   "source": [
    "from meerkat.base import time\n",
    "from meerkat import motor"
   ]
  },
  {
   "cell_type": "markdown",
   "metadata": {},
   "source": [
    "#### Stop Command for Debugging  \n",
    "This cell is useful when prototyping.  If a command throws an error before setting both motor speeds to 0, the board will remain on and possibly overheat."
   ]
  },
  {
   "cell_type": "code",
   "execution_count": 2,
   "metadata": {},
   "outputs": [
    {
     "name": "stdout",
     "output_type": "stream",
     "text": [
      "Stop Done\n"
     ]
    }
   ],
   "source": [
    "m = motor.GroveMotor(bus_n=1)\n",
    "m.stop()\n",
    "print(\"Stop Done\")"
   ]
  },
  {
   "cell_type": "markdown",
   "metadata": {},
   "source": [
    "#### I2C Bus Address\n",
    "Initialize the motor controller class.  Default I2C address is `0x0F` which the four switches are set to `1111` - another option is to use Python's binary representation `0b00001111`"
   ]
  },
  {
   "cell_type": "code",
   "execution_count": 3,
   "metadata": {},
   "outputs": [
    {
     "data": {
      "text/plain": [
       "'0xf'"
      ]
     },
     "execution_count": 3,
     "metadata": {},
     "output_type": "execute_result"
    }
   ],
   "source": [
    "hex(0b00001111)"
   ]
  },
  {
   "cell_type": "markdown",
   "metadata": {},
   "source": [
    "#### Initialize Driver Class with Default I2C Address"
   ]
  },
  {
   "cell_type": "code",
   "execution_count": 4,
   "metadata": {},
   "outputs": [],
   "source": [
    "m = motor.GroveMotor(bus_n=1)"
   ]
  },
  {
   "cell_type": "markdown",
   "metadata": {},
   "source": [
    "#### Motor Metadata"
   ]
  },
  {
   "cell_type": "code",
   "execution_count": 5,
   "metadata": {},
   "outputs": [
    {
     "data": {
      "text/plain": [
       "{'name': 'Grove Motor Driver',\n",
       " 'version_hw': '1.3',\n",
       " 'version_sw': '1.0',\n",
       " 'accuracy': None,\n",
       " 'precision': '1 microstep',\n",
       " 'bus': '<meerkat.i2c_pi.WrapI2C object at 0xb33ba4d0>',\n",
       " 'state': None,\n",
       " 'active': None,\n",
       " 'error': None,\n",
       " 'dtype': None,\n",
       " 'description': 'I2C DC and stepper motor controller',\n",
       " 'urls': 'http://wiki.seeedstudio.com/Grove-I2C_Motor_Driver_V1.3/',\n",
       " 'manufacturer': 'Seeed Studio',\n",
       " 'calibration_date': None}"
      ]
     },
     "execution_count": 5,
     "metadata": {},
     "output_type": "execute_result"
    }
   ],
   "source": [
    "m.csv_writer.device"
   ]
  },
  {
   "cell_type": "markdown",
   "metadata": {},
   "source": [
    "#### Motor Status Header"
   ]
  },
  {
   "cell_type": "code",
   "execution_count": 6,
   "metadata": {},
   "outputs": [
    {
     "data": {
      "text/plain": [
       "['description',\n",
       " 'freq',\n",
       " 'm1_speed',\n",
       " 'm2_speed',\n",
       " 'm_direction',\n",
       " 'mode',\n",
       " 'phase',\n",
       " 'steps']"
      ]
     },
     "execution_count": 6,
     "metadata": {},
     "output_type": "execute_result"
    }
   ],
   "source": [
    "m.csv_writer.header"
   ]
  },
  {
   "cell_type": "markdown",
   "metadata": {},
   "source": [
    "#### Motor Status"
   ]
  },
  {
   "cell_type": "code",
   "execution_count": 7,
   "metadata": {},
   "outputs": [
    {
     "data": {
      "text/plain": [
       "['test_1a_init', 31372, 0, 0, '', 'dc', 2, 0]"
      ]
     },
     "execution_count": 7,
     "metadata": {},
     "output_type": "execute_result"
    }
   ],
   "source": [
    "m.get(\"test_1a_init\")"
   ]
  },
  {
   "cell_type": "markdown",
   "metadata": {},
   "source": [
    "To be clear, the headers names aligned with the data above are:  \n",
    "\n",
    "| description | freq | m1_speed | m2_speed | m_direction | mode | phase | steps |\n",
    "| ----------- | ---- | -------- | -------- | ----------- | ---- | ----- | ----- |\n",
    "| test_1_init | 31372 | 0 | 0 |  | dc | 2 | 0 |"
   ]
  },
  {
   "cell_type": "markdown",
   "metadata": {},
   "source": [
    "Begin saving motor state after each configuration change"
   ]
  },
  {
   "cell_type": "code",
   "execution_count": 8,
   "metadata": {},
   "outputs": [],
   "source": [
    "m.write(\"test_1b_init\")"
   ]
  },
  {
   "cell_type": "markdown",
   "metadata": {},
   "source": [
    "JSON format of status for publishing"
   ]
  },
  {
   "cell_type": "code",
   "execution_count": 9,
   "metadata": {},
   "outputs": [
    {
     "data": {
      "text/plain": [
       "'{\"description\": \"test_1c_init\", \"freq\": 31372, \"m1_speed\": 0, \"m2_speed\": 0, \"m_direction\": \"\", \"mode\": \"dc\", \"phase\": 2, \"steps\": 0, \"std_time_ms\": \"2020-01-08 13:48:15.710486\"}'"
      ]
     },
     "execution_count": 9,
     "metadata": {},
     "output_type": "execute_result"
    }
   ],
   "source": [
    "m.publish(\"test_1c_init\")"
   ]
  },
  {
   "cell_type": "markdown",
   "metadata": {},
   "source": [
    "## Stepper Motor  "
   ]
  },
  {
   "cell_type": "markdown",
   "metadata": {},
   "source": [
    "1001 clockwise microsteps"
   ]
  },
  {
   "cell_type": "code",
   "execution_count": 10,
   "metadata": {},
   "outputs": [
    {
     "name": "stdout",
     "output_type": "stream",
     "text": [
      "> Get: ['test_2a_microsteps', 31372, 0, 0, 'step_cw', 'micro_step', 2, 1001]\n",
      "> JSON:  {\"description\": \"test_2c_microsteps\", \"freq\": 31372, \"m1_speed\": 0, \"m2_speed\": 0, \"m_direction\": \"step_cw\", \"mode\": \"micro_step\", \"phase\": 2, \"steps\": 1001, \"std_time_ms\": \"2020-01-08 13:48:18.714971\"}\n"
     ]
    }
   ],
   "source": [
    "m.step_micro(1001, delay=0.0001, verbose=False)\n",
    "print(\"> Get:\", m.get(\"test_2a_microsteps\"))\n",
    "m.write(\"test_2b_microsteps\")\n",
    "print(\"> JSON: \", m.publish(\"test_2c_microsteps\"))\n",
    "time.sleep(1)"
   ]
  },
  {
   "cell_type": "markdown",
   "metadata": {},
   "source": [
    "1001 counter-clockwise microsteps"
   ]
  },
  {
   "cell_type": "code",
   "execution_count": 11,
   "metadata": {},
   "outputs": [
    {
     "name": "stdout",
     "output_type": "stream",
     "text": [
      "> Get: ['test_2c_microsteps', 31372, 0, 0, 'step_ccw', 'micro_step', 2, -1001]\n",
      "> JSON:  {\"description\": \"test_2c_microsteps\", \"freq\": 31372, \"m1_speed\": 0, \"m2_speed\": 0, \"m_direction\": \"step_ccw\", \"mode\": \"micro_step\", \"phase\": 2, \"steps\": -1001, \"std_time_ms\": \"2020-01-08 13:48:21.101495\"}\n"
     ]
    }
   ],
   "source": [
    "m.step_micro(-1001, delay=0.0001, verbose=False)\n",
    "print(\"> Get:\", m.get(\"test_2c_microsteps\"))\n",
    "m.write(\"test_2d_microsteps\")\n",
    "print(\"> JSON: \", m.publish(\"test_2c_microsteps\"))\n",
    "time.sleep(1)"
   ]
  },
  {
   "cell_type": "markdown",
   "metadata": {},
   "source": [
    "#### Full Steps"
   ]
  },
  {
   "cell_type": "code",
   "execution_count": 12,
   "metadata": {},
   "outputs": [
    {
     "name": "stdout",
     "output_type": "stream",
     "text": [
      "> Get: ['test_3a_full_steps', 31372, 0, 0, 'step_cw', 'full_step', 2, 100]\n",
      "> JSON:  {\"description\": \"test_3c_full_steps\", \"freq\": 31372, \"m1_speed\": 0, \"m2_speed\": 0, \"m_direction\": \"step_cw\", \"mode\": \"full_step\", \"phase\": 2, \"steps\": 100, \"std_time_ms\": \"2020-01-08 13:48:22.692796\"}\n"
     ]
    }
   ],
   "source": [
    "m.step_full(100, delay=0.0001, verbose=False)\n",
    "print(\"> Get:\", m.get(\"test_3a_full_steps\"))\n",
    "m.write(\"test_3b_microsteps\")\n",
    "print(\"> JSON: \", m.publish(\"test_3c_full_steps\"))\n",
    "time.sleep(1)"
   ]
  },
  {
   "cell_type": "code",
   "execution_count": 13,
   "metadata": {},
   "outputs": [
    {
     "name": "stdout",
     "output_type": "stream",
     "text": [
      "> Get: ['test_3d_full_steps', 31372, 0, 0, 'step_ccw', 'full_step', 2, -100]\n",
      "> JSON:  {\"description\": \"test_3f_full_steps\", \"freq\": 31372, \"m1_speed\": 0, \"m2_speed\": 0, \"m_direction\": \"step_ccw\", \"mode\": \"full_step\", \"phase\": 2, \"steps\": -100, \"std_time_ms\": \"2020-01-08 13:48:24.246944\"}\n"
     ]
    }
   ],
   "source": [
    "m.step_full(-100, delay=0.0001, verbose=False)\n",
    "print(\"> Get:\", m.get(\"test_3d_full_steps\"))\n",
    "m.write(\"test_3e_microsteps\")\n",
    "print(\"> JSON: \", m.publish(\"test_3f_full_steps\"))\n",
    "time.sleep(1)"
   ]
  },
  {
   "cell_type": "code",
   "execution_count": 14,
   "metadata": {},
   "outputs": [
    {
     "name": "stdout",
     "output_type": "stream",
     "text": [
      "> 100 clockwise full steps\n",
      "JSON Format: {\"description\": \"test_4a_100_cw_steps\", \"freq\": 31372, \"m1_speed\": 0, \"m2_speed\": 0, \"m_direction\": \"step_cw\", \"mode\": \"full_step\", \"phase\": 2, \"steps\": 100, \"std_time_ms\": \"2020-01-08 13:48:26.549522\"}\n",
      "> 100 counter clockwise full steps\n",
      "JSON Format: {\"description\": \"test_4b_-100_cw_steps\", \"freq\": 31372, \"m1_speed\": 0, \"m2_speed\": 0, \"m_direction\": \"step_ccw\", \"mode\": \"full_step\", \"phase\": 2, \"steps\": -100, \"std_time_ms\": \"2020-01-08 13:48:27.128517\"}\n",
      "--------------------\n",
      "> 50 clockwise full steps\n",
      "JSON Format: {\"description\": \"test_4a_50_cw_steps\", \"freq\": 31372, \"m1_speed\": 0, \"m2_speed\": 0, \"m_direction\": \"step_cw\", \"mode\": \"full_step\", \"phase\": 2, \"steps\": 50, \"std_time_ms\": \"2020-01-08 13:48:28.379085\"}\n",
      "> 50 counter clockwise full steps\n",
      "JSON Format: {\"description\": \"test_4b_-50_cw_steps\", \"freq\": 31372, \"m1_speed\": 0, \"m2_speed\": 0, \"m_direction\": \"step_ccw\", \"mode\": \"full_step\", \"phase\": 2, \"steps\": -50, \"std_time_ms\": \"2020-01-08 13:48:28.679257\"}\n",
      "--------------------\n",
      "> 10 clockwise full steps\n",
      "JSON Format: {\"description\": null, \"freq\": 31372, \"m1_speed\": 0, \"m2_speed\": 0, \"m_direction\": \"step_cw\", \"mode\": \"full_step\", \"phase\": 2, \"steps\": 10, \"std_time_ms\": \"2020-01-08 13:48:29.778298\", \"name\": \"Grove Motor Driver\", \"title\": null, \"format\": null, \"encoding\": \"utf-8\", \"bytes\": null, \"hash\": null, \"schema\": null, \"sources\": null, \"licenses\": null, \"line_terminator\": \"\\n\", \"quote_char\": \"\\\"\", \"double_quote\": true, \"escape_char\": \"\\\\\", \"null_sequence\": \"NA\", \"comment\": \"#\", \"skip_lines\": 0, \"path\": null, \"device\": {\"name\": \"Grove Motor Driver\", \"version_hw\": \"1.3\", \"version_sw\": \"1.0\", \"accuracy\": null, \"precision\": \"1 microstep\", \"bus\": \"<meerkat.i2c_pi.WrapI2C object at 0xb33ba4d0>\", \"state\": null, \"active\": null, \"error\": null, \"dtype\": null, \"description\": \"I2C DC and stepper motor controller\", \"urls\": \"http://wiki.seeedstudio.com/Grove-I2C_Motor_Driver_V1.3/\", \"manufacturer\": \"Seeed Studio\", \"calibration_date\": null}, \"units\": null, \"dtypes\": null, \"accuracy\": null, \"precision\": null, \"time_format\": \"std_time_ms\", \"strfmtime\": \"%Y-%m-%d %H:%M:%S.%f\", \"version\": \"0.1 Alpha\", \"standard\": \"RFC 8259\", \"media_type\": \"text/json\", \"metadata_interval\": 10, \"metadata_file_i\": 1, \"metadata_stream_i\": 0, \"header\": [\"description\", \"freq\", \"m1_speed\", \"m2_speed\", \"m_direction\", \"mode\", \"phase\", \"steps\"]}\n",
      "> 10 counter clockwise full steps\n",
      "JSON Format: {\"description\": \"test_4b_-10_cw_steps\", \"freq\": 31372, \"m1_speed\": 0, \"m2_speed\": 0, \"m_direction\": \"step_ccw\", \"mode\": \"full_step\", \"phase\": 2, \"steps\": -10, \"std_time_ms\": \"2020-01-08 13:48:29.837063\"}\n",
      "--------------------\n",
      "> 5 clockwise full steps\n",
      "JSON Format: {\"description\": \"test_4a_5_cw_steps\", \"freq\": 31372, \"m1_speed\": 0, \"m2_speed\": 0, \"m_direction\": \"step_cw\", \"mode\": \"full_step\", \"phase\": 2, \"steps\": 5, \"std_time_ms\": \"2020-01-08 13:48:30.888090\"}\n",
      "> 5 counter clockwise full steps\n",
      "JSON Format: {\"description\": \"test_4b_-5_cw_steps\", \"freq\": 31372, \"m1_speed\": 0, \"m2_speed\": 0, \"m_direction\": \"step_ccw\", \"mode\": \"full_step\", \"phase\": 2, \"steps\": -5, \"std_time_ms\": \"2020-01-08 13:48:30.937414\"}\n",
      "--------------------\n",
      "> 1 clockwise full steps\n",
      "JSON Format: {\"description\": \"test_4a_1_cw_steps\", \"freq\": 31372, \"m1_speed\": 0, \"m2_speed\": 0, \"m_direction\": \"step_cw\", \"mode\": \"full_step\", \"phase\": 2, \"steps\": 1, \"std_time_ms\": \"2020-01-08 13:48:31.956883\"}\n",
      "> 1 counter clockwise full steps\n",
      "JSON Format: {\"description\": \"test_4b_-1_cw_steps\", \"freq\": 31372, \"m1_speed\": 0, \"m2_speed\": 0, \"m_direction\": \"step_ccw\", \"mode\": \"full_step\", \"phase\": 2, \"steps\": -1, \"std_time_ms\": \"2020-01-08 13:48:31.969863\"}\n",
      "--------------------\n"
     ]
    }
   ],
   "source": [
    "for n in [100, 50, 10, 5, 1]:\n",
    "    print(\"> {} clockwise full steps\".format(n))\n",
    "    m.step_full(n, delay=0.0001, verbose=False)\n",
    "    m.write(\"test\")\n",
    "    print(\"JSON Format:\", m.publish(description=\"test_4a_{}_cw_steps\".format(n)))\n",
    "    \n",
    "    print(\"> {} counter clockwise full steps\".format(n))\n",
    "    m.step_full(-1*n, delay=0.0001, verbose=False)\n",
    "    print(\"JSON Format:\", m.publish(description=\"test_4b_-{}_cw_steps\".format(n)))\n",
    "    print(\"-\"*20)\n",
    "    time.sleep(1)"
   ]
  },
  {
   "cell_type": "markdown",
   "metadata": {},
   "source": [
    "## DC Motor  \n",
    "For this portion, disconnect the stepper motor from pinout J3 and connect a DC motor to J1.  \n",
    "\n",
    "Note: The Grove Arduino driver uses -100 to 100 for accepted motor speed values, however their driver converts it to -255 to 255 because that is the board's accepted input values.  -255 to 255 is used here so that finer step control is possible.  Bench test speeds needed for a motor, if 100 is used with this Python driver, some motors may not start!"
   ]
  },
  {
   "cell_type": "markdown",
   "metadata": {},
   "source": [
    "### LED Colors, Directions Codes and Descriptions\n",
    "\n",
    "| M1 | M2 | Code | Description |\n",
    "| -- | -- | ---- | ----------- |\n",
    "| <span style='color:green'>green</span> | <span style='color:green'>green</span> | cw         | both clockwise         |\n",
    "| <span style='color:red'>red</span>     | <span style='color:red'>red</span>     | ccw        | both counter clockwise |\n",
    "| <span style='color:green'>green</span> | <span style='color:green'>green</span> | m1m2cw     | both clockwise         |\n",
    "| <span style='color:red'>red</span>     | <span style='color:red'>red</span>     | m1m2cc     | both counter clockwise |\n",
    "| <span style='color:green'>green</span> | <span style='color:red'>red</span>     | m1cw_m2ccw | M1 clockwise, M2 counter clockwise |\n",
    "| <span style='color:red'>red</span>     | <span style='color:green'>green</span> | m1ccw_m2cw | M1 counter clockwise, M2 clockwise |"
   ]
  },
  {
   "cell_type": "code",
   "execution_count": 15,
   "metadata": {},
   "outputs": [],
   "source": [
    "# ensure stop condition before switching to dc motor control\n",
    "m.stop()"
   ]
  },
  {
   "cell_type": "code",
   "execution_count": 16,
   "metadata": {},
   "outputs": [],
   "source": [
    "m.set_mode(mode_type=\"dc\")\n",
    "m.set_frequency(f_Hz=31372)"
   ]
  },
  {
   "cell_type": "markdown",
   "metadata": {},
   "source": [
    "#### DC Motor Clockwise and Counter Clockwise"
   ]
  },
  {
   "cell_type": "code",
   "execution_count": 17,
   "metadata": {},
   "outputs": [
    {
     "name": "stdout",
     "output_type": "stream",
     "text": [
      "['test_5a_dc_cw', 1, 255, 0, 10, 'dc', 2, -1]\n",
      "{\"description\": \"test_5c_dc_cw\", \"freq\": 1, \"m1_speed\": 255, \"m2_speed\": 0, \"m_direction\": 10, \"mode\": \"dc\", \"phase\": 2, \"steps\": -1, \"std_time_ms\": \"2020-01-08 13:49:02.202967\"}\n",
      "['test_5d_dc_cw', 1, 0, 0, 10, 'dc', 2, -1]\n",
      "{\"description\": \"test_5f_dc_cw\", \"freq\": 1, \"m1_speed\": 0, \"m2_speed\": 0, \"m_direction\": 10, \"mode\": \"dc\", \"phase\": 2, \"steps\": -1, \"std_time_ms\": \"2020-01-08 13:49:04.209540\"}\n",
      "['test_5a_dc_ccw', 1, 255, 0, 5, 'dc', 2, -1]\n",
      "{\"description\": \"test_5c_dc_ccw\", \"freq\": 1, \"m1_speed\": 255, \"m2_speed\": 0, \"m_direction\": 5, \"mode\": \"dc\", \"phase\": 2, \"steps\": -1, \"std_time_ms\": \"2020-01-08 13:49:04.213261\"}\n",
      "['test_5d_dc_ccw', 1, 0, 0, 5, 'dc', 2, -1]\n",
      "{\"description\": \"test_5f_dc_ccw\", \"freq\": 1, \"m1_speed\": 0, \"m2_speed\": 0, \"m_direction\": 5, \"mode\": \"dc\", \"phase\": 2, \"steps\": -1, \"std_time_ms\": \"2020-01-08 13:49:06.219043\"}\n"
     ]
    }
   ],
   "source": [
    "for d in [\"cw\", \"ccw\"]:\n",
    "    m.set_direction(d)\n",
    "    m.set_speed(motor_id=1, motor_speed=255)\n",
    "    print(m.get(\"test_5a_dc_{}\".format(d)))\n",
    "    m.write(\"test_5b_dc_{}\".format(d))\n",
    "    print(m.publish(\"test_5c_dc_{}\".format(d)))\n",
    "    time.sleep(2)\n",
    "\n",
    "    m.stop(motor_id=1)\n",
    "    print(m.get(\"test_5d_dc_{}\".format(d)))\n",
    "    m.write(\"test_5e_dc_{}\".format(d))\n",
    "    print(m.publish(\"test_5f_dc_{}\".format(d)))"
   ]
  },
  {
   "cell_type": "markdown",
   "metadata": {},
   "source": [
    "Ramp up the motor speed while publishing JSON and recording to CSV"
   ]
  },
  {
   "cell_type": "code",
   "execution_count": 18,
   "metadata": {},
   "outputs": [
    {
     "name": "stdout",
     "output_type": "stream",
     "text": [
      "> State after motor speed set to 0\n",
      "JSON Format: {\"description\": null, \"freq\": 1, \"m1_speed\": 0, \"m2_speed\": 0, \"m_direction\": 5, \"mode\": \"dc\", \"phase\": 2, \"steps\": -1, \"std_time_ms\": \"2020-01-08 13:49:09.055367\", \"name\": \"Grove Motor Driver\", \"title\": null, \"format\": null, \"encoding\": \"utf-8\", \"bytes\": null, \"hash\": null, \"schema\": null, \"sources\": null, \"licenses\": null, \"line_terminator\": \"\\n\", \"quote_char\": \"\\\"\", \"double_quote\": true, \"escape_char\": \"\\\\\", \"null_sequence\": \"NA\", \"comment\": \"#\", \"skip_lines\": 0, \"path\": null, \"device\": {\"name\": \"Grove Motor Driver\", \"version_hw\": \"1.3\", \"version_sw\": \"1.0\", \"accuracy\": null, \"precision\": \"1 microstep\", \"bus\": \"<meerkat.i2c_pi.WrapI2C object at 0xb33ba4d0>\", \"state\": null, \"active\": null, \"error\": null, \"dtype\": null, \"description\": \"I2C DC and stepper motor controller\", \"urls\": \"http://wiki.seeedstudio.com/Grove-I2C_Motor_Driver_V1.3/\", \"manufacturer\": \"Seeed Studio\", \"calibration_date\": null}, \"units\": null, \"dtypes\": null, \"accuracy\": null, \"precision\": null, \"time_format\": \"std_time_ms\", \"strfmtime\": \"%Y-%m-%d %H:%M:%S.%f\", \"version\": \"0.1 Alpha\", \"standard\": \"RFC 8259\", \"media_type\": \"text/json\", \"metadata_interval\": 10, \"metadata_file_i\": 1, \"metadata_stream_i\": 0, \"header\": [\"description\", \"freq\", \"m1_speed\", \"m2_speed\", \"m_direction\", \"mode\", \"phase\", \"steps\"]}\n",
      "> State after motor speed set to 25\n",
      "JSON Format: {\"description\": \"test_6_25\", \"freq\": 1, \"m1_speed\": 25, \"m2_speed\": 0, \"m_direction\": 5, \"mode\": \"dc\", \"phase\": 2, \"steps\": -1, \"std_time_ms\": \"2020-01-08 13:49:09.310769\"}\n",
      "> State after motor speed set to 50\n",
      "JSON Format: {\"description\": \"test_6_50\", \"freq\": 1, \"m1_speed\": 50, \"m2_speed\": 0, \"m_direction\": 5, \"mode\": \"dc\", \"phase\": 2, \"steps\": -1, \"std_time_ms\": \"2020-01-08 13:49:09.563493\"}\n",
      "> State after motor speed set to 75\n",
      "JSON Format: {\"description\": \"test_6_75\", \"freq\": 1, \"m1_speed\": 75, \"m2_speed\": 0, \"m_direction\": 5, \"mode\": \"dc\", \"phase\": 2, \"steps\": -1, \"std_time_ms\": \"2020-01-08 13:49:09.817432\"}\n",
      "> State after motor speed set to 100\n",
      "JSON Format: {\"description\": \"test_6_100\", \"freq\": 1, \"m1_speed\": 100, \"m2_speed\": 0, \"m_direction\": 5, \"mode\": \"dc\", \"phase\": 2, \"steps\": -1, \"std_time_ms\": \"2020-01-08 13:49:10.070975\"}\n",
      "> State after motor speed set to 125\n",
      "JSON Format: {\"description\": \"test_6_125\", \"freq\": 1, \"m1_speed\": 125, \"m2_speed\": 0, \"m_direction\": 5, \"mode\": \"dc\", \"phase\": 2, \"steps\": -1, \"std_time_ms\": \"2020-01-08 13:49:10.325354\"}\n",
      "> State after motor speed set to 150\n",
      "JSON Format: {\"description\": \"test_6_150\", \"freq\": 1, \"m1_speed\": 150, \"m2_speed\": 0, \"m_direction\": 5, \"mode\": \"dc\", \"phase\": 2, \"steps\": -1, \"std_time_ms\": \"2020-01-08 13:49:10.579133\"}\n",
      "> State after motor speed set to 175\n",
      "JSON Format: {\"description\": \"test_6_175\", \"freq\": 1, \"m1_speed\": 175, \"m2_speed\": 0, \"m_direction\": 5, \"mode\": \"dc\", \"phase\": 2, \"steps\": -1, \"std_time_ms\": \"2020-01-08 13:49:10.831486\"}\n",
      "> State after motor speed set to 200\n",
      "JSON Format: {\"description\": \"test_6_200\", \"freq\": 1, \"m1_speed\": 200, \"m2_speed\": 0, \"m_direction\": 5, \"mode\": \"dc\", \"phase\": 2, \"steps\": -1, \"std_time_ms\": \"2020-01-08 13:49:11.085522\"}\n",
      "> State after motor speed set to 225\n",
      "JSON Format: {\"description\": \"test_6_225\", \"freq\": 1, \"m1_speed\": 225, \"m2_speed\": 0, \"m_direction\": 5, \"mode\": \"dc\", \"phase\": 2, \"steps\": -1, \"std_time_ms\": \"2020-01-08 13:49:11.338214\"}\n",
      "> State after motor speed set to 250\n",
      "JSON Format: {\"description\": null, \"freq\": 1, \"m1_speed\": 250, \"m2_speed\": 0, \"m_direction\": 5, \"mode\": \"dc\", \"phase\": 2, \"steps\": -1, \"std_time_ms\": \"2020-01-08 13:49:11.592820\", \"name\": \"Grove Motor Driver\", \"title\": null, \"format\": null, \"encoding\": \"utf-8\", \"bytes\": null, \"hash\": null, \"schema\": null, \"sources\": null, \"licenses\": null, \"line_terminator\": \"\\n\", \"quote_char\": \"\\\"\", \"double_quote\": true, \"escape_char\": \"\\\\\", \"null_sequence\": \"NA\", \"comment\": \"#\", \"skip_lines\": 0, \"path\": null, \"device\": {\"name\": \"Grove Motor Driver\", \"version_hw\": \"1.3\", \"version_sw\": \"1.0\", \"accuracy\": null, \"precision\": \"1 microstep\", \"bus\": \"<meerkat.i2c_pi.WrapI2C object at 0xb33ba4d0>\", \"state\": null, \"active\": null, \"error\": null, \"dtype\": null, \"description\": \"I2C DC and stepper motor controller\", \"urls\": \"http://wiki.seeedstudio.com/Grove-I2C_Motor_Driver_V1.3/\", \"manufacturer\": \"Seeed Studio\", \"calibration_date\": null}, \"units\": null, \"dtypes\": null, \"accuracy\": null, \"precision\": null, \"time_format\": \"std_time_ms\", \"strfmtime\": \"%Y-%m-%d %H:%M:%S.%f\", \"version\": \"0.1 Alpha\", \"standard\": \"RFC 8259\", \"media_type\": \"text/json\", \"metadata_interval\": 10, \"metadata_file_i\": 1, \"metadata_stream_i\": 0, \"header\": [\"description\", \"freq\", \"m1_speed\", \"m2_speed\", \"m_direction\", \"mode\", \"phase\", \"steps\"]}\n"
     ]
    }
   ],
   "source": [
    "for speed in range(0, 255, 25):\n",
    "    m.set_speed(motor_id=1, motor_speed=speed)\n",
    "    print(\"> State after motor speed set to {}\".format(speed))\n",
    "    desc = \"test_6_{}\".format(speed)\n",
    "    m.write(description=desc)\n",
    "    print(\"JSON Format:\", m.publish(description=desc))\n",
    "    time.sleep(0.25)\n",
    "m.stop()"
   ]
  },
  {
   "cell_type": "markdown",
   "metadata": {},
   "source": [
    "Open the CSV batch file and parse the metadata column data"
   ]
  },
  {
   "cell_type": "code",
   "execution_count": 19,
   "metadata": {},
   "outputs": [
    {
     "data": {
      "text/plain": [
       "'2020_01_08_13_48_14_data.csv'"
      ]
     },
     "execution_count": 19,
     "metadata": {},
     "output_type": "execute_result"
    }
   ],
   "source": [
    "m.csv_writer.path"
   ]
  },
  {
   "cell_type": "code",
   "execution_count": 20,
   "metadata": {},
   "outputs": [],
   "source": [
    "from meerkat import parser"
   ]
  },
  {
   "cell_type": "code",
   "execution_count": 21,
   "metadata": {},
   "outputs": [],
   "source": [
    "metadata, df = parser.csv_resource(m.csv_writer.path)"
   ]
  },
  {
   "cell_type": "code",
   "execution_count": 22,
   "metadata": {},
   "outputs": [
    {
     "data": {
      "text/plain": [
       "{'name': 'Grove Motor Driver',\n",
       " 'title': None,\n",
       " 'description': None,\n",
       " 'format': None,\n",
       " 'encoding': 'utf-8',\n",
       " 'bytes': None,\n",
       " 'hash': None,\n",
       " 'schema': None,\n",
       " 'sources': None,\n",
       " 'licenses': None,\n",
       " 'line_terminator': '\\n',\n",
       " 'quote_char': '\"',\n",
       " 'double_quote': True,\n",
       " 'escape_char': '\\\\',\n",
       " 'null_sequence': 'NA',\n",
       " 'comment': '#',\n",
       " 'skip_lines': 1,\n",
       " 'path': '2020_01_08_13_48_14_data.csv',\n",
       " 'device': {'name': 'Grove Motor Driver',\n",
       "  'version_hw': '1.3',\n",
       "  'version_sw': '1.0',\n",
       "  'accuracy': None,\n",
       "  'precision': '1 microstep',\n",
       "  'bus': '<meerkat.i2c_pi.WrapI2C object at 0xb33ba4d0>',\n",
       "  'state': None,\n",
       "  'active': None,\n",
       "  'error': None,\n",
       "  'dtype': None,\n",
       "  'description': 'I2C DC and stepper motor controller',\n",
       "  'urls': 'http://wiki.seeedstudio.com/Grove-I2C_Motor_Driver_V1.3/',\n",
       "  'manufacturer': 'Seeed Studio',\n",
       "  'calibration_date': None},\n",
       " 'units': None,\n",
       " 'dtypes': None,\n",
       " 'accuracy': None,\n",
       " 'precision': None,\n",
       " 'time_format': 'std_time_ms',\n",
       " 'strfmtime': '%Y-%m-%d %H:%M:%S.%f',\n",
       " 'version': '0.1 Alpha',\n",
       " 'standard': 'Follow RFC 4180',\n",
       " 'media_type': 'text/csv',\n",
       " 'header': ['description',\n",
       "  'freq',\n",
       "  'm1_speed',\n",
       "  'm2_speed',\n",
       "  'm_direction',\n",
       "  'mode',\n",
       "  'phase',\n",
       "  'steps'],\n",
       " 'delimiter': ',',\n",
       " 'skip_initial_space': True,\n",
       " 'case_sensitive_header': False}"
      ]
     },
     "execution_count": 22,
     "metadata": {},
     "output_type": "execute_result"
    }
   ],
   "source": [
    "metadata"
   ]
  },
  {
   "cell_type": "code",
   "execution_count": 23,
   "metadata": {},
   "outputs": [
    {
     "data": {
      "text/html": [
       "<div>\n",
       "<style scoped>\n",
       "    .dataframe tbody tr th:only-of-type {\n",
       "        vertical-align: middle;\n",
       "    }\n",
       "\n",
       "    .dataframe tbody tr th {\n",
       "        vertical-align: top;\n",
       "    }\n",
       "\n",
       "    .dataframe thead th {\n",
       "        text-align: right;\n",
       "    }\n",
       "</style>\n",
       "<table border=\"1\" class=\"dataframe\">\n",
       "  <thead>\n",
       "    <tr style=\"text-align: right;\">\n",
       "      <th></th>\n",
       "      <th>std_time_ms</th>\n",
       "      <th>description</th>\n",
       "      <th>freq</th>\n",
       "      <th>m1_speed</th>\n",
       "      <th>m2_speed</th>\n",
       "      <th>m_direction</th>\n",
       "      <th>mode</th>\n",
       "      <th>phase</th>\n",
       "      <th>steps</th>\n",
       "      <th>datetime64_ns</th>\n",
       "    </tr>\n",
       "  </thead>\n",
       "  <tbody>\n",
       "    <tr>\n",
       "      <th>0</th>\n",
       "      <td>2020-01-08 13:48:14.753700</td>\n",
       "      <td>test_1b_init</td>\n",
       "      <td>31372</td>\n",
       "      <td>0</td>\n",
       "      <td>0</td>\n",
       "      <td>NaN</td>\n",
       "      <td>dc</td>\n",
       "      <td>2</td>\n",
       "      <td>0</td>\n",
       "      <td>2020-01-08 13:48:14.753700</td>\n",
       "    </tr>\n",
       "    <tr>\n",
       "      <th>1</th>\n",
       "      <td>2020-01-08 13:48:18.714713</td>\n",
       "      <td>test_2b_microsteps</td>\n",
       "      <td>31372</td>\n",
       "      <td>0</td>\n",
       "      <td>0</td>\n",
       "      <td>step_cw</td>\n",
       "      <td>micro_step</td>\n",
       "      <td>2</td>\n",
       "      <td>1001</td>\n",
       "      <td>2020-01-08 13:48:18.714713</td>\n",
       "    </tr>\n",
       "    <tr>\n",
       "      <th>2</th>\n",
       "      <td>2020-01-08 13:48:21.101228</td>\n",
       "      <td>test_2d_microsteps</td>\n",
       "      <td>31372</td>\n",
       "      <td>0</td>\n",
       "      <td>0</td>\n",
       "      <td>step_ccw</td>\n",
       "      <td>micro_step</td>\n",
       "      <td>2</td>\n",
       "      <td>-1001</td>\n",
       "      <td>2020-01-08 13:48:21.101228</td>\n",
       "    </tr>\n",
       "    <tr>\n",
       "      <th>3</th>\n",
       "      <td>2020-01-08 13:48:22.692575</td>\n",
       "      <td>test_3b_microsteps</td>\n",
       "      <td>31372</td>\n",
       "      <td>0</td>\n",
       "      <td>0</td>\n",
       "      <td>step_cw</td>\n",
       "      <td>full_step</td>\n",
       "      <td>2</td>\n",
       "      <td>100</td>\n",
       "      <td>2020-01-08 13:48:22.692575</td>\n",
       "    </tr>\n",
       "    <tr>\n",
       "      <th>4</th>\n",
       "      <td>2020-01-08 13:48:24.246723</td>\n",
       "      <td>test_3e_microsteps</td>\n",
       "      <td>31372</td>\n",
       "      <td>0</td>\n",
       "      <td>0</td>\n",
       "      <td>step_ccw</td>\n",
       "      <td>full_step</td>\n",
       "      <td>2</td>\n",
       "      <td>-100</td>\n",
       "      <td>2020-01-08 13:48:24.246723</td>\n",
       "    </tr>\n",
       "    <tr>\n",
       "      <th>5</th>\n",
       "      <td>2020-01-08 13:48:26.549379</td>\n",
       "      <td>test</td>\n",
       "      <td>31372</td>\n",
       "      <td>0</td>\n",
       "      <td>0</td>\n",
       "      <td>step_cw</td>\n",
       "      <td>full_step</td>\n",
       "      <td>2</td>\n",
       "      <td>100</td>\n",
       "      <td>2020-01-08 13:48:26.549379</td>\n",
       "    </tr>\n",
       "    <tr>\n",
       "      <th>6</th>\n",
       "      <td>2020-01-08 13:48:28.378713</td>\n",
       "      <td>test</td>\n",
       "      <td>31372</td>\n",
       "      <td>0</td>\n",
       "      <td>0</td>\n",
       "      <td>step_cw</td>\n",
       "      <td>full_step</td>\n",
       "      <td>2</td>\n",
       "      <td>50</td>\n",
       "      <td>2020-01-08 13:48:28.378713</td>\n",
       "    </tr>\n",
       "    <tr>\n",
       "      <th>7</th>\n",
       "      <td>2020-01-08 13:48:29.777991</td>\n",
       "      <td>test</td>\n",
       "      <td>31372</td>\n",
       "      <td>0</td>\n",
       "      <td>0</td>\n",
       "      <td>step_cw</td>\n",
       "      <td>full_step</td>\n",
       "      <td>2</td>\n",
       "      <td>10</td>\n",
       "      <td>2020-01-08 13:48:29.777991</td>\n",
       "    </tr>\n",
       "    <tr>\n",
       "      <th>8</th>\n",
       "      <td>2020-01-08 13:48:30.887800</td>\n",
       "      <td>test</td>\n",
       "      <td>31372</td>\n",
       "      <td>0</td>\n",
       "      <td>0</td>\n",
       "      <td>step_cw</td>\n",
       "      <td>full_step</td>\n",
       "      <td>2</td>\n",
       "      <td>5</td>\n",
       "      <td>2020-01-08 13:48:30.887800</td>\n",
       "    </tr>\n",
       "    <tr>\n",
       "      <th>9</th>\n",
       "      <td>2020-01-08 13:48:31.956603</td>\n",
       "      <td>test</td>\n",
       "      <td>31372</td>\n",
       "      <td>0</td>\n",
       "      <td>0</td>\n",
       "      <td>step_cw</td>\n",
       "      <td>full_step</td>\n",
       "      <td>2</td>\n",
       "      <td>1</td>\n",
       "      <td>2020-01-08 13:48:31.956603</td>\n",
       "    </tr>\n",
       "    <tr>\n",
       "      <th>10</th>\n",
       "      <td>2020-01-08 13:49:02.202774</td>\n",
       "      <td>test_5b_dc_cw</td>\n",
       "      <td>1</td>\n",
       "      <td>255</td>\n",
       "      <td>0</td>\n",
       "      <td>10</td>\n",
       "      <td>dc</td>\n",
       "      <td>2</td>\n",
       "      <td>-1</td>\n",
       "      <td>2020-01-08 13:49:02.202774</td>\n",
       "    </tr>\n",
       "    <tr>\n",
       "      <th>11</th>\n",
       "      <td>2020-01-08 13:49:04.209260</td>\n",
       "      <td>test_5e_dc_cw</td>\n",
       "      <td>1</td>\n",
       "      <td>0</td>\n",
       "      <td>0</td>\n",
       "      <td>10</td>\n",
       "      <td>dc</td>\n",
       "      <td>2</td>\n",
       "      <td>-1</td>\n",
       "      <td>2020-01-08 13:49:04.209260</td>\n",
       "    </tr>\n",
       "    <tr>\n",
       "      <th>12</th>\n",
       "      <td>2020-01-08 13:49:04.213019</td>\n",
       "      <td>test_5b_dc_ccw</td>\n",
       "      <td>1</td>\n",
       "      <td>255</td>\n",
       "      <td>0</td>\n",
       "      <td>5</td>\n",
       "      <td>dc</td>\n",
       "      <td>2</td>\n",
       "      <td>-1</td>\n",
       "      <td>2020-01-08 13:49:04.213019</td>\n",
       "    </tr>\n",
       "    <tr>\n",
       "      <th>13</th>\n",
       "      <td>2020-01-08 13:49:06.218768</td>\n",
       "      <td>test_5e_dc_ccw</td>\n",
       "      <td>1</td>\n",
       "      <td>0</td>\n",
       "      <td>0</td>\n",
       "      <td>5</td>\n",
       "      <td>dc</td>\n",
       "      <td>2</td>\n",
       "      <td>-1</td>\n",
       "      <td>2020-01-08 13:49:06.218768</td>\n",
       "    </tr>\n",
       "    <tr>\n",
       "      <th>14</th>\n",
       "      <td>2020-01-08 13:49:09.055195</td>\n",
       "      <td>test_6_0</td>\n",
       "      <td>1</td>\n",
       "      <td>0</td>\n",
       "      <td>0</td>\n",
       "      <td>5</td>\n",
       "      <td>dc</td>\n",
       "      <td>2</td>\n",
       "      <td>-1</td>\n",
       "      <td>2020-01-08 13:49:09.055195</td>\n",
       "    </tr>\n",
       "    <tr>\n",
       "      <th>15</th>\n",
       "      <td>2020-01-08 13:49:09.310448</td>\n",
       "      <td>test_6_25</td>\n",
       "      <td>1</td>\n",
       "      <td>25</td>\n",
       "      <td>0</td>\n",
       "      <td>5</td>\n",
       "      <td>dc</td>\n",
       "      <td>2</td>\n",
       "      <td>-1</td>\n",
       "      <td>2020-01-08 13:49:09.310448</td>\n",
       "    </tr>\n",
       "    <tr>\n",
       "      <th>16</th>\n",
       "      <td>2020-01-08 13:49:09.563284</td>\n",
       "      <td>test_6_50</td>\n",
       "      <td>1</td>\n",
       "      <td>50</td>\n",
       "      <td>0</td>\n",
       "      <td>5</td>\n",
       "      <td>dc</td>\n",
       "      <td>2</td>\n",
       "      <td>-1</td>\n",
       "      <td>2020-01-08 13:49:09.563284</td>\n",
       "    </tr>\n",
       "    <tr>\n",
       "      <th>17</th>\n",
       "      <td>2020-01-08 13:49:09.816784</td>\n",
       "      <td>test_6_75</td>\n",
       "      <td>1</td>\n",
       "      <td>75</td>\n",
       "      <td>0</td>\n",
       "      <td>5</td>\n",
       "      <td>dc</td>\n",
       "      <td>2</td>\n",
       "      <td>-1</td>\n",
       "      <td>2020-01-08 13:49:09.816784</td>\n",
       "    </tr>\n",
       "    <tr>\n",
       "      <th>18</th>\n",
       "      <td>2020-01-08 13:49:10.070758</td>\n",
       "      <td>test_6_100</td>\n",
       "      <td>1</td>\n",
       "      <td>100</td>\n",
       "      <td>0</td>\n",
       "      <td>5</td>\n",
       "      <td>dc</td>\n",
       "      <td>2</td>\n",
       "      <td>-1</td>\n",
       "      <td>2020-01-08 13:49:10.070758</td>\n",
       "    </tr>\n",
       "    <tr>\n",
       "      <th>19</th>\n",
       "      <td>2020-01-08 13:49:10.324449</td>\n",
       "      <td>test_6_125</td>\n",
       "      <td>1</td>\n",
       "      <td>125</td>\n",
       "      <td>0</td>\n",
       "      <td>5</td>\n",
       "      <td>dc</td>\n",
       "      <td>2</td>\n",
       "      <td>-1</td>\n",
       "      <td>2020-01-08 13:49:10.324449</td>\n",
       "    </tr>\n",
       "    <tr>\n",
       "      <th>20</th>\n",
       "      <td>2020-01-08 13:49:10.578945</td>\n",
       "      <td>test_6_150</td>\n",
       "      <td>1</td>\n",
       "      <td>150</td>\n",
       "      <td>0</td>\n",
       "      <td>5</td>\n",
       "      <td>dc</td>\n",
       "      <td>2</td>\n",
       "      <td>-1</td>\n",
       "      <td>2020-01-08 13:49:10.578945</td>\n",
       "    </tr>\n",
       "    <tr>\n",
       "      <th>21</th>\n",
       "      <td>2020-01-08 13:49:10.831344</td>\n",
       "      <td>test_6_175</td>\n",
       "      <td>1</td>\n",
       "      <td>175</td>\n",
       "      <td>0</td>\n",
       "      <td>5</td>\n",
       "      <td>dc</td>\n",
       "      <td>2</td>\n",
       "      <td>-1</td>\n",
       "      <td>2020-01-08 13:49:10.831344</td>\n",
       "    </tr>\n",
       "    <tr>\n",
       "      <th>22</th>\n",
       "      <td>2020-01-08 13:49:11.085240</td>\n",
       "      <td>test_6_200</td>\n",
       "      <td>1</td>\n",
       "      <td>200</td>\n",
       "      <td>0</td>\n",
       "      <td>5</td>\n",
       "      <td>dc</td>\n",
       "      <td>2</td>\n",
       "      <td>-1</td>\n",
       "      <td>2020-01-08 13:49:11.085240</td>\n",
       "    </tr>\n",
       "    <tr>\n",
       "      <th>23</th>\n",
       "      <td>2020-01-08 13:49:11.337985</td>\n",
       "      <td>test_6_225</td>\n",
       "      <td>1</td>\n",
       "      <td>225</td>\n",
       "      <td>0</td>\n",
       "      <td>5</td>\n",
       "      <td>dc</td>\n",
       "      <td>2</td>\n",
       "      <td>-1</td>\n",
       "      <td>2020-01-08 13:49:11.337985</td>\n",
       "    </tr>\n",
       "    <tr>\n",
       "      <th>24</th>\n",
       "      <td>2020-01-08 13:49:11.591940</td>\n",
       "      <td>test_6_250</td>\n",
       "      <td>1</td>\n",
       "      <td>250</td>\n",
       "      <td>0</td>\n",
       "      <td>5</td>\n",
       "      <td>dc</td>\n",
       "      <td>2</td>\n",
       "      <td>-1</td>\n",
       "      <td>2020-01-08 13:49:11.591940</td>\n",
       "    </tr>\n",
       "  </tbody>\n",
       "</table>\n",
       "</div>"
      ],
      "text/plain": [
       "                   std_time_ms         description   freq  m1_speed  m2_speed  \\\n",
       "0   2020-01-08 13:48:14.753700        test_1b_init  31372         0         0   \n",
       "1   2020-01-08 13:48:18.714713  test_2b_microsteps  31372         0         0   \n",
       "2   2020-01-08 13:48:21.101228  test_2d_microsteps  31372         0         0   \n",
       "3   2020-01-08 13:48:22.692575  test_3b_microsteps  31372         0         0   \n",
       "4   2020-01-08 13:48:24.246723  test_3e_microsteps  31372         0         0   \n",
       "5   2020-01-08 13:48:26.549379                test  31372         0         0   \n",
       "6   2020-01-08 13:48:28.378713                test  31372         0         0   \n",
       "7   2020-01-08 13:48:29.777991                test  31372         0         0   \n",
       "8   2020-01-08 13:48:30.887800                test  31372         0         0   \n",
       "9   2020-01-08 13:48:31.956603                test  31372         0         0   \n",
       "10  2020-01-08 13:49:02.202774       test_5b_dc_cw      1       255         0   \n",
       "11  2020-01-08 13:49:04.209260       test_5e_dc_cw      1         0         0   \n",
       "12  2020-01-08 13:49:04.213019      test_5b_dc_ccw      1       255         0   \n",
       "13  2020-01-08 13:49:06.218768      test_5e_dc_ccw      1         0         0   \n",
       "14  2020-01-08 13:49:09.055195            test_6_0      1         0         0   \n",
       "15  2020-01-08 13:49:09.310448           test_6_25      1        25         0   \n",
       "16  2020-01-08 13:49:09.563284           test_6_50      1        50         0   \n",
       "17  2020-01-08 13:49:09.816784           test_6_75      1        75         0   \n",
       "18  2020-01-08 13:49:10.070758          test_6_100      1       100         0   \n",
       "19  2020-01-08 13:49:10.324449          test_6_125      1       125         0   \n",
       "20  2020-01-08 13:49:10.578945          test_6_150      1       150         0   \n",
       "21  2020-01-08 13:49:10.831344          test_6_175      1       175         0   \n",
       "22  2020-01-08 13:49:11.085240          test_6_200      1       200         0   \n",
       "23  2020-01-08 13:49:11.337985          test_6_225      1       225         0   \n",
       "24  2020-01-08 13:49:11.591940          test_6_250      1       250         0   \n",
       "\n",
       "   m_direction        mode  phase  steps              datetime64_ns  \n",
       "0          NaN          dc      2      0 2020-01-08 13:48:14.753700  \n",
       "1      step_cw  micro_step      2   1001 2020-01-08 13:48:18.714713  \n",
       "2     step_ccw  micro_step      2  -1001 2020-01-08 13:48:21.101228  \n",
       "3      step_cw   full_step      2    100 2020-01-08 13:48:22.692575  \n",
       "4     step_ccw   full_step      2   -100 2020-01-08 13:48:24.246723  \n",
       "5      step_cw   full_step      2    100 2020-01-08 13:48:26.549379  \n",
       "6      step_cw   full_step      2     50 2020-01-08 13:48:28.378713  \n",
       "7      step_cw   full_step      2     10 2020-01-08 13:48:29.777991  \n",
       "8      step_cw   full_step      2      5 2020-01-08 13:48:30.887800  \n",
       "9      step_cw   full_step      2      1 2020-01-08 13:48:31.956603  \n",
       "10          10          dc      2     -1 2020-01-08 13:49:02.202774  \n",
       "11          10          dc      2     -1 2020-01-08 13:49:04.209260  \n",
       "12           5          dc      2     -1 2020-01-08 13:49:04.213019  \n",
       "13           5          dc      2     -1 2020-01-08 13:49:06.218768  \n",
       "14           5          dc      2     -1 2020-01-08 13:49:09.055195  \n",
       "15           5          dc      2     -1 2020-01-08 13:49:09.310448  \n",
       "16           5          dc      2     -1 2020-01-08 13:49:09.563284  \n",
       "17           5          dc      2     -1 2020-01-08 13:49:09.816784  \n",
       "18           5          dc      2     -1 2020-01-08 13:49:10.070758  \n",
       "19           5          dc      2     -1 2020-01-08 13:49:10.324449  \n",
       "20           5          dc      2     -1 2020-01-08 13:49:10.578945  \n",
       "21           5          dc      2     -1 2020-01-08 13:49:10.831344  \n",
       "22           5          dc      2     -1 2020-01-08 13:49:11.085240  \n",
       "23           5          dc      2     -1 2020-01-08 13:49:11.337985  \n",
       "24           5          dc      2     -1 2020-01-08 13:49:11.591940  "
      ]
     },
     "execution_count": 23,
     "metadata": {},
     "output_type": "execute_result"
    }
   ],
   "source": [
    "df"
   ]
  }
 ],
 "metadata": {
  "kernelspec": {
   "display_name": "Python 3",
   "language": "python",
   "name": "python3"
  },
  "language_info": {
   "codemirror_mode": {
    "name": "ipython",
    "version": 3
   },
   "file_extension": ".py",
   "mimetype": "text/x-python",
   "name": "python",
   "nbconvert_exporter": "python",
   "pygments_lexer": "ipython3",
   "version": "3.7.3"
  }
 },
 "nbformat": 4,
 "nbformat_minor": 4
}

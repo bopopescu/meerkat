{
 "cells": [
  {
   "cell_type": "markdown",
   "metadata": {},
   "source": [
    "## MCP9808 Temperature Sensor  \n",
    "The MCP9808 is a digitial temperature sensor with an accuracy of +/-0.25 C, a working range of -40 to 125 C and a precision of +0.0625 C.  \n",
    "\n",
    "Manufacturer Link: https://www.microchip.com/wwwproducts/en/en556182\n",
    "\n",
    "Breakout Board Used: https://www.adafruit.com/product/1782"
   ]
  },
  {
   "cell_type": "code",
   "execution_count": 1,
   "metadata": {},
   "outputs": [],
   "source": [
    "import matplotlib.pyplot as plt\n",
    "\n",
    "from meerkat import mcp9808, parser"
   ]
  },
  {
   "cell_type": "markdown",
   "metadata": {},
   "source": [
    "Select I2C bus and instance device class.  Note I2C bus is 1 on Raspberry Pi."
   ]
  },
  {
   "cell_type": "code",
   "execution_count": 2,
   "metadata": {},
   "outputs": [],
   "source": [
    "dev = mcp9808.MCP9808(bus_n=1)"
   ]
  },
  {
   "cell_type": "markdown",
   "metadata": {},
   "source": [
    "#### Configuration"
   ]
  },
  {
   "cell_type": "code",
   "execution_count": 3,
   "metadata": {},
   "outputs": [
    {
     "name": "stdout",
     "output_type": "stream",
     "text": [
      "Configuration Register: None\n",
      "Upper Temperature: None\n",
      "Lower Temperature: None\n",
      "Critical Temperature: None\n",
      "Manufacturer: 84\n",
      "Device ID: 4\n",
      "Device Revision: 0\n"
     ]
    }
   ],
   "source": [
    "dev.print_status()"
   ]
  },
  {
   "cell_type": "markdown",
   "metadata": {},
   "source": [
    "#### Measurement"
   ]
  },
  {
   "cell_type": "code",
   "execution_count": 4,
   "metadata": {},
   "outputs": [
    {
     "data": {
      "text/plain": [
       "20.625"
      ]
     },
     "execution_count": 4,
     "metadata": {},
     "output_type": "execute_result"
    }
   ],
   "source": [
    "dev.get_temp()"
   ]
  },
  {
   "cell_type": "code",
   "execution_count": 5,
   "metadata": {},
   "outputs": [
    {
     "data": {
      "text/plain": [
       "[['test_1', 1, 20.5625],\n",
       " ['test_1', 2, 20.5625],\n",
       " ['test_1', 3, 20.5625],\n",
       " ['test_1', 4, 20.5625],\n",
       " ['test_1', 5, 20.5625]]"
      ]
     },
     "execution_count": 5,
     "metadata": {},
     "output_type": "execute_result"
    }
   ],
   "source": [
    "# get method, list with description and sample number\n",
    "dev.get(description='test_1', n=5)"
   ]
  },
  {
   "cell_type": "markdown",
   "metadata": {},
   "source": [
    "#### JSON Data Publishing  "
   ]
  },
  {
   "cell_type": "code",
   "execution_count": 6,
   "metadata": {},
   "outputs": [],
   "source": [
    "# lower metadata interval from a default of once every 10 samples\n",
    "dev.json_writer.metadata_interval = 3"
   ]
  },
  {
   "cell_type": "code",
   "execution_count": 7,
   "metadata": {},
   "outputs": [
    {
     "data": {
      "text/plain": [
       "['{\"description\": \"test_2\", \"sample_n\": 0, \"temperature\": 20.5625, \"std_time_ms\": \"2020-01-11 10:24:43.040307\"}',\n",
       " '{\"description\": \"test_2\", \"sample_n\": 1, \"temperature\": 20.5625, \"std_time_ms\": \"2020-01-11 10:24:43.041406\"}',\n",
       " '{\"description\": null, \"sample_n\": 2, \"temperature\": 20.5625, \"std_time_ms\": \"2020-01-11 10:24:43.042440\", \"name\": \"MCP9808\", \"title\": null, \"format\": null, \"encoding\": \"utf-8\", \"bytes\": null, \"hash\": null, \"schema\": null, \"sources\": null, \"licenses\": null, \"line_terminator\": \"\\\\n\", \"quote_char\": \"\\\\\"\", \"double_quote\": true, \"escape_char\": \"\\\\\\\\\", \"null_sequence\": \"NA\", \"comment\": \"#\", \"skip_lines\": 0, \"path\": null, \"device\": {\"name\": \"MCP9808\", \"version_hw\": \"0.1\", \"version_sw\": \"0.1\", \"accuracy\": \"+/-0.25 (typical) C\", \"precision\": \"0.0625 C maximum\", \"bus\": \"<meerkat.i2c_pi.WrapI2C object at 0xacfc6570>\", \"state\": null, \"active\": null, \"error\": null, \"dtype\": null, \"description\": \"+/-0.5 degrees Celcius maximum accuracy digital temperature sensor\", \"urls\": \"https://www.microchip.com/datasheet/MCP9808\", \"manufacturer\": \"Microchip\", \"units\": \"Degrees Celcius\", \"calibration_date\": null}, \"units\": null, \"dtypes\": null, \"accuracy\": null, \"precision\": null, \"time_format\": \"std_time_ms\", \"strfmtime\": \"%Y-%m-%d %H:%M:%S.%f\", \"version\": \"0.1 Alpha\", \"standard\": \"RFC 8259\", \"media_type\": \"text/json\", \"metadata_interval\": 3, \"metadata_file_i\": 1, \"metadata_stream_i\": 0, \"header\": [\"description\", \"sample_n\", \"temperature\"]}',\n",
       " '{\"description\": \"test_2\", \"sample_n\": 3, \"temperature\": 20.5625, \"std_time_ms\": \"2020-01-11 10:24:43.043636\"}',\n",
       " '{\"description\": \"test_2\", \"sample_n\": 4, \"temperature\": 20.5625, \"std_time_ms\": \"2020-01-11 10:24:43.044849\"}']"
      ]
     },
     "execution_count": 7,
     "metadata": {},
     "output_type": "execute_result"
    }
   ],
   "source": [
    "# writing method with description and sample number\n",
    "dev.publish(description='test_2', n=5)"
   ]
  },
  {
   "cell_type": "markdown",
   "metadata": {},
   "source": [
    "#### JSON Writer Output  "
   ]
  },
  {
   "cell_type": "code",
   "execution_count": 8,
   "metadata": {},
   "outputs": [],
   "source": [
    "# default writer format is CSV, switch to JSON\n",
    "dev.writer_output = 'json'"
   ]
  },
  {
   "cell_type": "code",
   "execution_count": 9,
   "metadata": {},
   "outputs": [],
   "source": [
    "# writer method with description and sample number\n",
    "dev.write(description='test_3', n=30)"
   ]
  },
  {
   "cell_type": "code",
   "execution_count": 10,
   "metadata": {},
   "outputs": [
    {
     "data": {
      "text/plain": [
       "'2020_01_11_10_24_43.jsontxt'"
      ]
     },
     "execution_count": 10,
     "metadata": {},
     "output_type": "execute_result"
    }
   ],
   "source": [
    "dev.json_writer.path"
   ]
  },
  {
   "cell_type": "code",
   "execution_count": 11,
   "metadata": {},
   "outputs": [
    {
     "name": "stdout",
     "output_type": "stream",
     "text": [
      "{\"description\": \"test_3\", \"sample_n\": 0, \"temperature\": 20.5625, \"std_time_ms\": \"2020-01-11 10:24:43.129481\"}\n",
      "{\"description\": \"test_3\", \"sample_n\": 1, \"temperature\": 20.5625, \"std_time_ms\": \"2020-01-11 10:24:43.131919\"}\n",
      "{\"description\": null, \"sample_n\": 2, \"temperature\": 20.5625, \"std_time_ms\": \"2020-01-11 10:24:43.133119\", \"name\": \"MCP9808\", \"title\": null, \"format\": null, \"encoding\": \"utf-8\", \"bytes\": null, \"hash\": null, \"schema\": null, \"sources\": null, \"licenses\": null, \"line_terminator\": \"\\n\", \"quote_char\": \"\\\"\", \"double_quote\": true, \"escape_char\": \"\\\\\", \"null_sequence\": \"NA\", \"comment\": \"#\", \"skip_lines\": 0, \"path\": \"2020_01_11_10_24_43.jsontxt\", \"device\": {\"name\": \"MCP9808\", \"version_hw\": \"0.1\", \"version_sw\": \"0.1\", \"accuracy\": \"+/-0.25 (typical) C\", \"precision\": \"0.0625 C maximum\", \"bus\": \"<meerkat.i2c_pi.WrapI2C object at 0xacfc6570>\", \"state\": null, \"active\": null, \"error\": null, \"dtype\": null, \"description\": \"+/-0.5 degrees Celcius maximum accuracy digital temperature sensor\", \"urls\": \"https://www.microchip.com/datasheet/MCP9808\", \"manufacturer\": \"Microchip\", \"units\": \"Degrees Celcius\", \"calibration_date\": null}, \"units\": null, \"dtypes\": null, \"accuracy\": null, \"precision\": null, \"time_format\": \"std_time_ms\", \"strfmtime\": \"%Y-%m-%d %H:%M:%S.%f\", \"version\": \"0.1 Alpha\", \"standard\": \"RFC 8259\", \"media_type\": \"text/json\", \"metadata_interval\": 3, \"metadata_file_i\": 0, \"metadata_stream_i\": 3, \"header\": [\"description\", \"sample_n\", \"temperature\"]}\n",
      "{\"description\": \"test_3\", \"sample_n\": 3, \"temperature\": 20.5625, \"std_time_ms\": \"2020-01-11 10:24:43.134402\"}\n"
     ]
    }
   ],
   "source": [
    "with open(dev.json_writer.path, 'r') as f:\n",
    "    for _ in range(4):\n",
    "        print(f.readline().strip())"
   ]
  },
  {
   "cell_type": "markdown",
   "metadata": {},
   "source": [
    "#### CSV Writer Output"
   ]
  },
  {
   "cell_type": "code",
   "execution_count": 12,
   "metadata": {},
   "outputs": [],
   "source": [
    "# switch back to CSV format\n",
    "dev.writer_output = 'csv'"
   ]
  },
  {
   "cell_type": "code",
   "execution_count": 13,
   "metadata": {},
   "outputs": [],
   "source": [
    "# writer method with description and sample number\n",
    "dev.write(description='test_4', n=30)"
   ]
  },
  {
   "cell_type": "code",
   "execution_count": 14,
   "metadata": {},
   "outputs": [
    {
     "data": {
      "text/plain": [
       "'2020_01_11_10_24_43_data.csv'"
      ]
     },
     "execution_count": 14,
     "metadata": {},
     "output_type": "execute_result"
    }
   ],
   "source": [
    "dev.csv_writer.path"
   ]
  },
  {
   "cell_type": "code",
   "execution_count": 15,
   "metadata": {},
   "outputs": [],
   "source": [
    "# load .csv data written with dev.write\n",
    "m, df = parser.csv_resource(dev.csv_writer.path)"
   ]
  },
  {
   "cell_type": "markdown",
   "metadata": {},
   "source": [
    "#### Metadata in the CSV"
   ]
  },
  {
   "cell_type": "code",
   "execution_count": 16,
   "metadata": {},
   "outputs": [
    {
     "data": {
      "text/plain": [
       "{'name': 'MCP9808',\n",
       " 'title': None,\n",
       " 'description': None,\n",
       " 'format': None,\n",
       " 'encoding': 'utf-8',\n",
       " 'bytes': None,\n",
       " 'hash': None,\n",
       " 'schema': None,\n",
       " 'sources': None,\n",
       " 'licenses': None,\n",
       " 'line_terminator': '\\n',\n",
       " 'quote_char': '\"',\n",
       " 'double_quote': True,\n",
       " 'escape_char': '\\\\',\n",
       " 'null_sequence': 'NA',\n",
       " 'comment': '#',\n",
       " 'skip_lines': 1,\n",
       " 'path': '2020_01_11_10_24_43_data.csv',\n",
       " 'device': {'name': 'MCP9808',\n",
       "  'version_hw': '0.1',\n",
       "  'version_sw': '0.1',\n",
       "  'accuracy': '+/-0.25 (typical) C',\n",
       "  'precision': '0.0625 C maximum',\n",
       "  'bus': '<meerkat.i2c_pi.WrapI2C object at 0xacfc6570>',\n",
       "  'state': None,\n",
       "  'active': None,\n",
       "  'error': None,\n",
       "  'dtype': None,\n",
       "  'description': '+/-0.5 degrees Celcius maximum accuracy digital temperature sensor',\n",
       "  'urls': 'https://www.microchip.com/datasheet/MCP9808',\n",
       "  'manufacturer': 'Microchip',\n",
       "  'units': 'Degrees Celcius',\n",
       "  'calibration_date': None},\n",
       " 'units': None,\n",
       " 'dtypes': None,\n",
       " 'accuracy': None,\n",
       " 'precision': None,\n",
       " 'time_format': 'std_time_ms',\n",
       " 'strfmtime': '%Y-%m-%d %H:%M:%S.%f',\n",
       " 'version': '0.1 Alpha',\n",
       " 'standard': 'Follow RFC 4180',\n",
       " 'media_type': 'text/csv',\n",
       " 'header': ['description', 'sample_n', 'temperature'],\n",
       " 'delimiter': ',',\n",
       " 'skip_initial_space': True,\n",
       " 'case_sensitive_header': False}"
      ]
     },
     "execution_count": 16,
     "metadata": {},
     "output_type": "execute_result"
    }
   ],
   "source": [
    "m"
   ]
  },
  {
   "cell_type": "markdown",
   "metadata": {},
   "source": [
    "#### Parsed CSV data"
   ]
  },
  {
   "cell_type": "code",
   "execution_count": 17,
   "metadata": {},
   "outputs": [
    {
     "data": {
      "text/html": [
       "<div>\n",
       "<style scoped>\n",
       "    .dataframe tbody tr th:only-of-type {\n",
       "        vertical-align: middle;\n",
       "    }\n",
       "\n",
       "    .dataframe tbody tr th {\n",
       "        vertical-align: top;\n",
       "    }\n",
       "\n",
       "    .dataframe thead th {\n",
       "        text-align: right;\n",
       "    }\n",
       "</style>\n",
       "<table border=\"1\" class=\"dataframe\">\n",
       "  <thead>\n",
       "    <tr style=\"text-align: right;\">\n",
       "      <th></th>\n",
       "      <th>std_time_ms</th>\n",
       "      <th>description</th>\n",
       "      <th>sample_n</th>\n",
       "      <th>temperature</th>\n",
       "      <th>datetime64_ns</th>\n",
       "    </tr>\n",
       "  </thead>\n",
       "  <tbody>\n",
       "    <tr>\n",
       "      <th>0</th>\n",
       "      <td>2020-01-11 10:24:43.327626</td>\n",
       "      <td>test_4</td>\n",
       "      <td>0</td>\n",
       "      <td>20.5625</td>\n",
       "      <td>2020-01-11 10:24:43.327626</td>\n",
       "    </tr>\n",
       "    <tr>\n",
       "      <th>1</th>\n",
       "      <td>2020-01-11 10:24:43.329694</td>\n",
       "      <td>test_4</td>\n",
       "      <td>1</td>\n",
       "      <td>20.5625</td>\n",
       "      <td>2020-01-11 10:24:43.329694</td>\n",
       "    </tr>\n",
       "    <tr>\n",
       "      <th>2</th>\n",
       "      <td>2020-01-11 10:24:43.331863</td>\n",
       "      <td>test_4</td>\n",
       "      <td>2</td>\n",
       "      <td>20.5625</td>\n",
       "      <td>2020-01-11 10:24:43.331863</td>\n",
       "    </tr>\n",
       "    <tr>\n",
       "      <th>3</th>\n",
       "      <td>2020-01-11 10:24:43.346896</td>\n",
       "      <td>test_4</td>\n",
       "      <td>3</td>\n",
       "      <td>20.5625</td>\n",
       "      <td>2020-01-11 10:24:43.346896</td>\n",
       "    </tr>\n",
       "    <tr>\n",
       "      <th>4</th>\n",
       "      <td>2020-01-11 10:24:43.349377</td>\n",
       "      <td>test_4</td>\n",
       "      <td>4</td>\n",
       "      <td>20.5625</td>\n",
       "      <td>2020-01-11 10:24:43.349377</td>\n",
       "    </tr>\n",
       "  </tbody>\n",
       "</table>\n",
       "</div>"
      ],
      "text/plain": [
       "                  std_time_ms description  sample_n  temperature  \\\n",
       "0  2020-01-11 10:24:43.327626      test_4         0      20.5625   \n",
       "1  2020-01-11 10:24:43.329694      test_4         1      20.5625   \n",
       "2  2020-01-11 10:24:43.331863      test_4         2      20.5625   \n",
       "3  2020-01-11 10:24:43.346896      test_4         3      20.5625   \n",
       "4  2020-01-11 10:24:43.349377      test_4         4      20.5625   \n",
       "\n",
       "               datetime64_ns  \n",
       "0 2020-01-11 10:24:43.327626  \n",
       "1 2020-01-11 10:24:43.329694  \n",
       "2 2020-01-11 10:24:43.331863  \n",
       "3 2020-01-11 10:24:43.346896  \n",
       "4 2020-01-11 10:24:43.349377  "
      ]
     },
     "execution_count": 17,
     "metadata": {},
     "output_type": "execute_result"
    }
   ],
   "source": [
    "df.head()"
   ]
  },
  {
   "cell_type": "code",
   "execution_count": 18,
   "metadata": {},
   "outputs": [],
   "source": [
    "# Pandas 0.24.1 hack\n",
    "df.datetime64_ns = df.datetime64_ns.dt.tz_localize('UTC')"
   ]
  },
  {
   "cell_type": "code",
   "execution_count": 19,
   "metadata": {},
   "outputs": [
    {
     "data": {
      "image/png": "[encoded data removed]",
      "text/plain": [
       "<Figure size 432x288 with 1 Axes>"
      ]
     },
     "metadata": {
      "needs_background": "light"
     },
     "output_type": "display_data"
    }
   ],
   "source": [
    "df[[\"datetime64_ns\", \n",
    "    \"temperature\"]].plot(x=\"datetime64_ns\", style='-x');"
   ]
  },
  {
   "cell_type": "code",
   "execution_count": 20,
   "metadata": {},
   "outputs": [
    {
     "name": "stdout",
     "output_type": "stream",
     "text": [
      "Sample Rate: 300.4266 Hz\n"
     ]
    }
   ],
   "source": [
    "dt = df.datetime64_ns[len(df)-1]-df.datetime64_ns[0]\n",
    "dtt = dt.seconds + dt.microseconds / 10**6\n",
    "print('Sample Rate: {:.4f} Hz'.format(len(df)/dtt))"
   ]
  }
 ],
 "metadata": {
  "kernelspec": {
   "display_name": "Python 3",
   "language": "python",
   "name": "python3"
  },
  "language_info": {
   "codemirror_mode": {
    "name": "ipython",
    "version": 3
   },
   "file_extension": ".py",
   "mimetype": "text/x-python",
   "name": "python",
   "nbconvert_exporter": "python",
   "pygments_lexer": "ipython3",
   "version": "3.7.3"
  }
 },
 "nbformat": 4,
 "nbformat_minor": 4
}

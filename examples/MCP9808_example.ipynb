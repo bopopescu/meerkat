{
 "cells": [
  {
   "cell_type": "markdown",
   "metadata": {},
   "source": [
    "## MCP9808 Temperature Sensor  \n",
    "The MCP9808 is a digitial temperature sensor with an accuracy of +/-0.25 C, a working range of -40 to 125 C and a precision of +0.0625 C.  \n",
    "\n",
    "Manufacturer Link: https://www.microchip.com/wwwproducts/en/en556182\n",
    "\n",
    "Breakout Board Used: https://www.adafruit.com/product/1782"
   ]
  },
  {
   "cell_type": "code",
   "execution_count": 1,
   "metadata": {},
   "outputs": [],
   "source": [
    "import matplotlib.pyplot as plt\n",
    "\n",
    "from meerkat import mcp9808, parser"
   ]
  },
  {
   "cell_type": "markdown",
   "metadata": {},
   "source": [
    "Select I2C bus and instance device class.  Note I2C bus is 1 on Raspberry Pi."
   ]
  },
  {
   "cell_type": "code",
   "execution_count": 2,
   "metadata": {},
   "outputs": [],
   "source": [
    "dev = mcp9808.MCP9808(bus_n=1)"
   ]
  },
  {
   "cell_type": "markdown",
   "metadata": {},
   "source": [
    "#### Configuration"
   ]
  },
  {
   "cell_type": "code",
   "execution_count": 3,
   "metadata": {},
   "outputs": [
    {
     "name": "stdout",
     "output_type": "stream",
     "text": [
      "Configuration Register: None\n",
      "Upper Temperature: None\n",
      "Lower Temperature: None\n",
      "Critical Temperature: None\n",
      "Manufacturer: 84\n",
      "Device ID: 4\n",
      "Device Revision: 0\n"
     ]
    }
   ],
   "source": [
    "dev.get_status()\n",
    "dev.print_status()"
   ]
  },
  {
   "cell_type": "markdown",
   "metadata": {},
   "source": [
    "#### Measurement"
   ]
  },
  {
   "cell_type": "code",
   "execution_count": 4,
   "metadata": {},
   "outputs": [
    {
     "data": {
      "text/plain": [
       "21.25"
      ]
     },
     "execution_count": 4,
     "metadata": {},
     "output_type": "execute_result"
    }
   ],
   "source": [
    "dev.get_temp()"
   ]
  },
  {
   "cell_type": "code",
   "execution_count": 5,
   "metadata": {},
   "outputs": [
    {
     "data": {
      "text/plain": [
       "[['test_1', 1, 21.25],\n",
       " ['test_1', 2, 21.25],\n",
       " ['test_1', 3, 21.25],\n",
       " ['test_1', 4, 21.25],\n",
       " ['test_1', 5, 21.25]]"
      ]
     },
     "execution_count": 5,
     "metadata": {},
     "output_type": "execute_result"
    }
   ],
   "source": [
    "# get method, list with description and sample number\n",
    "dev.get(description='test_1', n=5)"
   ]
  },
  {
   "cell_type": "code",
   "execution_count": 6,
   "metadata": {},
   "outputs": [],
   "source": [
    "# writer method with description and sample number\n",
    "dev.write(description='test_2', n=30)"
   ]
  },
  {
   "cell_type": "markdown",
   "metadata": {},
   "source": [
    "#### CSV Writer Output"
   ]
  },
  {
   "cell_type": "code",
   "execution_count": 7,
   "metadata": {},
   "outputs": [
    {
     "data": {
      "text/plain": [
       "'2019_06_04_07_44_27_data.csv'"
      ]
     },
     "execution_count": 7,
     "metadata": {},
     "output_type": "execute_result"
    }
   ],
   "source": [
    "dev.writer.path"
   ]
  },
  {
   "cell_type": "code",
   "execution_count": 8,
   "metadata": {},
   "outputs": [],
   "source": [
    "# load .csv data written with dev.write\n",
    "m, df = parser.csv_resource(dev.writer.path)"
   ]
  },
  {
   "cell_type": "code",
   "execution_count": 9,
   "metadata": {},
   "outputs": [
    {
     "data": {
      "text/html": [
       "<div>\n",
       "<style scoped>\n",
       "    .dataframe tbody tr th:only-of-type {\n",
       "        vertical-align: middle;\n",
       "    }\n",
       "\n",
       "    .dataframe tbody tr th {\n",
       "        vertical-align: top;\n",
       "    }\n",
       "\n",
       "    .dataframe thead th {\n",
       "        text-align: right;\n",
       "    }\n",
       "</style>\n",
       "<table border=\"1\" class=\"dataframe\">\n",
       "  <thead>\n",
       "    <tr style=\"text-align: right;\">\n",
       "      <th></th>\n",
       "      <th>std_time_ms</th>\n",
       "      <th>description</th>\n",
       "      <th>sample_n</th>\n",
       "      <th>temperature</th>\n",
       "      <th>datetime64_ns</th>\n",
       "    </tr>\n",
       "  </thead>\n",
       "  <tbody>\n",
       "    <tr>\n",
       "      <th>0</th>\n",
       "      <td>2019-06-04 07:44:27.111671</td>\n",
       "      <td>test_2</td>\n",
       "      <td>1</td>\n",
       "      <td>21.25</td>\n",
       "      <td>2019-06-04 07:44:27.111671</td>\n",
       "    </tr>\n",
       "    <tr>\n",
       "      <th>1</th>\n",
       "      <td>2019-06-04 07:44:27.115741</td>\n",
       "      <td>test_2</td>\n",
       "      <td>2</td>\n",
       "      <td>21.25</td>\n",
       "      <td>2019-06-04 07:44:27.115741</td>\n",
       "    </tr>\n",
       "    <tr>\n",
       "      <th>2</th>\n",
       "      <td>2019-06-04 07:44:27.124099</td>\n",
       "      <td>test_2</td>\n",
       "      <td>3</td>\n",
       "      <td>21.25</td>\n",
       "      <td>2019-06-04 07:44:27.124099</td>\n",
       "    </tr>\n",
       "    <tr>\n",
       "      <th>3</th>\n",
       "      <td>2019-06-04 07:44:27.126433</td>\n",
       "      <td>test_2</td>\n",
       "      <td>4</td>\n",
       "      <td>21.25</td>\n",
       "      <td>2019-06-04 07:44:27.126433</td>\n",
       "    </tr>\n",
       "    <tr>\n",
       "      <th>4</th>\n",
       "      <td>2019-06-04 07:44:27.128691</td>\n",
       "      <td>test_2</td>\n",
       "      <td>5</td>\n",
       "      <td>21.25</td>\n",
       "      <td>2019-06-04 07:44:27.128691</td>\n",
       "    </tr>\n",
       "  </tbody>\n",
       "</table>\n",
       "</div>"
      ],
      "text/plain": [
       "                  std_time_ms description  sample_n  temperature  \\\n",
       "0  2019-06-04 07:44:27.111671      test_2         1        21.25   \n",
       "1  2019-06-04 07:44:27.115741      test_2         2        21.25   \n",
       "2  2019-06-04 07:44:27.124099      test_2         3        21.25   \n",
       "3  2019-06-04 07:44:27.126433      test_2         4        21.25   \n",
       "4  2019-06-04 07:44:27.128691      test_2         5        21.25   \n",
       "\n",
       "               datetime64_ns  \n",
       "0 2019-06-04 07:44:27.111671  \n",
       "1 2019-06-04 07:44:27.115741  \n",
       "2 2019-06-04 07:44:27.124099  \n",
       "3 2019-06-04 07:44:27.126433  \n",
       "4 2019-06-04 07:44:27.128691  "
      ]
     },
     "execution_count": 9,
     "metadata": {},
     "output_type": "execute_result"
    }
   ],
   "source": [
    "df.head()"
   ]
  },
  {
   "cell_type": "code",
   "execution_count": 10,
   "metadata": {},
   "outputs": [],
   "source": [
    "# Pandas 0.24.1 hack\n",
    "df.datetime64_ns = df.datetime64_ns.dt.tz_localize('UTC')"
   ]
  },
  {
   "cell_type": "code",
   "execution_count": 11,
   "metadata": {},
   "outputs": [
    {
     "data": {
      "image/png": "[encoded data removed]",
      "text/plain": [
       "<Figure size 432x288 with 1 Axes>"
      ]
     },
     "metadata": {
      "needs_background": "light"
     },
     "output_type": "display_data"
    }
   ],
   "source": [
    "df[[\"datetime64_ns\", \n",
    "    \"temperature\"]].plot(x=\"datetime64_ns\", style='-x');"
   ]
  },
  {
   "cell_type": "code",
   "execution_count": 12,
   "metadata": {},
   "outputs": [
    {
     "name": "stdout",
     "output_type": "stream",
     "text": [
      "Sample Rate: 372.8932 Hz\n"
     ]
    }
   ],
   "source": [
    "dt = df.datetime64_ns[len(df)-1]-df.datetime64_ns[0]\n",
    "dtt = dt.seconds + dt.microseconds / 10**6\n",
    "print('Sample Rate: {:.4f} Hz'.format(len(df)/dtt))"
   ]
  },
  {
   "cell_type": "code",
   "execution_count": 13,
   "metadata": {},
   "outputs": [
    {
     "data": {
      "text/plain": [
       "{'accuracy': None,\n",
       " 'bytes': None,\n",
       " 'case_sensitive_header': False,\n",
       " 'comment': '#',\n",
       " 'delimiter': ',',\n",
       " 'description': None,\n",
       " 'device': {'accuracy': '+/-0.25 (typical) C',\n",
       "  'active': None,\n",
       "  'bus': '<meerkat.i2c_pi.WrapI2C object at 0x6e8a71f0>',\n",
       "  'calibration_date': None,\n",
       "  'description': '+/-0.5 degrees Celcius maximum accuracy digital temperature sensor',\n",
       "  'dtype': None,\n",
       "  'error': None,\n",
       "  'manufacturer': 'Microchip',\n",
       "  'name': 'MCP9808',\n",
       "  'precision': '0.0625 C maximum',\n",
       "  'state': None,\n",
       "  'units': 'Degrees Celcius',\n",
       "  'urls': 'https://www.microchip.com/datasheet/MCP9808',\n",
       "  'version_hw': '0.1',\n",
       "  'version_sw': '0.1'},\n",
       " 'double_quote': True,\n",
       " 'dtypes': None,\n",
       " 'encoding': 'utf-8',\n",
       " 'escape_char': '\\\\',\n",
       " 'format': None,\n",
       " 'hash': None,\n",
       " 'header': ['description', 'sample_n', 'temperature'],\n",
       " 'licenses': None,\n",
       " 'line_terminator': '\\n',\n",
       " 'media_type': 'text/csv',\n",
       " 'name': 'MCP9808',\n",
       " 'null_sequence': 'NA',\n",
       " 'path': '2019_06_04_07_44_27_data.csv',\n",
       " 'precision': None,\n",
       " 'quote_char': '\"',\n",
       " 'schema': None,\n",
       " 'shebang': True,\n",
       " 'skip_initial_space': True,\n",
       " 'skip_lines': 1,\n",
       " 'sources': None,\n",
       " 'standard': 'Follow RFC 4180',\n",
       " 'strfmtime': '%Y-%m-%d %H:%M:%S.%f',\n",
       " 'time_format': 'std_time_ms',\n",
       " 'title': None,\n",
       " 'units': None,\n",
       " 'version': '0.1 Alpha'}"
      ]
     },
     "execution_count": 13,
     "metadata": {},
     "output_type": "execute_result"
    }
   ],
   "source": [
    "m"
   ]
  },
  {
   "cell_type": "markdown",
   "metadata": {},
   "source": [
    "### File Save Test\n",
    "Ambient temperature is approximately 23 degrees C"
   ]
  },
  {
   "cell_type": "raw",
   "metadata": {},
   "source": [
    "mcp.writer.path = 'MCP9808_example.csv'"
   ]
  },
  {
   "cell_type": "raw",
   "metadata": {},
   "source": [
    "mcp.write(description='MCP9808_example_2', n=20, delay=None)"
   ]
  },
  {
   "cell_type": "raw",
   "metadata": {},
   "source": [
    "m, df = parser.csv_resource(mcp.writer.path)"
   ]
  },
  {
   "cell_type": "raw",
   "metadata": {},
   "source": [
    "df.head()"
   ]
  },
  {
   "cell_type": "raw",
   "metadata": {},
   "source": [
    "m"
   ]
  },
  {
   "cell_type": "raw",
   "metadata": {},
   "source": [
    "df.datetime64_ns = df.datetime64_ns.dt.tz_localize('UTC')  # Pandas 0.24.1 hack\n",
    "df[['datetime64_ns', 'temperature']].plot(x='datetime64_ns',\n",
    "                                          style='-xb');"
   ]
  },
  {
   "cell_type": "markdown",
   "metadata": {},
   "source": [
    "#### JSON Writer Output"
   ]
  },
  {
   "cell_type": "code",
   "execution_count": 14,
   "metadata": {},
   "outputs": [],
   "source": [
    "# reinitialize to JSON output\n",
    "dev = mcp9808.MCP9808(bus_n=1, output='json')\n",
    "dev.writer.metadata_interval = 3"
   ]
  },
  {
   "cell_type": "code",
   "execution_count": 15,
   "metadata": {},
   "outputs": [],
   "source": [
    "# writing method with description and sample number\n",
    "dev.write(description='test_4', n=5)"
   ]
  },
  {
   "cell_type": "code",
   "execution_count": 16,
   "metadata": {},
   "outputs": [
    {
     "name": "stdout",
     "output_type": "stream",
     "text": [
      "{\"description\": \"test_4\", \"std_time_ms\": \"2019-06-04 07:44:29.122041\", \"temperature\": 21.25, \"sample_n\": 1}\n",
      "\n",
      "{\"description\": \"test_4\", \"std_time_ms\": \"2019-06-04 07:44:29.124769\", \"temperature\": 21.25, \"sample_n\": 2}\n",
      "\n",
      "{\"schema\": null, \"hash\": null, \"double_quote\": true, \"line_terminator\": \"\\n\", \"standard\": \"RFC 8259\", \"strfmtime\": \"%Y-%m-%d %H:%M:%S.%f\", \"encoding\": \"utf-8\", \"quote_char\": \"\\\"\", \"path\": \"2019_06_04_07_44_29_JSON_data.txt\", \"temperature\": 21.25, \"comment\": \"#\", \"licenses\": null, \"dtypes\": null, \"sample_n\": 3, \"name\": \"MCP9808\", \"version\": \"0.1 Alpha\", \"null_sequence\": \"NA\", \"escape_char\": \"\\\\\", \"metadata_file_i\": 0, \"accuracy\": null, \"units\": null, \"precision\": null, \"metadata_interval\": 3, \"skip_lines\": 0, \"format\": null, \"media_type\": \"text/json\", \"sources\": null, \"std_time_ms\": \"2019-06-04 07:44:29.134372\", \"device\": null, \"description\": null, \"title\": null, \"metadata_stream_i\": 1, \"bytes\": null, \"header\": [\"description\", \"sample_n\", \"temperature\"], \"time_format\": \"std_time_ms\"}\n",
      "\n",
      "{\"description\": \"test_4\", \"std_time_ms\": \"2019-06-04 07:44:29.136873\", \"temperature\": 21.25, \"sample_n\": 4}\n",
      "\n",
      "{\"description\": \"test_4\", \"std_time_ms\": \"2019-06-04 07:44:29.139261\", \"temperature\": 21.25, \"sample_n\": 5}\n",
      "\n"
     ]
    }
   ],
   "source": [
    "# show first lines of JSON text file\n",
    "with open(dev.writer.path, 'r') as f:\n",
    "    for n in range(5):\n",
    "        print(f.readline())"
   ]
  }
 ],
 "metadata": {
  "kernelspec": {
   "display_name": "Python 3",
   "language": "python",
   "name": "python3"
  },
  "language_info": {
   "codemirror_mode": {
    "name": "ipython",
    "version": 3
   },
   "file_extension": ".py",
   "mimetype": "text/x-python",
   "name": "python",
   "nbconvert_exporter": "python",
   "pygments_lexer": "ipython3",
   "version": "3.5.2"
  }
 },
 "nbformat": 4,
 "nbformat_minor": 2
}

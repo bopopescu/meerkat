{
 "cells": [
  {
   "cell_type": "code",
   "execution_count": 1,
   "metadata": {},
   "outputs": [],
   "source": [
    "import smbus\n",
    "import matplotlib.pyplot as plt\n",
    "\n",
    "from meerkat import mcp9808, parser"
   ]
  },
  {
   "cell_type": "code",
   "execution_count": 2,
   "metadata": {},
   "outputs": [],
   "source": [
    "i2c = smbus.SMBus(1)"
   ]
  },
  {
   "cell_type": "code",
   "execution_count": 3,
   "metadata": {},
   "outputs": [],
   "source": [
    "mcp = mcp9808.MCP9808(bus=i2c)"
   ]
  },
  {
   "cell_type": "code",
   "execution_count": 4,
   "metadata": {},
   "outputs": [
    {
     "name": "stdout",
     "output_type": "stream",
     "text": [
      "Configuration Register: None\n",
      "Upper Temperature: None\n",
      "Lower Temperature: None\n",
      "Critical Temperature: None\n",
      "Manufacturer: 84\n",
      "Device ID: 4\n",
      "Device Revision: 0\n"
     ]
    }
   ],
   "source": [
    "mcp.get_status()\n",
    "mcp.print_status()"
   ]
  },
  {
   "cell_type": "code",
   "execution_count": 5,
   "metadata": {},
   "outputs": [
    {
     "data": {
      "text/plain": [
       "25.25"
      ]
     },
     "execution_count": 5,
     "metadata": {},
     "output_type": "execute_result"
    }
   ],
   "source": [
    "mcp.get_temp()"
   ]
  },
  {
   "cell_type": "code",
   "execution_count": 6,
   "metadata": {},
   "outputs": [
    {
     "name": "stdout",
     "output_type": "stream",
     "text": [
      "{\n",
      "    \"accuracy\": \"+/-0.25 (typical) C\",\n",
      "    \"active\": null,\n",
      "    \"bus\": \"<SMBus object at 0x6e7e7a28>\",\n",
      "    \"calibration_date\": null,\n",
      "    \"description\": \"+/-0.5 degrees Celcius maximum accuracy digital temperature sensor\",\n",
      "    \"dtype\": null,\n",
      "    \"error\": null,\n",
      "    \"manufacturer\": \"Microchip\",\n",
      "    \"name\": \"MCP9808\",\n",
      "    \"precision\": \"0.0625 C maximum\",\n",
      "    \"state\": null,\n",
      "    \"units\": \"Degrees Celcius\",\n",
      "    \"urls\": \"https://www.microchip.com/datasheet/MCP9808\",\n",
      "    \"version_hw\": \"0.1\",\n",
      "    \"version_sw\": \"0.1\"\n",
      "}\n"
     ]
    }
   ],
   "source": [
    "print(mcp.device.to_json(indent=4))"
   ]
  },
  {
   "cell_type": "code",
   "execution_count": 7,
   "metadata": {},
   "outputs": [
    {
     "name": "stdout",
     "output_type": "stream",
     "text": [
      "{\n",
      "    \"accuracy\": null,\n",
      "    \"bytes\": null,\n",
      "    \"case_sensitive_header\": false,\n",
      "    \"comment\": \"#\",\n",
      "    \"delimiter\": \",\",\n",
      "    \"description\": null,\n",
      "    \"device\": {\n",
      "        \"accuracy\": \"+/-0.25 (typical) C\",\n",
      "        \"active\": null,\n",
      "        \"bus\": \"<SMBus object at 0x6e7e7a28>\",\n",
      "        \"calibration_date\": null,\n",
      "        \"description\": \"+/-0.5 degrees Celcius maximum accuracy digital temperature sensor\",\n",
      "        \"dtype\": null,\n",
      "        \"error\": null,\n",
      "        \"manufacturer\": \"Microchip\",\n",
      "        \"name\": \"MCP9808\",\n",
      "        \"precision\": \"0.0625 C maximum\",\n",
      "        \"state\": null,\n",
      "        \"units\": \"Degrees Celcius\",\n",
      "        \"urls\": \"https://www.microchip.com/datasheet/MCP9808\",\n",
      "        \"version_hw\": \"0.1\",\n",
      "        \"version_sw\": \"0.1\"\n",
      "    },\n",
      "    \"double_quote\": true,\n",
      "    \"dtypes\": null,\n",
      "    \"encoding\": \"utf-8\",\n",
      "    \"escape_char\": \"\\\\\",\n",
      "    \"format\": null,\n",
      "    \"hash\": null,\n",
      "    \"header\": [\n",
      "        \"sample_id\",\n",
      "        \"temperature_C\"\n",
      "    ],\n",
      "    \"licenses\": null,\n",
      "    \"line_terminator\": \"\\n\",\n",
      "    \"media_type\": \"text/csv\",\n",
      "    \"name\": \"MCP9808\",\n",
      "    \"null_sequence\": \"NA\",\n",
      "    \"path\": null,\n",
      "    \"precision\": null,\n",
      "    \"quote_char\": \"\\\"\",\n",
      "    \"schema\": null,\n",
      "    \"shebang\": true,\n",
      "    \"skip_initial_space\": true,\n",
      "    \"skip_lines\": 1,\n",
      "    \"sources\": null,\n",
      "    \"standard\": \"Follow RFC 4180\",\n",
      "    \"time_format\": \"std_time_ms\",\n",
      "    \"timepiece\": {\n",
      "        \"format_used\": \"std_time_ms\",\n",
      "        \"formats_available\": {\n",
      "            \"file_time\": \"%Y_%m_%d_%H_%M_%S_%f\",\n",
      "            \"iso_time\": \"%Y-%m-%dT%H:%M:%S.%f%z\",\n",
      "            \"std_time\": \"%Y-%m-%d %H:%M:%S\",\n",
      "            \"std_time_ms\": \"%Y-%m-%d %H:%M:%S.%f\"\n",
      "        }\n",
      "    },\n",
      "    \"title\": null,\n",
      "    \"units\": null,\n",
      "    \"version\": \"0.1 Alpha\"\n",
      "}\n"
     ]
    }
   ],
   "source": [
    "print(mcp.writer.to_json(indent=4))"
   ]
  },
  {
   "cell_type": "code",
   "execution_count": 8,
   "metadata": {},
   "outputs": [
    {
     "data": {
      "text/plain": [
       "[['MCP9808_example', 1, 25.25],\n",
       " ['MCP9808_example', 2, 25.25],\n",
       " ['MCP9808_example', 3, 25.25],\n",
       " ['MCP9808_example', 4, 25.25],\n",
       " ['MCP9808_example', 5, 25.25],\n",
       " ['MCP9808_example', 6, 25.25],\n",
       " ['MCP9808_example', 7, 25.25],\n",
       " ['MCP9808_example', 8, 25.25],\n",
       " ['MCP9808_example', 9, 25.25],\n",
       " ['MCP9808_example', 10, 25.25],\n",
       " ['MCP9808_example', 11, 25.25],\n",
       " ['MCP9808_example', 12, 25.25],\n",
       " ['MCP9808_example', 13, 25.25],\n",
       " ['MCP9808_example', 14, 25.25],\n",
       " ['MCP9808_example', 15, 25.25]]"
      ]
     },
     "execution_count": 8,
     "metadata": {},
     "output_type": "execute_result"
    }
   ],
   "source": [
    "mcp.get(description='MCP9808_example', n=15)"
   ]
  },
  {
   "cell_type": "markdown",
   "metadata": {},
   "source": [
    "### File Save Test\n",
    "Ambient temperature is approximately 23 degrees C"
   ]
  },
  {
   "cell_type": "code",
   "execution_count": 9,
   "metadata": {},
   "outputs": [],
   "source": [
    "mcp.writer.path = 'MCP9808_example.csv'"
   ]
  },
  {
   "cell_type": "code",
   "execution_count": 10,
   "metadata": {},
   "outputs": [],
   "source": [
    "mcp.write(description='MCP9808_example_2', n=15)"
   ]
  },
  {
   "cell_type": "code",
   "execution_count": 11,
   "metadata": {},
   "outputs": [],
   "source": [
    "m, df = parser.csv_resource(mcp.writer.path)"
   ]
  },
  {
   "cell_type": "code",
   "execution_count": 12,
   "metadata": {},
   "outputs": [
    {
     "data": {
      "text/html": [
       "<div>\n",
       "<style scoped>\n",
       "    .dataframe tbody tr th:only-of-type {\n",
       "        vertical-align: middle;\n",
       "    }\n",
       "\n",
       "    .dataframe tbody tr th {\n",
       "        vertical-align: top;\n",
       "    }\n",
       "\n",
       "    .dataframe thead th {\n",
       "        text-align: right;\n",
       "    }\n",
       "</style>\n",
       "<table border=\"1\" class=\"dataframe\">\n",
       "  <thead>\n",
       "    <tr style=\"text-align: right;\">\n",
       "      <th></th>\n",
       "      <th>std_time_ms</th>\n",
       "      <th>description</th>\n",
       "      <th>sample_n</th>\n",
       "      <th>temperature</th>\n",
       "      <th>datetime64_ns</th>\n",
       "    </tr>\n",
       "  </thead>\n",
       "  <tbody>\n",
       "    <tr>\n",
       "      <th>0</th>\n",
       "      <td>2019-01-02 18:22:30.253096</td>\n",
       "      <td>MCP9808_example_2</td>\n",
       "      <td>1</td>\n",
       "      <td>25.25</td>\n",
       "      <td>2019-01-02 18:22:30.253096</td>\n",
       "    </tr>\n",
       "    <tr>\n",
       "      <th>1</th>\n",
       "      <td>2019-01-02 18:22:30.255386</td>\n",
       "      <td>MCP9808_example_2</td>\n",
       "      <td>2</td>\n",
       "      <td>25.25</td>\n",
       "      <td>2019-01-02 18:22:30.255386</td>\n",
       "    </tr>\n",
       "    <tr>\n",
       "      <th>2</th>\n",
       "      <td>2019-01-02 18:22:30.257220</td>\n",
       "      <td>MCP9808_example_2</td>\n",
       "      <td>3</td>\n",
       "      <td>25.25</td>\n",
       "      <td>2019-01-02 18:22:30.257220</td>\n",
       "    </tr>\n",
       "    <tr>\n",
       "      <th>3</th>\n",
       "      <td>2019-01-02 18:22:30.259252</td>\n",
       "      <td>MCP9808_example_2</td>\n",
       "      <td>4</td>\n",
       "      <td>25.25</td>\n",
       "      <td>2019-01-02 18:22:30.259252</td>\n",
       "    </tr>\n",
       "    <tr>\n",
       "      <th>4</th>\n",
       "      <td>2019-01-02 18:22:30.263631</td>\n",
       "      <td>MCP9808_example_2</td>\n",
       "      <td>5</td>\n",
       "      <td>25.25</td>\n",
       "      <td>2019-01-02 18:22:30.263631</td>\n",
       "    </tr>\n",
       "  </tbody>\n",
       "</table>\n",
       "</div>"
      ],
      "text/plain": [
       "                  std_time_ms        description  sample_n  temperature  \\\n",
       "0  2019-01-02 18:22:30.253096  MCP9808_example_2         1        25.25   \n",
       "1  2019-01-02 18:22:30.255386  MCP9808_example_2         2        25.25   \n",
       "2  2019-01-02 18:22:30.257220  MCP9808_example_2         3        25.25   \n",
       "3  2019-01-02 18:22:30.259252  MCP9808_example_2         4        25.25   \n",
       "4  2019-01-02 18:22:30.263631  MCP9808_example_2         5        25.25   \n",
       "\n",
       "               datetime64_ns  \n",
       "0 2019-01-02 18:22:30.253096  \n",
       "1 2019-01-02 18:22:30.255386  \n",
       "2 2019-01-02 18:22:30.257220  \n",
       "3 2019-01-02 18:22:30.259252  \n",
       "4 2019-01-02 18:22:30.263631  "
      ]
     },
     "execution_count": 12,
     "metadata": {},
     "output_type": "execute_result"
    }
   ],
   "source": [
    "df.head()"
   ]
  },
  {
   "cell_type": "code",
   "execution_count": 13,
   "metadata": {},
   "outputs": [
    {
     "data": {
      "text/plain": [
       "{'accuracy': None,\n",
       " 'bytes': None,\n",
       " 'case_sensitive_header': False,\n",
       " 'comment': '#',\n",
       " 'delimiter': ',',\n",
       " 'description': None,\n",
       " 'device': {'accuracy': '+/-0.25 (typical) C',\n",
       "  'active': None,\n",
       "  'bus': '<SMBus object at 0x6e7e7a28>',\n",
       "  'calibration_date': None,\n",
       "  'description': '+/-0.5 degrees Celcius maximum accuracy digital temperature sensor',\n",
       "  'dtype': None,\n",
       "  'error': None,\n",
       "  'manufacturer': 'Microchip',\n",
       "  'name': 'MCP9808',\n",
       "  'precision': '0.0625 C maximum',\n",
       "  'state': None,\n",
       "  'units': 'Degrees Celcius',\n",
       "  'urls': 'https://www.microchip.com/datasheet/MCP9808',\n",
       "  'version_hw': '0.1',\n",
       "  'version_sw': '0.1'},\n",
       " 'double_quote': True,\n",
       " 'dtypes': None,\n",
       " 'encoding': 'utf-8',\n",
       " 'escape_char': '\\\\',\n",
       " 'format': None,\n",
       " 'hash': None,\n",
       " 'header': ['description', 'sample_n', 'temperature'],\n",
       " 'licenses': None,\n",
       " 'line_terminator': '\\n',\n",
       " 'media_type': 'text/csv',\n",
       " 'name': 'MCP9808',\n",
       " 'null_sequence': 'NA',\n",
       " 'path': 'MCP9808_example_csv',\n",
       " 'precision': None,\n",
       " 'quote_char': '\"',\n",
       " 'schema': None,\n",
       " 'shebang': True,\n",
       " 'skip_initial_space': True,\n",
       " 'skip_lines': 1,\n",
       " 'sources': None,\n",
       " 'standard': 'Follow RFC 4180',\n",
       " 'time_format': 'std_time_ms',\n",
       " 'timepiece': {'format_used': 'std_time_ms',\n",
       "  'formats_available': {'file_time': '%Y_%m_%d_%H_%M_%S_%f',\n",
       "   'iso_time': '%Y-%m-%dT%H:%M:%S.%f%z',\n",
       "   'std_time': '%Y-%m-%d %H:%M:%S',\n",
       "   'std_time_ms': '%Y-%m-%d %H:%M:%S.%f'}},\n",
       " 'title': None,\n",
       " 'units': None,\n",
       " 'version': '0.1 Alpha'}"
      ]
     },
     "execution_count": 13,
     "metadata": {},
     "output_type": "execute_result"
    }
   ],
   "source": [
    "m"
   ]
  },
  {
   "cell_type": "code",
   "execution_count": 14,
   "metadata": {},
   "outputs": [
    {
     "data": {
      "image/png": "[encoded data removed]",
      "text/plain": [
       "<Figure size 432x288 with 1 Axes>"
      ]
     },
     "metadata": {
      "needs_background": "light"
     },
     "output_type": "display_data"
    }
   ],
   "source": [
    "df[['datetime64_ns', 'temperature']].plot(x='datetime64_ns',\n",
    "                                          style='-xb');"
   ]
  },
  {
   "cell_type": "code",
   "execution_count": 15,
   "metadata": {},
   "outputs": [
    {
     "name": "stdout",
     "output_type": "stream",
     "text": [
      "Sample Rate: 382.0488 Hz\n"
     ]
    }
   ],
   "source": [
    "dt = df.datetime64_ns[len(df)-1]-df.datetime64_ns[0]\n",
    "dtt = dt.seconds + dt.microseconds / 10**6\n",
    "print('Sample Rate: {:.4f} Hz'.format(len(df)/dtt))"
   ]
  }
 ],
 "metadata": {
  "kernelspec": {
   "display_name": "Python 3",
   "language": "python",
   "name": "python3"
  },
  "language_info": {
   "codemirror_mode": {
    "name": "ipython",
    "version": 3
   },
   "file_extension": ".py",
   "mimetype": "text/x-python",
   "name": "python",
   "nbconvert_exporter": "python",
   "pygments_lexer": "ipython3",
   "version": "3.6.6"
  }
 },
 "nbformat": 4,
 "nbformat_minor": 2
}

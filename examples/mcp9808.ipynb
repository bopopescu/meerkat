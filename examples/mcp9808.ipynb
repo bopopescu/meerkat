{
 "cells": [
  {
   "cell_type": "code",
   "execution_count": 1,
   "metadata": {},
   "outputs": [],
   "source": [
    "import json\n",
    "\n",
    "import smbus\n",
    "from meerkat import mcp9808"
   ]
  },
  {
   "cell_type": "code",
   "execution_count": 2,
   "metadata": {},
   "outputs": [],
   "source": [
    "i2c = smbus.SMBus(1)"
   ]
  },
  {
   "cell_type": "code",
   "execution_count": 3,
   "metadata": {},
   "outputs": [],
   "source": [
    "mcp = mcp9808.MCP9808(bus=i2c)"
   ]
  },
  {
   "cell_type": "code",
   "execution_count": 4,
   "metadata": {},
   "outputs": [
    {
     "name": "stdout",
     "output_type": "stream",
     "text": [
      "Configuration Register: None\n",
      "Upper Temperature: None\n",
      "Lower Temperature: None\n",
      "Critical Temperature: None\n",
      "Manufacturer: 84\n",
      "Device ID: 4\n",
      "Device Revision: 0\n"
     ]
    }
   ],
   "source": [
    "mcp.get_status()\n",
    "mcp.print_status()"
   ]
  },
  {
   "cell_type": "code",
   "execution_count": 5,
   "metadata": {},
   "outputs": [
    {
     "data": {
      "text/plain": [
       "23.3125"
      ]
     },
     "execution_count": 5,
     "metadata": {},
     "output_type": "execute_result"
    }
   ],
   "source": [
    "mcp.get_temp()"
   ]
  },
  {
   "cell_type": "code",
   "execution_count": 6,
   "metadata": {},
   "outputs": [
    {
     "name": "stdout",
     "output_type": "stream",
     "text": [
      "{\n",
      "    \"accuracy\": \"+/-0.25 (typical) C\",\n",
      "    \"active\": null,\n",
      "    \"bus\": \"<SMBus object at 0x7432cdb8>\",\n",
      "    \"calibration_date\": null,\n",
      "    \"description\": \"+/-0.5 degrees Celcius maximum accuracy digital temperature sensor\",\n",
      "    \"dtype\": null,\n",
      "    \"error\": null,\n",
      "    \"manufacturer\": \"Microchip\",\n",
      "    \"name\": \"MCP9808\",\n",
      "    \"precision\": \"0.0625 C maximum\",\n",
      "    \"state\": null,\n",
      "    \"units\": \"Degrees Celcius\",\n",
      "    \"urls\": \"https://www.microchip.com/datasheet/MCP9808\",\n",
      "    \"version_hw\": \"0.1\",\n",
      "    \"version_sw\": \"0.1\"\n",
      "}\n"
     ]
    }
   ],
   "source": [
    "print(mcp.device.to_json(indent=4))"
   ]
  },
  {
   "cell_type": "code",
   "execution_count": 7,
   "metadata": {},
   "outputs": [
    {
     "name": "stdout",
     "output_type": "stream",
     "text": [
      "{\n",
      "    \"accuracy\": null,\n",
      "    \"bytes\": null,\n",
      "    \"case_sensitive_header\": false,\n",
      "    \"comment\": \"#\",\n",
      "    \"delimiter\": \",\",\n",
      "    \"description\": null,\n",
      "    \"device\": {\n",
      "        \"accuracy\": \"+/-0.25 (typical) C\",\n",
      "        \"active\": null,\n",
      "        \"bus\": \"<SMBus object at 0x7432cdb8>\",\n",
      "        \"calibration_date\": null,\n",
      "        \"description\": \"+/-0.5 degrees Celcius maximum accuracy digital temperature sensor\",\n",
      "        \"dtype\": null,\n",
      "        \"error\": null,\n",
      "        \"manufacturer\": \"Microchip\",\n",
      "        \"name\": \"MCP9808\",\n",
      "        \"precision\": \"0.0625 C maximum\",\n",
      "        \"state\": null,\n",
      "        \"units\": \"Degrees Celcius\",\n",
      "        \"urls\": \"https://www.microchip.com/datasheet/MCP9808\",\n",
      "        \"version_hw\": \"0.1\",\n",
      "        \"version_sw\": \"0.1\"\n",
      "    },\n",
      "    \"double_quote\": true,\n",
      "    \"dtypes\": null,\n",
      "    \"encoding\": \"utf-8\",\n",
      "    \"escape_char\": \"\\\\\",\n",
      "    \"format\": null,\n",
      "    \"hash\": null,\n",
      "    \"header\": [\n",
      "        \"sample_id\",\n",
      "        \"temperature_C\"\n",
      "    ],\n",
      "    \"licenses\": null,\n",
      "    \"line_terminator\": \"\\n\",\n",
      "    \"media_type\": \"text/csv\",\n",
      "    \"name\": \"MCP9808\",\n",
      "    \"null_sequence\": \"NA\",\n",
      "    \"path\": null,\n",
      "    \"precision\": null,\n",
      "    \"quote_char\": \"\\\"\",\n",
      "    \"schema\": null,\n",
      "    \"shebang\": true,\n",
      "    \"skip_initial_space\": true,\n",
      "    \"skip_lines\": 1,\n",
      "    \"sources\": null,\n",
      "    \"standard\": \"Follow RFC 4180\",\n",
      "    \"time_format\": \"std_time\",\n",
      "    \"timepiece\": {\n",
      "        \"format_used\": \"std_time\",\n",
      "        \"formats_available\": {\n",
      "            \"file_time\": \"%Y_%m_%d_%H_%M_%S_%f\",\n",
      "            \"iso_time\": \"%Y-%m-%dT%H:%M:%S.%f%z\",\n",
      "            \"std_time\": \"%Y-%m-%d %H:%M:%S\",\n",
      "            \"std_time_ms\": \"%Y-%m-%d %H:%M:%S.%f\"\n",
      "        }\n",
      "    },\n",
      "    \"title\": null,\n",
      "    \"units\": null,\n",
      "    \"version\": \"0.1 Alpha\"\n",
      "}\n"
     ]
    }
   ],
   "source": [
    "print(mcp.writer.to_json(indent=4))"
   ]
  },
  {
   "cell_type": "code",
   "execution_count": 12,
   "metadata": {},
   "outputs": [],
   "source": [
    "samples = 20"
   ]
  },
  {
   "cell_type": "code",
   "execution_count": 14,
   "metadata": {},
   "outputs": [],
   "source": [
    "data = []\n",
    "for _ in range(samples):\n",
    "    data.append(mcp.get(sid='mcp9808_test_' + str(_)))"
   ]
  },
  {
   "cell_type": "code",
   "execution_count": 15,
   "metadata": {},
   "outputs": [],
   "source": [
    "import pandas as pd\n",
    "import matplotlib.pyplot as plt"
   ]
  },
  {
   "cell_type": "code",
   "execution_count": 18,
   "metadata": {},
   "outputs": [],
   "source": [
    "df = pd.DataFrame(data, columns=['sid', 'temperature'])"
   ]
  },
  {
   "cell_type": "code",
   "execution_count": 19,
   "metadata": {},
   "outputs": [
    {
     "data": {
      "text/html": [
       "<div>\n",
       "<style scoped>\n",
       "    .dataframe tbody tr th:only-of-type {\n",
       "        vertical-align: middle;\n",
       "    }\n",
       "\n",
       "    .dataframe tbody tr th {\n",
       "        vertical-align: top;\n",
       "    }\n",
       "\n",
       "    .dataframe thead th {\n",
       "        text-align: right;\n",
       "    }\n",
       "</style>\n",
       "<table border=\"1\" class=\"dataframe\">\n",
       "  <thead>\n",
       "    <tr style=\"text-align: right;\">\n",
       "      <th></th>\n",
       "      <th>sid</th>\n",
       "      <th>temperature</th>\n",
       "    </tr>\n",
       "  </thead>\n",
       "  <tbody>\n",
       "    <tr>\n",
       "      <th>0</th>\n",
       "      <td>mcp9808_test_0</td>\n",
       "      <td>23.4375</td>\n",
       "    </tr>\n",
       "    <tr>\n",
       "      <th>1</th>\n",
       "      <td>mcp9808_test_1</td>\n",
       "      <td>23.4375</td>\n",
       "    </tr>\n",
       "    <tr>\n",
       "      <th>2</th>\n",
       "      <td>mcp9808_test_2</td>\n",
       "      <td>23.4375</td>\n",
       "    </tr>\n",
       "    <tr>\n",
       "      <th>3</th>\n",
       "      <td>mcp9808_test_3</td>\n",
       "      <td>23.4375</td>\n",
       "    </tr>\n",
       "    <tr>\n",
       "      <th>4</th>\n",
       "      <td>mcp9808_test_4</td>\n",
       "      <td>23.4375</td>\n",
       "    </tr>\n",
       "  </tbody>\n",
       "</table>\n",
       "</div>"
      ],
      "text/plain": [
       "              sid  temperature\n",
       "0  mcp9808_test_0      23.4375\n",
       "1  mcp9808_test_1      23.4375\n",
       "2  mcp9808_test_2      23.4375\n",
       "3  mcp9808_test_3      23.4375\n",
       "4  mcp9808_test_4      23.4375"
      ]
     },
     "execution_count": 19,
     "metadata": {},
     "output_type": "execute_result"
    }
   ],
   "source": [
    "df.head()"
   ]
  },
  {
   "cell_type": "code",
   "execution_count": 21,
   "metadata": {},
   "outputs": [
    {
     "data": {
      "image/png": "[encoded data removed]",
      "text/plain": [
       "<Figure size 432x288 with 1 Axes>"
      ]
     },
     "metadata": {
      "needs_background": "light"
     },
     "output_type": "display_data"
    }
   ],
   "source": [
    "df.temperature.plot();"
   ]
  },
  {
   "cell_type": "code",
   "execution_count": null,
   "metadata": {},
   "outputs": [],
   "source": []
  }
 ],
 "metadata": {
  "kernelspec": {
   "display_name": "Python 3",
   "language": "python",
   "name": "python3"
  },
  "language_info": {
   "codemirror_mode": {
    "name": "ipython",
    "version": 3
   },
   "file_extension": ".py",
   "mimetype": "text/x-python",
   "name": "python",
   "nbconvert_exporter": "python",
   "pygments_lexer": "ipython3",
   "version": "3.6.6"
  }
 },
 "nbformat": 4,
 "nbformat_minor": 2
}

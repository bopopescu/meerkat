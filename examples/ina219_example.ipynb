{
 "cells": [
  {
   "cell_type": "markdown",
   "metadata": {},
   "source": [
    "## INA219  \n",
    "The INA219 is a current shunt and power monitor with programmable conversion times and filtering.  \n",
    "\n",
    "Manufacturer link: http://www.ti.com/product/INA219  \n",
    "\n",
    "Breakout board used: https://www.adafruit.com/product/904"
   ]
  },
  {
   "cell_type": "code",
   "execution_count": 1,
   "metadata": {},
   "outputs": [],
   "source": [
    "import matplotlib.pyplot as plt\n",
    "\n",
    "from meerkat.ina219 import INA219\n",
    "from meerkat import base, parser, tools"
   ]
  },
  {
   "cell_type": "code",
   "execution_count": 2,
   "metadata": {},
   "outputs": [],
   "source": [
    "# bus number 1 on Raspberry Pi\n",
    "dev = INA219(bus_n=1, bus_addr=0x40, output='csv')"
   ]
  },
  {
   "cell_type": "code",
   "execution_count": 3,
   "metadata": {},
   "outputs": [],
   "source": [
    "dev.verbose = True"
   ]
  },
  {
   "cell_type": "markdown",
   "metadata": {},
   "source": [
    "#### Configuration"
   ]
  },
  {
   "cell_type": "code",
   "execution_count": 4,
   "metadata": {},
   "outputs": [
    {
     "name": "stdout",
     "output_type": "stream",
     "text": [
      "Writing to 'config' registry # 0\n",
      "HEX value: 0xb99f\n",
      "Binary value:\n",
      "1011100110011111\n",
      "1111110000000000\n",
      "5432109876543210\n"
     ]
    }
   ],
   "source": [
    "# reset all configuration settings\n",
    "dev.reset()"
   ]
  },
  {
   "cell_type": "markdown",
   "metadata": {},
   "source": [
    "#### Measurement"
   ]
  },
  {
   "cell_type": "markdown",
   "metadata": {},
   "source": [
    "For this example, device is connected to a Raspberry Pi 3 5V supply."
   ]
  },
  {
   "cell_type": "code",
   "execution_count": 5,
   "metadata": {},
   "outputs": [
    {
     "data": {
      "text/plain": [
       "0.00348"
      ]
     },
     "execution_count": 5,
     "metadata": {},
     "output_type": "execute_result"
    }
   ],
   "source": [
    "dev.get_shunt_voltage()"
   ]
  },
  {
   "cell_type": "code",
   "execution_count": 6,
   "metadata": {},
   "outputs": [
    {
     "data": {
      "text/plain": [
       "0.58"
      ]
     },
     "execution_count": 6,
     "metadata": {},
     "output_type": "execute_result"
    }
   ],
   "source": [
    "dev.get_bus_voltage()"
   ]
  },
  {
   "cell_type": "code",
   "execution_count": 7,
   "metadata": {},
   "outputs": [
    {
     "data": {
      "text/plain": [
       "0.0349"
      ]
     },
     "execution_count": 7,
     "metadata": {},
     "output_type": "execute_result"
    }
   ],
   "source": [
    "dev.get_current_simple()"
   ]
  },
  {
   "cell_type": "markdown",
   "metadata": {},
   "source": [
    "#### Calibration"
   ]
  },
  {
   "cell_type": "markdown",
   "metadata": {},
   "source": [
    "Calibration Register enables the user to scale the Current Register and Power Register to the most useful value for a given application.  Refer to the datasheet for details"
   ]
  },
  {
   "cell_type": "code",
   "execution_count": 8,
   "metadata": {},
   "outputs": [
    {
     "name": "stdout",
     "output_type": "stream",
     "text": [
      "Writing to 'calibration' registry # 5\n",
      "HEX value: 0x2800\n",
      "Binary value:\n",
      "0010100000000000\n",
      "1111110000000000\n",
      "5432109876543210\n"
     ]
    }
   ],
   "source": [
    "dev.set_calibration(10240)\n",
    "base.time.sleep(0.1)"
   ]
  },
  {
   "cell_type": "code",
   "execution_count": 9,
   "metadata": {},
   "outputs": [
    {
     "data": {
      "text/plain": [
       "10240"
      ]
     },
     "execution_count": 9,
     "metadata": {},
     "output_type": "execute_result"
    }
   ],
   "source": [
    "# confirm calibration value\n",
    "dev.get_calibration()"
   ]
  },
  {
   "cell_type": "code",
   "execution_count": 10,
   "metadata": {},
   "outputs": [
    {
     "data": {
      "text/plain": [
       "0.00348"
      ]
     },
     "execution_count": 10,
     "metadata": {},
     "output_type": "execute_result"
    }
   ],
   "source": [
    "dev.get_shunt_voltage()"
   ]
  },
  {
   "cell_type": "code",
   "execution_count": 11,
   "metadata": {},
   "outputs": [
    {
     "data": {
      "text/plain": [
       "1.02"
      ]
     },
     "execution_count": 11,
     "metadata": {},
     "output_type": "execute_result"
    }
   ],
   "source": [
    "dev.get_bus_voltage()"
   ]
  },
  {
   "cell_type": "code",
   "execution_count": 12,
   "metadata": {},
   "outputs": [
    {
     "data": {
      "text/plain": [
       "0.0348"
      ]
     },
     "execution_count": 12,
     "metadata": {},
     "output_type": "execute_result"
    }
   ],
   "source": [
    "# simple return, just float\n",
    "dev.get_current_simple()"
   ]
  },
  {
   "cell_type": "code",
   "execution_count": 13,
   "metadata": {},
   "outputs": [
    {
     "data": {
      "text/plain": [
       "[['test_1', 1, 0.544, 0.034699999999999995],\n",
       " ['test_1', 2, 1.112, 0.034699999999999995],\n",
       " ['test_1', 3, 1.008, 0.034699999999999995],\n",
       " ['test_1', 4, 0.808, 0.034699999999999995],\n",
       " ['test_1', 5, 0.324, 0.034699999999999995]]"
      ]
     },
     "execution_count": 13,
     "metadata": {},
     "output_type": "execute_result"
    }
   ],
   "source": [
    "# get method, list with description and sample number\n",
    "dev.get(description='test_1', n=5)"
   ]
  },
  {
   "cell_type": "markdown",
   "metadata": {},
   "source": [
    "#### JSON Data Publishing"
   ]
  },
  {
   "cell_type": "code",
   "execution_count": 14,
   "metadata": {},
   "outputs": [],
   "source": [
    "# lower metadata interval from a default of once every 10 samples\n",
    "dev.json_writer.metadata_interval = 3"
   ]
  },
  {
   "cell_type": "code",
   "execution_count": 15,
   "metadata": {},
   "outputs": [
    {
     "data": {
      "text/plain": [
       "['{\"description\": \"test_2\", \"sample_n\": 0, \"voltage\": 0.04, \"current\": 0.034999999999999996, \"std_time_ms\": \"2020-01-26 17:44:11.752715\"}',\n",
       " '{\"description\": \"test_2\", \"sample_n\": 1, \"voltage\": 0.976, \"current\": 0.0348, \"std_time_ms\": \"2020-01-26 17:44:11.756145\"}',\n",
       " '{\"description\": null, \"sample_n\": 2, \"voltage\": 0.484, \"current\": 0.034699999999999995, \"std_time_ms\": \"2020-01-26 17:44:11.759538\", \"name\": \"INA219\", \"title\": null, \"format\": null, \"encoding\": \"utf-8\", \"bytes\": null, \"hash\": null, \"schema\": null, \"sources\": null, \"licenses\": null, \"line_terminator\": \"\\\\n\", \"quote_char\": \"\\\\\"\", \"double_quote\": true, \"escape_char\": \"\\\\\\\\\", \"null_sequence\": \"NA\", \"comment\": \"#\", \"skip_lines\": 0, \"path\": null, \"device\": {\"name\": \"INA219\", \"version_hw\": \"1.0\", \"version_sw\": \"1.0\", \"accuracy\": null, \"precision\": \"12bit\", \"bus\": \"<meerkat.i2c_pi.WrapI2C object at 0xacfccab0>\", \"state\": null, \"active\": null, \"error\": null, \"dtype\": null, \"description\": \"Texas Instruments Bidirectional Current Monitor\", \"urls\": \"www.ti.com/product/ADS1115\", \"manufacturer\": \"Texas Instruments\", \"calibration_date\": null, \"bus_voltage_range\": 32, \"gain\": 8, \"gain_string\": \"+/- 320 mV\", \"bus_adc_resolution\": 12, \"bus_adc_averaging\": null, \"shunt_adc_resolution\": 12, \"shunt_adc_averaging\": null, \"mode\": 7, \"mode_description\": \"shunt and bus voltages, continuous\", \"r_shunt\": 0.1}, \"units\": null, \"dtypes\": null, \"accuracy\": null, \"precision\": null, \"time_format\": \"std_time_ms\", \"strfmtime\": \"%Y-%m-%d %H:%M:%S.%f\", \"version\": \"0.1 Alpha\", \"standard\": \"RFC 8259\", \"media_type\": \"text/json\", \"metadata_interval\": 3, \"metadata_file_i\": 1, \"metadata_stream_i\": 0, \"header\": [\"description\", \"sample_n\", \"voltage\", \"current\"]}',\n",
       " '{\"description\": \"test_2\", \"sample_n\": 3, \"voltage\": 1.112, \"current\": 0.0348, \"std_time_ms\": \"2020-01-26 17:44:11.763276\"}',\n",
       " '{\"description\": \"test_2\", \"sample_n\": 4, \"voltage\": 0.78, \"current\": 0.0349, \"std_time_ms\": \"2020-01-26 17:44:11.766650\"}']"
      ]
     },
     "execution_count": 15,
     "metadata": {},
     "output_type": "execute_result"
    }
   ],
   "source": [
    "# writing method with description and sample number\n",
    "dev.publish(description='test_2', n=5)"
   ]
  },
  {
   "cell_type": "markdown",
   "metadata": {},
   "source": [
    "#### JSON Writer Output"
   ]
  },
  {
   "cell_type": "code",
   "execution_count": 16,
   "metadata": {},
   "outputs": [],
   "source": [
    "# default writer format is CSV, switch to JSON\n",
    "dev.writer_output = 'json'"
   ]
  },
  {
   "cell_type": "code",
   "execution_count": 17,
   "metadata": {},
   "outputs": [],
   "source": [
    "# writer method with description and sample number\n",
    "dev.write(description='test_3', n=30)"
   ]
  },
  {
   "cell_type": "code",
   "execution_count": 18,
   "metadata": {},
   "outputs": [
    {
     "data": {
      "text/plain": [
       "'2020_01_26_17_44_13.jsontxt'"
      ]
     },
     "execution_count": 18,
     "metadata": {},
     "output_type": "execute_result"
    }
   ],
   "source": [
    "dev.json_writer.path"
   ]
  },
  {
   "cell_type": "code",
   "execution_count": 19,
   "metadata": {},
   "outputs": [
    {
     "name": "stdout",
     "output_type": "stream",
     "text": [
      "{\"description\": \"test_3\", \"sample_n\": 0, \"voltage\": 0.848, \"current\": 0.0348, \"std_time_ms\": \"2020-01-26 17:44:13.382129\"}\n",
      "{\"description\": \"test_3\", \"sample_n\": 1, \"voltage\": 0.056, \"current\": 0.0349, \"std_time_ms\": \"2020-01-26 17:44:13.385415\"}\n",
      "{\"description\": null, \"sample_n\": 2, \"voltage\": 0.792, \"current\": 0.0349, \"std_time_ms\": \"2020-01-26 17:44:13.400420\", \"name\": \"INA219\", \"title\": null, \"format\": null, \"encoding\": \"utf-8\", \"bytes\": null, \"hash\": null, \"schema\": null, \"sources\": null, \"licenses\": null, \"line_terminator\": \"\\n\", \"quote_char\": \"\\\"\", \"double_quote\": true, \"escape_char\": \"\\\\\", \"null_sequence\": \"NA\", \"comment\": \"#\", \"skip_lines\": 0, \"path\": \"2020_01_26_17_44_13.jsontxt\", \"device\": {\"name\": \"INA219\", \"version_hw\": \"1.0\", \"version_sw\": \"1.0\", \"accuracy\": null, \"precision\": \"12bit\", \"bus\": \"<meerkat.i2c_pi.WrapI2C object at 0xacfccab0>\", \"state\": null, \"active\": null, \"error\": null, \"dtype\": null, \"description\": \"Texas Instruments Bidirectional Current Monitor\", \"urls\": \"www.ti.com/product/ADS1115\", \"manufacturer\": \"Texas Instruments\", \"calibration_date\": null, \"bus_voltage_range\": 32, \"gain\": 8, \"gain_string\": \"+/- 320 mV\", \"bus_adc_resolution\": 12, \"bus_adc_averaging\": null, \"shunt_adc_resolution\": 12, \"shunt_adc_averaging\": null, \"mode\": 7, \"mode_description\": \"shunt and bus voltages, continuous\", \"r_shunt\": 0.1}, \"units\": null, \"dtypes\": null, \"accuracy\": null, \"precision\": null, \"time_format\": \"std_time_ms\", \"strfmtime\": \"%Y-%m-%d %H:%M:%S.%f\", \"version\": \"0.1 Alpha\", \"standard\": \"RFC 8259\", \"media_type\": \"text/json\", \"metadata_interval\": 3, \"metadata_file_i\": 0, \"metadata_stream_i\": 3, \"header\": [\"description\", \"sample_n\", \"voltage\", \"current\"]}\n",
      "{\"description\": \"test_3\", \"sample_n\": 3, \"voltage\": 0.144, \"current\": 0.0351, \"std_time_ms\": \"2020-01-26 17:44:13.403753\"}\n"
     ]
    }
   ],
   "source": [
    "with open(dev.json_writer.path, 'r') as f:\n",
    "    for _ in range(4):\n",
    "        print(f.readline().strip())"
   ]
  },
  {
   "cell_type": "markdown",
   "metadata": {},
   "source": [
    "#### CSV Writer Output"
   ]
  },
  {
   "cell_type": "code",
   "execution_count": 20,
   "metadata": {},
   "outputs": [],
   "source": [
    "# switch back to CSV format\n",
    "dev.writer_output = 'csv'"
   ]
  },
  {
   "cell_type": "code",
   "execution_count": 21,
   "metadata": {},
   "outputs": [],
   "source": [
    "# writer method with description and sample number\n",
    "dev.write(description='test_4', n=30)"
   ]
  },
  {
   "cell_type": "code",
   "execution_count": 22,
   "metadata": {},
   "outputs": [
    {
     "data": {
      "text/plain": [
       "'2020_01_26_17_44_13_data.csv'"
      ]
     },
     "execution_count": 22,
     "metadata": {},
     "output_type": "execute_result"
    }
   ],
   "source": [
    "dev.csv_writer.path"
   ]
  },
  {
   "cell_type": "code",
   "execution_count": 23,
   "metadata": {},
   "outputs": [],
   "source": [
    "# load .csv data written with dev.write\n",
    "m, df = parser.csv_resource(dev.csv_writer.path)"
   ]
  },
  {
   "cell_type": "markdown",
   "metadata": {},
   "source": [
    "#### Metadata in CSV"
   ]
  },
  {
   "cell_type": "code",
   "execution_count": 24,
   "metadata": {},
   "outputs": [
    {
     "data": {
      "text/plain": [
       "{'name': 'INA219',\n",
       " 'title': None,\n",
       " 'description': None,\n",
       " 'format': None,\n",
       " 'encoding': 'utf-8',\n",
       " 'bytes': None,\n",
       " 'hash': None,\n",
       " 'schema': None,\n",
       " 'sources': None,\n",
       " 'licenses': None,\n",
       " 'line_terminator': '\\n',\n",
       " 'quote_char': '\"',\n",
       " 'double_quote': True,\n",
       " 'escape_char': '\\\\',\n",
       " 'null_sequence': 'NA',\n",
       " 'comment': '#',\n",
       " 'skip_lines': 1,\n",
       " 'path': '2020_01_26_17_44_13_data.csv',\n",
       " 'device': {'name': 'INA219',\n",
       "  'version_hw': '1.0',\n",
       "  'version_sw': '1.0',\n",
       "  'accuracy': None,\n",
       "  'precision': '12bit',\n",
       "  'bus': '<meerkat.i2c_pi.WrapI2C object at 0xacfccab0>',\n",
       "  'state': None,\n",
       "  'active': None,\n",
       "  'error': None,\n",
       "  'dtype': None,\n",
       "  'description': 'Texas Instruments Bidirectional Current Monitor',\n",
       "  'urls': 'www.ti.com/product/ADS1115',\n",
       "  'manufacturer': 'Texas Instruments',\n",
       "  'calibration_date': None,\n",
       "  'bus_voltage_range': 32,\n",
       "  'gain': 8,\n",
       "  'gain_string': '+/- 320 mV',\n",
       "  'bus_adc_resolution': 12,\n",
       "  'bus_adc_averaging': None,\n",
       "  'shunt_adc_resolution': 12,\n",
       "  'shunt_adc_averaging': None,\n",
       "  'mode': 7,\n",
       "  'mode_description': 'shunt and bus voltages, continuous',\n",
       "  'r_shunt': 0.1},\n",
       " 'units': None,\n",
       " 'dtypes': None,\n",
       " 'accuracy': None,\n",
       " 'precision': None,\n",
       " 'time_format': 'std_time_ms',\n",
       " 'strfmtime': '%Y-%m-%d %H:%M:%S.%f',\n",
       " 'version': '0.1 Alpha',\n",
       " 'standard': 'Follow RFC 4180',\n",
       " 'media_type': 'text/csv',\n",
       " 'header': ['description', 'sample_n', 'voltage', 'current'],\n",
       " 'delimiter': ',',\n",
       " 'skip_initial_space': True,\n",
       " 'case_sensitive_header': False}"
      ]
     },
     "execution_count": 24,
     "metadata": {},
     "output_type": "execute_result"
    }
   ],
   "source": [
    "m"
   ]
  },
  {
   "cell_type": "markdown",
   "metadata": {},
   "source": [
    "#### Parsed CSV data"
   ]
  },
  {
   "cell_type": "code",
   "execution_count": 25,
   "metadata": {},
   "outputs": [
    {
     "data": {
      "text/html": [
       "<div>\n",
       "<style scoped>\n",
       "    .dataframe tbody tr th:only-of-type {\n",
       "        vertical-align: middle;\n",
       "    }\n",
       "\n",
       "    .dataframe tbody tr th {\n",
       "        vertical-align: top;\n",
       "    }\n",
       "\n",
       "    .dataframe thead th {\n",
       "        text-align: right;\n",
       "    }\n",
       "</style>\n",
       "<table border=\"1\" class=\"dataframe\">\n",
       "  <thead>\n",
       "    <tr style=\"text-align: right;\">\n",
       "      <th></th>\n",
       "      <th>std_time_ms</th>\n",
       "      <th>description</th>\n",
       "      <th>sample_n</th>\n",
       "      <th>voltage</th>\n",
       "      <th>current</th>\n",
       "      <th>datetime64_ns</th>\n",
       "    </tr>\n",
       "  </thead>\n",
       "  <tbody>\n",
       "    <tr>\n",
       "      <th>0</th>\n",
       "      <td>2020-01-26 17:44:13.679595</td>\n",
       "      <td>test_4</td>\n",
       "      <td>0</td>\n",
       "      <td>0.864</td>\n",
       "      <td>0.0347</td>\n",
       "      <td>2020-01-26 17:44:13.679595</td>\n",
       "    </tr>\n",
       "    <tr>\n",
       "      <th>1</th>\n",
       "      <td>2020-01-26 17:44:13.683146</td>\n",
       "      <td>test_4</td>\n",
       "      <td>1</td>\n",
       "      <td>0.840</td>\n",
       "      <td>0.0348</td>\n",
       "      <td>2020-01-26 17:44:13.683146</td>\n",
       "    </tr>\n",
       "    <tr>\n",
       "      <th>2</th>\n",
       "      <td>2020-01-26 17:44:13.686729</td>\n",
       "      <td>test_4</td>\n",
       "      <td>2</td>\n",
       "      <td>0.052</td>\n",
       "      <td>0.0347</td>\n",
       "      <td>2020-01-26 17:44:13.686729</td>\n",
       "    </tr>\n",
       "    <tr>\n",
       "      <th>3</th>\n",
       "      <td>2020-01-26 17:44:13.697346</td>\n",
       "      <td>test_4</td>\n",
       "      <td>3</td>\n",
       "      <td>1.108</td>\n",
       "      <td>0.0349</td>\n",
       "      <td>2020-01-26 17:44:13.697346</td>\n",
       "    </tr>\n",
       "    <tr>\n",
       "      <th>4</th>\n",
       "      <td>2020-01-26 17:44:13.701509</td>\n",
       "      <td>test_4</td>\n",
       "      <td>4</td>\n",
       "      <td>0.800</td>\n",
       "      <td>0.0349</td>\n",
       "      <td>2020-01-26 17:44:13.701509</td>\n",
       "    </tr>\n",
       "  </tbody>\n",
       "</table>\n",
       "</div>"
      ],
      "text/plain": [
       "                  std_time_ms description  sample_n  voltage  current  \\\n",
       "0  2020-01-26 17:44:13.679595      test_4         0    0.864   0.0347   \n",
       "1  2020-01-26 17:44:13.683146      test_4         1    0.840   0.0348   \n",
       "2  2020-01-26 17:44:13.686729      test_4         2    0.052   0.0347   \n",
       "3  2020-01-26 17:44:13.697346      test_4         3    1.108   0.0349   \n",
       "4  2020-01-26 17:44:13.701509      test_4         4    0.800   0.0349   \n",
       "\n",
       "               datetime64_ns  \n",
       "0 2020-01-26 17:44:13.679595  \n",
       "1 2020-01-26 17:44:13.683146  \n",
       "2 2020-01-26 17:44:13.686729  \n",
       "3 2020-01-26 17:44:13.697346  \n",
       "4 2020-01-26 17:44:13.701509  "
      ]
     },
     "execution_count": 25,
     "metadata": {},
     "output_type": "execute_result"
    }
   ],
   "source": [
    "df.head()"
   ]
  },
  {
   "cell_type": "code",
   "execution_count": 26,
   "metadata": {},
   "outputs": [],
   "source": [
    "# Pandas 0.24.1 hack\n",
    "df.datetime64_ns = df.datetime64_ns.dt.tz_localize('UTC')"
   ]
  },
  {
   "cell_type": "code",
   "execution_count": 43,
   "metadata": {},
   "outputs": [],
   "source": [
    "def plot_2ax(df, x, y0, y1):\n",
    "    fig0, ax0 = plt.subplots()\n",
    "    ax1 = ax0.twinx()\n",
    "    ax0.plot(df[x], df[y0], label=y0, color=\"orange\", marker=\"x\")\n",
    "    ax0.plot([df[x].min(), df[x].max()],\n",
    "             [df[y0].mean(), df[y0].mean()], color=\"orange\",\n",
    "             linestyle=\":\")\n",
    "    ax1.plot(df[x], df[y1], label=y1, color=\"green\", marker=\"+\")\n",
    "    ax1.plot([df[x].min(), df[x].max()],\n",
    "             [df[y1].mean(), df[y1].mean()], color=\"green\",\n",
    "             linestyle=\":\")\n",
    "    ax0.set_ylabel(y0)\n",
    "    ax1.set_ylabel(y1)\n",
    "    \n",
    "    plt.show()\n",
    "    plt.close()"
   ]
  },
  {
   "cell_type": "code",
   "execution_count": 44,
   "metadata": {},
   "outputs": [
    {
     "data": {
      "image/png": "[encoded data removed]",
      "text/plain": [
       "<Figure size 432x288 with 2 Axes>"
      ]
     },
     "metadata": {
      "needs_background": "light"
     },
     "output_type": "display_data"
    }
   ],
   "source": [
    "plot_2ax(df=df, x=\"datetime64_ns\", y0=\"voltage\", y1=\"current\")"
   ]
  },
  {
   "cell_type": "code",
   "execution_count": 45,
   "metadata": {},
   "outputs": [
    {
     "name": "stdout",
     "output_type": "stream",
     "text": [
      "Sample Rate: 238.7680 Hz\n"
     ]
    }
   ],
   "source": [
    "dt = df.datetime64_ns[len(df)-1]-df.datetime64_ns[0]\n",
    "dtt = dt.seconds + dt.microseconds / 10**6\n",
    "print('Sample Rate: {:.4f} Hz'.format(len(df)/dtt))"
   ]
  }
 ],
 "metadata": {
  "kernelspec": {
   "display_name": "Python 3",
   "language": "python",
   "name": "python3"
  },
  "language_info": {
   "codemirror_mode": {
    "name": "ipython",
    "version": 3
   },
   "file_extension": ".py",
   "mimetype": "text/x-python",
   "name": "python",
   "nbconvert_exporter": "python",
   "pygments_lexer": "ipython3",
   "version": "3.7.3"
  }
 },
 "nbformat": 4,
 "nbformat_minor": 4
}

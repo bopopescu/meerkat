{
 "cells": [
  {
   "cell_type": "markdown",
   "metadata": {},
   "source": [
    "## INA219  \n",
    "The INA219 is a current shunt and power monitor with programmable conversion times and filtering.  \n",
    "\n",
    "Manufacturer link: http://www.ti.com/product/INA219  \n",
    "\n",
    "Breakout board used: https://www.adafruit.com/product/904"
   ]
  },
  {
   "cell_type": "code",
   "execution_count": 1,
   "metadata": {},
   "outputs": [],
   "source": [
    "import matplotlib.pyplot as plt\n",
    "\n",
    "from meerkat.ina219 import INA219\n",
    "from meerkat import base, parser, tools"
   ]
  },
  {
   "cell_type": "code",
   "execution_count": 2,
   "metadata": {},
   "outputs": [],
   "source": [
    "# bus number 1 on Raspberry Pi\n",
    "dev = INA219(bus_n=1, bus_addr=0x40, output='csv')"
   ]
  },
  {
   "cell_type": "code",
   "execution_count": 3,
   "metadata": {},
   "outputs": [],
   "source": [
    "dev.verbose = True"
   ]
  },
  {
   "cell_type": "markdown",
   "metadata": {},
   "source": [
    "#### Configuration"
   ]
  },
  {
   "cell_type": "code",
   "execution_count": 4,
   "metadata": {},
   "outputs": [
    {
     "name": "stdout",
     "output_type": "stream",
     "text": [
      "Writing to 'config' registry # 0\n",
      "HEX value: 0xb99f\n",
      "Binary value:\n",
      "1011100110011111\n",
      "1111110000000000\n",
      "5432109876543210\n"
     ]
    }
   ],
   "source": [
    "# reset all configuration settings\n",
    "dev.reset()"
   ]
  },
  {
   "cell_type": "markdown",
   "metadata": {},
   "source": [
    "#### Measurement"
   ]
  },
  {
   "cell_type": "markdown",
   "metadata": {},
   "source": [
    "For this example, device is connected to a Raspberry Pi 3 5V supply."
   ]
  },
  {
   "cell_type": "code",
   "execution_count": 5,
   "metadata": {},
   "outputs": [
    {
     "data": {
      "text/plain": [
       "0.65532"
      ]
     },
     "execution_count": 5,
     "metadata": {},
     "output_type": "execute_result"
    }
   ],
   "source": [
    "dev.get_shunt_voltage()"
   ]
  },
  {
   "cell_type": "code",
   "execution_count": 6,
   "metadata": {},
   "outputs": [
    {
     "data": {
      "text/plain": [
       "0.892"
      ]
     },
     "execution_count": 6,
     "metadata": {},
     "output_type": "execute_result"
    }
   ],
   "source": [
    "dev.get_bus_voltage()"
   ]
  },
  {
   "cell_type": "code",
   "execution_count": 7,
   "metadata": {},
   "outputs": [
    {
     "data": {
      "text/plain": [
       "6.5535"
      ]
     },
     "execution_count": 7,
     "metadata": {},
     "output_type": "execute_result"
    }
   ],
   "source": [
    "dev.get_current_simple()"
   ]
  },
  {
   "cell_type": "markdown",
   "metadata": {},
   "source": [
    "#### Calibration"
   ]
  },
  {
   "cell_type": "markdown",
   "metadata": {},
   "source": [
    "Calibration Register enables the user to scale the Current Register and Power Register to the most useful value for a given application.  Refer to the datasheet for details"
   ]
  },
  {
   "cell_type": "code",
   "execution_count": 8,
   "metadata": {},
   "outputs": [
    {
     "name": "stdout",
     "output_type": "stream",
     "text": [
      "Writing to 'calibration' registry # 5\n",
      "HEX value: 0x2800\n",
      "Binary value:\n",
      "0010100000000000\n",
      "1111110000000000\n",
      "5432109876543210\n"
     ]
    }
   ],
   "source": [
    "dev.set_calibration(10240)\n",
    "base.time.sleep(0.1)"
   ]
  },
  {
   "cell_type": "code",
   "execution_count": 9,
   "metadata": {},
   "outputs": [
    {
     "data": {
      "text/plain": [
       "10240"
      ]
     },
     "execution_count": 9,
     "metadata": {},
     "output_type": "execute_result"
    }
   ],
   "source": [
    "# confirm calibration value\n",
    "dev.get_calibration()"
   ]
  },
  {
   "cell_type": "code",
   "execution_count": 10,
   "metadata": {},
   "outputs": [
    {
     "data": {
      "text/plain": [
       "0.65532"
      ]
     },
     "execution_count": 10,
     "metadata": {},
     "output_type": "execute_result"
    }
   ],
   "source": [
    "dev.get_shunt_voltage()"
   ]
  },
  {
   "cell_type": "code",
   "execution_count": 11,
   "metadata": {},
   "outputs": [
    {
     "data": {
      "text/plain": [
       "0.888"
      ]
     },
     "execution_count": 11,
     "metadata": {},
     "output_type": "execute_result"
    }
   ],
   "source": [
    "dev.get_bus_voltage()"
   ]
  },
  {
   "cell_type": "code",
   "execution_count": 12,
   "metadata": {},
   "outputs": [
    {
     "data": {
      "text/plain": [
       "6.553299999999999"
      ]
     },
     "execution_count": 12,
     "metadata": {},
     "output_type": "execute_result"
    }
   ],
   "source": [
    "# simple return, just float\n",
    "dev.get_current_simple()"
   ]
  },
  {
   "cell_type": "code",
   "execution_count": 13,
   "metadata": {},
   "outputs": [
    {
     "data": {
      "text/plain": [
       "[['test_1', 1, 0.888, 6.5535],\n",
       " ['test_1', 2, 0.888, 6.553299999999999],\n",
       " ['test_1', 3, 0.888, 6.553299999999999],\n",
       " ['test_1', 4, 0.888, 6.553299999999999],\n",
       " ['test_1', 5, 0.888, 6.553299999999999]]"
      ]
     },
     "execution_count": 13,
     "metadata": {},
     "output_type": "execute_result"
    }
   ],
   "source": [
    "# get method, list with description and sample number\n",
    "dev.get(description='test_1', n=5)"
   ]
  },
  {
   "cell_type": "markdown",
   "metadata": {},
   "source": [
    "#### JSON Data Publishing"
   ]
  },
  {
   "cell_type": "code",
   "execution_count": null,
   "metadata": {},
   "outputs": [],
   "source": []
  },
  {
   "cell_type": "code",
   "execution_count": 14,
   "metadata": {},
   "outputs": [],
   "source": [
    "# writer method with description and sample number\n",
    "dev.write(description='test_2', n=5)"
   ]
  },
  {
   "cell_type": "markdown",
   "metadata": {},
   "source": [
    "#### CSV Writer Output"
   ]
  },
  {
   "cell_type": "code",
   "execution_count": 16,
   "metadata": {},
   "outputs": [
    {
     "data": {
      "text/plain": [
       "'2020_01_20_15_26_20_data.csv'"
      ]
     },
     "execution_count": 16,
     "metadata": {},
     "output_type": "execute_result"
    }
   ],
   "source": [
    "dev.csv_writer.path"
   ]
  },
  {
   "cell_type": "code",
   "execution_count": 17,
   "metadata": {},
   "outputs": [],
   "source": [
    "# load .csv data written with dev.write\n",
    "m, df = parser.csv_resource(dev.csv_writer.path)"
   ]
  },
  {
   "cell_type": "code",
   "execution_count": 18,
   "metadata": {},
   "outputs": [
    {
     "data": {
      "text/html": [
       "<div>\n",
       "<style scoped>\n",
       "    .dataframe tbody tr th:only-of-type {\n",
       "        vertical-align: middle;\n",
       "    }\n",
       "\n",
       "    .dataframe tbody tr th {\n",
       "        vertical-align: top;\n",
       "    }\n",
       "\n",
       "    .dataframe thead th {\n",
       "        text-align: right;\n",
       "    }\n",
       "</style>\n",
       "<table border=\"1\" class=\"dataframe\">\n",
       "  <thead>\n",
       "    <tr style=\"text-align: right;\">\n",
       "      <th></th>\n",
       "      <th>std_time_ms</th>\n",
       "      <th>description</th>\n",
       "      <th>sample_n</th>\n",
       "      <th>voltage</th>\n",
       "      <th>current</th>\n",
       "      <th>datetime64_ns</th>\n",
       "    </tr>\n",
       "  </thead>\n",
       "  <tbody>\n",
       "    <tr>\n",
       "      <th>0</th>\n",
       "      <td>2020-01-20 15:26:20.028397</td>\n",
       "      <td>test_2</td>\n",
       "      <td>0</td>\n",
       "      <td>0.892</td>\n",
       "      <td>6.5532</td>\n",
       "      <td>2020-01-20 15:26:20.028397</td>\n",
       "    </tr>\n",
       "    <tr>\n",
       "      <th>1</th>\n",
       "      <td>2020-01-20 15:26:20.031822</td>\n",
       "      <td>test_2</td>\n",
       "      <td>1</td>\n",
       "      <td>0.892</td>\n",
       "      <td>6.5533</td>\n",
       "      <td>2020-01-20 15:26:20.031822</td>\n",
       "    </tr>\n",
       "    <tr>\n",
       "      <th>2</th>\n",
       "      <td>2020-01-20 15:26:20.035298</td>\n",
       "      <td>test_2</td>\n",
       "      <td>2</td>\n",
       "      <td>0.888</td>\n",
       "      <td>6.5532</td>\n",
       "      <td>2020-01-20 15:26:20.035298</td>\n",
       "    </tr>\n",
       "    <tr>\n",
       "      <th>3</th>\n",
       "      <td>2020-01-20 15:26:20.046996</td>\n",
       "      <td>test_2</td>\n",
       "      <td>3</td>\n",
       "      <td>0.892</td>\n",
       "      <td>6.5533</td>\n",
       "      <td>2020-01-20 15:26:20.046996</td>\n",
       "    </tr>\n",
       "    <tr>\n",
       "      <th>4</th>\n",
       "      <td>2020-01-20 15:26:20.050824</td>\n",
       "      <td>test_2</td>\n",
       "      <td>4</td>\n",
       "      <td>0.888</td>\n",
       "      <td>6.5532</td>\n",
       "      <td>2020-01-20 15:26:20.050824</td>\n",
       "    </tr>\n",
       "  </tbody>\n",
       "</table>\n",
       "</div>"
      ],
      "text/plain": [
       "                  std_time_ms description  sample_n  voltage  current  \\\n",
       "0  2020-01-20 15:26:20.028397      test_2         0    0.892   6.5532   \n",
       "1  2020-01-20 15:26:20.031822      test_2         1    0.892   6.5533   \n",
       "2  2020-01-20 15:26:20.035298      test_2         2    0.888   6.5532   \n",
       "3  2020-01-20 15:26:20.046996      test_2         3    0.892   6.5533   \n",
       "4  2020-01-20 15:26:20.050824      test_2         4    0.888   6.5532   \n",
       "\n",
       "               datetime64_ns  \n",
       "0 2020-01-20 15:26:20.028397  \n",
       "1 2020-01-20 15:26:20.031822  \n",
       "2 2020-01-20 15:26:20.035298  \n",
       "3 2020-01-20 15:26:20.046996  \n",
       "4 2020-01-20 15:26:20.050824  "
      ]
     },
     "execution_count": 18,
     "metadata": {},
     "output_type": "execute_result"
    }
   ],
   "source": [
    "df.head()"
   ]
  },
  {
   "cell_type": "code",
   "execution_count": 19,
   "metadata": {},
   "outputs": [
    {
     "data": {
      "image/png": "[encoded data removed]",
      "text/plain": [
       "<Figure size 432x288 with 1 Axes>"
      ]
     },
     "metadata": {
      "needs_background": "light"
     },
     "output_type": "display_data"
    }
   ],
   "source": [
    "df.datetime64_ns = df.datetime64_ns.dt.tz_localize('UTC')  # Pandas 0.24.1 hack\n",
    "df[[\"datetime64_ns\", \"voltage\", \"current\"]].plot(x=\"datetime64_ns\");"
   ]
  },
  {
   "cell_type": "code",
   "execution_count": 20,
   "metadata": {},
   "outputs": [
    {
     "data": {
      "text/plain": [
       "{'name': 'INA219',\n",
       " 'title': None,\n",
       " 'description': None,\n",
       " 'format': None,\n",
       " 'encoding': 'utf-8',\n",
       " 'bytes': None,\n",
       " 'hash': None,\n",
       " 'schema': None,\n",
       " 'sources': None,\n",
       " 'licenses': None,\n",
       " 'line_terminator': '\\n',\n",
       " 'quote_char': '\"',\n",
       " 'double_quote': True,\n",
       " 'escape_char': '\\\\',\n",
       " 'null_sequence': 'NA',\n",
       " 'comment': '#',\n",
       " 'skip_lines': 1,\n",
       " 'path': '2020_01_20_15_26_20_data.csv',\n",
       " 'device': {'name': 'INA219',\n",
       "  'version_hw': '1.0',\n",
       "  'version_sw': '1.0',\n",
       "  'accuracy': None,\n",
       "  'precision': '12bit',\n",
       "  'bus': '<meerkat.i2c_pi.WrapI2C object at 0xad01e9f0>',\n",
       "  'state': None,\n",
       "  'active': None,\n",
       "  'error': None,\n",
       "  'dtype': None,\n",
       "  'description': 'Texas Instruments Bidirectional Current Monitor',\n",
       "  'urls': 'www.ti.com/product/ADS1115',\n",
       "  'manufacturer': 'Texas Instruments',\n",
       "  'calibration_date': None,\n",
       "  'bus_voltage_range': 32,\n",
       "  'gain': 8,\n",
       "  'gain_string': '+/- 320 mV',\n",
       "  'bus_adc_resolution': 12,\n",
       "  'bus_adc_averaging': None,\n",
       "  'shunt_adc_resolution': 12,\n",
       "  'shunt_adc_averaging': None,\n",
       "  'mode': 7,\n",
       "  'mode_description': 'shunt and bus voltages, continuous',\n",
       "  'r_shunt': 0.1},\n",
       " 'units': None,\n",
       " 'dtypes': None,\n",
       " 'accuracy': None,\n",
       " 'precision': None,\n",
       " 'time_format': 'std_time_ms',\n",
       " 'strfmtime': '%Y-%m-%d %H:%M:%S.%f',\n",
       " 'version': '0.1 Alpha',\n",
       " 'standard': 'Follow RFC 4180',\n",
       " 'media_type': 'text/csv',\n",
       " 'header': ['description', 'sample_n', 'voltage', 'current'],\n",
       " 'delimiter': ',',\n",
       " 'skip_initial_space': True,\n",
       " 'case_sensitive_header': False}"
      ]
     },
     "execution_count": 20,
     "metadata": {},
     "output_type": "execute_result"
    }
   ],
   "source": [
    "m"
   ]
  },
  {
   "cell_type": "markdown",
   "metadata": {},
   "source": [
    "#### JSON Writer Output"
   ]
  },
  {
   "cell_type": "raw",
   "metadata": {},
   "source": [
    "# reinitialize to JSON output\n",
    "dev = INA219(bus_n=1, output='json')"
   ]
  },
  {
   "cell_type": "code",
   "execution_count": 21,
   "metadata": {},
   "outputs": [
    {
     "data": {
      "text/plain": [
       "['{\"description\": \"test_4\", \"sample_n\": 0, \"voltage\": 0.888, \"current\": 6.5531999999999995, \"std_time_ms\": \"2020-01-20 15:27:09.692849\"}',\n",
       " '{\"description\": \"test_4\", \"sample_n\": 1, \"voltage\": 0.884, \"current\": 6.5531999999999995, \"std_time_ms\": \"2020-01-20 15:27:09.696351\"}',\n",
       " '{\"description\": \"test_4\", \"sample_n\": 2, \"voltage\": 0.888, \"current\": 6.5535, \"std_time_ms\": \"2020-01-20 15:27:09.699429\"}',\n",
       " '{\"description\": \"test_4\", \"sample_n\": 3, \"voltage\": 0.888, \"current\": 6.5534, \"std_time_ms\": \"2020-01-20 15:27:09.702428\"}',\n",
       " '{\"description\": \"test_4\", \"sample_n\": 4, \"voltage\": 0.888, \"current\": 6.5531999999999995, \"std_time_ms\": \"2020-01-20 15:27:09.705462\"}']"
      ]
     },
     "execution_count": 21,
     "metadata": {},
     "output_type": "execute_result"
    }
   ],
   "source": [
    "# writing method with description and sample number\n",
    "dev.publish(description='test_4', n=5)"
   ]
  },
  {
   "cell_type": "raw",
   "metadata": {},
   "source": [
    "with open(dev.writer.path, 'r') as f:\n",
    "    print(f.readline())"
   ]
  }
 ],
 "metadata": {
  "kernelspec": {
   "display_name": "Python 3",
   "language": "python",
   "name": "python3"
  },
  "language_info": {
   "codemirror_mode": {
    "name": "ipython",
    "version": 3
   },
   "file_extension": ".py",
   "mimetype": "text/x-python",
   "name": "python",
   "nbconvert_exporter": "python",
   "pygments_lexer": "ipython3",
   "version": "3.7.3"
  }
 },
 "nbformat": 4,
 "nbformat_minor": 4
}

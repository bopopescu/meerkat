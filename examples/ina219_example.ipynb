{
 "cells": [
  {
   "cell_type": "markdown",
   "metadata": {},
   "source": [
    "## INA219  \n",
    "The INA219 is a current shunt and power monitor with an I2C- or SMBUS-compatible interface. The device monitors both shunt voltage drop and bus supply voltage, with programmable conversion times and filtering.  \n",
    "\n",
    "Manufacturer link: http://www.ti.com/product/INA219  \n",
    "\n",
    "Breakout board used: https://www.adafruit.com/product/904"
   ]
  },
  {
   "cell_type": "code",
   "execution_count": 1,
   "metadata": {},
   "outputs": [],
   "source": [
    "import matplotlib.pyplot as plt\n",
    "\n",
    "from meerkat.ina219 import INA219\n",
    "from meerkat import base, parser, tools"
   ]
  },
  {
   "cell_type": "code",
   "execution_count": 2,
   "metadata": {},
   "outputs": [],
   "source": [
    "# bus number 1 on Raspberry Pi\n",
    "dev = INA219(bus_n=1)"
   ]
  },
  {
   "cell_type": "code",
   "execution_count": 3,
   "metadata": {},
   "outputs": [],
   "source": [
    "dev.verbose = True"
   ]
  },
  {
   "cell_type": "code",
   "execution_count": 4,
   "metadata": {},
   "outputs": [
    {
     "name": "stdout",
     "output_type": "stream",
     "text": [
      "HEX value: 0x399f\n",
      "0011100110011111\n",
      "1111110000000000\n",
      "5432109876543210\n"
     ]
    }
   ],
   "source": [
    "# get configuration register contents\n",
    "config = dev.get_config()\n",
    "tools.bprint(config)\n",
    "base.time.sleep(0.1)"
   ]
  },
  {
   "cell_type": "markdown",
   "metadata": {},
   "source": [
    "Note: bprint outputs bits and two rows of bit index lists\n",
    "```\n",
    "0\n",
    "1   => bit 14 is set to 0\n",
    "4\n",
    "```"
   ]
  },
  {
   "cell_type": "code",
   "execution_count": 5,
   "metadata": {},
   "outputs": [
    {
     "name": "stdout",
     "output_type": "stream",
     "text": [
      "Writing to 'config' registry # 0\n",
      "Sending HEX value:  0xb99f\n",
      "Sending Binary value:\n",
      "HEX value: 0xb99f\n",
      "1011100110011111\n",
      "1111110000000000\n",
      "5432109876543210\n"
     ]
    }
   ],
   "source": [
    "# reset all configuration settings\n",
    "dev.reset()"
   ]
  },
  {
   "cell_type": "markdown",
   "metadata": {},
   "source": [
    "For this example, device is connected to a Raspberry Pi 3 5V supply."
   ]
  },
  {
   "cell_type": "code",
   "execution_count": 6,
   "metadata": {},
   "outputs": [
    {
     "data": {
      "text/plain": [
       "0.05797"
      ]
     },
     "execution_count": 6,
     "metadata": {},
     "output_type": "execute_result"
    }
   ],
   "source": [
    "dev.get_shunt_voltage()"
   ]
  },
  {
   "cell_type": "code",
   "execution_count": 7,
   "metadata": {},
   "outputs": [
    {
     "data": {
      "text/plain": [
       "4.616"
      ]
     },
     "execution_count": 7,
     "metadata": {},
     "output_type": "execute_result"
    }
   ],
   "source": [
    "dev.get_bus_voltage()"
   ]
  },
  {
   "cell_type": "code",
   "execution_count": 8,
   "metadata": {},
   "outputs": [
    {
     "data": {
      "text/plain": [
       "0.5782999999999999"
      ]
     },
     "execution_count": 8,
     "metadata": {},
     "output_type": "execute_result"
    }
   ],
   "source": [
    "dev.get_current_simple()"
   ]
  },
  {
   "cell_type": "markdown",
   "metadata": {},
   "source": [
    "Calibration Register enables the user to scale the Current Register and Power Register to the most useful value for a given application.  Refer to the datasheet for details"
   ]
  },
  {
   "cell_type": "code",
   "execution_count": 9,
   "metadata": {},
   "outputs": [
    {
     "name": "stdout",
     "output_type": "stream",
     "text": [
      "Writing to 'calibration' registry # 5\n",
      "Sending HEX value:  0x2800\n",
      "Sending Binary value:\n",
      "HEX value: 0x2800\n",
      "0010100000000000\n",
      "1111110000000000\n",
      "5432109876543210\n"
     ]
    }
   ],
   "source": [
    "dev.set_calibration(10240)\n",
    "base.time.sleep(0.1)"
   ]
  },
  {
   "cell_type": "code",
   "execution_count": 10,
   "metadata": {},
   "outputs": [
    {
     "data": {
      "text/plain": [
       "10240"
      ]
     },
     "execution_count": 10,
     "metadata": {},
     "output_type": "execute_result"
    }
   ],
   "source": [
    "# confirm calibration value\n",
    "dev.get_calibration()"
   ]
  },
  {
   "cell_type": "code",
   "execution_count": 11,
   "metadata": {},
   "outputs": [
    {
     "data": {
      "text/plain": [
       "0.05785"
      ]
     },
     "execution_count": 11,
     "metadata": {},
     "output_type": "execute_result"
    }
   ],
   "source": [
    "dev.get_shunt_voltage()"
   ]
  },
  {
   "cell_type": "code",
   "execution_count": 12,
   "metadata": {},
   "outputs": [
    {
     "data": {
      "text/plain": [
       "4.62"
      ]
     },
     "execution_count": 12,
     "metadata": {},
     "output_type": "execute_result"
    }
   ],
   "source": [
    "dev.get_bus_voltage()"
   ]
  },
  {
   "cell_type": "code",
   "execution_count": 13,
   "metadata": {},
   "outputs": [
    {
     "data": {
      "text/plain": [
       "0.5793"
      ]
     },
     "execution_count": 13,
     "metadata": {},
     "output_type": "execute_result"
    }
   ],
   "source": [
    "# simple return, just float\n",
    "dev.get_current_simple()"
   ]
  },
  {
   "cell_type": "code",
   "execution_count": 14,
   "metadata": {},
   "outputs": [
    {
     "data": {
      "text/plain": [
       "[['test_1', 1, 4.616, 0.5788],\n",
       " ['test_1', 2, 4.604, 0.5786],\n",
       " ['test_1', 3, 4.612, 0.5779],\n",
       " ['test_1', 4, 4.616, 0.5771999999999999],\n",
       " ['test_1', 5, 4.616, 0.578]]"
      ]
     },
     "execution_count": 14,
     "metadata": {},
     "output_type": "execute_result"
    }
   ],
   "source": [
    "# standard method, list with description and sample number\n",
    "dev.get(description='test_1', n=5)"
   ]
  },
  {
   "cell_type": "code",
   "execution_count": 15,
   "metadata": {},
   "outputs": [],
   "source": [
    "# writing method with description and sample number\n",
    "dev.write(description='test_2', n=5)"
   ]
  },
  {
   "cell_type": "code",
   "execution_count": 16,
   "metadata": {},
   "outputs": [
    {
     "data": {
      "text/plain": [
       "'2019_05_31_11_29_24_data.csv'"
      ]
     },
     "execution_count": 16,
     "metadata": {},
     "output_type": "execute_result"
    }
   ],
   "source": [
    "dev.writer.path"
   ]
  },
  {
   "cell_type": "code",
   "execution_count": 17,
   "metadata": {},
   "outputs": [],
   "source": [
    "# load .csv data written with dev.write\n",
    "m, df = parser.csv_resource(dev.writer.path)"
   ]
  },
  {
   "cell_type": "code",
   "execution_count": 18,
   "metadata": {},
   "outputs": [
    {
     "data": {
      "text/html": [
       "<div>\n",
       "<style scoped>\n",
       "    .dataframe tbody tr th:only-of-type {\n",
       "        vertical-align: middle;\n",
       "    }\n",
       "\n",
       "    .dataframe tbody tr th {\n",
       "        vertical-align: top;\n",
       "    }\n",
       "\n",
       "    .dataframe thead th {\n",
       "        text-align: right;\n",
       "    }\n",
       "</style>\n",
       "<table border=\"1\" class=\"dataframe\">\n",
       "  <thead>\n",
       "    <tr style=\"text-align: right;\">\n",
       "      <th></th>\n",
       "      <th>std_time_ms</th>\n",
       "      <th>description</th>\n",
       "      <th>sample_n</th>\n",
       "      <th>voltage</th>\n",
       "      <th>current</th>\n",
       "      <th>datetime64_ns</th>\n",
       "    </tr>\n",
       "  </thead>\n",
       "  <tbody>\n",
       "    <tr>\n",
       "      <th>0</th>\n",
       "      <td>2019-05-31 11:29:24.106636</td>\n",
       "      <td>test_2</td>\n",
       "      <td>1</td>\n",
       "      <td>4.600</td>\n",
       "      <td>0.5797</td>\n",
       "      <td>2019-05-31 11:29:24.106636</td>\n",
       "    </tr>\n",
       "    <tr>\n",
       "      <th>1</th>\n",
       "      <td>2019-05-31 11:29:24.112390</td>\n",
       "      <td>test_2</td>\n",
       "      <td>2</td>\n",
       "      <td>4.588</td>\n",
       "      <td>0.5762</td>\n",
       "      <td>2019-05-31 11:29:24.112390</td>\n",
       "    </tr>\n",
       "    <tr>\n",
       "      <th>2</th>\n",
       "      <td>2019-05-31 11:29:24.120359</td>\n",
       "      <td>test_2</td>\n",
       "      <td>3</td>\n",
       "      <td>4.604</td>\n",
       "      <td>0.5765</td>\n",
       "      <td>2019-05-31 11:29:24.120359</td>\n",
       "    </tr>\n",
       "    <tr>\n",
       "      <th>3</th>\n",
       "      <td>2019-05-31 11:29:24.132054</td>\n",
       "      <td>test_2</td>\n",
       "      <td>4</td>\n",
       "      <td>4.612</td>\n",
       "      <td>0.5762</td>\n",
       "      <td>2019-05-31 11:29:24.132054</td>\n",
       "    </tr>\n",
       "    <tr>\n",
       "      <th>4</th>\n",
       "      <td>2019-05-31 11:29:24.136315</td>\n",
       "      <td>test_2</td>\n",
       "      <td>5</td>\n",
       "      <td>4.612</td>\n",
       "      <td>0.5789</td>\n",
       "      <td>2019-05-31 11:29:24.136315</td>\n",
       "    </tr>\n",
       "  </tbody>\n",
       "</table>\n",
       "</div>"
      ],
      "text/plain": [
       "                  std_time_ms description  sample_n  voltage  current  \\\n",
       "0  2019-05-31 11:29:24.106636      test_2         1    4.600   0.5797   \n",
       "1  2019-05-31 11:29:24.112390      test_2         2    4.588   0.5762   \n",
       "2  2019-05-31 11:29:24.120359      test_2         3    4.604   0.5765   \n",
       "3  2019-05-31 11:29:24.132054      test_2         4    4.612   0.5762   \n",
       "4  2019-05-31 11:29:24.136315      test_2         5    4.612   0.5789   \n",
       "\n",
       "               datetime64_ns  \n",
       "0 2019-05-31 11:29:24.106636  \n",
       "1 2019-05-31 11:29:24.112390  \n",
       "2 2019-05-31 11:29:24.120359  \n",
       "3 2019-05-31 11:29:24.132054  \n",
       "4 2019-05-31 11:29:24.136315  "
      ]
     },
     "execution_count": 18,
     "metadata": {},
     "output_type": "execute_result"
    }
   ],
   "source": [
    "df.head()"
   ]
  },
  {
   "cell_type": "code",
   "execution_count": 19,
   "metadata": {},
   "outputs": [
    {
     "data": {
      "image/png": "[encoded data removed]",
      "text/plain": [
       "<Figure size 432x288 with 1 Axes>"
      ]
     },
     "metadata": {
      "needs_background": "light"
     },
     "output_type": "display_data"
    }
   ],
   "source": [
    "df.datetime64_ns = df.datetime64_ns.dt.tz_localize('UTC')  # Pandas 0.24.1 hack\n",
    "df[[\"datetime64_ns\", \"voltage\", \"current\"]].plot(x=\"datetime64_ns\");"
   ]
  },
  {
   "cell_type": "code",
   "execution_count": 20,
   "metadata": {},
   "outputs": [
    {
     "data": {
      "text/plain": [
       "{'accuracy': None,\n",
       " 'bytes': None,\n",
       " 'case_sensitive_header': False,\n",
       " 'comment': '#',\n",
       " 'delimiter': ',',\n",
       " 'description': None,\n",
       " 'device': {'accuracy': None,\n",
       "  'active': None,\n",
       "  'bus': '<meerkat.i2c_pi.WrapI2C object at 0x6e96b4d0>',\n",
       "  'bus_adc_averaging': None,\n",
       "  'bus_adc_resolution': 12,\n",
       "  'bus_voltage_range': 32,\n",
       "  'calibration_date': None,\n",
       "  'description': 'Texas Instruments Bidirectional Current Monitor',\n",
       "  'dtype': None,\n",
       "  'error': None,\n",
       "  'gain': 8,\n",
       "  'gain_string': '+/- 320 mV',\n",
       "  'manufacturer': 'Texas Instruments',\n",
       "  'mode': 7,\n",
       "  'mode_description': 'shunt and bus voltages, continuous',\n",
       "  'name': 'INA219',\n",
       "  'precision': '12bit',\n",
       "  'r_shunt': 0.1,\n",
       "  'shunt_adc_averaging': None,\n",
       "  'shunt_adc_resolution': 12,\n",
       "  'state': None,\n",
       "  'urls': 'www.ti.com/product/ADS1115',\n",
       "  'version_hw': '1.0',\n",
       "  'version_sw': '1.0'},\n",
       " 'double_quote': True,\n",
       " 'dtypes': None,\n",
       " 'encoding': 'utf-8',\n",
       " 'escape_char': '\\\\',\n",
       " 'format': None,\n",
       " 'hash': None,\n",
       " 'header': ['description', 'sample_n', 'voltage', 'current'],\n",
       " 'licenses': None,\n",
       " 'line_terminator': '\\n',\n",
       " 'media_type': 'text/csv',\n",
       " 'name': 'INA219',\n",
       " 'null_sequence': 'NA',\n",
       " 'path': '2019_05_31_11_29_24_data.csv',\n",
       " 'precision': None,\n",
       " 'quote_char': '\"',\n",
       " 'schema': None,\n",
       " 'shebang': True,\n",
       " 'skip_initial_space': True,\n",
       " 'skip_lines': 1,\n",
       " 'sources': None,\n",
       " 'standard': 'Follow RFC 4180',\n",
       " 'strfmtime': '%Y-%m-%d %H:%M:%S.%f',\n",
       " 'time_format': 'std_time_ms',\n",
       " 'title': None,\n",
       " 'units': None,\n",
       " 'version': '0.1 Alpha'}"
      ]
     },
     "execution_count": 20,
     "metadata": {},
     "output_type": "execute_result"
    }
   ],
   "source": [
    "m"
   ]
  },
  {
   "cell_type": "code",
   "execution_count": 21,
   "metadata": {},
   "outputs": [],
   "source": [
    "# reinitialize to JSON output\n",
    "dev = INA219(bus_n=1, output='json')"
   ]
  },
  {
   "cell_type": "code",
   "execution_count": 22,
   "metadata": {},
   "outputs": [],
   "source": [
    "# writing method with description and sample number\n",
    "dev.write(description='test_4', n=5)"
   ]
  },
  {
   "cell_type": "code",
   "execution_count": 23,
   "metadata": {},
   "outputs": [
    {
     "name": "stdout",
     "output_type": "stream",
     "text": [
      "{\"current\": 0.579, \"description\": \"test_4\", \"sample_n\": 1, \"std_time_ms\": \"2019-05-31 11:29:26.722460\", \"voltage\": 4.6}\n",
      "\n"
     ]
    }
   ],
   "source": [
    "with open(dev.writer.path, 'r') as f:\n",
    "    print(f.readline())"
   ]
  }
 ],
 "metadata": {
  "kernelspec": {
   "display_name": "Python 3",
   "language": "python",
   "name": "python3"
  },
  "language_info": {
   "codemirror_mode": {
    "name": "ipython",
    "version": 3
   },
   "file_extension": ".py",
   "mimetype": "text/x-python",
   "name": "python",
   "nbconvert_exporter": "python",
   "pygments_lexer": "ipython3",
   "version": "3.5.2"
  }
 },
 "nbformat": 4,
 "nbformat_minor": 2
}

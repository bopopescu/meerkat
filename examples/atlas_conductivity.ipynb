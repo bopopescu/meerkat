{
 "cells": [
  {
   "cell_type": "code",
   "execution_count": 1,
   "metadata": {},
   "outputs": [],
   "source": [
    "from meerkat.base import time\n",
    "from meerkat import atlas"
   ]
  },
  {
   "cell_type": "code",
   "execution_count": 2,
   "metadata": {},
   "outputs": [],
   "source": [
    "# instance device and set output format to .csv (which is default)\n",
    "dev = atlas.Conductivity(bus_n=1, output='csv')"
   ]
  },
  {
   "cell_type": "code",
   "execution_count": 3,
   "metadata": {},
   "outputs": [
    {
     "data": {
      "text/plain": [
       "[0.0, 0.0, 0.0, 1.0]"
      ]
     },
     "execution_count": 3,
     "metadata": {},
     "output_type": "execute_result"
    }
   ],
   "source": [
    "# single conductivity measurement\n",
    "dev.measure()"
   ]
  },
  {
   "cell_type": "code",
   "execution_count": 4,
   "metadata": {
    "scrolled": false
   },
   "outputs": [],
   "source": [
    "# write 5 samples to .csv file with description\n",
    "dev.write(description='test_csv', n=5)"
   ]
  },
  {
   "cell_type": "code",
   "execution_count": 5,
   "metadata": {},
   "outputs": [
    {
     "data": {
      "text/plain": [
       "'2019_04_17_23_12_17_data.csv'"
      ]
     },
     "execution_count": 5,
     "metadata": {},
     "output_type": "execute_result"
    }
   ],
   "source": [
    "# name of file written\n",
    "dev.writer.path"
   ]
  },
  {
   "cell_type": "code",
   "execution_count": 6,
   "metadata": {},
   "outputs": [
    {
     "name": "stdout",
     "output_type": "stream",
     "text": [
      "#!{\"accuracy\": null, \"bytes\": null, \"case_sensitive_header\": false, \"comment\": \"#\", \"delimiter\": \",\", \"description\": null, \"device\": {\"accuracy\": null, \"active\": null, \"bus\": \"<meerkat.i2c_pi.WrapI2C object at 0x73c01c10>\", \"calibration_date\": null, \"description\": \"\", \"dtype\": null, \"error\": null, \"manufacturer\": \"Atlas Scientific\", \"name\": \"Atlas_Base\", \"precision\": \"Varies\", \"state\": null, \"urls\": \"www.atlas-scientific.com\", \"version_hw\": \"1.0\", \"version_sw\": \"1.0\"}, \"double_quote\": true, \"dtypes\": null, \"encoding\": \"utf-8\", \"escape_char\": \"\\\\\", \"format\": null, \"hash\": null, \"header\": [\"description\", \"sample_n\", \"conductivity\", \"total_dissolved_solids\", \"salinity\", \"specific_gravity\"], \"licenses\": null, \"line_terminator\": \"\\n\", \"media_type\": \"text/csv\", \"name\": \"Atlas_Conductivity\", \"null_sequence\": \"NA\", \"path\": \"2019_04_17_23_12_17_data.csv\", \"precision\": null, \"quote_char\": \"\\\"\", \"schema\": null, \"shebang\": true, \"skip_initial_space\": true, \"skip_lines\": 1, \"sources\": null, \"standard\": \"Follow RFC 4180\", \"strfmtime\": \"%Y-%m-%d %H:%M:%S.%f\", \"time_format\": \"std_time_ms\", \"title\": null, \"units\": null, \"version\": \"0.1 Alpha\"}\r\n",
      "std_time_ms,description,sample_n,conductivity,total_dissolved_solids,salinity,specific_gravity\r\n",
      "2019-04-17 23:12:17.660378,test_csv,0,0.0,0.0,0.0,1.0\r\n",
      "2019-04-17 23:12:19.817692,test_csv,1,0.0,0.0,0.0,1.0\r\n",
      "2019-04-17 23:12:21.978029,test_csv,2,0.0,0.0,0.0,1.0\r\n",
      "2019-04-17 23:12:24.135602,test_csv,3,0.0,0.0,0.0,1.0\r\n",
      "2019-04-17 23:12:26.295505,test_csv,4,0.0,0.0,0.0,1.0\r\n"
     ]
    }
   ],
   "source": [
    "!head $dev.writer.path"
   ]
  },
  {
   "cell_type": "code",
   "execution_count": 7,
   "metadata": {},
   "outputs": [
    {
     "data": {
      "text/plain": [
       "0"
      ]
     },
     "execution_count": 7,
     "metadata": {},
     "output_type": "execute_result"
    }
   ],
   "source": [
    "# Dry and two point calibration\n",
    "dev.cal_set_dry()\n",
    "time.sleep(1)\n",
    "dev.cal_set_low(2000)\n",
    "time.sleep(1)\n",
    "dev.cal_set_high(10000)\n",
    "time.sleep(1)\n",
    "dev.cal_get()"
   ]
  },
  {
   "cell_type": "code",
   "execution_count": 8,
   "metadata": {},
   "outputs": [
    {
     "data": {
      "text/plain": [
       "0"
      ]
     },
     "execution_count": 8,
     "metadata": {},
     "output_type": "execute_result"
    }
   ],
   "source": [
    "# clear calibration\n",
    "time.sleep(1)\n",
    "dev.cal_clear()\n",
    "time.sleep(1)\n",
    "dev.cal_get()"
   ]
  },
  {
   "cell_type": "code",
   "execution_count": 9,
   "metadata": {},
   "outputs": [
    {
     "data": {
      "text/plain": [
       "10.0"
      ]
     },
     "execution_count": 9,
     "metadata": {},
     "output_type": "execute_result"
    }
   ],
   "source": [
    "# probe type\n",
    "time.sleep(0.5)\n",
    "dev.set_probe_type(10.0)\n",
    "time.sleep(0.5)\n",
    "dev.get_probe_type()"
   ]
  },
  {
   "cell_type": "code",
   "execution_count": 10,
   "metadata": {},
   "outputs": [
    {
     "data": {
      "text/plain": [
       "24.19"
      ]
     },
     "execution_count": 10,
     "metadata": {},
     "output_type": "execute_result"
    }
   ],
   "source": [
    "# temperature compensation\n",
    "time.sleep(0.5)\n",
    "dev.temp_set(24.2)\n",
    "time.sleep(0.5)\n",
    "dev.temp_get()"
   ]
  },
  {
   "cell_type": "code",
   "execution_count": 11,
   "metadata": {},
   "outputs": [
    {
     "data": {
      "text/plain": [
       "('EC', '1.5')"
      ]
     },
     "execution_count": 11,
     "metadata": {},
     "output_type": "execute_result"
    }
   ],
   "source": [
    "# device information: device type, firmware version\n",
    "time.sleep(0.5)\n",
    "dev.info()"
   ]
  },
  {
   "cell_type": "code",
   "execution_count": 12,
   "metadata": {},
   "outputs": [
    {
     "data": {
      "text/plain": [
       "('B', 3.04)"
      ]
     },
     "execution_count": 12,
     "metadata": {},
     "output_type": "execute_result"
    }
   ],
   "source": [
    "# status of device power: restart code, input voltage Vcc\n",
    "time.sleep(0.5)\n",
    "dev.status()"
   ]
  },
  {
   "cell_type": "code",
   "execution_count": 13,
   "metadata": {},
   "outputs": [
    {
     "data": {
      "text/plain": [
       "['EC', 'TDS', 'S', 'SG']"
      ]
     },
     "execution_count": 13,
     "metadata": {},
     "output_type": "execute_result"
    }
   ],
   "source": [
    "# measurement output formats\n",
    "dev.output_get()"
   ]
  },
  {
   "cell_type": "code",
   "execution_count": 14,
   "metadata": {},
   "outputs": [
    {
     "data": {
      "text/plain": [
       "[0.0, 0.0, 0.0, 1.0]"
      ]
     },
     "execution_count": 14,
     "metadata": {},
     "output_type": "execute_result"
    }
   ],
   "source": [
    "# measure conductivity\n",
    "time.sleep(0.5)\n",
    "dev.measure()"
   ]
  },
  {
   "cell_type": "code",
   "execution_count": 15,
   "metadata": {},
   "outputs": [
    {
     "data": {
      "text/plain": [
       "['no_description', 0, 0.0, 0.0, 0.0, 1.0]"
      ]
     },
     "execution_count": 15,
     "metadata": {},
     "output_type": "execute_result"
    }
   ],
   "source": [
    "# get one sample without a description\n",
    "dev.get()"
   ]
  },
  {
   "cell_type": "code",
   "execution_count": 16,
   "metadata": {},
   "outputs": [
    {
     "data": {
      "text/plain": [
       "['test_1', 0, 0.0, 0.0, 0.0, 1.0]"
      ]
     },
     "execution_count": 16,
     "metadata": {},
     "output_type": "execute_result"
    }
   ],
   "source": [
    "# get one sample with a description\n",
    "dev.get('test_1')"
   ]
  },
  {
   "cell_type": "code",
   "execution_count": 17,
   "metadata": {},
   "outputs": [
    {
     "data": {
      "text/plain": [
       "[['test_2', 0, 0.0, 0.0, 0.0, 1.0],\n",
       " ['test_2', 1, 0.0, 0.0, 0.0, 1.0],\n",
       " ['test_2', 2, 0.0, 0.0, 0.0, 1.0],\n",
       " ['test_2', 3, 0.0, 0.0, 0.0, 1.0],\n",
       " ['test_2', 4, 0.0, 0.0, 0.0, 1.0]]"
      ]
     },
     "execution_count": 17,
     "metadata": {},
     "output_type": "execute_result"
    }
   ],
   "source": [
    "# get 5 samples with a description\n",
    "dev.get('test_2', 5)"
   ]
  },
  {
   "cell_type": "code",
   "execution_count": 18,
   "metadata": {},
   "outputs": [
    {
     "data": {
      "text/plain": [
       "['description',\n",
       " 'sample_n',\n",
       " 'conductivity',\n",
       " 'total_dissolved_solids',\n",
       " 'salinity',\n",
       " 'specific_gravity']"
      ]
     },
     "execution_count": 18,
     "metadata": {},
     "output_type": "execute_result"
    }
   ],
   "source": [
    "# column names of .csv file and get() method\n",
    "dev.writer.header"
   ]
  },
  {
   "cell_type": "code",
   "execution_count": 19,
   "metadata": {},
   "outputs": [],
   "source": [
    "# switch to JSON output, csv is default\n",
    "dev = atlas.Conductivity(bus_n=1, output='json')"
   ]
  },
  {
   "cell_type": "code",
   "execution_count": 20,
   "metadata": {},
   "outputs": [],
   "source": [
    "# set the metadata publishing interval to every third sample\n",
    "dev.writer.metadata_interval = 3"
   ]
  },
  {
   "cell_type": "code",
   "execution_count": 21,
   "metadata": {},
   "outputs": [],
   "source": [
    "# get 7 samples with a description\n",
    "dev.write(description='test_json', n=7)"
   ]
  },
  {
   "cell_type": "code",
   "execution_count": 22,
   "metadata": {},
   "outputs": [
    {
     "data": {
      "text/plain": [
       "'2019_04_17_23_12_49_JSON_data.txt'"
      ]
     },
     "execution_count": 22,
     "metadata": {},
     "output_type": "execute_result"
    }
   ],
   "source": [
    "# name of file written\n",
    "dev.writer.path"
   ]
  },
  {
   "cell_type": "code",
   "execution_count": 23,
   "metadata": {},
   "outputs": [
    {
     "name": "stdout",
     "output_type": "stream",
     "text": [
      "{\"conductivity\": 0.0, \"std_time_ms\": \"2019-04-17 23:12:49.298750\", \"sample_n\": 0, \"total_dissolved_solids\": 0.0, \"salinity\": 0.0, \"specific_gravity\": 1.0, \"description\": \"test_json\"}\r\n",
      "{\"conductivity\": 0.0, \"std_time_ms\": \"2019-04-17 23:12:51.458746\", \"sample_n\": 1, \"total_dissolved_solids\": 0.0, \"salinity\": 0.0, \"specific_gravity\": 1.0, \"description\": \"test_json\"}\r\n",
      "{\"total_dissolved_solids\": 0.0, \"encoding\": \"utf-8\", \"licenses\": null, \"format\": null, \"line_terminator\": \"\\n\", \"schema\": null, \"hash\": null, \"escape_char\": \"\\\\\", \"header\": [\"description\", \"sample_n\", \"conductivity\", \"total_dissolved_solids\", \"salinity\", \"specific_gravity\"], \"comment\": \"#\", \"std_time_ms\": \"2019-04-17 23:12:53.619440\", \"accuracy\": null, \"dtypes\": null, \"quote_char\": \"\\\"\", \"metadata_stream_i\": 1, \"standard\": \"RFC 8259\", \"sources\": null, \"title\": null, \"null_sequence\": \"NA\", \"specific_gravity\": 1.0, \"conductivity\": 0.0, \"media_type\": \"text/json\", \"device\": {\"error\": null, \"active\": null, \"manufacturer\": \"Atlas Scientific\", \"description\": \"\", \"state\": null, \"calibration_date\": null, \"bus\": \"<meerkat.i2c_pi.WrapI2C object at 0x70eead10>\", \"accuracy\": null, \"version_hw\": \"1.0\", \"version_sw\": \"1.0\", \"urls\": \"www.atlas-scientific.com\", \"name\": \"Atlas_Base\", \"precision\": \"Varies\", \"dtype\": null}, \"bytes\": null, \"units\": null, \"description\": null, \"time_format\": \"std_time_ms\", \"metadata_interval\": 3, \"metadata_file_i\": 0, \"sample_n\": 2, \"version\": \"0.1 Alpha\", \"double_quote\": true, \"path\": \"2019_04_17_23_12_49_JSON_data.txt\", \"salinity\": 0.0, \"strfmtime\": \"%Y-%m-%d %H:%M:%S.%f\", \"precision\": null, \"skip_lines\": 0, \"name\": \"Atlas_Conductivity\"}\r\n",
      "{\"conductivity\": 0.0, \"std_time_ms\": \"2019-04-17 23:12:55.780629\", \"sample_n\": 3, \"total_dissolved_solids\": 0.0, \"salinity\": 0.0, \"specific_gravity\": 1.0, \"description\": \"test_json\"}\r\n",
      "{\"conductivity\": 0.0, \"std_time_ms\": \"2019-04-17 23:12:57.940351\", \"sample_n\": 4, \"total_dissolved_solids\": 0.0, \"salinity\": 0.0, \"specific_gravity\": 1.0, \"description\": \"test_json\"}\r\n",
      "{\"total_dissolved_solids\": 0.0, \"encoding\": \"utf-8\", \"licenses\": null, \"format\": null, \"line_terminator\": \"\\n\", \"schema\": null, \"hash\": null, \"escape_char\": \"\\\\\", \"header\": [\"description\", \"sample_n\", \"conductivity\", \"total_dissolved_solids\", \"salinity\", \"specific_gravity\"], \"comment\": \"#\", \"std_time_ms\": \"2019-04-17 23:13:00.101201\", \"accuracy\": null, \"dtypes\": null, \"quote_char\": \"\\\"\", \"metadata_stream_i\": 1, \"standard\": \"RFC 8259\", \"sources\": null, \"title\": null, \"null_sequence\": \"NA\", \"specific_gravity\": 1.0, \"conductivity\": 0.0, \"media_type\": \"text/json\", \"device\": {\"error\": null, \"active\": null, \"manufacturer\": \"Atlas Scientific\", \"description\": \"\", \"state\": null, \"calibration_date\": null, \"bus\": \"<meerkat.i2c_pi.WrapI2C object at 0x70eead10>\", \"accuracy\": null, \"version_hw\": \"1.0\", \"version_sw\": \"1.0\", \"urls\": \"www.atlas-scientific.com\", \"name\": \"Atlas_Base\", \"precision\": \"Varies\", \"dtype\": null}, \"bytes\": null, \"units\": null, \"description\": null, \"time_format\": \"std_time_ms\", \"metadata_interval\": 3, \"metadata_file_i\": 0, \"sample_n\": 5, \"version\": \"0.1 Alpha\", \"double_quote\": true, \"path\": \"2019_04_17_23_12_49_JSON_data.txt\", \"salinity\": 0.0, \"strfmtime\": \"%Y-%m-%d %H:%M:%S.%f\", \"precision\": null, \"skip_lines\": 0, \"name\": \"Atlas_Conductivity\"}\r\n",
      "{\"conductivity\": 0.0, \"std_time_ms\": \"2019-04-17 23:13:02.262421\", \"sample_n\": 6, \"total_dissolved_solids\": 0.0, \"salinity\": 0.0, \"specific_gravity\": 1.0, \"description\": \"test_json\"}\r\n"
     ]
    }
   ],
   "source": [
    "!head $dev.writer.path"
   ]
  },
  {
   "cell_type": "code",
   "execution_count": 24,
   "metadata": {
    "scrolled": false
   },
   "outputs": [
    {
     "data": {
      "text/plain": [
       "['{\"conductivity\": 0.0, \"std_time_ms\": \"2019-04-17 23:13:04.723495\", \"sample_n\": 0, \"total_dissolved_solids\": 0.0, \"salinity\": 0.0, \"specific_gravity\": 1.0, \"description\": \"test_2\"}',\n",
       " '{\"conductivity\": 0.0, \"std_time_ms\": \"2019-04-17 23:13:05.379049\", \"sample_n\": 1, \"total_dissolved_solids\": 0.0, \"salinity\": 0.0, \"specific_gravity\": 1.0, \"description\": \"test_2\"}',\n",
       " '{\"total_dissolved_solids\": 0.0, \"encoding\": \"utf-8\", \"licenses\": null, \"format\": null, \"line_terminator\": \"\\\\n\", \"schema\": null, \"hash\": null, \"escape_char\": \"\\\\\\\\\", \"header\": [\"description\", \"sample_n\", \"conductivity\", \"total_dissolved_solids\", \"salinity\", \"specific_gravity\"], \"comment\": \"#\", \"std_time_ms\": \"2019-04-17 23:13:06.034443\", \"accuracy\": null, \"dtypes\": null, \"quote_char\": \"\\\\\"\", \"metadata_stream_i\": 0, \"standard\": \"RFC 8259\", \"sources\": null, \"title\": null, \"null_sequence\": \"NA\", \"specific_gravity\": 1.0, \"conductivity\": 0.0, \"media_type\": \"text/json\", \"device\": {\"error\": null, \"active\": null, \"manufacturer\": \"Atlas Scientific\", \"description\": \"\", \"state\": null, \"calibration_date\": null, \"bus\": \"<meerkat.i2c_pi.WrapI2C object at 0x70eead10>\", \"accuracy\": null, \"version_hw\": \"1.0\", \"version_sw\": \"1.0\", \"urls\": \"www.atlas-scientific.com\", \"name\": \"Atlas_Base\", \"precision\": \"Varies\", \"dtype\": null}, \"bytes\": null, \"units\": null, \"description\": null, \"time_format\": \"std_time_ms\", \"metadata_interval\": 3, \"metadata_file_i\": 2, \"sample_n\": 2, \"version\": \"0.1 Alpha\", \"double_quote\": true, \"path\": \"2019_04_17_23_12_49_JSON_data.txt\", \"salinity\": 0.0, \"strfmtime\": \"%Y-%m-%d %H:%M:%S.%f\", \"precision\": null, \"skip_lines\": 0, \"name\": \"Atlas_Conductivity\"}',\n",
       " '{\"conductivity\": 0.0, \"std_time_ms\": \"2019-04-17 23:13:06.690256\", \"sample_n\": 3, \"total_dissolved_solids\": 0.0, \"salinity\": 0.0, \"specific_gravity\": 1.0, \"description\": \"test_2\"}',\n",
       " '{\"conductivity\": 0.0, \"std_time_ms\": \"2019-04-17 23:13:07.345798\", \"sample_n\": 4, \"total_dissolved_solids\": 0.0, \"salinity\": 0.0, \"specific_gravity\": 1.0, \"description\": \"test_2\"}',\n",
       " '{\"total_dissolved_solids\": 0.0, \"encoding\": \"utf-8\", \"licenses\": null, \"format\": null, \"line_terminator\": \"\\\\n\", \"schema\": null, \"hash\": null, \"escape_char\": \"\\\\\\\\\", \"header\": [\"description\", \"sample_n\", \"conductivity\", \"total_dissolved_solids\", \"salinity\", \"specific_gravity\"], \"comment\": \"#\", \"std_time_ms\": \"2019-04-17 23:13:08.001381\", \"accuracy\": null, \"dtypes\": null, \"quote_char\": \"\\\\\"\", \"metadata_stream_i\": 0, \"standard\": \"RFC 8259\", \"sources\": null, \"title\": null, \"null_sequence\": \"NA\", \"specific_gravity\": 1.0, \"conductivity\": 0.0, \"media_type\": \"text/json\", \"device\": {\"error\": null, \"active\": null, \"manufacturer\": \"Atlas Scientific\", \"description\": \"\", \"state\": null, \"calibration_date\": null, \"bus\": \"<meerkat.i2c_pi.WrapI2C object at 0x70eead10>\", \"accuracy\": null, \"version_hw\": \"1.0\", \"version_sw\": \"1.0\", \"urls\": \"www.atlas-scientific.com\", \"name\": \"Atlas_Base\", \"precision\": \"Varies\", \"dtype\": null}, \"bytes\": null, \"units\": null, \"description\": null, \"time_format\": \"std_time_ms\", \"metadata_interval\": 3, \"metadata_file_i\": 2, \"sample_n\": 5, \"version\": \"0.1 Alpha\", \"double_quote\": true, \"path\": \"2019_04_17_23_12_49_JSON_data.txt\", \"salinity\": 0.0, \"strfmtime\": \"%Y-%m-%d %H:%M:%S.%f\", \"precision\": null, \"skip_lines\": 0, \"name\": \"Atlas_Conductivity\"}',\n",
       " '{\"conductivity\": 0.0, \"std_time_ms\": \"2019-04-17 23:13:08.657674\", \"sample_n\": 6, \"total_dissolved_solids\": 0.0, \"salinity\": 0.0, \"specific_gravity\": 1.0, \"description\": \"test_2\"}']"
      ]
     },
     "execution_count": 24,
     "metadata": {},
     "output_type": "execute_result"
    }
   ],
   "source": [
    "# get 5 samples with a description\n",
    "dev.get('test_2', 7)"
   ]
  }
 ],
 "metadata": {
  "kernelspec": {
   "display_name": "Python 3",
   "language": "python",
   "name": "python3"
  },
  "language_info": {
   "codemirror_mode": {
    "name": "ipython",
    "version": 3
   },
   "file_extension": ".py",
   "mimetype": "text/x-python",
   "name": "python",
   "nbconvert_exporter": "python",
   "pygments_lexer": "ipython3",
   "version": "3.5.2"
  }
 },
 "nbformat": 4,
 "nbformat_minor": 2
}

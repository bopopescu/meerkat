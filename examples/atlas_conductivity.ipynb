{
 "cells": [
  {
   "cell_type": "code",
   "execution_count": 1,
   "metadata": {},
   "outputs": [],
   "source": [
    "from meerkat.base import time\n",
    "from meerkat import atlas"
   ]
  },
  {
   "cell_type": "code",
   "execution_count": 2,
   "metadata": {},
   "outputs": [],
   "source": [
    "from importlib import reload"
   ]
  },
  {
   "cell_type": "code",
   "execution_count": 3,
   "metadata": {},
   "outputs": [],
   "source": [
    "reload(atlas)\n",
    "dev = atlas.Conductivity(bus_n=1)  # csv is default"
   ]
  },
  {
   "cell_type": "raw",
   "metadata": {},
   "source": [
    "reload(atlas)\n",
    "dev = atlas.Conductivity(bus_n=1, output='json')  # csv is default"
   ]
  },
  {
   "cell_type": "code",
   "execution_count": 4,
   "metadata": {},
   "outputs": [
    {
     "data": {
      "text/plain": [
       "0"
      ]
     },
     "execution_count": 4,
     "metadata": {},
     "output_type": "execute_result"
    }
   ],
   "source": [
    "# Dry and two point calibration\n",
    "dev.cal_set_dry()\n",
    "time.sleep(1)\n",
    "dev.cal_set_low(2000)\n",
    "time.sleep(1)\n",
    "dev.cal_set_high(10000)\n",
    "time.sleep(1)\n",
    "dev.cal_get()"
   ]
  },
  {
   "cell_type": "code",
   "execution_count": 5,
   "metadata": {},
   "outputs": [
    {
     "data": {
      "text/plain": [
       "0"
      ]
     },
     "execution_count": 5,
     "metadata": {},
     "output_type": "execute_result"
    }
   ],
   "source": [
    "# clear calibration\n",
    "time.sleep(1)\n",
    "dev.cal_clear()\n",
    "time.sleep(1)\n",
    "dev.cal_get()"
   ]
  },
  {
   "cell_type": "code",
   "execution_count": 6,
   "metadata": {},
   "outputs": [
    {
     "data": {
      "text/plain": [
       "10.0"
      ]
     },
     "execution_count": 6,
     "metadata": {},
     "output_type": "execute_result"
    }
   ],
   "source": [
    "# probe type\n",
    "time.sleep(0.5)\n",
    "dev.set_probe_type(10.0)\n",
    "time.sleep(0.5)\n",
    "dev.get_probe_type()"
   ]
  },
  {
   "cell_type": "code",
   "execution_count": 7,
   "metadata": {},
   "outputs": [
    {
     "data": {
      "text/plain": [
       "24.19"
      ]
     },
     "execution_count": 7,
     "metadata": {},
     "output_type": "execute_result"
    }
   ],
   "source": [
    "# temperature compensation\n",
    "time.sleep(0.5)\n",
    "dev.temp_set(24.2)\n",
    "time.sleep(0.5)\n",
    "dev.temp_get()"
   ]
  },
  {
   "cell_type": "code",
   "execution_count": 8,
   "metadata": {},
   "outputs": [
    {
     "data": {
      "text/plain": [
       "('EC', '1.5')"
      ]
     },
     "execution_count": 8,
     "metadata": {},
     "output_type": "execute_result"
    }
   ],
   "source": [
    "# device information: device type, firmware version\n",
    "time.sleep(0.5)\n",
    "dev.info()"
   ]
  },
  {
   "cell_type": "code",
   "execution_count": 9,
   "metadata": {},
   "outputs": [
    {
     "data": {
      "text/plain": [
       "('P', 3.08)"
      ]
     },
     "execution_count": 9,
     "metadata": {},
     "output_type": "execute_result"
    }
   ],
   "source": [
    "# status of device power: restart code, input voltage Vcc\n",
    "time.sleep(0.5)\n",
    "dev.status()"
   ]
  },
  {
   "cell_type": "code",
   "execution_count": 10,
   "metadata": {},
   "outputs": [
    {
     "data": {
      "text/plain": [
       "['EC', 'TDS', 'S', 'SG']"
      ]
     },
     "execution_count": 10,
     "metadata": {},
     "output_type": "execute_result"
    }
   ],
   "source": [
    "# measurement output formats\n",
    "dev.output_get()"
   ]
  },
  {
   "cell_type": "code",
   "execution_count": 11,
   "metadata": {},
   "outputs": [
    {
     "data": {
      "text/plain": [
       "[0.0, 0.0, 0.0, 1.0]"
      ]
     },
     "execution_count": 11,
     "metadata": {},
     "output_type": "execute_result"
    }
   ],
   "source": [
    "# measure conductivity\n",
    "time.sleep(0.5)\n",
    "dev.measure()"
   ]
  },
  {
   "cell_type": "code",
   "execution_count": 12,
   "metadata": {},
   "outputs": [
    {
     "data": {
      "text/plain": [
       "['no_description', 1, 0.0, 0.0, 0.0, 1.0]"
      ]
     },
     "execution_count": 12,
     "metadata": {},
     "output_type": "execute_result"
    }
   ],
   "source": [
    "dev.get()"
   ]
  },
  {
   "cell_type": "code",
   "execution_count": 13,
   "metadata": {},
   "outputs": [
    {
     "data": {
      "text/plain": [
       "['test_1', 1, 0.0, 0.0, 0.0, 1.0]"
      ]
     },
     "execution_count": 13,
     "metadata": {},
     "output_type": "execute_result"
    }
   ],
   "source": [
    "dev.get('test_1')"
   ]
  },
  {
   "cell_type": "code",
   "execution_count": 14,
   "metadata": {},
   "outputs": [
    {
     "data": {
      "text/plain": [
       "[['test_2', 1, 0.0, 0.0, 0.0, 1.0],\n",
       " ['test_2', 2, 0.0, 0.0, 0.0, 1.0],\n",
       " ['test_2', 3, 0.0, 0.0, 0.0, 1.0],\n",
       " ['test_2', 4, 0.0, 0.0, 0.0, 1.0],\n",
       " ['test_2', 5, 0.0, 0.0, 0.0, 1.0]]"
      ]
     },
     "execution_count": 14,
     "metadata": {},
     "output_type": "execute_result"
    }
   ],
   "source": [
    "dev.get('test_2', 5)"
   ]
  },
  {
   "cell_type": "code",
   "execution_count": 15,
   "metadata": {},
   "outputs": [
    {
     "data": {
      "text/plain": [
       "['description',\n",
       " 'sample_n',\n",
       " 'conductivity',\n",
       " 'total_dissolved_solids',\n",
       " 'salinity',\n",
       " 'specific_gravity']"
      ]
     },
     "execution_count": 15,
     "metadata": {},
     "output_type": "execute_result"
    }
   ],
   "source": [
    "dev.writer.header"
   ]
  },
  {
   "cell_type": "code",
   "execution_count": 16,
   "metadata": {},
   "outputs": [],
   "source": [
    "dev.write(description='test_csv', n=5)"
   ]
  },
  {
   "cell_type": "code",
   "execution_count": 17,
   "metadata": {},
   "outputs": [
    {
     "name": "stdout",
     "output_type": "stream",
     "text": [
      "#!{\"accuracy\": null, \"bytes\": null, \"case_sensitive_header\": false, \"comment\": \"#\", \"delimiter\": \",\", \"description\": null, \"device\": {\"accuracy\": null, \"active\": null, \"bus\": \"<meerkat.i2c_pi.WrapI2C object at 0x74555e70>\", \"calibration_date\": null, \"description\": \"\", \"dtype\": null, \"error\": null, \"manufacturer\": \"Atlas Scientific\", \"name\": \"Atlas_Base\", \"precision\": \"Varies\", \"state\": null, \"urls\": \"www.atlas-scientific.com\", \"version_hw\": \"1.0\", \"version_sw\": \"1.0\"}, \"double_quote\": true, \"dtypes\": null, \"encoding\": \"utf-8\", \"escape_char\": \"\\\\\", \"format\": null, \"hash\": null, \"header\": [\"description\", \"sample_n\", \"conductivity\", \"total_dissolved_solids\", \"salinity\", \"specific_gravity\"], \"licenses\": null, \"line_terminator\": \"\\n\", \"media_type\": \"text/csv\", \"name\": \"Atlas_Conductivity\", \"null_sequence\": \"NA\", \"path\": \"2019_04_15_10_22_07_data.csv\", \"precision\": null, \"quote_char\": \"\\\"\", \"schema\": null, \"shebang\": true, \"skip_initial_space\": true, \"skip_lines\": 1, \"sources\": null, \"standard\": \"Follow RFC 4180\", \"time_format\": \"std_time_ms\", \"timepiece\": {\"format_used\": \"std_time_ms\", \"formats_available\": {\"file_time\": \"%Y_%m_%d_%H_%M_%S_%f\", \"iso_time\": \"%Y-%m-%dT%H:%M:%S.%f%z\", \"std_time\": \"%Y-%m-%d %H:%M:%S\", \"std_time_ms\": \"%Y-%m-%d %H:%M:%S.%f\"}}, \"title\": null, \"units\": null, \"version\": \"0.1 Alpha\"}\r\n",
      "std_time_ms,description,sample_n,conductivity,total_dissolved_solids,salinity,specific_gravity\r\n",
      "2019-04-15 10:22:07.727997,test_csv,1,0.0,0.0,0.0,1.0\r\n",
      "2019-04-15 10:22:09.885772,test_csv,2,0.0,0.0,0.0,1.0\r\n",
      "2019-04-15 10:22:12.046187,test_csv,3,0.0,0.0,0.0,1.0\r\n",
      "2019-04-15 10:22:14.203905,test_csv,4,0.0,0.0,0.0,1.0\r\n",
      "2019-04-15 10:22:16.363975,test_csv,5,0.0,0.0,0.0,1.0\r\n"
     ]
    }
   ],
   "source": [
    "!head 2019_04_15_10_22_07_data.csv"
   ]
  },
  {
   "cell_type": "code",
   "execution_count": null,
   "metadata": {},
   "outputs": [],
   "source": []
  }
 ],
 "metadata": {
  "kernelspec": {
   "display_name": "Python 3",
   "language": "python",
   "name": "python3"
  },
  "language_info": {
   "codemirror_mode": {
    "name": "ipython",
    "version": 3
   },
   "file_extension": ".py",
   "mimetype": "text/x-python",
   "name": "python",
   "nbconvert_exporter": "python",
   "pygments_lexer": "ipython3",
   "version": "3.5.2"
  }
 },
 "nbformat": 4,
 "nbformat_minor": 2
}

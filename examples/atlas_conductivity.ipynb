{
 "cells": [
  {
   "cell_type": "markdown",
   "metadata": {},
   "source": [
    "### Atlas Scientific Conductivity  \n",
    "Conductivity Sensor for measuring the salt/ion concentration of liquids  \n",
    "\n",
    "Manufacturer Link: https://www.atlas-scientific.com/conductivity.html  "
   ]
  },
  {
   "cell_type": "code",
   "execution_count": 1,
   "metadata": {},
   "outputs": [],
   "source": [
    "import matplotlib.pyplot as plt\n",
    "\n",
    "from meerkat.base import time\n",
    "from meerkat import atlas, parser"
   ]
  },
  {
   "cell_type": "code",
   "execution_count": 2,
   "metadata": {},
   "outputs": [],
   "source": [
    "# instance device and set output format to .csv (which is default)\n",
    "dev = atlas.Conductivity(bus_n=1, output='csv')"
   ]
  },
  {
   "cell_type": "markdown",
   "metadata": {},
   "source": [
    "#### Configuration"
   ]
  },
  {
   "cell_type": "code",
   "execution_count": 3,
   "metadata": {},
   "outputs": [
    {
     "data": {
      "text/plain": [
       "('EC', '1.5')"
      ]
     },
     "execution_count": 3,
     "metadata": {},
     "output_type": "execute_result"
    }
   ],
   "source": [
    "# device information: device type, firmware version\n",
    "time.sleep(0.5)\n",
    "dev.info()"
   ]
  },
  {
   "cell_type": "code",
   "execution_count": 4,
   "metadata": {},
   "outputs": [
    {
     "data": {
      "text/plain": [
       "('P', 5.03)"
      ]
     },
     "execution_count": 4,
     "metadata": {},
     "output_type": "execute_result"
    }
   ],
   "source": [
    "# status of device power: restart code, input voltage Vcc\n",
    "time.sleep(0.5)\n",
    "dev.status()"
   ]
  },
  {
   "cell_type": "code",
   "execution_count": 5,
   "metadata": {},
   "outputs": [
    {
     "data": {
      "text/plain": [
       "24.19"
      ]
     },
     "execution_count": 5,
     "metadata": {},
     "output_type": "execute_result"
    }
   ],
   "source": [
    "# set current temperature for compensation\n",
    "time.sleep(0.5)\n",
    "dev.temp_set(24.2)\n",
    "time.sleep(0.5)\n",
    "dev.temp_get()"
   ]
  },
  {
   "cell_type": "code",
   "execution_count": 6,
   "metadata": {},
   "outputs": [
    {
     "data": {
      "text/plain": [
       "0"
      ]
     },
     "execution_count": 6,
     "metadata": {},
     "output_type": "execute_result"
    }
   ],
   "source": [
    "# Dry and two point calibration\n",
    "dev.cal_set_dry()\n",
    "time.sleep(1)\n",
    "dev.cal_set_low(2000)\n",
    "time.sleep(1)\n",
    "dev.cal_set_high(10000)\n",
    "time.sleep(1)\n",
    "dev.cal_get()"
   ]
  },
  {
   "cell_type": "code",
   "execution_count": 7,
   "metadata": {},
   "outputs": [
    {
     "data": {
      "text/plain": [
       "0"
      ]
     },
     "execution_count": 7,
     "metadata": {},
     "output_type": "execute_result"
    }
   ],
   "source": [
    "# clear calibration\n",
    "time.sleep(1)\n",
    "dev.cal_clear()\n",
    "time.sleep(1)\n",
    "dev.cal_get()"
   ]
  },
  {
   "cell_type": "code",
   "execution_count": 8,
   "metadata": {},
   "outputs": [
    {
     "data": {
      "text/plain": [
       "10.0"
      ]
     },
     "execution_count": 8,
     "metadata": {},
     "output_type": "execute_result"
    }
   ],
   "source": [
    "# probe type\n",
    "time.sleep(0.5)\n",
    "dev.set_probe_type(10.0)\n",
    "time.sleep(0.5)\n",
    "dev.get_probe_type()"
   ]
  },
  {
   "cell_type": "markdown",
   "metadata": {},
   "source": [
    "#### Measurement  "
   ]
  },
  {
   "cell_type": "code",
   "execution_count": 9,
   "metadata": {},
   "outputs": [
    {
     "data": {
      "text/plain": [
       "[0.0, 0.0, 0.0, 1.0]"
      ]
     },
     "execution_count": 9,
     "metadata": {},
     "output_type": "execute_result"
    }
   ],
   "source": [
    "# single conductivity measurement\n",
    "dev.measure()"
   ]
  },
  {
   "cell_type": "code",
   "execution_count": 10,
   "metadata": {},
   "outputs": [
    {
     "data": {
      "text/plain": [
       "['test_1', 0, 0.0, 0.0, 0.0, 1.0]"
      ]
     },
     "execution_count": 10,
     "metadata": {},
     "output_type": "execute_result"
    }
   ],
   "source": [
    "# get one sample without description\n",
    "dev.get('test_1')"
   ]
  },
  {
   "cell_type": "code",
   "execution_count": 11,
   "metadata": {},
   "outputs": [
    {
     "data": {
      "text/plain": [
       "[['test_2', 0, 0.0, 0.0, 0.0, 1.0],\n",
       " ['test_2', 1, 0.0, 0.0, 0.0, 1.0],\n",
       " ['test_2', 2, 0.0, 0.0, 0.0, 1.0],\n",
       " ['test_2', 3, 0.0, 0.0, 0.0, 1.0],\n",
       " ['test_2', 4, 0.0, 0.0, 0.0, 1.0]]"
      ]
     },
     "execution_count": 11,
     "metadata": {},
     "output_type": "execute_result"
    }
   ],
   "source": [
    "# get 5 samples with a description\n",
    "dev.get('test_2', n=5)"
   ]
  },
  {
   "cell_type": "markdown",
   "metadata": {},
   "source": [
    "#### JSON Data Publishing    "
   ]
  },
  {
   "cell_type": "code",
   "execution_count": 12,
   "metadata": {},
   "outputs": [],
   "source": [
    "# set the metadata publishing interval to every third sample\n",
    "dev.json_writer.metadata_interval = 3"
   ]
  },
  {
   "cell_type": "code",
   "execution_count": 13,
   "metadata": {},
   "outputs": [
    {
     "data": {
      "text/plain": [
       "['{\"description\": \"test_3\", \"sample_n\": 0, \"conductivity\": 0.0, \"total_dissolved_solids\": 0.0, \"salinity\": 0.0, \"specific_gravity\": 1.0, \"std_time_ms\": \"2020-02-13 21:28:52.397054\"}',\n",
       " '{\"description\": \"test_3\", \"sample_n\": 1, \"conductivity\": 0.0, \"total_dissolved_solids\": 0.0, \"salinity\": 0.0, \"specific_gravity\": 1.0, \"std_time_ms\": \"2020-02-13 21:28:54.558069\"}',\n",
       " '{\"description\": null, \"sample_n\": 2, \"conductivity\": 0.0, \"total_dissolved_solids\": 0.0, \"salinity\": 0.0, \"specific_gravity\": 1.0, \"std_time_ms\": \"2020-02-13 21:28:56.719041\", \"name\": \"Atlas_Conductivity\", \"title\": null, \"format\": null, \"encoding\": \"utf-8\", \"bytes\": null, \"hash\": null, \"schema\": null, \"sources\": null, \"licenses\": null, \"line_terminator\": \"\\\\n\", \"quote_char\": \"\\\\\"\", \"double_quote\": true, \"escape_char\": \"\\\\\\\\\", \"null_sequence\": \"NA\", \"comment\": \"#\", \"skip_lines\": 0, \"path\": null, \"device\": {\"name\": \"Atlas_Conductivity\", \"version_hw\": \"1.0\", \"version_sw\": \"1.0\", \"accuracy\": \"+/-2%\", \"precision\": \"0.07-500000 uS/cm\", \"bus\": \"<meerkat.i2c_pi.WrapI2C object at 0xad04d5b0>\", \"state\": null, \"active\": null, \"error\": null, \"dtype\": null, \"description\": \"Water conductivity\", \"urls\": \"www.atlas-scientific.com/conductivity.html\", \"manufacturer\": \"Atlas Scientific\", \"calibration_date\": null, \"units\": \"uS/cm\"}, \"units\": null, \"dtypes\": null, \"accuracy\": null, \"precision\": null, \"time_format\": \"std_time_ms\", \"strfmtime\": \"%Y-%m-%d %H:%M:%S.%f\", \"version\": \"0.1 Alpha\", \"standard\": \"RFC 8259\", \"media_type\": \"text/json\", \"metadata_interval\": 3, \"metadata_file_i\": 1, \"metadata_stream_i\": 0, \"header\": [\"description\", \"sample_n\", \"conductivity\", \"total_dissolved_solids\", \"salinity\", \"specific_gravity\"]}',\n",
       " '{\"description\": \"test_3\", \"sample_n\": 3, \"conductivity\": 0.0, \"total_dissolved_solids\": 0.0, \"salinity\": 0.0, \"specific_gravity\": 1.0, \"std_time_ms\": \"2020-02-13 21:28:58.880241\"}',\n",
       " '{\"description\": \"test_3\", \"sample_n\": 4, \"conductivity\": 0.0, \"total_dissolved_solids\": 0.0, \"salinity\": 0.0, \"specific_gravity\": 1.0, \"std_time_ms\": \"2020-02-13 21:29:01.041188\"}']"
      ]
     },
     "execution_count": 13,
     "metadata": {},
     "output_type": "execute_result"
    }
   ],
   "source": [
    "dev.publish(description='test_3', n=5)"
   ]
  },
  {
   "cell_type": "code",
   "execution_count": 14,
   "metadata": {},
   "outputs": [],
   "source": [
    "# write 5 samples to .csv file with description\n",
    "dev.write(description='test_4', n=5)"
   ]
  },
  {
   "cell_type": "code",
   "execution_count": 15,
   "metadata": {},
   "outputs": [
    {
     "data": {
      "text/plain": [
       "'2020_02_13_21_29_03_data.csv'"
      ]
     },
     "execution_count": 15,
     "metadata": {},
     "output_type": "execute_result"
    }
   ],
   "source": [
    "# name of file written\n",
    "dev.csv_writer.path"
   ]
  },
  {
   "cell_type": "code",
   "execution_count": 16,
   "metadata": {},
   "outputs": [
    {
     "name": "stdout",
     "output_type": "stream",
     "text": [
      "#!{\"name\": \"Atlas_Conductivity\", \"title\": null, \"description\": null, \"format\": null, \"encoding\": \"utf-8\", \"bytes\": null, \"hash\": null, \"schema\": null, \"sources\": null, \"licenses\": null, \"line_terminator\": \"\\n\", \"quote_char\": \"\\\"\", \"double_quote\": true, \"escape_char\": \"\\\\\", \"null_sequence\": \"NA\", \"comment\": \"#\", \"skip_lines\": 1, \"path\": \"2020_02_13_21_29_03_data.csv\", \"device\": {\"name\": \"Atlas_Conductivity\", \"version_hw\": \"1.0\", \"version_sw\": \"1.0\", \"accuracy\": \"+/-2%\", \"precision\": \"0.07-500000 uS/cm\", \"bus\": \"<meerkat.i2c_pi.WrapI2C object at 0xad04d5b0>\", \"state\": null, \"active\": null, \"error\": null, \"dtype\": null, \"description\": \"Water conductivity\", \"urls\": \"www.atlas-scientific.com/conductivity.html\", \"manufacturer\": \"Atlas Scientific\", \"calibration_date\": null, \"units\": \"uS/cm\"}, \"units\": null, \"dtypes\": null, \"accuracy\": null, \"precision\": null, \"time_format\": \"std_time_ms\", \"strfmtime\": \"%Y-%m-%d %H:%M:%S.%f\", \"version\": \"0.1 Alpha\", \"standard\": \"Follow RFC 4180\", \"media_type\": \"text/csv\", \"header\": [\"description\", \"sample_n\", \"conductivity\", \"total_dissolved_solids\", \"salinity\", \"specific_gravity\"], \"delimiter\": \",\", \"skip_initial_space\": true, \"case_sensitive_header\": false}\n",
      "std_time_ms,description,sample_n,conductivity,total_dissolved_solids,salinity,specific_gravity\n",
      "2020-02-13 21:29:03.237512,test_4,0,0.0,0.0,0.0,1.0\n",
      "2020-02-13 21:29:05.398630,test_4,1,0.0,0.0,0.0,1.0\n",
      "2020-02-13 21:29:07.559849,test_4,2,0.0,0.0,0.0,1.0\n",
      "2020-02-13 21:29:09.721074,test_4,3,0.0,0.0,0.0,1.0\n",
      "2020-02-13 21:29:11.882299,test_4,4,0.0,0.0,0.0,1.0\n"
     ]
    }
   ],
   "source": [
    "!head $dev.csv_writer.path"
   ]
  },
  {
   "cell_type": "code",
   "execution_count": 17,
   "metadata": {},
   "outputs": [],
   "source": [
    "# load .csv data written with dev.write\n",
    "m, df = parser.csv_resource(dev.csv_writer.path)"
   ]
  },
  {
   "cell_type": "code",
   "execution_count": 18,
   "metadata": {},
   "outputs": [
    {
     "data": {
      "text/html": [
       "<div>\n",
       "<style scoped>\n",
       "    .dataframe tbody tr th:only-of-type {\n",
       "        vertical-align: middle;\n",
       "    }\n",
       "\n",
       "    .dataframe tbody tr th {\n",
       "        vertical-align: top;\n",
       "    }\n",
       "\n",
       "    .dataframe thead th {\n",
       "        text-align: right;\n",
       "    }\n",
       "</style>\n",
       "<table border=\"1\" class=\"dataframe\">\n",
       "  <thead>\n",
       "    <tr style=\"text-align: right;\">\n",
       "      <th></th>\n",
       "      <th>std_time_ms</th>\n",
       "      <th>description</th>\n",
       "      <th>sample_n</th>\n",
       "      <th>conductivity</th>\n",
       "      <th>total_dissolved_solids</th>\n",
       "      <th>salinity</th>\n",
       "      <th>specific_gravity</th>\n",
       "      <th>datetime64_ns</th>\n",
       "    </tr>\n",
       "  </thead>\n",
       "  <tbody>\n",
       "    <tr>\n",
       "      <th>0</th>\n",
       "      <td>2020-02-13 21:29:03.237512</td>\n",
       "      <td>test_4</td>\n",
       "      <td>0</td>\n",
       "      <td>0.0</td>\n",
       "      <td>0.0</td>\n",
       "      <td>0.0</td>\n",
       "      <td>1.0</td>\n",
       "      <td>2020-02-13 21:29:03.237512</td>\n",
       "    </tr>\n",
       "    <tr>\n",
       "      <th>1</th>\n",
       "      <td>2020-02-13 21:29:05.398630</td>\n",
       "      <td>test_4</td>\n",
       "      <td>1</td>\n",
       "      <td>0.0</td>\n",
       "      <td>0.0</td>\n",
       "      <td>0.0</td>\n",
       "      <td>1.0</td>\n",
       "      <td>2020-02-13 21:29:05.398630</td>\n",
       "    </tr>\n",
       "    <tr>\n",
       "      <th>2</th>\n",
       "      <td>2020-02-13 21:29:07.559849</td>\n",
       "      <td>test_4</td>\n",
       "      <td>2</td>\n",
       "      <td>0.0</td>\n",
       "      <td>0.0</td>\n",
       "      <td>0.0</td>\n",
       "      <td>1.0</td>\n",
       "      <td>2020-02-13 21:29:07.559849</td>\n",
       "    </tr>\n",
       "    <tr>\n",
       "      <th>3</th>\n",
       "      <td>2020-02-13 21:29:09.721074</td>\n",
       "      <td>test_4</td>\n",
       "      <td>3</td>\n",
       "      <td>0.0</td>\n",
       "      <td>0.0</td>\n",
       "      <td>0.0</td>\n",
       "      <td>1.0</td>\n",
       "      <td>2020-02-13 21:29:09.721074</td>\n",
       "    </tr>\n",
       "    <tr>\n",
       "      <th>4</th>\n",
       "      <td>2020-02-13 21:29:11.882299</td>\n",
       "      <td>test_4</td>\n",
       "      <td>4</td>\n",
       "      <td>0.0</td>\n",
       "      <td>0.0</td>\n",
       "      <td>0.0</td>\n",
       "      <td>1.0</td>\n",
       "      <td>2020-02-13 21:29:11.882299</td>\n",
       "    </tr>\n",
       "  </tbody>\n",
       "</table>\n",
       "</div>"
      ],
      "text/plain": [
       "                  std_time_ms description  sample_n  conductivity  \\\n",
       "0  2020-02-13 21:29:03.237512      test_4         0           0.0   \n",
       "1  2020-02-13 21:29:05.398630      test_4         1           0.0   \n",
       "2  2020-02-13 21:29:07.559849      test_4         2           0.0   \n",
       "3  2020-02-13 21:29:09.721074      test_4         3           0.0   \n",
       "4  2020-02-13 21:29:11.882299      test_4         4           0.0   \n",
       "\n",
       "   total_dissolved_solids  salinity  specific_gravity  \\\n",
       "0                     0.0       0.0               1.0   \n",
       "1                     0.0       0.0               1.0   \n",
       "2                     0.0       0.0               1.0   \n",
       "3                     0.0       0.0               1.0   \n",
       "4                     0.0       0.0               1.0   \n",
       "\n",
       "               datetime64_ns  \n",
       "0 2020-02-13 21:29:03.237512  \n",
       "1 2020-02-13 21:29:05.398630  \n",
       "2 2020-02-13 21:29:07.559849  \n",
       "3 2020-02-13 21:29:09.721074  \n",
       "4 2020-02-13 21:29:11.882299  "
      ]
     },
     "execution_count": 18,
     "metadata": {},
     "output_type": "execute_result"
    }
   ],
   "source": [
    "df"
   ]
  },
  {
   "cell_type": "code",
   "execution_count": 19,
   "metadata": {},
   "outputs": [],
   "source": [
    "df.datetime64_ns = df.datetime64_ns.dt.tz_localize('UTC')  # Pandas 0.24.1 hack"
   ]
  },
  {
   "cell_type": "code",
   "execution_count": 20,
   "metadata": {},
   "outputs": [
    {
     "data": {
      "image/png": "[encoded data removed]",
      "text/plain": [
       "<Figure size 432x288 with 1 Axes>"
      ]
     },
     "metadata": {
      "needs_background": "light"
     },
     "output_type": "display_data"
    }
   ],
   "source": [
    "df[[\"datetime64_ns\", \"conductivity\", \"salinity\"]].plot(x=\"datetime64_ns\");"
   ]
  },
  {
   "cell_type": "markdown",
   "metadata": {},
   "source": [
    "#### JSON Writer Output"
   ]
  },
  {
   "cell_type": "code",
   "execution_count": 21,
   "metadata": {},
   "outputs": [],
   "source": [
    "dev.writer_output = \"json\""
   ]
  },
  {
   "cell_type": "code",
   "execution_count": 22,
   "metadata": {},
   "outputs": [],
   "source": [
    "# get 7 samples with a description\n",
    "dev.write(description='test_5', n=7)"
   ]
  },
  {
   "cell_type": "code",
   "execution_count": 23,
   "metadata": {},
   "outputs": [
    {
     "data": {
      "text/plain": [
       "'2020_02_13_21_29_16.jsontxt'"
      ]
     },
     "execution_count": 23,
     "metadata": {},
     "output_type": "execute_result"
    }
   ],
   "source": [
    "# name of file written\n",
    "dev.json_writer.path"
   ]
  },
  {
   "cell_type": "code",
   "execution_count": 24,
   "metadata": {},
   "outputs": [
    {
     "name": "stdout",
     "output_type": "stream",
     "text": [
      "{\"description\": \"test_5\", \"sample_n\": 0, \"conductivity\": 0.0, \"total_dissolved_solids\": 0.0, \"salinity\": 0.0, \"specific_gravity\": 1.0, \"std_time_ms\": \"2020-02-13 21:29:16.402099\"}\n",
      "{\"description\": \"test_5\", \"sample_n\": 1, \"conductivity\": 0.0, \"total_dissolved_solids\": 0.0, \"salinity\": 0.0, \"specific_gravity\": 1.0, \"std_time_ms\": \"2020-02-13 21:29:18.563183\"}\n",
      "{\"description\": null, \"sample_n\": 2, \"conductivity\": 0.0, \"total_dissolved_solids\": 0.0, \"salinity\": 0.0, \"specific_gravity\": 1.0, \"std_time_ms\": \"2020-02-13 21:29:20.724160\", \"name\": \"Atlas_Conductivity\", \"title\": null, \"format\": null, \"encoding\": \"utf-8\", \"bytes\": null, \"hash\": null, \"schema\": null, \"sources\": null, \"licenses\": null, \"line_terminator\": \"\\n\", \"quote_char\": \"\\\"\", \"double_quote\": true, \"escape_char\": \"\\\\\", \"null_sequence\": \"NA\", \"comment\": \"#\", \"skip_lines\": 0, \"path\": \"2020_02_13_21_29_16.jsontxt\", \"device\": {\"name\": \"Atlas_Conductivity\", \"version_hw\": \"1.0\", \"version_sw\": \"1.0\", \"accuracy\": \"+/-2%\", \"precision\": \"0.07-500000 uS/cm\", \"bus\": \"<meerkat.i2c_pi.WrapI2C object at 0xad04d5b0>\", \"state\": null, \"active\": null, \"error\": null, \"dtype\": null, \"description\": \"Water conductivity\", \"urls\": \"www.atlas-scientific.com/conductivity.html\", \"manufacturer\": \"Atlas Scientific\", \"calibration_date\": null, \"units\": \"uS/cm\"}, \"units\": null, \"dtypes\": null, \"accuracy\": null, \"precision\": null, \"time_format\": \"std_time_ms\", \"strfmtime\": \"%Y-%m-%d %H:%M:%S.%f\", \"version\": \"0.1 Alpha\", \"standard\": \"RFC 8259\", \"media_type\": \"text/json\", \"metadata_interval\": 3, \"metadata_file_i\": 0, \"metadata_stream_i\": 3, \"header\": [\"description\", \"sample_n\", \"conductivity\", \"total_dissolved_solids\", \"salinity\", \"specific_gravity\"]}\n",
      "{\"description\": \"test_5\", \"sample_n\": 3, \"conductivity\": 0.0, \"total_dissolved_solids\": 0.0, \"salinity\": 0.0, \"specific_gravity\": 1.0, \"std_time_ms\": \"2020-02-13 21:29:22.885696\"}\n",
      "{\"description\": \"test_5\", \"sample_n\": 4, \"conductivity\": 0.0, \"total_dissolved_solids\": 0.0, \"salinity\": 0.0, \"specific_gravity\": 1.0, \"std_time_ms\": \"2020-02-13 21:29:25.046969\"}\n",
      "{\"description\": null, \"sample_n\": 5, \"conductivity\": 0.0, \"total_dissolved_solids\": 0.0, \"salinity\": 0.0, \"specific_gravity\": 1.0, \"std_time_ms\": \"2020-02-13 21:29:27.208237\", \"name\": \"Atlas_Conductivity\", \"title\": null, \"format\": null, \"encoding\": \"utf-8\", \"bytes\": null, \"hash\": null, \"schema\": null, \"sources\": null, \"licenses\": null, \"line_terminator\": \"\\n\", \"quote_char\": \"\\\"\", \"double_quote\": true, \"escape_char\": \"\\\\\", \"null_sequence\": \"NA\", \"comment\": \"#\", \"skip_lines\": 0, \"path\": \"2020_02_13_21_29_16.jsontxt\", \"device\": {\"name\": \"Atlas_Conductivity\", \"version_hw\": \"1.0\", \"version_sw\": \"1.0\", \"accuracy\": \"+/-2%\", \"precision\": \"0.07-500000 uS/cm\", \"bus\": \"<meerkat.i2c_pi.WrapI2C object at 0xad04d5b0>\", \"state\": null, \"active\": null, \"error\": null, \"dtype\": null, \"description\": \"Water conductivity\", \"urls\": \"www.atlas-scientific.com/conductivity.html\", \"manufacturer\": \"Atlas Scientific\", \"calibration_date\": null, \"units\": \"uS/cm\"}, \"units\": null, \"dtypes\": null, \"accuracy\": null, \"precision\": null, \"time_format\": \"std_time_ms\", \"strfmtime\": \"%Y-%m-%d %H:%M:%S.%f\", \"version\": \"0.1 Alpha\", \"standard\": \"RFC 8259\", \"media_type\": \"text/json\", \"metadata_interval\": 3, \"metadata_file_i\": 0, \"metadata_stream_i\": 3, \"header\": [\"description\", \"sample_n\", \"conductivity\", \"total_dissolved_solids\", \"salinity\", \"specific_gravity\"]}\n",
      "{\"description\": \"test_5\", \"sample_n\": 6, \"conductivity\": 0.0, \"total_dissolved_solids\": 0.0, \"salinity\": 0.0, \"specific_gravity\": 1.0, \"std_time_ms\": \"2020-02-13 21:29:29.369777\"}\n"
     ]
    }
   ],
   "source": [
    "!head $dev.json_writer.path"
   ]
  }
 ],
 "metadata": {
  "kernelspec": {
   "display_name": "Python 3",
   "language": "python",
   "name": "python3"
  },
  "language_info": {
   "codemirror_mode": {
    "name": "ipython",
    "version": 3
   },
   "file_extension": ".py",
   "mimetype": "text/x-python",
   "name": "python",
   "nbconvert_exporter": "python",
   "pygments_lexer": "ipython3",
   "version": "3.7.3"
  }
 },
 "nbformat": 4,
 "nbformat_minor": 4
}

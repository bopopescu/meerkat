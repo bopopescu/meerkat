{
 "cells": [
  {
   "cell_type": "code",
   "execution_count": 1,
   "metadata": {},
   "outputs": [],
   "source": [
    "import os\n",
    "import sys\n",
    "import smbus\n",
    "import time\n",
    "\n",
    "from datetime import datetime"
   ]
  },
  {
   "cell_type": "code",
   "execution_count": 2,
   "metadata": {},
   "outputs": [
    {
     "name": "stdout",
     "output_type": "stream",
     "text": [
      "Current working directory is: /home/colin/code/meerkat/examples\n",
      "Appending directory to path: /home/colin/code/meerkat\n"
     ]
    }
   ],
   "source": [
    "# get current working directory and append relative path for package import\n",
    "if os.name == 'posix':\n",
    "    _wd = !pwd\n",
    "    _wd = _wd[0]\n",
    "elif os.name == 'nt':\n",
    "    _wd = !cd\n",
    "    _wd = _wd[0]\n",
    "else:\n",
    "    _wd = os.getcwd()\n",
    "print('Current working directory is:', _wd)\n",
    "p = os.path.dirname(_wd)\n",
    "p = os.path.join(p, '.')\n",
    "p = os.path.abspath(p)\n",
    "print('Appending directory to path:', p)\n",
    "sys.path.insert(0, p)\n",
    "\n",
    "# alternatively, manually set the path to meerkat\n",
    "#sys.path.insert(0, '/path_to_meerkat')"
   ]
  },
  {
   "cell_type": "code",
   "execution_count": 3,
   "metadata": {},
   "outputs": [],
   "source": [
    "from meerkat import mcp9808"
   ]
  },
  {
   "cell_type": "code",
   "execution_count": 4,
   "metadata": {},
   "outputs": [],
   "source": [
    "i2c = smbus.SMBus(1)\n",
    "dev = mcp9808.MCP9808(bus=i2c)"
   ]
  },
  {
   "cell_type": "code",
   "execution_count": 5,
   "metadata": {},
   "outputs": [
    {
     "data": {
      "text/plain": [
       "20.3125"
      ]
     },
     "execution_count": 5,
     "metadata": {},
     "output_type": "execute_result"
    }
   ],
   "source": [
    "dev.get_temp()"
   ]
  },
  {
   "cell_type": "code",
   "execution_count": 6,
   "metadata": {},
   "outputs": [
    {
     "name": "stdout",
     "output_type": "stream",
     "text": [
      "Configuration Register: None\n",
      "Upper Temperature: None\n",
      "Lower Temperature: None\n",
      "Critical Temperature: None\n",
      "Manufacturer: 84\n",
      "Device ID: 4\n",
      "Device Revision: 0\n"
     ]
    }
   ],
   "source": [
    "dev.print_status()"
   ]
  },
  {
   "cell_type": "code",
   "execution_count": 7,
   "metadata": {},
   "outputs": [],
   "source": [
    "t_end = datetime(year=2018, month=10, day=22, hour=0)"
   ]
  },
  {
   "cell_type": "code",
   "execution_count": 8,
   "metadata": {},
   "outputs": [],
   "source": [
    "while datetime.now() < t_end:\n",
    "    dev.write(t=time.ctime(), sid='multiday_test')\n",
    "    time.sleep(300)"
   ]
  },
  {
   "cell_type": "code",
   "execution_count": 9,
   "metadata": {},
   "outputs": [],
   "source": [
    "from meerkat import parser"
   ]
  },
  {
   "cell_type": "code",
   "execution_count": 10,
   "metadata": {},
   "outputs": [],
   "source": [
    "import pandas as pd"
   ]
  },
  {
   "cell_type": "code",
   "execution_count": 11,
   "metadata": {},
   "outputs": [
    {
     "data": {
      "text/plain": [
       "'2018_10_16_20_07_20_311517_data.txt'"
      ]
     },
     "execution_count": 11,
     "metadata": {},
     "output_type": "execute_result"
    }
   ],
   "source": [
    "dev.writer.path"
   ]
  },
  {
   "cell_type": "code",
   "execution_count": 12,
   "metadata": {},
   "outputs": [],
   "source": [
    "meta, df = parser.csv_resource(dev.writer.path)"
   ]
  },
  {
   "cell_type": "code",
   "execution_count": 13,
   "metadata": {},
   "outputs": [],
   "source": [
    "import matplotlib.pyplot as plt"
   ]
  },
  {
   "cell_type": "code",
   "execution_count": 14,
   "metadata": {},
   "outputs": [],
   "source": [
    "df['datetime64_ns'] = pd.to_datetime(df.datetime)"
   ]
  },
  {
   "cell_type": "code",
   "execution_count": 15,
   "metadata": {},
   "outputs": [
    {
     "data": {
      "text/html": [
       "<div>\n",
       "<style scoped>\n",
       "    .dataframe tbody tr th:only-of-type {\n",
       "        vertical-align: middle;\n",
       "    }\n",
       "\n",
       "    .dataframe tbody tr th {\n",
       "        vertical-align: top;\n",
       "    }\n",
       "\n",
       "    .dataframe thead th {\n",
       "        text-align: right;\n",
       "    }\n",
       "</style>\n",
       "<table border=\"1\" class=\"dataframe\">\n",
       "  <thead>\n",
       "    <tr style=\"text-align: right;\">\n",
       "      <th></th>\n",
       "      <th>datetime</th>\n",
       "      <th>sample_id</th>\n",
       "      <th>temperature</th>\n",
       "      <th>datetime64_ns</th>\n",
       "    </tr>\n",
       "  </thead>\n",
       "  <tbody>\n",
       "    <tr>\n",
       "      <th>0</th>\n",
       "      <td>Tue Oct 16 20:07:20 2018</td>\n",
       "      <td>multiday_test</td>\n",
       "      <td>20.3125</td>\n",
       "      <td>2018-10-16 20:07:20</td>\n",
       "    </tr>\n",
       "    <tr>\n",
       "      <th>1</th>\n",
       "      <td>Tue Oct 16 20:12:20 2018</td>\n",
       "      <td>multiday_test</td>\n",
       "      <td>20.2500</td>\n",
       "      <td>2018-10-16 20:12:20</td>\n",
       "    </tr>\n",
       "    <tr>\n",
       "      <th>2</th>\n",
       "      <td>Tue Oct 16 20:17:20 2018</td>\n",
       "      <td>multiday_test</td>\n",
       "      <td>20.0000</td>\n",
       "      <td>2018-10-16 20:17:20</td>\n",
       "    </tr>\n",
       "    <tr>\n",
       "      <th>3</th>\n",
       "      <td>Tue Oct 16 20:22:20 2018</td>\n",
       "      <td>multiday_test</td>\n",
       "      <td>19.9375</td>\n",
       "      <td>2018-10-16 20:22:20</td>\n",
       "    </tr>\n",
       "    <tr>\n",
       "      <th>4</th>\n",
       "      <td>Tue Oct 16 20:27:20 2018</td>\n",
       "      <td>multiday_test</td>\n",
       "      <td>19.8125</td>\n",
       "      <td>2018-10-16 20:27:20</td>\n",
       "    </tr>\n",
       "  </tbody>\n",
       "</table>\n",
       "</div>"
      ],
      "text/plain": [
       "                   datetime      sample_id  temperature       datetime64_ns\n",
       "0  Tue Oct 16 20:07:20 2018  multiday_test      20.3125 2018-10-16 20:07:20\n",
       "1  Tue Oct 16 20:12:20 2018  multiday_test      20.2500 2018-10-16 20:12:20\n",
       "2  Tue Oct 16 20:17:20 2018  multiday_test      20.0000 2018-10-16 20:17:20\n",
       "3  Tue Oct 16 20:22:20 2018  multiday_test      19.9375 2018-10-16 20:22:20\n",
       "4  Tue Oct 16 20:27:20 2018  multiday_test      19.8125 2018-10-16 20:27:20"
      ]
     },
     "execution_count": 15,
     "metadata": {},
     "output_type": "execute_result"
    }
   ],
   "source": [
    "df.head()"
   ]
  },
  {
   "cell_type": "code",
   "execution_count": 16,
   "metadata": {},
   "outputs": [
    {
     "data": {
      "image/png": "[encoded data removed]",
      "text/plain": [
       "<Figure size 432x288 with 1 Axes>"
      ]
     },
     "metadata": {},
     "output_type": "display_data"
    }
   ],
   "source": [
    "df[['datetime64_ns', 'temperature']].plot(x='datetime64_ns');"
   ]
  },
  {
   "cell_type": "code",
   "execution_count": null,
   "metadata": {},
   "outputs": [],
   "source": []
  }
 ],
 "metadata": {
  "kernelspec": {
   "display_name": "Python 3",
   "language": "python",
   "name": "python3"
  },
  "language_info": {
   "codemirror_mode": {
    "name": "ipython",
    "version": 3
   },
   "file_extension": ".py",
   "mimetype": "text/x-python",
   "name": "python",
   "nbconvert_exporter": "python",
   "pygments_lexer": "ipython3",
   "version": "3.5.2"
  }
 },
 "nbformat": 4,
 "nbformat_minor": 2
}

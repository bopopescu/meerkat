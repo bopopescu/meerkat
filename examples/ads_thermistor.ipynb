{
 "cells": [
  {
   "cell_type": "raw",
   "metadata": {},
   "source": [
    "Schematic:\n",
    "[Ground] -- [10k resistor] -- | -- [10k thermistor] -- [Vcc]\n",
    "                              |                          |\n",
    "                      A1 (Analog Pin 1)          A0 (Analog Pin 0)"
   ]
  },
  {
   "cell_type": "code",
   "execution_count": 1,
   "metadata": {},
   "outputs": [],
   "source": [
    "import os\n",
    "import sys\n",
    "import time\n",
    "import smbus\n",
    "\n",
    "from math import log\n",
    "from time import sleep\n",
    "from datetime import datetime\n",
    "\n",
    "import matplotlib.pyplot as plt\n",
    "\n",
    "from meerkat import ads, thermistor"
   ]
  },
  {
   "cell_type": "code",
   "execution_count": 4,
   "metadata": {},
   "outputs": [
    {
     "ename": "NameError",
     "evalue": "name 'smbus' is not defined",
     "output_type": "error",
     "traceback": [
      "\u001b[1;31m---------------------------------------------------------------------------\u001b[0m",
      "\u001b[1;31mNameError\u001b[0m                                 Traceback (most recent call last)",
      "\u001b[1;32m<ipython-input-4-0c98976d6d48>\u001b[0m in \u001b[0;36m<module>\u001b[1;34m()\u001b[0m\n\u001b[1;32m----> 1\u001b[1;33m \u001b[0mi2c\u001b[0m \u001b[1;33m=\u001b[0m \u001b[0msmbus\u001b[0m\u001b[1;33m.\u001b[0m\u001b[0mSMBus\u001b[0m\u001b[1;33m(\u001b[0m\u001b[1;36m1\u001b[0m\u001b[1;33m)\u001b[0m\u001b[1;33m\u001b[0m\u001b[0m\n\u001b[0m\u001b[0;32m      2\u001b[0m \u001b[0mdev\u001b[0m \u001b[1;33m=\u001b[0m \u001b[0mads\u001b[0m\u001b[1;33m.\u001b[0m\u001b[0mADS1115\u001b[0m\u001b[1;33m(\u001b[0m\u001b[0mbus\u001b[0m\u001b[1;33m=\u001b[0m\u001b[0mi2c\u001b[0m\u001b[1;33m)\u001b[0m\u001b[1;33m\u001b[0m\u001b[0m\n\u001b[0;32m      3\u001b[0m \u001b[0mdev\u001b[0m\u001b[1;33m.\u001b[0m\u001b[0mget_config\u001b[0m\u001b[1;33m(\u001b[0m\u001b[1;33m)\u001b[0m\u001b[1;33m\u001b[0m\u001b[0m\n\u001b[0;32m      4\u001b[0m \u001b[0mdev\u001b[0m\u001b[1;33m.\u001b[0m\u001b[0mpga\u001b[0m\u001b[1;33m(\u001b[0m\u001b[1;34m'6.144'\u001b[0m\u001b[1;33m)\u001b[0m\u001b[1;33m\u001b[0m\u001b[0m\n",
      "\u001b[1;31mNameError\u001b[0m: name 'smbus' is not defined"
     ]
    }
   ],
   "source": [
    "i2c = smbus.SMBus(1)\n",
    "dev = ads.ADS1115(bus=i2c)\n",
    "dev.get_config()\n",
    "dev.pga('6.144')"
   ]
  },
  {
   "cell_type": "code",
   "execution_count": null,
   "metadata": {},
   "outputs": [],
   "source": [
    "dev.print_attributes()"
   ]
  },
  {
   "cell_type": "code",
   "execution_count": null,
   "metadata": {},
   "outputs": [],
   "source": [
    "def get_time():\n",
    "    return datetime.now().strftime('%Y-%m-%d %H:%M:%S.%f')"
   ]
  },
  {
   "cell_type": "code",
   "execution_count": null,
   "metadata": {},
   "outputs": [],
   "source": [
    "def R2(R1, Vin, Vout):\n",
    "    \"\"\"Voltage divider, unknown resistance with known resistance and voltages\"\"\"\n",
    "    return R1 * (1 / ((Vin/Vout) - 1))"
   ]
  },
  {
   "cell_type": "code",
   "execution_count": null,
   "metadata": {},
   "outputs": [],
   "source": [
    "# delay between reads and writes sometimes need to be increased\n",
    "dev.delay = 0.1\n",
    "\n",
    "# get voltages of pins\n",
    "dev.mux('1G')     # pin 0 relative to ground\n",
    "Vcc = dev.voltage()\n",
    "time.sleep(1)\n",
    "print('Measured Source voltage: {} V'.format(Vcc))\n",
    "dev.mux('2G')     # pin 1 relative to ground\n",
    "Vt = dev.voltage()\n",
    "print('Measured Thermistor voltage: {} V'.format(Vt))\n",
    "\n",
    "# calculate resistance of thermistor\n",
    "Rt = R2(R1=10000, Vin=Vcc, Vout=Vt)\n",
    "print('Measured resistance: {} ohms'.format(Rt))\n",
    "\n",
    "# Thermistor is a Semitec 103AT-2 values from datasheet\n",
    "# http://www.semitec.co.jp/uploads/english/sites/2/2017/03/P12-13-AT-Thermistor.pdf\n",
    "\n",
    "# these steps would be done once\n",
    "s103AT = thermistor.Semitec103AT()\n",
    "A = thermistor.compose_array(*s103AT.find_nearest(Rt))\n",
    "abc = thermistor.gauss(A)\n",
    "\n",
    "tC = steinhart_hart_equation(Rt, *abc)\n",
    "print('Measured temperature: {:6.2f} C'.format(tC))"
   ]
  },
  {
   "cell_type": "raw",
   "metadata": {},
   "source": [
    "samples = 20"
   ]
  },
  {
   "cell_type": "raw",
   "metadata": {},
   "source": [
    "data = []\n",
    "for _ in range(samples):\n",
    "    data.append([get_time()] + dev.get(sid='thermistor_test_' + str(_)))"
   ]
  },
  {
   "cell_type": "raw",
   "metadata": {},
   "source": [
    "import pandas as pd"
   ]
  },
  {
   "cell_type": "raw",
   "metadata": {},
   "source": [
    "df = pd.DataFrame(data)"
   ]
  },
  {
   "cell_type": "raw",
   "metadata": {},
   "source": [
    "df.head()"
   ]
  },
  {
   "cell_type": "raw",
   "metadata": {},
   "source": [
    "df['Rt'] = df.iloc[:,2].apply(lambda Vt: R2(R1=10000, Vin=Vcc, Vout=Vt))"
   ]
  },
  {
   "cell_type": "raw",
   "metadata": {},
   "source": [
    "df['T'] = df.Rt.apply(lambda Rt: kelvin_to_celcius(steinhart_hart_equation(Rt, a, b, c)))"
   ]
  },
  {
   "cell_type": "raw",
   "metadata": {},
   "source": [
    "df['T'].plot();"
   ]
  }
 ],
 "metadata": {
  "kernelspec": {
   "display_name": "Python 3",
   "language": "python",
   "name": "python3"
  },
  "language_info": {
   "codemirror_mode": {
    "name": "ipython",
    "version": 3
   },
   "file_extension": ".py",
   "mimetype": "text/x-python",
   "name": "python",
   "nbconvert_exporter": "python",
   "pygments_lexer": "ipython3",
   "version": "3.6.4"
  }
 },
 "nbformat": 4,
 "nbformat_minor": 2
}

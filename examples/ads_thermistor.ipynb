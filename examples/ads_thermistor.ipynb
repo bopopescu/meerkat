{
 "cells": [
  {
   "cell_type": "raw",
   "metadata": {},
   "source": [
    "Schematic:\n",
    "[Ground] -- [10k resistor] -- | -- [10k thermistor] -- [Vcc]\n",
    "                              |                          |\n",
    "                      A1 (Analog Pin 1)          A0 (Analog Pin 0)"
   ]
  },
  {
   "cell_type": "code",
   "execution_count": 19,
   "metadata": {},
   "outputs": [],
   "source": [
    "import os\n",
    "import sys\n",
    "import smbus\n",
    "\n",
    "from math import log\n",
    "from time import sleep\n",
    "from datetime import datetime\n",
    "\n",
    "import matplotlib.pyplot as plt"
   ]
  },
  {
   "cell_type": "code",
   "execution_count": 2,
   "metadata": {},
   "outputs": [
    {
     "name": "stdout",
     "output_type": "stream",
     "text": [
      "Current working directory is: /home/colin/code/meerkat/examples\n",
      "Appending directory to path: /home/colin/code/meerkat\n"
     ]
    }
   ],
   "source": [
    "# get current working directory and append relative path for package import\n",
    "if os.name == 'posix':\n",
    "    _wd = !pwd\n",
    "    _wd = _wd[0]\n",
    "elif os.name == 'nt':\n",
    "    _wd = !cd\n",
    "    _wd = _wd[0]\n",
    "else:\n",
    "    _wd = os.getcwd()\n",
    "print('Current working directory is:', _wd)\n",
    "p = os.path.dirname(_wd)\n",
    "p = os.path.join(p, '.')\n",
    "p = os.path.abspath(p)\n",
    "print('Appending directory to path:', p)\n",
    "sys.path.insert(0, p)\n",
    "\n",
    "# alternatively, manually set the path to meerkat\n",
    "#sys.path.insert(0, '/path_to_meerkat')"
   ]
  },
  {
   "cell_type": "code",
   "execution_count": 3,
   "metadata": {},
   "outputs": [],
   "source": [
    "from meerkat import ads"
   ]
  },
  {
   "cell_type": "code",
   "execution_count": 4,
   "metadata": {},
   "outputs": [],
   "source": [
    "i2c = smbus.SMBus(1)\n",
    "dev = ads.ADS1115(bus=i2c)\n",
    "dev.get_config()\n",
    "dev.pga('6.144')"
   ]
  },
  {
   "cell_type": "code",
   "execution_count": 5,
   "metadata": {},
   "outputs": [
    {
     "name": "stdout",
     "output_type": "stream",
     "text": [
      "ADS11x5 Configuration Attributes\n",
      "--------------------------------\n",
      "Config Register: 33024 0x8100 0b1000000100000000\n",
      "PGA Range: +/- 6.144 Volts\n",
      "Mode: single\n",
      "Data Rate: 8 SPS\n",
      "Input Multiplexer: 01\n",
      "Comparator:\n",
      " Queue: 1\n",
      " Latching: off\n",
      " Polarity: Active 1\n",
      " Mode: trad\n"
     ]
    }
   ],
   "source": [
    "dev.print_attributes()"
   ]
  },
  {
   "cell_type": "code",
   "execution_count": 6,
   "metadata": {},
   "outputs": [],
   "source": [
    "def get_time():\n",
    "    return datetime.now().strftime('%Y-%m-%d %H:%M:%S.%f')"
   ]
  },
  {
   "cell_type": "code",
   "execution_count": 7,
   "metadata": {},
   "outputs": [],
   "source": [
    "def R2(R1, Vin, Vout):\n",
    "    \"\"\"Voltage divider, unknown resistance with known resistance and voltages\"\"\"\n",
    "    return R1 * (1 / ((Vin/Vout) - 1))"
   ]
  },
  {
   "cell_type": "code",
   "execution_count": 8,
   "metadata": {},
   "outputs": [],
   "source": [
    "def steinhart_hart_equation(r, a, b, c):\n",
    "    \"\"\"Calculate temperature in Kelvin from a resistance\n",
    "    based on the Steinhart–Hart equation\n",
    "\n",
    "    Parameters\n",
    "    ----------\n",
    "    r : float, resistance of thermister\n",
    "    a : float, coeffient\n",
    "    b : float, coeffient\n",
    "    c : float, coeffient\n",
    "\n",
    "    Returns\n",
    "    -------\n",
    "    t : float, temperature in Kelvin\n",
    "    \"\"\"\n",
    "    return 1.0 / (a + b * log(r) + c * (log(r) ** 3))\n",
    "    \n",
    "def kelvin_to_celcius(k):\n",
    "    \"\"\"Convert temperature in Kelvin to Celsius\n",
    "\n",
    "    Parameters\n",
    "    ----------\n",
    "\n",
    "    k : float, temperature in degrees Kelvin\n",
    "    Returns\n",
    "    -------\n",
    "    float, temperature in degrees Celsius\n",
    "    \"\"\"\n",
    "    return k - 273.15"
   ]
  },
  {
   "cell_type": "code",
   "execution_count": 9,
   "metadata": {},
   "outputs": [],
   "source": [
    "import time"
   ]
  },
  {
   "cell_type": "code",
   "execution_count": 10,
   "metadata": {},
   "outputs": [],
   "source": [
    "dev.delay = 0.1"
   ]
  },
  {
   "cell_type": "code",
   "execution_count": 42,
   "metadata": {},
   "outputs": [
    {
     "name": "stdout",
     "output_type": "stream",
     "text": [
      "Measured Source voltage: 2.04825 V\n",
      "Measured Thermistor voltage: 0.9751875 V\n",
      "Measured resistance: 9087.890966276429 ohms\n",
      "Measured temperature:  27.19 C\n"
     ]
    }
   ],
   "source": [
    "# Rough pass at temperature\n",
    "# delay between reads and writes sometimes need to be increased\n",
    "dev.delay = 0.1\n",
    "\n",
    "# get voltages of pins\n",
    "dev.mux('1G')     # pin 0 relative to ground\n",
    "Vcc = dev.voltage()\n",
    "time.sleep(1)\n",
    "print('Measured Source voltage: {} V'.format(Vcc))\n",
    "dev.mux('2G')     # pin 1 relative to ground\n",
    "Vt = dev.voltage()\n",
    "print('Measured Thermistor voltage: {} V'.format(Vt))\n",
    "\n",
    "# calculate resistance of thermistor\n",
    "Rt = R2(R1=10000, Vin=Vcc, Vout=Vt)\n",
    "print('Measured resistance: {} ohms'.format(Rt))\n",
    "\n",
    "# Thermistor is a Semitec 103AT-2 values from datasheet\n",
    "\n",
    "a = 0.000811290160145459\n",
    "b = 0.000211355789144265\n",
    "c = 7.17614730463848e-08\n",
    "\n",
    "a = 0.001129148\n",
    "b = 0.000234125\n",
    "c = 8.76741e-08\n",
    "\n",
    "tK = steinhart_hart_equation(Rt, a, b, c)\n",
    "tC = kelvin_to_celcius(tK)\n",
    "print('Measured temperature: {:6.2f} C'.format(tC))"
   ]
  },
  {
   "cell_type": "code",
   "execution_count": 14,
   "metadata": {},
   "outputs": [],
   "source": [
    "tt = list(range(-50, 115, 5))"
   ]
  },
  {
   "cell_type": "code",
   "execution_count": 28,
   "metadata": {},
   "outputs": [],
   "source": [
    "r103AT = [329.5, 247.7, 188.5, 144.1, 111.3, 86.43, 67.77, 53.41, 42.47, 33.90, 27.28,\n",
    "          22.05, 17.96, 14.69, 12.09, 10.00, 8.313, 6.940, 5.827, 4.911, 4.160, 3.536,\n",
    "          3.020, 2.588, 2.228, 1.924, 1.668, 1.451, 1.266, 1.108, 0.9731, 0.8572, 0.7576]\n",
    "r103AT = [_t * 1000 for _t in r103AT]"
   ]
  },
  {
   "cell_type": "code",
   "execution_count": 43,
   "metadata": {},
   "outputs": [
    {
     "data": {
      "image/png": "[encoded data removed]",
      "text/plain": [
       "<Figure size 432x288 with 1 Axes>"
      ]
     },
     "metadata": {
      "needs_background": "light"
     },
     "output_type": "display_data"
    }
   ],
   "source": [
    "plt.plot(tt, r103AT, label='Datasheet Calibration');\n",
    "plt.axhline(Rt, color='r', label='Measured')\n",
    "plt.xlabel('Temperature in degrees C');\n",
    "plt.ylabel('Resistance in kilo Ohms');\n",
    "plt.legend();"
   ]
  },
  {
   "cell_type": "code",
   "execution_count": 51,
   "metadata": {},
   "outputs": [
    {
     "data": {
      "text/plain": [
       "9087.890966276429"
      ]
     },
     "execution_count": 51,
     "metadata": {},
     "output_type": "execute_result"
    }
   ],
   "source": [
    "Rt"
   ]
  },
  {
   "cell_type": "code",
   "execution_count": 52,
   "metadata": {},
   "outputs": [
    {
     "data": {
      "text/plain": [
       "16"
      ]
     },
     "execution_count": 52,
     "metadata": {},
     "output_type": "execute_result"
    }
   ],
   "source": [
    "nearest = min(range(len(r103AT)), key=lambda i: abs(r103AT[i]-Rt))\n",
    "nearest"
   ]
  },
  {
   "cell_type": "code",
   "execution_count": 53,
   "metadata": {},
   "outputs": [
    {
     "name": "stdout",
     "output_type": "stream",
     "text": [
      "25 10000.0\n",
      "30 8313.0\n",
      "35 6940.0\n"
     ]
    }
   ],
   "source": [
    "for di in [-1, 0, 1]:\n",
    "    i = nearest + di\n",
    "    print(tt[i], r103AT[i])"
   ]
  },
  {
   "cell_type": "code",
   "execution_count": 50,
   "metadata": {},
   "outputs": [
    {
     "data": {
      "text/plain": [
       "(16, 8313.0)"
      ]
     },
     "execution_count": 50,
     "metadata": {},
     "output_type": "execute_result"
    }
   ],
   "source": [
    "min(enumerate(r103AT), key=lambda x: abs(x[1]-Rt))"
   ]
  },
  {
   "cell_type": "code",
   "execution_count": 54,
   "metadata": {},
   "outputs": [],
   "source": [
    "def sh_coefficients(t1, r1, t2, r2, t3, r3):\n",
    "    t1 =+ 273\n",
    "    t2 =+ 273\n",
    "    t3 =+ 273\n",
    "\n",
    "    L1 = log(r1)\n",
    "    L2 = log(r2)\n",
    "    L3 = log(r3)\n",
    "\n",
    "    Y1 = 1 / t1\n",
    "    Y2 = 1 / t2\n",
    "    Y3 = 1 / t3\n",
    "\n",
    "    V2 = (Y2 - Y1) / (L2 - L1)\n",
    "    V3 = (Y3 - Y1) / (L3 - L1)\n",
    "\n",
    "    C = ((V3 - V2) / (L3 - L2)) * ((L1 + L2 + L3)**-1)\n",
    "    B = V2 - C * (L1**2 + L1 * L2 + L2**2)\n",
    "    A = Y1 - L1 * (B + C * L1**2)\n",
    "    return A, B, C"
   ]
  },
  {
   "cell_type": "code",
   "execution_count": null,
   "metadata": {},
   "outputs": [],
   "source": []
  },
  {
   "cell_type": "code",
   "execution_count": 33,
   "metadata": {},
   "outputs": [
    {
     "name": "stdout",
     "output_type": "stream",
     "text": [
      "10153.108282604686\n",
      "0.003663003663003663 0.0 -0.0\n",
      "10153.108282604686\n",
      "Measured temperature: -0.14999999999997726 C\n"
     ]
    }
   ],
   "source": [
    "t1 = 10\n",
    "r1 = 17.96 *1000\n",
    "t2 = 20\n",
    "r2 = 12.09 * 1000\n",
    "t3 = 40\n",
    "r3 = 5.827 * 1000\n",
    "\n",
    "t1 =+ 273\n",
    "t2 =+ 273\n",
    "t3 =+ 273\n",
    "\n",
    "L1 = log(r1)\n",
    "L2 = log(r2)\n",
    "L3 = log(r3)\n",
    "\n",
    "Y1 = 1 / t1\n",
    "Y2 = 1 / t2\n",
    "Y3 = 1 / t3\n",
    "\n",
    "V2 = (Y2 - Y1) / (L2 - L1)\n",
    "V3 = (Y3 - Y1) / (L3 - L1)\n",
    "\n",
    "C = ((V3 - V2) / (L3 - L2)) * ((L1 + L2 + L3)**-1)\n",
    "B = V2 - C * (L1**2 + L1 * L2 + L2**2)\n",
    "A = Y1 - L1 * (B + C * L1**2)\n",
    "\n",
    "tK = steinhart_hart_equation(Rt, A, B, C)\n",
    "print(Rt)\n",
    "print(A, B, C)\n",
    "print(Rt)\n",
    "tC = kelvin_to_celcius(tK)\n",
    "print('Measured temperature: {} C'.format(tC))"
   ]
  },
  {
   "cell_type": "code",
   "execution_count": null,
   "metadata": {},
   "outputs": [],
   "source": []
  },
  {
   "cell_type": "code",
   "execution_count": null,
   "metadata": {},
   "outputs": [],
   "source": [
    "a = 0.000811290160145459\n",
    "b = 0.000211355789144265\n",
    "c = 7.17614730463848e-08\n",
    "\n",
    "tK = steinhart_hart_equation(Rt, a, b, c)\n",
    "kelvin_to_celcius(tK)"
   ]
  },
  {
   "cell_type": "code",
   "execution_count": null,
   "metadata": {},
   "outputs": [],
   "source": [
    "samples = 20"
   ]
  },
  {
   "cell_type": "code",
   "execution_count": null,
   "metadata": {},
   "outputs": [],
   "source": [
    "data = []\n",
    "for _ in range(samples):\n",
    "    data.append([get_time()] + dev.get(sid='thermistor_test_' + str(_)))"
   ]
  },
  {
   "cell_type": "code",
   "execution_count": null,
   "metadata": {},
   "outputs": [],
   "source": [
    "import pandas as pd\n",
    "import matplotlib.pyplot as plt"
   ]
  },
  {
   "cell_type": "code",
   "execution_count": null,
   "metadata": {},
   "outputs": [],
   "source": [
    "df = pd.DataFrame(data)"
   ]
  },
  {
   "cell_type": "code",
   "execution_count": null,
   "metadata": {},
   "outputs": [],
   "source": [
    "df.head()"
   ]
  },
  {
   "cell_type": "code",
   "execution_count": null,
   "metadata": {},
   "outputs": [],
   "source": [
    "df['Rt'] = df.iloc[:,2].apply(lambda Vt: R2(R1=10000, Vin=Vcc, Vout=Vt))"
   ]
  },
  {
   "cell_type": "code",
   "execution_count": null,
   "metadata": {},
   "outputs": [],
   "source": [
    "df['T'] = df.Rt.apply(lambda Rt: kelvin_to_celcius(steinhart_hart_equation(Rt, a, b, c)))"
   ]
  },
  {
   "cell_type": "code",
   "execution_count": null,
   "metadata": {},
   "outputs": [],
   "source": [
    "df['T'].plot();"
   ]
  },
  {
   "cell_type": "code",
   "execution_count": null,
   "metadata": {},
   "outputs": [],
   "source": []
  }
 ],
 "metadata": {
  "kernelspec": {
   "display_name": "Python 3",
   "language": "python",
   "name": "python3"
  },
  "language_info": {
   "codemirror_mode": {
    "name": "ipython",
    "version": 3
   },
   "file_extension": ".py",
   "mimetype": "text/x-python",
   "name": "python",
   "nbconvert_exporter": "python",
   "pygments_lexer": "ipython3",
   "version": "3.6.6"
  }
 },
 "nbformat": 4,
 "nbformat_minor": 2
}

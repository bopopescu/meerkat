{
 "cells": [
  {
   "cell_type": "raw",
   "metadata": {},
   "source": [
    "Schematic:\n",
    "[Ground] -- [10k resistor] -- | -- [10k thermistor] -- [Vcc]\n",
    "                              |                          |\n",
    "                      A1 (Analog Pin 1)          A0 (Analog Pin 0)"
   ]
  },
  {
   "cell_type": "code",
   "execution_count": 1,
   "metadata": {},
   "outputs": [],
   "source": [
    "import os\n",
    "import sys\n",
    "import smbus\n",
    "\n",
    "from math import log\n",
    "from time import sleep\n",
    "from datetime import datetime"
   ]
  },
  {
   "cell_type": "code",
   "execution_count": 2,
   "metadata": {},
   "outputs": [
    {
     "name": "stdout",
     "output_type": "stream",
     "text": [
      "Current working directory is: /home/colin/code/meerkat/examples\n",
      "Appending directory to path: /home/colin/code/meerkat\n"
     ]
    }
   ],
   "source": [
    "# get current working directory and append relative path for package import\n",
    "if os.name == 'posix':\n",
    "    _wd = !pwd\n",
    "    _wd = _wd[0]\n",
    "elif os.name == 'nt':\n",
    "    _wd = !cd\n",
    "    _wd = _wd[0]\n",
    "else:\n",
    "    _wd = os.getcwd()\n",
    "print('Current working directory is:', _wd)\n",
    "p = os.path.dirname(_wd)\n",
    "p = os.path.join(p, '.')\n",
    "p = os.path.abspath(p)\n",
    "print('Appending directory to path:', p)\n",
    "sys.path.insert(0, p)\n",
    "\n",
    "# alternatively, manually set the path to meerkat\n",
    "#sys.path.insert(0, '/path_to_meerkat')"
   ]
  },
  {
   "cell_type": "code",
   "execution_count": 3,
   "metadata": {},
   "outputs": [],
   "source": [
    "from meerkat import ads"
   ]
  },
  {
   "cell_type": "code",
   "execution_count": 4,
   "metadata": {},
   "outputs": [],
   "source": [
    "i2c = smbus.SMBus(1)\n",
    "dev = ads.ADS1115(bus=i2c)\n",
    "dev.get_config()\n",
    "dev.pga('6.144')"
   ]
  },
  {
   "cell_type": "code",
   "execution_count": 5,
   "metadata": {},
   "outputs": [
    {
     "name": "stdout",
     "output_type": "stream",
     "text": [
      "ADS11x5 Configuration Attributes\n",
      "--------------------------------\n",
      "Config Register: 33155 0x8183 0b1000000110000011\n",
      "PGA Range: +/- 6.144 Volts\n",
      "Mode: single\n",
      "Data Rate: 128 SPS\n",
      "Input Multiplexer: 01\n",
      "Comparator:\n",
      " Queue: off\n",
      " Latching: off\n",
      " Polarity: Active 1\n",
      " Mode: trad\n"
     ]
    }
   ],
   "source": [
    "dev.print_attributes()"
   ]
  },
  {
   "cell_type": "code",
   "execution_count": 6,
   "metadata": {},
   "outputs": [],
   "source": [
    "def get_time():\n",
    "    return datetime.now().strftime('%Y-%m-%d %H:%M:%S.%f')"
   ]
  },
  {
   "cell_type": "code",
   "execution_count": 7,
   "metadata": {},
   "outputs": [],
   "source": [
    "def R2(R1, Vin, Vout):\n",
    "    \"\"\"Voltage divider, unknown resistance with known resistance and voltages\"\"\"\n",
    "    return R1 * (1 / ((Vin/Vout) - 1))"
   ]
  },
  {
   "cell_type": "code",
   "execution_count": 8,
   "metadata": {},
   "outputs": [],
   "source": [
    "def steinhart_hart_equation(r, a, b, c):\n",
    "    \"\"\"Calculate temperature in Kelvin from a resistance\n",
    "    based on the Steinhart–Hart equation\n",
    "\n",
    "    Parameters\n",
    "    ----------\n",
    "    r : float, resistance of thermister\n",
    "    a : float, coeffient\n",
    "    b : float, coeffient\n",
    "    c : float, coeffient\n",
    "\n",
    "    Returns\n",
    "    -------\n",
    "    t : float, temperature in Kelvin\n",
    "    \"\"\"\n",
    "    return 1.0 / (a + b * log(r) + c * (log(r) ** 3))\n",
    "    \n",
    "def kelvin_to_celcius(k):\n",
    "    \"\"\"Convert temperature in Kelvin to Celsius\n",
    "\n",
    "    Parameters\n",
    "    ----------\n",
    "\n",
    "    k : float, temperature in degrees Kelvin\n",
    "    Returns\n",
    "    -------\n",
    "    float, temperature in degrees Celsius\n",
    "    \"\"\"\n",
    "    return k - 273.15"
   ]
  },
  {
   "cell_type": "code",
   "execution_count": 37,
   "metadata": {},
   "outputs": [
    {
     "name": "stdout",
     "output_type": "stream",
     "text": [
      "Measured voltage: 4.1008125 V\n",
      "Measured voltage: 0.36262500000000003 V\n",
      "Measured resistance: 970.055675377439 ohms\n",
      "Measured temperature: 88.14419843193889 C\n"
     ]
    }
   ],
   "source": [
    "dev.mux('0G')     # pin 0 relative to ground\n",
    "Vcc = dev.voltage()\n",
    "print('Measured voltage: {} V'.format(Vcc))\n",
    "dev.mux('1G')     # pin 1 relative to ground\n",
    "Vt = dev.voltage()\n",
    "print('Measured voltage: {} V'.format(Vt))\n",
    "Rt = R2(R1=10000, Vin=Vcc, Vout=Vt)\n",
    "print('Measured resistance: {} ohms'.format(Rt))\n",
    "\n",
    "a = 0.000811290160145459\n",
    "b = 0.000211355789144265\n",
    "c = 7.17614730463848e-08\n",
    "\n",
    "a = 0.001129148\n",
    "b = 0.000234125\n",
    "c = 8.76741e-08\n",
    "\n",
    "tK = steinhart_hart_equation(Rt, a, b, c)\n",
    "tC = kelvin_to_celcius(tK)\n",
    "print('Measured temperature: {} C'.format(tC))"
   ]
  },
  {
   "cell_type": "code",
   "execution_count": 31,
   "metadata": {},
   "outputs": [
    {
     "data": {
      "text/plain": [
       "161.83014083632048"
      ]
     },
     "execution_count": 31,
     "metadata": {},
     "output_type": "execute_result"
    }
   ],
   "source": [
    "a = 0.000811290160145459\n",
    "b = 0.000211355789144265\n",
    "c = 7.17614730463848e-08\n",
    "\n",
    "tK = steinhart_hart_equation(Rt, a, b, c)\n",
    "kelvin_to_celcius(tK)"
   ]
  },
  {
   "cell_type": "code",
   "execution_count": 23,
   "metadata": {},
   "outputs": [],
   "source": [
    "samples = 20"
   ]
  },
  {
   "cell_type": "code",
   "execution_count": 24,
   "metadata": {},
   "outputs": [],
   "source": [
    "data = []\n",
    "for _ in range(samples):\n",
    "    data.append(dev.get(t=get_time(), sid='thermistor_test_' + str(_)))"
   ]
  },
  {
   "cell_type": "code",
   "execution_count": 25,
   "metadata": {},
   "outputs": [],
   "source": [
    "import pandas as pd\n",
    "import matplotlib.pyplot as plt"
   ]
  },
  {
   "cell_type": "code",
   "execution_count": 26,
   "metadata": {},
   "outputs": [],
   "source": [
    "df = pd.DataFrame(data)"
   ]
  },
  {
   "cell_type": "code",
   "execution_count": 27,
   "metadata": {},
   "outputs": [],
   "source": [
    "df['Rt'] = df.iloc[:,2].apply(lambda Vt: R2(R1=10000, Vin=Vcc, Vout=Vt))"
   ]
  },
  {
   "cell_type": "code",
   "execution_count": 28,
   "metadata": {},
   "outputs": [],
   "source": [
    "df['T'] = df.Rt.apply(lambda Rt: kelvin_to_celcius(steinhart_hart_equation(Rt, a, b, c)))"
   ]
  },
  {
   "cell_type": "code",
   "execution_count": 29,
   "metadata": {},
   "outputs": [
    {
     "data": {
      "image/png": "[encoded data removed]",
      "text/plain": [
       "<Figure size 432x288 with 1 Axes>"
      ]
     },
     "metadata": {},
     "output_type": "display_data"
    }
   ],
   "source": [
    "df['T'].plot();"
   ]
  },
  {
   "cell_type": "code",
   "execution_count": null,
   "metadata": {},
   "outputs": [],
   "source": []
  }
 ],
 "metadata": {
  "kernelspec": {
   "display_name": "Python 3",
   "language": "python",
   "name": "python3"
  },
  "language_info": {
   "codemirror_mode": {
    "name": "ipython",
    "version": 3
   },
   "file_extension": ".py",
   "mimetype": "text/x-python",
   "name": "python",
   "nbconvert_exporter": "python",
   "pygments_lexer": "ipython3",
   "version": "3.5.2"
  }
 },
 "nbformat": 4,
 "nbformat_minor": 2
}

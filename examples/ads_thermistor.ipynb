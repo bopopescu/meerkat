{
 "cells": [
  {
   "cell_type": "raw",
   "metadata": {},
   "source": [
    "Schematic:\n",
    "[Ground] -- [10k resistor] -- | -- [10k thermistor] -- [Vcc]\n",
    "                              |                          |\n",
    "                      A1 (Analog Pin 1)          A0 (Analog Pin 0)"
   ]
  },
  {
   "cell_type": "code",
   "execution_count": 1,
   "metadata": {},
   "outputs": [],
   "source": [
    "import os\n",
    "import sys\n",
    "import smbus\n",
    "\n",
    "from math import log\n",
    "from time import sleep\n",
    "from datetime import datetime"
   ]
  },
  {
   "cell_type": "code",
   "execution_count": 2,
   "metadata": {},
   "outputs": [
    {
     "name": "stdout",
     "output_type": "stream",
     "text": [
      "Current working directory is: /home/colin/code/meerkat/examples\n",
      "Appending directory to path: /home/colin/code/meerkat\n"
     ]
    }
   ],
   "source": [
    "# get current working directory and append relative path for package import\n",
    "if os.name == 'posix':\n",
    "    _wd = !pwd\n",
    "    _wd = _wd[0]\n",
    "elif os.name == 'nt':\n",
    "    _wd = !cd\n",
    "    _wd = _wd[0]\n",
    "else:\n",
    "    _wd = os.getcwd()\n",
    "print('Current working directory is:', _wd)\n",
    "p = os.path.dirname(_wd)\n",
    "p = os.path.join(p, '.')\n",
    "p = os.path.abspath(p)\n",
    "print('Appending directory to path:', p)\n",
    "sys.path.insert(0, p)\n",
    "\n",
    "# alternatively, manually set the path to meerkat\n",
    "#sys.path.insert(0, '/path_to_meerkat')"
   ]
  },
  {
   "cell_type": "code",
   "execution_count": 3,
   "metadata": {},
   "outputs": [],
   "source": [
    "from meerkat import ads"
   ]
  },
  {
   "cell_type": "code",
   "execution_count": 4,
   "metadata": {},
   "outputs": [],
   "source": [
    "i2c = smbus.SMBus(1)\n",
    "dev = ads.ADS1115(bus=i2c)\n",
    "dev.get_config()\n",
    "dev.pga('6.144')"
   ]
  },
  {
   "cell_type": "code",
   "execution_count": 5,
   "metadata": {},
   "outputs": [
    {
     "name": "stdout",
     "output_type": "stream",
     "text": [
      "ADS11x5 Configuration Attributes\n",
      "--------------------------------\n",
      "Config Register: 57600 0xe100 0b1110000100000000\n",
      "PGA Range: +/- 6.144 Volts\n",
      "Mode: single\n",
      "Data Rate: 8 SPS\n",
      "Input Multiplexer: 2G\n",
      "Comparator:\n",
      " Queue: 1\n",
      " Latching: off\n",
      " Polarity: Active 1\n",
      " Mode: trad\n"
     ]
    }
   ],
   "source": [
    "dev.print_attributes()"
   ]
  },
  {
   "cell_type": "code",
   "execution_count": 6,
   "metadata": {},
   "outputs": [],
   "source": [
    "def get_time():\n",
    "    return datetime.now().strftime('%Y-%m-%d %H:%M:%S.%f')"
   ]
  },
  {
   "cell_type": "code",
   "execution_count": 7,
   "metadata": {},
   "outputs": [],
   "source": [
    "def R2(R1, Vin, Vout):\n",
    "    \"\"\"Voltage divider, unknown resistance with known resistance and voltages\"\"\"\n",
    "    return R1 * (1 / ((Vin/Vout) - 1))"
   ]
  },
  {
   "cell_type": "code",
   "execution_count": 8,
   "metadata": {},
   "outputs": [],
   "source": [
    "def steinhart_hart_equation(r, a, b, c):\n",
    "    \"\"\"Calculate temperature in Kelvin from a resistance\n",
    "    based on the Steinhart–Hart equation\n",
    "\n",
    "    Parameters\n",
    "    ----------\n",
    "    r : float, resistance of thermister\n",
    "    a : float, coeffient\n",
    "    b : float, coeffient\n",
    "    c : float, coeffient\n",
    "\n",
    "    Returns\n",
    "    -------\n",
    "    t : float, temperature in Kelvin\n",
    "    \"\"\"\n",
    "    return 1.0 / (a + b * log(r) + c * (log(r) ** 3))\n",
    "    \n",
    "def kelvin_to_celcius(k):\n",
    "    \"\"\"Convert temperature in Kelvin to Celsius\n",
    "\n",
    "    Parameters\n",
    "    ----------\n",
    "\n",
    "    k : float, temperature in degrees Kelvin\n",
    "    Returns\n",
    "    -------\n",
    "    float, temperature in degrees Celsius\n",
    "    \"\"\"\n",
    "    return k - 273.15"
   ]
  },
  {
   "cell_type": "code",
   "execution_count": 9,
   "metadata": {},
   "outputs": [],
   "source": [
    "import time"
   ]
  },
  {
   "cell_type": "code",
   "execution_count": 10,
   "metadata": {},
   "outputs": [],
   "source": [
    "dev.delay = 0.1"
   ]
  },
  {
   "cell_type": "code",
   "execution_count": 11,
   "metadata": {},
   "outputs": [
    {
     "name": "stdout",
     "output_type": "stream",
     "text": [
      "Measured Source voltage: 2.048625 V\n",
      "Measured Thermistor voltage: 0.9961875 V\n",
      "Measured resistance: 9465.526456440408 ohms\n",
      "Measured temperature: 26.25642388647691 C\n"
     ]
    }
   ],
   "source": [
    "# Rough pass at temperature\n",
    "# delay between reads and writes sometimes need to be increased\n",
    "dev.delay = 0.1\n",
    "\n",
    "# get voltages of pins\n",
    "dev.mux('1G')     # pin 0 relative to ground\n",
    "Vcc = dev.voltage()\n",
    "time.sleep(1)\n",
    "print('Measured Source voltage: {} V'.format(Vcc))\n",
    "dev.mux('2G')     # pin 1 relative to ground\n",
    "Vt = dev.voltage()\n",
    "print('Measured Thermistor voltage: {} V'.format(Vt))\n",
    "\n",
    "# calculate resistance of thermistor\n",
    "Rt = R2(R1=10000, Vin=Vcc, Vout=Vt)\n",
    "print('Measured resistance: {} ohms'.format(Rt))\n",
    "\n",
    "# Thermistor is a Semitec 103AT-2 values from datasheet\n",
    "\n",
    "a = 0.000811290160145459\n",
    "b = 0.000211355789144265\n",
    "c = 7.17614730463848e-08\n",
    "\n",
    "a = 0.001129148\n",
    "b = 0.000234125\n",
    "c = 8.76741e-08\n",
    "\n",
    "tK = steinhart_hart_equation(Rt, a, b, c)\n",
    "tC = kelvin_to_celcius(tK)\n",
    "print('Measured temperature: {} C'.format(tC))"
   ]
  },
  {
   "cell_type": "code",
   "execution_count": 12,
   "metadata": {},
   "outputs": [
    {
     "data": {
      "text/plain": [
       "83.81301446208676"
      ]
     },
     "execution_count": 12,
     "metadata": {},
     "output_type": "execute_result"
    }
   ],
   "source": [
    "a = 0.000811290160145459\n",
    "b = 0.000211355789144265\n",
    "c = 7.17614730463848e-08\n",
    "\n",
    "tK = steinhart_hart_equation(Rt, a, b, c)\n",
    "kelvin_to_celcius(tK)"
   ]
  },
  {
   "cell_type": "code",
   "execution_count": 13,
   "metadata": {},
   "outputs": [],
   "source": [
    "samples = 20"
   ]
  },
  {
   "cell_type": "code",
   "execution_count": 20,
   "metadata": {},
   "outputs": [],
   "source": [
    "data = []\n",
    "for _ in range(samples):\n",
    "    data.append([get_time()] + dev.get(sid='thermistor_test_' + str(_)))"
   ]
  },
  {
   "cell_type": "code",
   "execution_count": 21,
   "metadata": {},
   "outputs": [],
   "source": [
    "import pandas as pd\n",
    "import matplotlib.pyplot as plt"
   ]
  },
  {
   "cell_type": "code",
   "execution_count": 22,
   "metadata": {},
   "outputs": [],
   "source": [
    "df = pd.DataFrame(data)"
   ]
  },
  {
   "cell_type": "code",
   "execution_count": 23,
   "metadata": {},
   "outputs": [
    {
     "data": {
      "text/html": [
       "<div>\n",
       "<style scoped>\n",
       "    .dataframe tbody tr th:only-of-type {\n",
       "        vertical-align: middle;\n",
       "    }\n",
       "\n",
       "    .dataframe tbody tr th {\n",
       "        vertical-align: top;\n",
       "    }\n",
       "\n",
       "    .dataframe thead th {\n",
       "        text-align: right;\n",
       "    }\n",
       "</style>\n",
       "<table border=\"1\" class=\"dataframe\">\n",
       "  <thead>\n",
       "    <tr style=\"text-align: right;\">\n",
       "      <th></th>\n",
       "      <th>0</th>\n",
       "      <th>1</th>\n",
       "      <th>2</th>\n",
       "    </tr>\n",
       "  </thead>\n",
       "  <tbody>\n",
       "    <tr>\n",
       "      <th>0</th>\n",
       "      <td>2018-11-19 12:25:54.046020</td>\n",
       "      <td>thermistor_test_0</td>\n",
       "      <td>0.991688</td>\n",
       "    </tr>\n",
       "    <tr>\n",
       "      <th>1</th>\n",
       "      <td>2018-11-19 12:25:54.147677</td>\n",
       "      <td>thermistor_test_1</td>\n",
       "      <td>0.991500</td>\n",
       "    </tr>\n",
       "    <tr>\n",
       "      <th>2</th>\n",
       "      <td>2018-11-19 12:25:54.249267</td>\n",
       "      <td>thermistor_test_2</td>\n",
       "      <td>0.991500</td>\n",
       "    </tr>\n",
       "    <tr>\n",
       "      <th>3</th>\n",
       "      <td>2018-11-19 12:25:54.350722</td>\n",
       "      <td>thermistor_test_3</td>\n",
       "      <td>0.991500</td>\n",
       "    </tr>\n",
       "    <tr>\n",
       "      <th>4</th>\n",
       "      <td>2018-11-19 12:25:54.452076</td>\n",
       "      <td>thermistor_test_4</td>\n",
       "      <td>0.991500</td>\n",
       "    </tr>\n",
       "  </tbody>\n",
       "</table>\n",
       "</div>"
      ],
      "text/plain": [
       "                            0                  1         2\n",
       "0  2018-11-19 12:25:54.046020  thermistor_test_0  0.991688\n",
       "1  2018-11-19 12:25:54.147677  thermistor_test_1  0.991500\n",
       "2  2018-11-19 12:25:54.249267  thermistor_test_2  0.991500\n",
       "3  2018-11-19 12:25:54.350722  thermistor_test_3  0.991500\n",
       "4  2018-11-19 12:25:54.452076  thermistor_test_4  0.991500"
      ]
     },
     "execution_count": 23,
     "metadata": {},
     "output_type": "execute_result"
    }
   ],
   "source": [
    "df.head()"
   ]
  },
  {
   "cell_type": "code",
   "execution_count": 24,
   "metadata": {},
   "outputs": [],
   "source": [
    "df['Rt'] = df.iloc[:,2].apply(lambda Vt: R2(R1=10000, Vin=Vcc, Vout=Vt))"
   ]
  },
  {
   "cell_type": "code",
   "execution_count": 25,
   "metadata": {},
   "outputs": [],
   "source": [
    "df['T'] = df.Rt.apply(lambda Rt: kelvin_to_celcius(steinhart_hart_equation(Rt, a, b, c)))"
   ]
  },
  {
   "cell_type": "code",
   "execution_count": 26,
   "metadata": {},
   "outputs": [
    {
     "data": {
      "image/png": "[encoded data removed]",
      "text/plain": [
       "<Figure size 432x288 with 1 Axes>"
      ]
     },
     "metadata": {
      "needs_background": "light"
     },
     "output_type": "display_data"
    }
   ],
   "source": [
    "df['T'].plot();"
   ]
  },
  {
   "cell_type": "code",
   "execution_count": null,
   "metadata": {},
   "outputs": [],
   "source": []
  }
 ],
 "metadata": {
  "kernelspec": {
   "display_name": "Python 3",
   "language": "python",
   "name": "python3"
  },
  "language_info": {
   "codemirror_mode": {
    "name": "ipython",
    "version": 3
   },
   "file_extension": ".py",
   "mimetype": "text/x-python",
   "name": "python",
   "nbconvert_exporter": "python",
   "pygments_lexer": "ipython3",
   "version": "3.6.6"
  }
 },
 "nbformat": 4,
 "nbformat_minor": 2
}

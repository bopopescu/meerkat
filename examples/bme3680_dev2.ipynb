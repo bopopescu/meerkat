{
 "cells": [
  {
   "cell_type": "code",
   "execution_count": 8,
   "metadata": {},
   "outputs": [],
   "source": [
    "from meerkat import bme680, tools\n",
    "#from meerkat import adafruit_bme680"
   ]
  },
  {
   "cell_type": "code",
   "execution_count": 75,
   "metadata": {},
   "outputs": [],
   "source": [
    "def bp(x):\n",
    "    return tools.bprint(x, n=8)"
   ]
  },
  {
   "cell_type": "code",
   "execution_count": 3,
   "metadata": {},
   "outputs": [],
   "source": [
    "from importlib import reload"
   ]
  },
  {
   "cell_type": "code",
   "execution_count": 124,
   "metadata": {},
   "outputs": [],
   "source": [
    "reload(bme680)\n",
    "dev = bme680.BME680(bus_n=1)"
   ]
  },
  {
   "cell_type": "code",
   "execution_count": 128,
   "metadata": {},
   "outputs": [],
   "source": [
    "dev.read_calibration()"
   ]
  },
  {
   "cell_type": "code",
   "execution_count": 126,
   "metadata": {},
   "outputs": [
    {
     "data": {
      "text/plain": [
       "b'\\x00P\\x9b`uw\\xa0S\\x8d\\x80\\x00\\x00\\x00\\x04\\x00\\x04\\x00\\x00\\x80\\x00\\x00\\x80\\x00\\x00\\x80\\x00\\x80\\x00\\x00\\x00\\x04'"
      ]
     },
     "execution_count": 126,
     "metadata": {},
     "output_type": "execute_result"
    }
   ],
   "source": [
    "dev.get_reading()"
   ]
  },
  {
   "cell_type": "code",
   "execution_count": 127,
   "metadata": {},
   "outputs": [
    {
     "name": "stdout",
     "output_type": "stream",
     "text": [
      "97575 19.0626171875\n"
     ]
    }
   ],
   "source": [
    "dev.measure()"
   ]
  },
  {
   "cell_type": "raw",
   "metadata": {},
   "source": [
    "dev.temperature"
   ]
  },
  {
   "cell_type": "code",
   "execution_count": 77,
   "metadata": {},
   "outputs": [],
   "source": [
    "ms = dev.get_measurement_status()"
   ]
  },
  {
   "cell_type": "code",
   "execution_count": 76,
   "metadata": {},
   "outputs": [
    {
     "name": "stdout",
     "output_type": "stream",
     "text": [
      "HEX value: 0x7\n",
      "Binary value:\n",
      "00000111\n",
      "00000000\n",
      "76543210\n"
     ]
    }
   ],
   "source": [
    "bp(0b00100111 & 0b111)"
   ]
  },
  {
   "cell_type": "code",
   "execution_count": 78,
   "metadata": {},
   "outputs": [
    {
     "name": "stdout",
     "output_type": "stream",
     "text": [
      "HEX value: 0x3\n",
      "Binary value:\n",
      "00000011\n",
      "00000000\n",
      "76543210\n"
     ]
    }
   ],
   "source": [
    "bp((0b10111111 >> 6) | 0b1)"
   ]
  },
  {
   "cell_type": "code",
   "execution_count": 79,
   "metadata": {},
   "outputs": [
    {
     "name": "stdout",
     "output_type": "stream",
     "text": [
      "HEX value: 0x1\n",
      "Binary value:\n",
      "00000001\n",
      "00000000\n",
      "76543210\n"
     ]
    }
   ],
   "source": [
    "bp(0b01 & 0b11)"
   ]
  },
  {
   "cell_type": "code",
   "execution_count": null,
   "metadata": {},
   "outputs": [],
   "source": []
  },
  {
   "cell_type": "code",
   "execution_count": 57,
   "metadata": {},
   "outputs": [
    {
     "data": {
      "text/plain": [
       "2"
      ]
     },
     "execution_count": 57,
     "metadata": {},
     "output_type": "execute_result"
    }
   ],
   "source": [
    "0b10"
   ]
  },
  {
   "cell_type": "raw",
   "metadata": {},
   "source": [
    "x = dev.get_reading()"
   ]
  },
  {
   "cell_type": "raw",
   "metadata": {},
   "source": [
    "reload(tools)\n",
    "reg = [0x1D, 0x1F, 0x20, 0x21, 0x22, 0x23, 0x24, 0x25, 0x26, 0x2A, 0x2B]\n",
    "print(\"=\"*20)\n",
    "for n, b in enumerate(x):\n",
    "    n = n + 0x1D\n",
    "    print(\"REG: {}\".format(hex(n)))\n",
    "    if n in reg:\n",
    "        tools.bprint(int(b), n=8)\n",
    "    else:\n",
    "        print(\"Not Used\")\n",
    "    print(\"=\"*20)"
   ]
  },
  {
   "cell_type": "code",
   "execution_count": 35,
   "metadata": {},
   "outputs": [
    {
     "name": "stdout",
     "output_type": "stream",
     "text": [
      "====================\n",
      "REG: 0x1d\n",
      "HEX value: 0x0\n",
      "Binary value:\n",
      "00000000\n",
      "00000000\n",
      "76543210\n",
      "====================\n",
      "REG: 0x1e\n",
      "Not Used\n",
      "====================\n",
      "REG: 0x1f\n",
      "HEX value: 0x4\n",
      "Binary value:\n",
      "00000100\n",
      "00000000\n",
      "76543210\n",
      "====================\n",
      "REG: 0x20\n",
      "HEX value: 0x4c\n",
      "Binary value:\n",
      "01001100\n",
      "00000000\n",
      "76543210\n",
      "====================\n",
      "REG: 0x21\n",
      "HEX value: 0x8\n",
      "Binary value:\n",
      "00001000\n",
      "00000000\n",
      "76543210\n",
      "====================\n",
      "REG: 0x22\n",
      "HEX value: 0x0\n",
      "Binary value:\n",
      "00000000\n",
      "00000000\n",
      "76543210\n",
      "====================\n",
      "REG: 0x23\n",
      "HEX value: 0x51\n",
      "Binary value:\n",
      "01010001\n",
      "00000000\n",
      "76543210\n",
      "====================\n",
      "REG: 0x24\n",
      "HEX value: 0xa1\n",
      "Binary value:\n",
      "10100001\n",
      "00000000\n",
      "76543210\n",
      "====================\n",
      "REG: 0x25\n",
      "HEX value: 0x40\n",
      "Binary value:\n",
      "01000000\n",
      "00000000\n",
      "76543210\n",
      "====================\n",
      "REG: 0x26\n",
      "HEX value: 0x76\n",
      "Binary value:\n",
      "01110110\n",
      "00000000\n",
      "76543210\n",
      "====================\n",
      "REG: 0x27\n",
      "Not Used\n",
      "====================\n",
      "REG: 0x28\n",
      "Not Used\n",
      "====================\n",
      "REG: 0x29\n",
      "Not Used\n",
      "====================\n",
      "REG: 0x2a\n",
      "HEX value: 0xf0\n",
      "Binary value:\n",
      "11110000\n",
      "00000000\n",
      "76543210\n",
      "====================\n",
      "REG: 0x2b\n",
      "HEX value: 0x80\n",
      "Binary value:\n",
      "10000000\n",
      "00000000\n",
      "76543210\n",
      "====================\n",
      "REG: 0x2c\n",
      "Not Used\n",
      "====================\n",
      "REG: 0x2d\n",
      "Not Used\n",
      "====================\n",
      "REG: 0x2e\n",
      "Not Used\n",
      "====================\n",
      "REG: 0x2f\n",
      "Not Used\n",
      "====================\n",
      "REG: 0x30\n",
      "Not Used\n",
      "====================\n",
      "REG: 0x31\n",
      "Not Used\n",
      "====================\n",
      "REG: 0x32\n",
      "Not Used\n",
      "====================\n",
      "REG: 0x33\n",
      "Not Used\n",
      "====================\n",
      "REG: 0x34\n",
      "Not Used\n",
      "====================\n",
      "REG: 0x35\n",
      "Not Used\n",
      "====================\n",
      "REG: 0x36\n",
      "Not Used\n",
      "====================\n",
      "REG: 0x37\n",
      "Not Used\n",
      "====================\n",
      "REG: 0x38\n",
      "Not Used\n",
      "====================\n",
      "REG: 0x39\n",
      "Not Used\n",
      "====================\n"
     ]
    }
   ],
   "source": [
    "dev.debug_read_registers()"
   ]
  },
  {
   "cell_type": "code",
   "execution_count": null,
   "metadata": {},
   "outputs": [],
   "source": []
  }
 ],
 "metadata": {
  "kernelspec": {
   "display_name": "Python 3",
   "language": "python",
   "name": "python3"
  },
  "language_info": {
   "codemirror_mode": {
    "name": "ipython",
    "version": 3
   },
   "file_extension": ".py",
   "mimetype": "text/x-python",
   "name": "python",
   "nbconvert_exporter": "python",
   "pygments_lexer": "ipython3",
   "version": "3.7.3"
  }
 },
 "nbformat": 4,
 "nbformat_minor": 4
}

{
 "cells": [
  {
   "cell_type": "markdown",
   "metadata": {},
   "source": [
    "### Grove Motor Controller  "
   ]
  },
  {
   "cell_type": "code",
   "execution_count": null,
   "metadata": {},
   "outputs": [],
   "source": [
    "import meerkat"
   ]
  },
  {
   "cell_type": "markdown",
   "metadata": {},
   "source": [
    "#### Stop Command for Debugging  \n",
    "This cell is useful when prototyping.  If a command throws an error in stepper mode before setting both motor speeds to 0, the board will stay in a full duty cycle condition and begin to overheat."
   ]
  },
  {
   "cell_type": "code",
   "execution_count": null,
   "metadata": {},
   "outputs": [],
   "source": [
    "from motor_grove import GroveMotor\n",
    "\n",
    "m = GroveMotor(bus_n=1)\n",
    "m.stop()\n",
    "print(\"Stop Done\")"
   ]
  },
  {
   "cell_type": "markdown",
   "metadata": {},
   "source": [
    "#### Test Stepper Motor"
   ]
  },
  {
   "cell_type": "code",
   "execution_count": null,
   "metadata": {},
   "outputs": [],
   "source": [
    "import time\n",
    "\n",
    "from motor_grove import GroveMotor\n",
    "\n",
    "m = GroveMotor(bus_n=1)\n",
    "print(\"=\"*20)\n",
    "\n",
    "\n",
    "# stepper motor microsteps\n",
    "m.step_micro(1001, \n",
    "            delay=0.0001,\n",
    "            verbose=False)\n",
    "print(\"-\"*20)\n",
    "time.sleep(1)\n",
    "m.step_micro(-1001, \n",
    "            delay=0.0001,\n",
    "            verbose=False)\n",
    "m.stop()\n",
    "print(\"-\"*20)\n",
    "\n",
    "print(m.get(\"Bench test\"))\n",
    "print(m.writer.device)\n",
    "\"\"\"\n",
    "# stepper motor full steps\n",
    "m.step_full(100, \n",
    "            delay=0.0001,\n",
    "            verbose=False)\n",
    "print(\"-\"*20)\n",
    "time.sleep(1)\n",
    "m.step_full(-100, \n",
    "            delay=0.0001,\n",
    "            verbose=False)\n",
    "m.stop()\n",
    "print(\"-\"*20)\n",
    "\"\"\"\n",
    "\"\"\"\n",
    "# dc motor\n",
    "m.set_frequency(f_Hz=31372)\n",
    "m.set_direction('cw')\n",
    "m.set_speed(motor_id=1, motor_speed=100)\n",
    "time.sleep(4)\n",
    "m.stop(motor_id=1)\n",
    "\"\"\"\n",
    "\n",
    "print(\"=\"*20)\n",
    "i = m.get_info()\n",
    "print(i)"
   ]
  }
 ],
 "metadata": {
  "kernelspec": {
   "display_name": "Python 3",
   "language": "python",
   "name": "python3"
  },
  "language_info": {
   "name": ""
  }
 },
 "nbformat": 4,
 "nbformat_minor": 4
}

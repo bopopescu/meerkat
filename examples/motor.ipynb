{
 "cells": [
  {
   "cell_type": "markdown",
   "metadata": {},
   "source": [
    "# Grove Motor Driver v1.3  \n",
    "http://wiki.seeedstudio.com/Grove-I2C_Motor_Driver_V1.3/"
   ]
  },
  {
   "cell_type": "code",
   "execution_count": 1,
   "metadata": {},
   "outputs": [],
   "source": [
    "import time\n",
    "\n",
    "from meerkat import motor"
   ]
  },
  {
   "cell_type": "markdown",
   "metadata": {},
   "source": [
    "#### Stop Command for Debugging  \n",
    "This cell is useful when prototyping.  If a command throws an error before setting both motor speeds to 0, the board will remain on and possibly overheat."
   ]
  },
  {
   "cell_type": "code",
   "execution_count": 2,
   "metadata": {},
   "outputs": [
    {
     "name": "stdout",
     "output_type": "stream",
     "text": [
      "Stop Done\n"
     ]
    }
   ],
   "source": [
    "m = motor.GroveMotor(bus_n=1)\n",
    "m.stop()\n",
    "print(\"Stop Done\")"
   ]
  },
  {
   "cell_type": "markdown",
   "metadata": {},
   "source": [
    "#### I2C Bus Address\n",
    "Initialize the motor controller class.  Default I2C address is `0x0F` which the four switches are set to `1111` - another option is to use Python's binary representation `0b00001111`"
   ]
  },
  {
   "cell_type": "code",
   "execution_count": 3,
   "metadata": {},
   "outputs": [
    {
     "data": {
      "text/plain": [
       "'0xf'"
      ]
     },
     "execution_count": 3,
     "metadata": {},
     "output_type": "execute_result"
    }
   ],
   "source": [
    "hex(0b00001111)"
   ]
  },
  {
   "cell_type": "markdown",
   "metadata": {},
   "source": [
    "#### Initialize Driver Class with Default I2C Address"
   ]
  },
  {
   "cell_type": "code",
   "execution_count": 4,
   "metadata": {},
   "outputs": [],
   "source": [
    "m = motor.GroveMotor(bus_n=1)"
   ]
  },
  {
   "cell_type": "markdown",
   "metadata": {},
   "source": [
    "#### Motor Metadata"
   ]
  },
  {
   "cell_type": "code",
   "execution_count": 5,
   "metadata": {},
   "outputs": [
    {
     "data": {
      "text/plain": [
       "{'name': 'Grove Motor Driver',\n",
       " 'version_hw': '1.3',\n",
       " 'version_sw': '1.0',\n",
       " 'accuracy': None,\n",
       " 'precision': '1 microstep',\n",
       " 'bus': '<meerkat.i2c_pi.WrapI2C object at 0x72af9cd0>',\n",
       " 'state': None,\n",
       " 'active': None,\n",
       " 'error': None,\n",
       " 'dtype': None,\n",
       " 'description': 'I2C DC and stepper motor controller',\n",
       " 'urls': 'http://wiki.seeedstudio.com/Grove-I2C_Motor_Driver_V1.3/',\n",
       " 'manufacturer': 'Seeed Studio',\n",
       " 'calibration_date': None}"
      ]
     },
     "execution_count": 5,
     "metadata": {},
     "output_type": "execute_result"
    }
   ],
   "source": [
    "m.writer.device"
   ]
  },
  {
   "cell_type": "markdown",
   "metadata": {},
   "source": [
    "#### Motor Status Header"
   ]
  },
  {
   "cell_type": "code",
   "execution_count": 6,
   "metadata": {},
   "outputs": [
    {
     "data": {
      "text/plain": [
       "['description',\n",
       " 'freq',\n",
       " 'm1_speed',\n",
       " 'm2_speed',\n",
       " 'm_direction',\n",
       " 'mode',\n",
       " 'phase',\n",
       " 'steps']"
      ]
     },
     "execution_count": 6,
     "metadata": {},
     "output_type": "execute_result"
    }
   ],
   "source": [
    "m.writer.header"
   ]
  },
  {
   "cell_type": "markdown",
   "metadata": {},
   "source": [
    "#### Motor Status"
   ]
  },
  {
   "cell_type": "code",
   "execution_count": 7,
   "metadata": {},
   "outputs": [
    {
     "data": {
      "text/plain": [
       "['test_1_init', 31372, 0, 0, '', 'dc', 2, 0]"
      ]
     },
     "execution_count": 7,
     "metadata": {},
     "output_type": "execute_result"
    }
   ],
   "source": [
    "m.get(\"test_1_init\")"
   ]
  },
  {
   "cell_type": "markdown",
   "metadata": {},
   "source": [
    "To be clear, the headers names aligned with the data above are:  \n",
    "\n",
    "| description | freq | m1_speed | m2_speed | m_direction | mode | phase | steps |\n",
    "| ----------- | ---- | -------- | -------- | ----------- | ---- | ----- | ----- |\n",
    "| test_1_init | 31372 | 0 | 0 |  | dc | 2 | 0 |"
   ]
  },
  {
   "cell_type": "markdown",
   "metadata": {},
   "source": [
    "## Stepper Motor  "
   ]
  },
  {
   "cell_type": "markdown",
   "metadata": {},
   "source": [
    "#### Micro Steps"
   ]
  },
  {
   "cell_type": "code",
   "execution_count": 8,
   "metadata": {},
   "outputs": [],
   "source": [
    "m.step_micro(1001, delay=0.0001, verbose=False)\n",
    "\n",
    "time.sleep(1)\n",
    "\n",
    "m.step_micro(-1001, delay=0.0001, verbose=False)"
   ]
  },
  {
   "cell_type": "code",
   "execution_count": 9,
   "metadata": {},
   "outputs": [
    {
     "data": {
      "text/plain": [
       "['test_2_microsteps', 31372, 0, 0, 'step_ccw', 'micro_step', 2, -1001]"
      ]
     },
     "execution_count": 9,
     "metadata": {},
     "output_type": "execute_result"
    }
   ],
   "source": [
    "m.get(\"test_2_microsteps\")"
   ]
  },
  {
   "cell_type": "markdown",
   "metadata": {},
   "source": [
    "#### Full Steps"
   ]
  },
  {
   "cell_type": "code",
   "execution_count": 10,
   "metadata": {},
   "outputs": [],
   "source": [
    "m.step_full(100, delay=0.0001, verbose=False)\n",
    "\n",
    "time.sleep(1)\n",
    "\n",
    "m.step_full(-100, delay=0.0001, verbose=False)"
   ]
  },
  {
   "cell_type": "code",
   "execution_count": 11,
   "metadata": {},
   "outputs": [
    {
     "data": {
      "text/plain": [
       "['test_3_full_steps', 31372, 0, 0, 'step_ccw', 'full_step', 2, -100]"
      ]
     },
     "execution_count": 11,
     "metadata": {},
     "output_type": "execute_result"
    }
   ],
   "source": [
    "m.get(\"test_3_full_steps\")"
   ]
  },
  {
   "cell_type": "markdown",
   "metadata": {},
   "source": [
    "## DC Motor  \n",
    "For this portion, disconnect the stepper motor from pinout J3 and connect a DC motor to J1.  \n",
    "\n",
    "Note: The Grove Arduino driver uses -100 to 100 for accepted motor speed values, however their driver converts it to -255 to 255 because that is the board's accepted input values.  -255 to 255 is used here so that finer step control is possible.  Bench test speeds needed for a motor, if 100 is used with this Python driver, some motors may not start!"
   ]
  },
  {
   "cell_type": "markdown",
   "metadata": {},
   "source": [
    "### LED Colors, Directions Codes and Descriptions\n",
    "\n",
    "| M1 | M2 | Code | Description |\n",
    "| -- | -- | ---- | ----------- |\n",
    "| <span style='color:green'>green</span> | <span style='color:green'>green</span> | cw         | both clockwise         |\n",
    "| <span style='color:red'>red</span>     | <span style='color:red'>red</span>     | ccw        | both counter clockwise |\n",
    "| <span style='color:green'>green</span> | <span style='color:green'>green</span> | m1m2cw     | both clockwise         |\n",
    "| <span style='color:red'>red</span>     | <span style='color:red'>red</span>     | m1m2cc     | both counter clockwise |\n",
    "| <span style='color:green'>green</span> | <span style='color:red'>red</span>     | m1cw_m2ccw | M1 clockwise, M2 counter clockwise |\n",
    "| <span style='color:red'>red</span>     | <span style='color:green'>green</span> | m1ccw_m2cw | M1 counter clockwise, M2 clockwise |"
   ]
  },
  {
   "cell_type": "code",
   "execution_count": 12,
   "metadata": {},
   "outputs": [],
   "source": [
    "# ensure stop condition before switching to dc motor control\n",
    "m.stop()"
   ]
  },
  {
   "cell_type": "code",
   "execution_count": 13,
   "metadata": {},
   "outputs": [],
   "source": [
    "m.set_mode(mode_type=\"dc\")\n",
    "m.set_frequency(f_Hz=31372)"
   ]
  },
  {
   "cell_type": "markdown",
   "metadata": {},
   "source": [
    "#### DC Motor Clockwise"
   ]
  },
  {
   "cell_type": "code",
   "execution_count": 14,
   "metadata": {},
   "outputs": [],
   "source": [
    "m.set_direction('cw')\n",
    "m.set_speed(motor_id=1, motor_speed=255)\n",
    "\n",
    "time.sleep(4)\n",
    "\n",
    "m.stop(motor_id=1)"
   ]
  },
  {
   "cell_type": "code",
   "execution_count": 15,
   "metadata": {},
   "outputs": [
    {
     "data": {
      "text/plain": [
       "['test_4_dc_clockwise', 1, 0, 0, 10, 'dc', 2, -100]"
      ]
     },
     "execution_count": 15,
     "metadata": {},
     "output_type": "execute_result"
    }
   ],
   "source": [
    "m.get(\"test_4_dc_clockwise\")"
   ]
  },
  {
   "cell_type": "markdown",
   "metadata": {},
   "source": [
    "#### DC Motor Counter Clockwise"
   ]
  },
  {
   "cell_type": "code",
   "execution_count": 16,
   "metadata": {},
   "outputs": [],
   "source": [
    "m.set_frequency(f_Hz=31372)\n",
    "m.set_direction('ccw')\n",
    "m.set_speed(motor_id=1, motor_speed=255)\n",
    "time.sleep(4)\n",
    "m.stop(motor_id=1)"
   ]
  },
  {
   "cell_type": "code",
   "execution_count": 17,
   "metadata": {},
   "outputs": [
    {
     "data": {
      "text/plain": [
       "['test_5_dc_counter_clockwise', 1, 0, 0, 5, 'dc', 2, -100]"
      ]
     },
     "execution_count": 17,
     "metadata": {},
     "output_type": "execute_result"
    }
   ],
   "source": [
    "m.get(\"test_5_dc_counter_clockwise\")"
   ]
  }
 ],
 "metadata": {
  "kernelspec": {
   "display_name": "Python 3",
   "language": "python",
   "name": "python3"
  },
  "language_info": {
   "codemirror_mode": {
    "name": "ipython",
    "version": 3
   },
   "file_extension": ".py",
   "mimetype": "text/x-python",
   "name": "python",
   "nbconvert_exporter": "python",
   "pygments_lexer": "ipython3",
   "version": "3.7.3"
  }
 },
 "nbformat": 4,
 "nbformat_minor": 4
}

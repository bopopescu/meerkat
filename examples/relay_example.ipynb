{
 "cells": [
  {
   "cell_type": "code",
   "execution_count": 1,
   "metadata": {},
   "outputs": [],
   "source": [
    "from meerkat import relay"
   ]
  },
  {
   "cell_type": "code",
   "execution_count": 2,
   "metadata": {},
   "outputs": [],
   "source": [
    "from importlib import reload"
   ]
  },
  {
   "cell_type": "code",
   "execution_count": 3,
   "metadata": {},
   "outputs": [
    {
     "data": {
      "text/plain": [
       "<module 'meerkat.relay' from '/home/pi/code/meerkat/meerkat/relay.py'>"
      ]
     },
     "execution_count": 3,
     "metadata": {},
     "output_type": "execute_result"
    }
   ],
   "source": [
    "reload(relay)"
   ]
  },
  {
   "cell_type": "code",
   "execution_count": 4,
   "metadata": {},
   "outputs": [],
   "source": [
    "r = relay.Single(bus_n=1, bus_addr=0x18, output='csv')"
   ]
  },
  {
   "cell_type": "code",
   "execution_count": 5,
   "metadata": {},
   "outputs": [],
   "source": [
    "r.on()"
   ]
  },
  {
   "cell_type": "code",
   "execution_count": 6,
   "metadata": {},
   "outputs": [
    {
     "data": {
      "text/plain": [
       "1"
      ]
     },
     "execution_count": 6,
     "metadata": {},
     "output_type": "execute_result"
    }
   ],
   "source": [
    "r.get_status()"
   ]
  },
  {
   "cell_type": "code",
   "execution_count": 7,
   "metadata": {},
   "outputs": [],
   "source": [
    "r.off()"
   ]
  },
  {
   "cell_type": "code",
   "execution_count": 8,
   "metadata": {},
   "outputs": [
    {
     "data": {
      "text/plain": [
       "0"
      ]
     },
     "execution_count": 8,
     "metadata": {},
     "output_type": "execute_result"
    }
   ],
   "source": [
    "r.get_status()"
   ]
  },
  {
   "cell_type": "code",
   "execution_count": 9,
   "metadata": {},
   "outputs": [
    {
     "data": {
      "text/plain": [
       "1"
      ]
     },
     "execution_count": 9,
     "metadata": {},
     "output_type": "execute_result"
    }
   ],
   "source": [
    "r.get_version()"
   ]
  },
  {
   "cell_type": "code",
   "execution_count": 10,
   "metadata": {},
   "outputs": [
    {
     "name": "stdout",
     "output_type": "stream",
     "text": [
      "Relay found closed.\n",
      "Relay toggled.\n"
     ]
    }
   ],
   "source": [
    "r.toggle(verbose=True)"
   ]
  },
  {
   "cell_type": "code",
   "execution_count": 11,
   "metadata": {},
   "outputs": [
    {
     "name": "stdout",
     "output_type": "stream",
     "text": [
      "Relay found open.\n",
      "Relay toggled.\n"
     ]
    }
   ],
   "source": [
    "r.toggle(verbose=True)"
   ]
  },
  {
   "cell_type": "code",
   "execution_count": 12,
   "metadata": {},
   "outputs": [
    {
     "name": "stdout",
     "output_type": "stream",
     "text": [
      "Relay I2C address changed to 0x22\n"
     ]
    }
   ],
   "source": [
    "r.change_address(0x22, verbose=True)"
   ]
  },
  {
   "cell_type": "code",
   "execution_count": 13,
   "metadata": {},
   "outputs": [
    {
     "data": {
      "text/plain": [
       "<module 'meerkat.relay' from '/home/pi/code/meerkat/meerkat/relay.py'>"
      ]
     },
     "execution_count": 13,
     "metadata": {},
     "output_type": "execute_result"
    }
   ],
   "source": [
    "reload(relay)"
   ]
  },
  {
   "cell_type": "code",
   "execution_count": 14,
   "metadata": {},
   "outputs": [],
   "source": [
    "r = relay.Single(bus_n=1, bus_addr=0x22, output='csv')"
   ]
  },
  {
   "cell_type": "code",
   "execution_count": 15,
   "metadata": {},
   "outputs": [
    {
     "name": "stdout",
     "output_type": "stream",
     "text": [
      "Relay found closed.\n",
      "Relay toggled.\n"
     ]
    }
   ],
   "source": [
    "r.toggle(verbose=True)"
   ]
  },
  {
   "cell_type": "code",
   "execution_count": 16,
   "metadata": {},
   "outputs": [
    {
     "name": "stdout",
     "output_type": "stream",
     "text": [
      "Relay found open.\n",
      "Relay toggled.\n"
     ]
    }
   ],
   "source": [
    "r.toggle(verbose=True)"
   ]
  },
  {
   "cell_type": "code",
   "execution_count": 17,
   "metadata": {},
   "outputs": [
    {
     "name": "stdout",
     "output_type": "stream",
     "text": [
      "Relay I2C address changed to 0x18\n"
     ]
    }
   ],
   "source": [
    "r.change_address(0x18, verbose=True)"
   ]
  },
  {
   "cell_type": "code",
   "execution_count": 18,
   "metadata": {},
   "outputs": [],
   "source": [
    "r = relay.Single(bus_n=1, bus_addr=0x18, output='csv')"
   ]
  },
  {
   "cell_type": "code",
   "execution_count": 19,
   "metadata": {},
   "outputs": [
    {
     "data": {
      "text/plain": [
       "['test_1', 0]"
      ]
     },
     "execution_count": 19,
     "metadata": {},
     "output_type": "execute_result"
    }
   ],
   "source": [
    "r.get(description=\"test_1\")"
   ]
  },
  {
   "cell_type": "code",
   "execution_count": 20,
   "metadata": {},
   "outputs": [
    {
     "name": "stdout",
     "output_type": "stream",
     "text": [
      "Relay found closed.\n",
      "Relay toggled.\n"
     ]
    }
   ],
   "source": [
    "r.toggle(verbose=True)"
   ]
  },
  {
   "cell_type": "code",
   "execution_count": 21,
   "metadata": {},
   "outputs": [
    {
     "data": {
      "text/plain": [
       "['test_1', 1]"
      ]
     },
     "execution_count": 21,
     "metadata": {},
     "output_type": "execute_result"
    }
   ],
   "source": [
    "r.get(description=\"test_1\")"
   ]
  },
  {
   "cell_type": "code",
   "execution_count": 22,
   "metadata": {},
   "outputs": [],
   "source": [
    "r.write(description=\"test_2\")"
   ]
  },
  {
   "cell_type": "code",
   "execution_count": 23,
   "metadata": {},
   "outputs": [
    {
     "name": "stdout",
     "output_type": "stream",
     "text": [
      "Relay found open.\n",
      "Relay toggled.\n"
     ]
    }
   ],
   "source": [
    "r.toggle(verbose=True)"
   ]
  },
  {
   "cell_type": "code",
   "execution_count": 24,
   "metadata": {},
   "outputs": [],
   "source": [
    "r.write(description=\"test_2\")"
   ]
  },
  {
   "cell_type": "code",
   "execution_count": 25,
   "metadata": {},
   "outputs": [
    {
     "name": "stdout",
     "output_type": "stream",
     "text": [
      "Relay found closed.\n",
      "Relay toggled.\n"
     ]
    }
   ],
   "source": [
    "r.toggle(verbose=True)"
   ]
  },
  {
   "cell_type": "code",
   "execution_count": 26,
   "metadata": {},
   "outputs": [],
   "source": [
    "r.write(description=\"test_2\")"
   ]
  },
  {
   "cell_type": "code",
   "execution_count": 27,
   "metadata": {},
   "outputs": [
    {
     "data": {
      "text/plain": [
       "'2019_12_27_13_58_45_data.csv'"
      ]
     },
     "execution_count": 27,
     "metadata": {},
     "output_type": "execute_result"
    }
   ],
   "source": [
    "r.writer.path"
   ]
  },
  {
   "cell_type": "code",
   "execution_count": 28,
   "metadata": {},
   "outputs": [],
   "source": [
    "from meerkat import parser"
   ]
  },
  {
   "cell_type": "code",
   "execution_count": 29,
   "metadata": {},
   "outputs": [
    {
     "data": {
      "text/plain": [
       "({'accuracy': None,\n",
       "  'bytes': None,\n",
       "  'case_sensitive_header': False,\n",
       "  'comment': '#',\n",
       "  'delimiter': ',',\n",
       "  'description': None,\n",
       "  'device': {'active': None,\n",
       "   'bus': '<meerkat.i2c_pi.WrapI2C object at 0xb3364d90>',\n",
       "   'description': 'Sparkfun Single Pole Double Throw Relay',\n",
       "   'error': None,\n",
       "   'manufacturer': 'Sparkfun',\n",
       "   'name': 'Qwiic Relay',\n",
       "   'state': None,\n",
       "   'urls': 'https://learn.sparkfun.com/tutorials/qwiic-single-relay-hookup-guide/all',\n",
       "   'version_hw': '1',\n",
       "   'version_sw': '1'},\n",
       "  'double_quote': True,\n",
       "  'dtypes': None,\n",
       "  'encoding': 'utf-8',\n",
       "  'escape_char': '\\\\',\n",
       "  'format': None,\n",
       "  'hash': None,\n",
       "  'header': ['sample_id', 'state'],\n",
       "  'licenses': None,\n",
       "  'line_terminator': '\\n',\n",
       "  'media_type': 'text/csv',\n",
       "  'name': 'Qwiic Relay',\n",
       "  'null_sequence': 'NA',\n",
       "  'path': '2019_12_27_13_58_45_data.csv',\n",
       "  'precision': None,\n",
       "  'quote_char': '\"',\n",
       "  'schema': None,\n",
       "  'shebang': True,\n",
       "  'skip_initial_space': True,\n",
       "  'skip_lines': 1,\n",
       "  'sources': None,\n",
       "  'standard': 'Follow RFC 4180',\n",
       "  'strfmtime': '%Y-%m-%d %H:%M:%S.%f',\n",
       "  'time_format': 'std_time_ms',\n",
       "  'title': None,\n",
       "  'units': None,\n",
       "  'version': '0.1 Alpha'},\n",
       "                   std_time_ms sample_id  state              datetime64_ns\n",
       " 0  2019-12-27 13:58:45.528789    test_2      1 2019-12-27 13:58:45.528789\n",
       " 1  2019-12-27 13:58:45.620650    test_2      0 2019-12-27 13:58:45.620650\n",
       " 2  2019-12-27 13:58:45.705637    test_2      1 2019-12-27 13:58:45.705637)"
      ]
     },
     "execution_count": 29,
     "metadata": {},
     "output_type": "execute_result"
    }
   ],
   "source": [
    "parser.csv_resource(r.writer.path)"
   ]
  },
  {
   "cell_type": "code",
   "execution_count": null,
   "metadata": {},
   "outputs": [],
   "source": []
  }
 ],
 "metadata": {
  "kernelspec": {
   "display_name": "Python 3",
   "language": "python",
   "name": "python3"
  },
  "language_info": {
   "codemirror_mode": {
    "name": "ipython",
    "version": 3
   },
   "file_extension": ".py",
   "mimetype": "text/x-python",
   "name": "python",
   "nbconvert_exporter": "python",
   "pygments_lexer": "ipython3",
   "version": "3.7.3"
  }
 },
 "nbformat": 4,
 "nbformat_minor": 4
}

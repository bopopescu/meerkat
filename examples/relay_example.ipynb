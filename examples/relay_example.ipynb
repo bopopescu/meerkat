{
 "cells": [
  {
   "cell_type": "code",
   "execution_count": 1,
   "metadata": {},
   "outputs": [],
   "source": [
    "from meerkat.base import time\n",
    "from meerkat import relay"
   ]
  },
  {
   "cell_type": "code",
   "execution_count": 2,
   "metadata": {},
   "outputs": [],
   "source": [
    "from importlib import reload"
   ]
  },
  {
   "cell_type": "code",
   "execution_count": 3,
   "metadata": {},
   "outputs": [
    {
     "data": {
      "text/plain": [
       "<module 'meerkat.relay' from '/home/pi/code/meerkat/meerkat/relay.py'>"
      ]
     },
     "execution_count": 3,
     "metadata": {},
     "output_type": "execute_result"
    }
   ],
   "source": [
    "reload(relay)"
   ]
  },
  {
   "cell_type": "code",
   "execution_count": 4,
   "metadata": {},
   "outputs": [],
   "source": [
    "r = relay.Single(bus_n=1, bus_addr=0x18, output='csv')"
   ]
  },
  {
   "cell_type": "code",
   "execution_count": 5,
   "metadata": {},
   "outputs": [],
   "source": [
    "r.on()"
   ]
  },
  {
   "cell_type": "code",
   "execution_count": 6,
   "metadata": {},
   "outputs": [
    {
     "data": {
      "text/plain": [
       "1"
      ]
     },
     "execution_count": 6,
     "metadata": {},
     "output_type": "execute_result"
    }
   ],
   "source": [
    "r.get_status()"
   ]
  },
  {
   "cell_type": "code",
   "execution_count": 7,
   "metadata": {},
   "outputs": [],
   "source": [
    "r.off()"
   ]
  },
  {
   "cell_type": "code",
   "execution_count": 8,
   "metadata": {},
   "outputs": [
    {
     "data": {
      "text/plain": [
       "0"
      ]
     },
     "execution_count": 8,
     "metadata": {},
     "output_type": "execute_result"
    }
   ],
   "source": [
    "r.get_status()"
   ]
  },
  {
   "cell_type": "code",
   "execution_count": 9,
   "metadata": {},
   "outputs": [
    {
     "data": {
      "text/plain": [
       "1"
      ]
     },
     "execution_count": 9,
     "metadata": {},
     "output_type": "execute_result"
    }
   ],
   "source": [
    "r.get_version()"
   ]
  },
  {
   "cell_type": "code",
   "execution_count": 10,
   "metadata": {},
   "outputs": [
    {
     "name": "stdout",
     "output_type": "stream",
     "text": [
      "Relay found closed.\n",
      "Relay toggled.\n"
     ]
    }
   ],
   "source": [
    "r.toggle(verbose=True)"
   ]
  },
  {
   "cell_type": "code",
   "execution_count": 11,
   "metadata": {},
   "outputs": [
    {
     "name": "stdout",
     "output_type": "stream",
     "text": [
      "Relay found open.\n",
      "Relay toggled.\n"
     ]
    }
   ],
   "source": [
    "r.toggle(verbose=True)"
   ]
  },
  {
   "cell_type": "code",
   "execution_count": 12,
   "metadata": {},
   "outputs": [
    {
     "name": "stdout",
     "output_type": "stream",
     "text": [
      "Relay I2C address changed to 0x22\n"
     ]
    }
   ],
   "source": [
    "r.change_address(0x22, verbose=True)"
   ]
  },
  {
   "cell_type": "code",
   "execution_count": 13,
   "metadata": {},
   "outputs": [
    {
     "data": {
      "text/plain": [
       "<module 'meerkat.relay' from '/home/pi/code/meerkat/meerkat/relay.py'>"
      ]
     },
     "execution_count": 13,
     "metadata": {},
     "output_type": "execute_result"
    }
   ],
   "source": [
    "reload(relay)"
   ]
  },
  {
   "cell_type": "code",
   "execution_count": 14,
   "metadata": {},
   "outputs": [],
   "source": [
    "r = relay.Single(bus_n=1, bus_addr=0x22, output='csv')"
   ]
  },
  {
   "cell_type": "code",
   "execution_count": 15,
   "metadata": {},
   "outputs": [
    {
     "name": "stdout",
     "output_type": "stream",
     "text": [
      "Relay found closed.\n",
      "Relay toggled.\n"
     ]
    }
   ],
   "source": [
    "r.toggle(verbose=True)"
   ]
  },
  {
   "cell_type": "code",
   "execution_count": 16,
   "metadata": {},
   "outputs": [
    {
     "name": "stdout",
     "output_type": "stream",
     "text": [
      "Relay found open.\n",
      "Relay toggled.\n"
     ]
    }
   ],
   "source": [
    "r.toggle(verbose=True)"
   ]
  },
  {
   "cell_type": "code",
   "execution_count": 17,
   "metadata": {},
   "outputs": [
    {
     "name": "stdout",
     "output_type": "stream",
     "text": [
      "Relay I2C address changed to 0x18\n"
     ]
    }
   ],
   "source": [
    "r.change_address(0x18, verbose=True)"
   ]
  },
  {
   "cell_type": "code",
   "execution_count": 18,
   "metadata": {},
   "outputs": [],
   "source": [
    "r = relay.Single(bus_n=1, bus_addr=0x18, output='csv')"
   ]
  },
  {
   "cell_type": "code",
   "execution_count": 19,
   "metadata": {},
   "outputs": [
    {
     "data": {
      "text/plain": [
       "['test_1', 0]"
      ]
     },
     "execution_count": 19,
     "metadata": {},
     "output_type": "execute_result"
    }
   ],
   "source": [
    "r.get(description=\"test_1\")"
   ]
  },
  {
   "cell_type": "code",
   "execution_count": 20,
   "metadata": {},
   "outputs": [
    {
     "name": "stdout",
     "output_type": "stream",
     "text": [
      "Relay found closed.\n",
      "Relay toggled.\n"
     ]
    }
   ],
   "source": [
    "r.toggle(verbose=True)"
   ]
  },
  {
   "cell_type": "code",
   "execution_count": 21,
   "metadata": {},
   "outputs": [
    {
     "data": {
      "text/plain": [
       "['test_2', 1]"
      ]
     },
     "execution_count": 21,
     "metadata": {},
     "output_type": "execute_result"
    }
   ],
   "source": [
    "r.get(description=\"test_2\")"
   ]
  },
  {
   "cell_type": "code",
   "execution_count": 22,
   "metadata": {},
   "outputs": [],
   "source": [
    "r.write(description=\"test_3\")"
   ]
  },
  {
   "cell_type": "code",
   "execution_count": 23,
   "metadata": {},
   "outputs": [
    {
     "name": "stdout",
     "output_type": "stream",
     "text": [
      "Relay found open.\n",
      "Relay toggled.\n"
     ]
    }
   ],
   "source": [
    "r.toggle(verbose=True)"
   ]
  },
  {
   "cell_type": "code",
   "execution_count": 24,
   "metadata": {},
   "outputs": [],
   "source": [
    "r.write(description=\"test_4\")"
   ]
  },
  {
   "cell_type": "code",
   "execution_count": 25,
   "metadata": {},
   "outputs": [
    {
     "name": "stdout",
     "output_type": "stream",
     "text": [
      "Relay found closed.\n",
      "Relay toggled.\n"
     ]
    }
   ],
   "source": [
    "r.toggle(verbose=True)"
   ]
  },
  {
   "cell_type": "code",
   "execution_count": 26,
   "metadata": {},
   "outputs": [],
   "source": [
    "r.write(description=\"test_5\")"
   ]
  },
  {
   "cell_type": "code",
   "execution_count": 27,
   "metadata": {},
   "outputs": [
    {
     "name": "stdout",
     "output_type": "stream",
     "text": [
      "Relay found open.\n",
      "Relay toggled.\n",
      "['test_6_toggle 0', 0]\n",
      "['test_6_toggle 0', 0]\n",
      "--------------------\n",
      "Relay found closed.\n",
      "Relay toggled.\n",
      "['test_6_toggle 1', 1]\n",
      "['test_6_toggle 1', 1]\n",
      "--------------------\n",
      "Relay found open.\n",
      "Relay toggled.\n",
      "['test_6_toggle 2', 0]\n",
      "['test_6_toggle 2', 0]\n",
      "--------------------\n",
      "Relay found closed.\n",
      "Relay toggled.\n",
      "['test_6_toggle 3', 1]\n",
      "['test_6_toggle 3', 1]\n",
      "--------------------\n",
      "Relay found open.\n",
      "Relay toggled.\n",
      "['test_6_toggle 4', 0]\n",
      "['test_6_toggle 4', 0]\n",
      "--------------------\n",
      "Relay found closed.\n",
      "Relay toggled.\n",
      "['test_6_toggle 5', 1]\n",
      "['test_6_toggle 5', 1]\n",
      "--------------------\n",
      "Relay found open.\n",
      "Relay toggled.\n",
      "['test_6_toggle 6', 0]\n",
      "['test_6_toggle 6', 0]\n",
      "--------------------\n"
     ]
    }
   ],
   "source": [
    "des = \"test_6\"\n",
    "for n in range(7):\n",
    "    r.toggle(verbose=True)\n",
    "    r.write(description=des + \"_toggle {}\".format(n))\n",
    "    print(r.get(description=des + \"_toggle {}\".format(n)))\n",
    "    print(r.get(description=des + \"_toggle {}\".format(n), dtype=\"list\"))\n",
    "    print(\"-\"*20)\n",
    "    time.sleep(1)"
   ]
  },
  {
   "cell_type": "code",
   "execution_count": 28,
   "metadata": {},
   "outputs": [
    {
     "data": {
      "text/plain": [
       "'2020_01_04_11_19_24_data.csv'"
      ]
     },
     "execution_count": 28,
     "metadata": {},
     "output_type": "execute_result"
    }
   ],
   "source": [
    "r.writer.path"
   ]
  },
  {
   "cell_type": "code",
   "execution_count": 29,
   "metadata": {},
   "outputs": [],
   "source": [
    "from meerkat import parser"
   ]
  },
  {
   "cell_type": "code",
   "execution_count": 30,
   "metadata": {},
   "outputs": [],
   "source": [
    "metadata, df = parser.csv_resource(r.writer.path)"
   ]
  },
  {
   "cell_type": "code",
   "execution_count": 31,
   "metadata": {},
   "outputs": [
    {
     "data": {
      "text/plain": [
       "{'accuracy': None,\n",
       " 'bytes': None,\n",
       " 'case_sensitive_header': False,\n",
       " 'comment': '#',\n",
       " 'delimiter': ',',\n",
       " 'description': None,\n",
       " 'device': {'active': None,\n",
       "  'bus': '<meerkat.i2c_pi.WrapI2C object at 0xb29e1d30>',\n",
       "  'description': 'Sparkfun Single Pole Double Throw Relay',\n",
       "  'error': None,\n",
       "  'manufacturer': 'Sparkfun',\n",
       "  'name': 'Qwiic Relay',\n",
       "  'state': None,\n",
       "  'urls': 'https://learn.sparkfun.com/tutorials/qwiic-single-relay-hookup-guide/all',\n",
       "  'version_hw': '1',\n",
       "  'version_sw': '1'},\n",
       " 'double_quote': True,\n",
       " 'dtypes': None,\n",
       " 'encoding': 'utf-8',\n",
       " 'escape_char': '\\\\',\n",
       " 'format': None,\n",
       " 'hash': None,\n",
       " 'header': ['sample_id', 'state'],\n",
       " 'licenses': None,\n",
       " 'line_terminator': '\\n',\n",
       " 'media_type': 'text/csv',\n",
       " 'name': 'Qwiic Relay',\n",
       " 'null_sequence': 'NA',\n",
       " 'path': '2020_01_04_11_19_24_data.csv',\n",
       " 'precision': None,\n",
       " 'quote_char': '\"',\n",
       " 'schema': None,\n",
       " 'shebang': True,\n",
       " 'skip_initial_space': True,\n",
       " 'skip_lines': 1,\n",
       " 'sources': None,\n",
       " 'standard': 'Follow RFC 4180',\n",
       " 'strfmtime': '%Y-%m-%d %H:%M:%S.%f',\n",
       " 'time_format': 'std_time_ms',\n",
       " 'title': None,\n",
       " 'units': None,\n",
       " 'version': '0.1 Alpha'}"
      ]
     },
     "execution_count": 31,
     "metadata": {},
     "output_type": "execute_result"
    }
   ],
   "source": [
    "metadata"
   ]
  },
  {
   "cell_type": "code",
   "execution_count": 32,
   "metadata": {},
   "outputs": [
    {
     "data": {
      "text/html": [
       "<div>\n",
       "<style scoped>\n",
       "    .dataframe tbody tr th:only-of-type {\n",
       "        vertical-align: middle;\n",
       "    }\n",
       "\n",
       "    .dataframe tbody tr th {\n",
       "        vertical-align: top;\n",
       "    }\n",
       "\n",
       "    .dataframe thead th {\n",
       "        text-align: right;\n",
       "    }\n",
       "</style>\n",
       "<table border=\"1\" class=\"dataframe\">\n",
       "  <thead>\n",
       "    <tr style=\"text-align: right;\">\n",
       "      <th></th>\n",
       "      <th>std_time_ms</th>\n",
       "      <th>sample_id</th>\n",
       "      <th>state</th>\n",
       "      <th>datetime64_ns</th>\n",
       "    </tr>\n",
       "  </thead>\n",
       "  <tbody>\n",
       "    <tr>\n",
       "      <th>0</th>\n",
       "      <td>2020-01-04 11:19:24.576756</td>\n",
       "      <td>test_3</td>\n",
       "      <td>1</td>\n",
       "      <td>2020-01-04 11:19:24.576756</td>\n",
       "    </tr>\n",
       "    <tr>\n",
       "      <th>1</th>\n",
       "      <td>2020-01-04 11:19:26.159618</td>\n",
       "      <td>test_4</td>\n",
       "      <td>0</td>\n",
       "      <td>2020-01-04 11:19:26.159618</td>\n",
       "    </tr>\n",
       "    <tr>\n",
       "      <th>2</th>\n",
       "      <td>2020-01-04 11:19:27.715786</td>\n",
       "      <td>test_5</td>\n",
       "      <td>1</td>\n",
       "      <td>2020-01-04 11:19:27.715786</td>\n",
       "    </tr>\n",
       "    <tr>\n",
       "      <th>3</th>\n",
       "      <td>2020-01-04 11:19:28.511668</td>\n",
       "      <td>test_6_toggle 0</td>\n",
       "      <td>0</td>\n",
       "      <td>2020-01-04 11:19:28.511668</td>\n",
       "    </tr>\n",
       "    <tr>\n",
       "      <th>4</th>\n",
       "      <td>2020-01-04 11:19:29.519036</td>\n",
       "      <td>test_6_toggle 1</td>\n",
       "      <td>1</td>\n",
       "      <td>2020-01-04 11:19:29.519036</td>\n",
       "    </tr>\n",
       "    <tr>\n",
       "      <th>5</th>\n",
       "      <td>2020-01-04 11:19:30.526981</td>\n",
       "      <td>test_6_toggle 2</td>\n",
       "      <td>0</td>\n",
       "      <td>2020-01-04 11:19:30.526981</td>\n",
       "    </tr>\n",
       "    <tr>\n",
       "      <th>6</th>\n",
       "      <td>2020-01-04 11:19:31.536097</td>\n",
       "      <td>test_6_toggle 3</td>\n",
       "      <td>1</td>\n",
       "      <td>2020-01-04 11:19:31.536097</td>\n",
       "    </tr>\n",
       "    <tr>\n",
       "      <th>7</th>\n",
       "      <td>2020-01-04 11:19:32.545644</td>\n",
       "      <td>test_6_toggle 4</td>\n",
       "      <td>0</td>\n",
       "      <td>2020-01-04 11:19:32.545644</td>\n",
       "    </tr>\n",
       "    <tr>\n",
       "      <th>8</th>\n",
       "      <td>2020-01-04 11:19:33.554265</td>\n",
       "      <td>test_6_toggle 5</td>\n",
       "      <td>1</td>\n",
       "      <td>2020-01-04 11:19:33.554265</td>\n",
       "    </tr>\n",
       "    <tr>\n",
       "      <th>9</th>\n",
       "      <td>2020-01-04 11:19:34.563928</td>\n",
       "      <td>test_6_toggle 6</td>\n",
       "      <td>0</td>\n",
       "      <td>2020-01-04 11:19:34.563928</td>\n",
       "    </tr>\n",
       "  </tbody>\n",
       "</table>\n",
       "</div>"
      ],
      "text/plain": [
       "                  std_time_ms        sample_id  state  \\\n",
       "0  2020-01-04 11:19:24.576756           test_3      1   \n",
       "1  2020-01-04 11:19:26.159618           test_4      0   \n",
       "2  2020-01-04 11:19:27.715786           test_5      1   \n",
       "3  2020-01-04 11:19:28.511668  test_6_toggle 0      0   \n",
       "4  2020-01-04 11:19:29.519036  test_6_toggle 1      1   \n",
       "5  2020-01-04 11:19:30.526981  test_6_toggle 2      0   \n",
       "6  2020-01-04 11:19:31.536097  test_6_toggle 3      1   \n",
       "7  2020-01-04 11:19:32.545644  test_6_toggle 4      0   \n",
       "8  2020-01-04 11:19:33.554265  test_6_toggle 5      1   \n",
       "9  2020-01-04 11:19:34.563928  test_6_toggle 6      0   \n",
       "\n",
       "               datetime64_ns  \n",
       "0 2020-01-04 11:19:24.576756  \n",
       "1 2020-01-04 11:19:26.159618  \n",
       "2 2020-01-04 11:19:27.715786  \n",
       "3 2020-01-04 11:19:28.511668  \n",
       "4 2020-01-04 11:19:29.519036  \n",
       "5 2020-01-04 11:19:30.526981  \n",
       "6 2020-01-04 11:19:31.536097  \n",
       "7 2020-01-04 11:19:32.545644  \n",
       "8 2020-01-04 11:19:33.554265  \n",
       "9 2020-01-04 11:19:34.563928  "
      ]
     },
     "execution_count": 32,
     "metadata": {},
     "output_type": "execute_result"
    }
   ],
   "source": [
    "df"
   ]
  },
  {
   "cell_type": "code",
   "execution_count": 33,
   "metadata": {},
   "outputs": [],
   "source": [
    "q = relay.Single(bus_n=1, bus_addr=0x18, output='json')"
   ]
  },
  {
   "cell_type": "code",
   "execution_count": 34,
   "metadata": {},
   "outputs": [
    {
     "name": "stdout",
     "output_type": "stream",
     "text": [
      "Relay found closed.\n",
      "Relay toggled.\n",
      "{\"sample_id\": \"JSON_test_1_toggle 0\", \"state\": 1, \"std_time_ms\": \"2020-01-04 11:19:41.172550\"}\n",
      "--------------------\n",
      "Relay found open.\n",
      "Relay toggled.\n",
      "{\"sample_id\": \"JSON_test_1_toggle 1\", \"state\": 0, \"std_time_ms\": \"2020-01-04 11:19:42.180312\"}\n",
      "--------------------\n",
      "Relay found closed.\n",
      "Relay toggled.\n",
      "{\"sample_id\": \"JSON_test_1_toggle 2\", \"state\": 1, \"std_time_ms\": \"2020-01-04 11:19:43.188463\"}\n",
      "--------------------\n",
      "Relay found open.\n",
      "Relay toggled.\n",
      "{\"sample_id\": \"JSON_test_1_toggle 3\", \"state\": 0, \"std_time_ms\": \"2020-01-04 11:19:44.196719\"}\n",
      "--------------------\n",
      "Relay found closed.\n",
      "Relay toggled.\n",
      "{\"sample_id\": \"JSON_test_1_toggle 4\", \"state\": 1, \"std_time_ms\": \"2020-01-04 11:19:45.205990\"}\n",
      "--------------------\n",
      "Relay found open.\n",
      "Relay toggled.\n",
      "{\"sample_id\": \"JSON_test_1_toggle 5\", \"state\": 0, \"std_time_ms\": \"2020-01-04 11:19:46.213750\"}\n",
      "--------------------\n",
      "Relay found closed.\n",
      "Relay toggled.\n",
      "{\"sample_id\": \"JSON_test_1_toggle 6\", \"state\": 1, \"std_time_ms\": \"2020-01-04 11:19:47.221838\"}\n",
      "--------------------\n"
     ]
    }
   ],
   "source": [
    "des = \"JSON_test_1\"\n",
    "for n in range(7):\n",
    "    q.toggle(verbose=True)\n",
    "    q.write(description=des + \"_toggle {}\".format(n))\n",
    "    print(q.get(description=des + \"_toggle {}\".format(n)))\n",
    "    print(\"-\"*20)\n",
    "    time.sleep(1)"
   ]
  },
  {
   "cell_type": "code",
   "execution_count": 35,
   "metadata": {},
   "outputs": [
    {
     "name": "stdout",
     "output_type": "stream",
     "text": [
      "Relay found open.\n",
      "Relay toggled.\n",
      "['csv_test_7_toggle 0', 0]\n",
      "['csv_test_7_toggle 0', 0]\n",
      "--------------------\n",
      "Relay found closed.\n",
      "Relay toggled.\n",
      "['csv_test_7_toggle 1', 1]\n",
      "['csv_test_7_toggle 1', 1]\n",
      "--------------------\n",
      "Relay found open.\n",
      "Relay toggled.\n",
      "['csv_test_7_toggle 2', 0]\n",
      "['csv_test_7_toggle 2', 0]\n",
      "--------------------\n",
      "Relay found closed.\n",
      "Relay toggled.\n",
      "['csv_test_7_toggle 3', 1]\n",
      "['csv_test_7_toggle 3', 1]\n",
      "--------------------\n",
      "Relay found open.\n",
      "Relay toggled.\n",
      "['csv_test_7_toggle 4', 0]\n",
      "['csv_test_7_toggle 4', 0]\n",
      "--------------------\n",
      "Relay found closed.\n",
      "Relay toggled.\n",
      "['csv_test_7_toggle 5', 1]\n",
      "['csv_test_7_toggle 5', 1]\n",
      "--------------------\n",
      "Relay found open.\n",
      "Relay toggled.\n",
      "['csv_test_7_toggle 6', 0]\n",
      "['csv_test_7_toggle 6', 0]\n",
      "--------------------\n"
     ]
    }
   ],
   "source": [
    "des = \"csv_test_7\"\n",
    "for n in range(7):\n",
    "    r.toggle(verbose=True)\n",
    "    r.write(description=des + \"_toggle {}\".format(n))\n",
    "    print(r.get(description=des + \"_toggle {}\".format(n)))\n",
    "    print(r.get(description=des + \"_toggle {}\".format(n), dtype=\"json\"))\n",
    "    print(\"-\"*20)\n",
    "    time.sleep(1)"
   ]
  },
  {
   "cell_type": "code",
   "execution_count": null,
   "metadata": {},
   "outputs": [],
   "source": []
  }
 ],
 "metadata": {
  "kernelspec": {
   "display_name": "Python 3",
   "language": "python",
   "name": "python3"
  },
  "language_info": {
   "codemirror_mode": {
    "name": "ipython",
    "version": 3
   },
   "file_extension": ".py",
   "mimetype": "text/x-python",
   "name": "python",
   "nbconvert_exporter": "python",
   "pygments_lexer": "ipython3",
   "version": "3.7.3"
  }
 },
 "nbformat": 4,
 "nbformat_minor": 4
}

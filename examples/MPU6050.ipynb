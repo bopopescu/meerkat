{
 "cells": [
  {
   "cell_type": "code",
   "execution_count": 1,
   "metadata": {},
   "outputs": [],
   "source": [
    "import smbus\n",
    "import matplotlib.pyplot as plt\n",
    "\n",
    "from meerkat import mpu6050, parser"
   ]
  },
  {
   "cell_type": "code",
   "execution_count": 2,
   "metadata": {},
   "outputs": [],
   "source": [
    "dev = mpu6050.mpu6050(bus_n=1, output='json')"
   ]
  },
  {
   "cell_type": "code",
   "execution_count": 3,
   "metadata": {},
   "outputs": [
    {
     "data": {
      "text/plain": [
       "24.15352941176471"
      ]
     },
     "execution_count": 3,
     "metadata": {},
     "output_type": "execute_result"
    }
   ],
   "source": [
    "dev.get_temp()"
   ]
  },
  {
   "cell_type": "code",
   "execution_count": 4,
   "metadata": {},
   "outputs": [],
   "source": [
    "dev.set_gyro_range(dev.GYRO_RANGE_1000DEG)\n",
    "dev.set_accel_range(dev.ACCEL_RANGE_2G)"
   ]
  },
  {
   "cell_type": "code",
   "execution_count": 5,
   "metadata": {},
   "outputs": [
    {
     "data": {
      "text/plain": [
       "{'x': 19.6133, 'y': 3.883395092773437, 'z': 8.80347950439453}"
      ]
     },
     "execution_count": 5,
     "metadata": {},
     "output_type": "execute_result"
    }
   ],
   "source": [
    "dev.get_accel_data()"
   ]
  },
  {
   "cell_type": "code",
   "execution_count": 6,
   "metadata": {},
   "outputs": [
    {
     "data": {
      "text/plain": [
       "{'x': -6.251908396946565, 'y': -5.00763358778626, 'z': 5.938931297709924}"
      ]
     },
     "execution_count": 6,
     "metadata": {},
     "output_type": "execute_result"
    }
   ],
   "source": [
    "dev.get_gyro_data()"
   ]
  },
  {
   "cell_type": "code",
   "execution_count": 7,
   "metadata": {},
   "outputs": [
    {
     "data": {
      "text/plain": [
       "[{'accel_data': {'x': 19.6133,\n",
       "   'y': 3.8953661010742184,\n",
       "   'z': 8.805873706054687},\n",
       "  'arange': 0,\n",
       "  'desc': 'example_1',\n",
       "  'grange': 16,\n",
       "  'gyro_data': {'x': -6.129770992366412,\n",
       "   'y': -5.061068702290076,\n",
       "   'z': 6.137404580152672},\n",
       "  'n': 1,\n",
       "  'temp_C': 24.059411764705885},\n",
       " {'accel_data': {'x': 19.6133, 'y': 3.919308117675781, 'z': 8.865728747558594},\n",
       "  'arange': 0,\n",
       "  'desc': 'example_1',\n",
       "  'grange': 16,\n",
       "  'gyro_data': {'x': -6.320610687022901,\n",
       "   'y': -4.984732824427481,\n",
       "   'z': 5.977099236641221},\n",
       "  'n': 2,\n",
       "  'temp_C': 24.012352941176474}]"
      ]
     },
     "execution_count": 7,
     "metadata": {},
     "output_type": "execute_result"
    }
   ],
   "source": [
    "dev.get_all_burst(description='example_1', n=2)"
   ]
  },
  {
   "cell_type": "code",
   "execution_count": 8,
   "metadata": {},
   "outputs": [],
   "source": [
    "dev = mpu6050.mpu6050(bus_n=1, output='csv')"
   ]
  },
  {
   "cell_type": "code",
   "execution_count": 9,
   "metadata": {},
   "outputs": [],
   "source": [
    "dev.set_gyro_range(dev.GYRO_RANGE_1000DEG)\n",
    "dev.set_accel_range(dev.ACCEL_RANGE_2G)"
   ]
  },
  {
   "cell_type": "code",
   "execution_count": 10,
   "metadata": {},
   "outputs": [
    {
     "data": {
      "text/plain": [
       "[['example_1',\n",
       "  1,\n",
       "  0,\n",
       "  16,\n",
       "  19.6133,\n",
       "  3.902548706054687,\n",
       "  8.760383874511719,\n",
       "  -6.282442748091603,\n",
       "  -4.748091603053435,\n",
       "  6.32824427480916,\n",
       "  24.15352941176471],\n",
       " ['example_1',\n",
       "  2,\n",
       "  0,\n",
       "  16,\n",
       "  19.6133,\n",
       "  3.861847277832031,\n",
       "  8.825027319335938,\n",
       "  -6.015267175572519,\n",
       "  -4.9465648854961835,\n",
       "  6.1679389312977095,\n",
       "  24.15352941176471]]"
      ]
     },
     "execution_count": 10,
     "metadata": {},
     "output_type": "execute_result"
    }
   ],
   "source": [
    "dev.get_all_burst(description='example_1', n=2)"
   ]
  },
  {
   "cell_type": "code",
   "execution_count": 11,
   "metadata": {},
   "outputs": [],
   "source": [
    "dev.writer.path = 'MPU6050_example.csv'\n",
    "dev.write_all(description='example_2', n=10)"
   ]
  },
  {
   "cell_type": "code",
   "execution_count": 12,
   "metadata": {},
   "outputs": [],
   "source": [
    "m, df = parser.csv_resource(dev.writer.path)"
   ]
  },
  {
   "cell_type": "code",
   "execution_count": 13,
   "metadata": {},
   "outputs": [
    {
     "data": {
      "text/html": [
       "<div>\n",
       "<style scoped>\n",
       "    .dataframe tbody tr th:only-of-type {\n",
       "        vertical-align: middle;\n",
       "    }\n",
       "\n",
       "    .dataframe tbody tr th {\n",
       "        vertical-align: top;\n",
       "    }\n",
       "\n",
       "    .dataframe thead th {\n",
       "        text-align: right;\n",
       "    }\n",
       "</style>\n",
       "<table border=\"1\" class=\"dataframe\">\n",
       "  <thead>\n",
       "    <tr style=\"text-align: right;\">\n",
       "      <th></th>\n",
       "      <th>std_time_ms</th>\n",
       "      <th>description</th>\n",
       "      <th>sample_n</th>\n",
       "      <th>arange</th>\n",
       "      <th>grange</th>\n",
       "      <th>ax</th>\n",
       "      <th>ay</th>\n",
       "      <th>az</th>\n",
       "      <th>gx</th>\n",
       "      <th>gy</th>\n",
       "      <th>gz</th>\n",
       "      <th>temp_C</th>\n",
       "      <th>datetime64_ns</th>\n",
       "    </tr>\n",
       "  </thead>\n",
       "  <tbody>\n",
       "    <tr>\n",
       "      <th>0</th>\n",
       "      <td>2019-03-16 23:24:33.230313</td>\n",
       "      <td>example_2</td>\n",
       "      <td>1</td>\n",
       "      <td>0</td>\n",
       "      <td>16</td>\n",
       "      <td>19.6133</td>\n",
       "      <td>3.794810</td>\n",
       "      <td>8.659827</td>\n",
       "      <td>-6.076336</td>\n",
       "      <td>-4.977099</td>\n",
       "      <td>6.129771</td>\n",
       "      <td>24.106471</td>\n",
       "      <td>2019-03-16 23:24:33.230313</td>\n",
       "    </tr>\n",
       "    <tr>\n",
       "      <th>1</th>\n",
       "      <td>2019-03-16 23:24:33.238659</td>\n",
       "      <td>example_2</td>\n",
       "      <td>2</td>\n",
       "      <td>0</td>\n",
       "      <td>16</td>\n",
       "      <td>19.6133</td>\n",
       "      <td>3.873818</td>\n",
       "      <td>8.769961</td>\n",
       "      <td>-6.183206</td>\n",
       "      <td>-4.839695</td>\n",
       "      <td>6.000000</td>\n",
       "      <td>24.153529</td>\n",
       "      <td>2019-03-16 23:24:33.238659</td>\n",
       "    </tr>\n",
       "    <tr>\n",
       "      <th>2</th>\n",
       "      <td>2019-03-16 23:24:33.256992</td>\n",
       "      <td>example_2</td>\n",
       "      <td>3</td>\n",
       "      <td>0</td>\n",
       "      <td>16</td>\n",
       "      <td>19.6133</td>\n",
       "      <td>3.895366</td>\n",
       "      <td>8.772355</td>\n",
       "      <td>-6.198473</td>\n",
       "      <td>-4.938931</td>\n",
       "      <td>6.343511</td>\n",
       "      <td>24.012353</td>\n",
       "      <td>2019-03-16 23:24:33.256992</td>\n",
       "    </tr>\n",
       "    <tr>\n",
       "      <th>3</th>\n",
       "      <td>2019-03-16 23:24:33.275824</td>\n",
       "      <td>example_2</td>\n",
       "      <td>4</td>\n",
       "      <td>0</td>\n",
       "      <td>16</td>\n",
       "      <td>19.6133</td>\n",
       "      <td>3.859453</td>\n",
       "      <td>8.734048</td>\n",
       "      <td>-6.190840</td>\n",
       "      <td>-4.801527</td>\n",
       "      <td>6.221374</td>\n",
       "      <td>24.106471</td>\n",
       "      <td>2019-03-16 23:24:33.275824</td>\n",
       "    </tr>\n",
       "    <tr>\n",
       "      <th>4</th>\n",
       "      <td>2019-03-16 23:24:33.286445</td>\n",
       "      <td>example_2</td>\n",
       "      <td>5</td>\n",
       "      <td>0</td>\n",
       "      <td>16</td>\n",
       "      <td>19.6133</td>\n",
       "      <td>3.871424</td>\n",
       "      <td>8.786720</td>\n",
       "      <td>-6.183206</td>\n",
       "      <td>-4.694656</td>\n",
       "      <td>5.946565</td>\n",
       "      <td>24.106471</td>\n",
       "      <td>2019-03-16 23:24:33.286445</td>\n",
       "    </tr>\n",
       "  </tbody>\n",
       "</table>\n",
       "</div>"
      ],
      "text/plain": [
       "                  std_time_ms description  sample_n  arange  grange       ax  \\\n",
       "0  2019-03-16 23:24:33.230313   example_2         1       0      16  19.6133   \n",
       "1  2019-03-16 23:24:33.238659   example_2         2       0      16  19.6133   \n",
       "2  2019-03-16 23:24:33.256992   example_2         3       0      16  19.6133   \n",
       "3  2019-03-16 23:24:33.275824   example_2         4       0      16  19.6133   \n",
       "4  2019-03-16 23:24:33.286445   example_2         5       0      16  19.6133   \n",
       "\n",
       "         ay        az        gx        gy        gz     temp_C  \\\n",
       "0  3.794810  8.659827 -6.076336 -4.977099  6.129771  24.106471   \n",
       "1  3.873818  8.769961 -6.183206 -4.839695  6.000000  24.153529   \n",
       "2  3.895366  8.772355 -6.198473 -4.938931  6.343511  24.012353   \n",
       "3  3.859453  8.734048 -6.190840 -4.801527  6.221374  24.106471   \n",
       "4  3.871424  8.786720 -6.183206 -4.694656  5.946565  24.106471   \n",
       "\n",
       "               datetime64_ns  \n",
       "0 2019-03-16 23:24:33.230313  \n",
       "1 2019-03-16 23:24:33.238659  \n",
       "2 2019-03-16 23:24:33.256992  \n",
       "3 2019-03-16 23:24:33.275824  \n",
       "4 2019-03-16 23:24:33.286445  "
      ]
     },
     "execution_count": 13,
     "metadata": {},
     "output_type": "execute_result"
    }
   ],
   "source": [
    "df.head()"
   ]
  },
  {
   "cell_type": "code",
   "execution_count": 14,
   "metadata": {},
   "outputs": [
    {
     "data": {
      "text/plain": [
       "std_time_ms              object\n",
       "description              object\n",
       "sample_n                  int64\n",
       "arange                    int64\n",
       "grange                    int64\n",
       "ax                      float64\n",
       "ay                      float64\n",
       "az                      float64\n",
       "gx                      float64\n",
       "gy                      float64\n",
       "gz                      float64\n",
       "temp_C                  float64\n",
       "datetime64_ns    datetime64[ns]\n",
       "dtype: object"
      ]
     },
     "execution_count": 14,
     "metadata": {},
     "output_type": "execute_result"
    }
   ],
   "source": [
    "df.dtypes"
   ]
  },
  {
   "cell_type": "code",
   "execution_count": 15,
   "metadata": {},
   "outputs": [
    {
     "data": {
      "image/png": "[encoded data removed]",
      "text/plain": [
       "<Figure size 432x288 with 1 Axes>"
      ]
     },
     "metadata": {
      "needs_background": "light"
     },
     "output_type": "display_data"
    }
   ],
   "source": [
    "df.datetime64_ns = df.datetime64_ns.dt.tz_localize('UTC')  # Pandas 0.24.1 hack\n",
    "df[['datetime64_ns', \n",
    "    'ax', 'ay', 'az', \n",
    "    'gx', 'gy', 'gz', 'temp_C']].plot(x='datetime64_ns');\n",
    "plt.legend(loc='center left', bbox_to_anchor=(1, 0.5));\n",
    "plt.xlabel('Date & Time');\n",
    "plt.ylabel('m/s**2 or degree/s');"
   ]
  }
 ],
 "metadata": {
  "kernelspec": {
   "display_name": "Python 3",
   "language": "python",
   "name": "python3"
  },
  "language_info": {
   "codemirror_mode": {
    "name": "ipython",
    "version": 3
   },
   "file_extension": ".py",
   "mimetype": "text/x-python",
   "name": "python",
   "nbconvert_exporter": "python",
   "pygments_lexer": "ipython3",
   "version": "3.5.2"
  }
 },
 "nbformat": 4,
 "nbformat_minor": 2
}

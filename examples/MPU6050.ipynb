{
 "cells": [
  {
   "cell_type": "code",
   "execution_count": 1,
   "metadata": {},
   "outputs": [],
   "source": [
    "import smbus\n",
    "import matplotlib.pyplot as plt\n",
    "\n",
    "from meerkat import mpu6050, parser"
   ]
  },
  {
   "cell_type": "code",
   "execution_count": 2,
   "metadata": {},
   "outputs": [],
   "source": [
    "i2c = smbus.SMBus(1)\n",
    "dev = mpu6050.mpu6050(bus=i2c, output='json')"
   ]
  },
  {
   "cell_type": "code",
   "execution_count": 3,
   "metadata": {},
   "outputs": [
    {
     "data": {
      "text/plain": [
       "25.894705882352945"
      ]
     },
     "execution_count": 3,
     "metadata": {},
     "output_type": "execute_result"
    }
   ],
   "source": [
    "dev.get_temp()"
   ]
  },
  {
   "cell_type": "code",
   "execution_count": 4,
   "metadata": {},
   "outputs": [],
   "source": [
    "dev.set_gyro_range(dev.GYRO_RANGE_1000DEG)\n",
    "dev.set_accel_range(dev.ACCEL_RANGE_2G)"
   ]
  },
  {
   "cell_type": "code",
   "execution_count": 5,
   "metadata": {},
   "outputs": [
    {
     "data": {
      "text/plain": [
       "{'x': -19.6133, 'y': 3.864241479492187, 'z': 8.628702783203124}"
      ]
     },
     "execution_count": 5,
     "metadata": {},
     "output_type": "execute_result"
    }
   ],
   "source": [
    "dev.get_accel_data()"
   ]
  },
  {
   "cell_type": "code",
   "execution_count": 6,
   "metadata": {},
   "outputs": [
    {
     "data": {
      "text/plain": [
       "{'x': -6.067073170731708, 'y': -4.786585365853659, 'z': 5.975609756097562}"
      ]
     },
     "execution_count": 6,
     "metadata": {},
     "output_type": "execute_result"
    }
   ],
   "source": [
    "dev.get_gyro_data()"
   ]
  },
  {
   "cell_type": "code",
   "execution_count": 7,
   "metadata": {},
   "outputs": [
    {
     "data": {
      "text/plain": [
       "[{'desc': 'example_1',\n",
       "  'n': 1,\n",
       "  'arange': 0,\n",
       "  'grange': 16,\n",
       "  'accel_data': {'x': -19.6133,\n",
       "   'y': 3.878606689453125,\n",
       "   'z': 8.834604125976561},\n",
       "  'gyro_data': {'x': -6.2804878048780495,\n",
       "   'y': -5.0304878048780495,\n",
       "   'z': 6.036585365853659},\n",
       "  'temp_C': 25.847647058823533},\n",
       " {'desc': 'example_1',\n",
       "  'n': 2,\n",
       "  'arange': 0,\n",
       "  'grange': 16,\n",
       "  'accel_data': {'x': -19.6133,\n",
       "   'y': 3.878606689453125,\n",
       "   'z': 8.863334545898438},\n",
       "  'gyro_data': {'x': -6.310975609756098,\n",
       "   'y': -5.060975609756098,\n",
       "   'z': 5.853658536585367},\n",
       "  'temp_C': 25.847647058823533}]"
      ]
     },
     "execution_count": 7,
     "metadata": {},
     "output_type": "execute_result"
    }
   ],
   "source": [
    "dev.get_all_burst(description='example_1', n=2)"
   ]
  },
  {
   "cell_type": "code",
   "execution_count": 8,
   "metadata": {},
   "outputs": [],
   "source": [
    "dev = mpu6050.mpu6050(bus=i2c, output='csv')"
   ]
  },
  {
   "cell_type": "code",
   "execution_count": 9,
   "metadata": {},
   "outputs": [],
   "source": [
    "dev.set_gyro_range(dev.GYRO_RANGE_1000DEG)\n",
    "dev.set_accel_range(dev.ACCEL_RANGE_2G)"
   ]
  },
  {
   "cell_type": "code",
   "execution_count": 10,
   "metadata": {},
   "outputs": [
    {
     "data": {
      "text/plain": [
       "[['example_1',\n",
       "  1,\n",
       "  0,\n",
       "  16,\n",
       "  -19.6133,\n",
       "  3.840299462890625,\n",
       "  8.741230261230468,\n",
       "  -6.128048780487806,\n",
       "  -4.908536585365854,\n",
       "  6.189024390243903,\n",
       "  25.941764705882356],\n",
       " ['example_1',\n",
       "  2,\n",
       "  0,\n",
       "  16,\n",
       "  -19.6133,\n",
       "  3.775656018066406,\n",
       "  8.810662109374999,\n",
       "  -6.128048780487806,\n",
       "  -5.2439024390243905,\n",
       "  6.036585365853659,\n",
       "  25.894705882352945]]"
      ]
     },
     "execution_count": 10,
     "metadata": {},
     "output_type": "execute_result"
    }
   ],
   "source": [
    "dev.get_all_burst(description='example_1', n=2)"
   ]
  },
  {
   "cell_type": "code",
   "execution_count": 11,
   "metadata": {},
   "outputs": [],
   "source": [
    "dev.writer.path = 'MPU6050_example.csv'\n",
    "dev.write_all(description='example_2', n=10)"
   ]
  },
  {
   "cell_type": "code",
   "execution_count": 12,
   "metadata": {},
   "outputs": [],
   "source": [
    "m, df = parser.csv_resource(dev.writer.path)"
   ]
  },
  {
   "cell_type": "code",
   "execution_count": 13,
   "metadata": {},
   "outputs": [
    {
     "data": {
      "text/html": [
       "<div>\n",
       "<style scoped>\n",
       "    .dataframe tbody tr th:only-of-type {\n",
       "        vertical-align: middle;\n",
       "    }\n",
       "\n",
       "    .dataframe tbody tr th {\n",
       "        vertical-align: top;\n",
       "    }\n",
       "\n",
       "    .dataframe thead th {\n",
       "        text-align: right;\n",
       "    }\n",
       "</style>\n",
       "<table border=\"1\" class=\"dataframe\">\n",
       "  <thead>\n",
       "    <tr style=\"text-align: right;\">\n",
       "      <th></th>\n",
       "      <th>std_time_ms</th>\n",
       "      <th>description</th>\n",
       "      <th>sample_n</th>\n",
       "      <th>arange</th>\n",
       "      <th>grange</th>\n",
       "      <th>ax</th>\n",
       "      <th>ay</th>\n",
       "      <th>az</th>\n",
       "      <th>gx</th>\n",
       "      <th>gy</th>\n",
       "      <th>gz</th>\n",
       "      <th>temp_C</th>\n",
       "      <th>datetime64_ns</th>\n",
       "    </tr>\n",
       "  </thead>\n",
       "  <tbody>\n",
       "    <tr>\n",
       "      <th>0</th>\n",
       "      <td>2019-01-03 21:12:52.329888</td>\n",
       "      <td>example_2</td>\n",
       "      <td>1</td>\n",
       "      <td>0</td>\n",
       "      <td>16</td>\n",
       "      <td>-19.6133</td>\n",
       "      <td>3.881001</td>\n",
       "      <td>8.683769</td>\n",
       "      <td>-6.310976</td>\n",
       "      <td>-4.939024</td>\n",
       "      <td>6.097561</td>\n",
       "      <td>25.894706</td>\n",
       "      <td>2019-01-03 21:12:52.329888</td>\n",
       "    </tr>\n",
       "    <tr>\n",
       "      <th>1</th>\n",
       "      <td>2019-01-03 21:12:52.338349</td>\n",
       "      <td>example_2</td>\n",
       "      <td>2</td>\n",
       "      <td>0</td>\n",
       "      <td>16</td>\n",
       "      <td>-19.6133</td>\n",
       "      <td>3.849876</td>\n",
       "      <td>8.602367</td>\n",
       "      <td>-6.371951</td>\n",
       "      <td>-4.969512</td>\n",
       "      <td>6.432927</td>\n",
       "      <td>25.800588</td>\n",
       "      <td>2019-01-03 21:12:52.338349</td>\n",
       "    </tr>\n",
       "    <tr>\n",
       "      <th>2</th>\n",
       "      <td>2019-01-03 21:12:52.362723</td>\n",
       "      <td>example_2</td>\n",
       "      <td>3</td>\n",
       "      <td>0</td>\n",
       "      <td>16</td>\n",
       "      <td>-19.6133</td>\n",
       "      <td>3.914520</td>\n",
       "      <td>8.678981</td>\n",
       "      <td>-6.128049</td>\n",
       "      <td>-5.030488</td>\n",
       "      <td>6.128049</td>\n",
       "      <td>25.847647</td>\n",
       "      <td>2019-01-03 21:12:52.362723</td>\n",
       "    </tr>\n",
       "    <tr>\n",
       "      <th>3</th>\n",
       "      <td>2019-01-03 21:12:52.370911</td>\n",
       "      <td>example_2</td>\n",
       "      <td>4</td>\n",
       "      <td>0</td>\n",
       "      <td>16</td>\n",
       "      <td>-19.6133</td>\n",
       "      <td>3.818752</td>\n",
       "      <td>8.774749</td>\n",
       "      <td>-6.310976</td>\n",
       "      <td>-4.878049</td>\n",
       "      <td>6.097561</td>\n",
       "      <td>25.800588</td>\n",
       "      <td>2019-01-03 21:12:52.370911</td>\n",
       "    </tr>\n",
       "    <tr>\n",
       "      <th>4</th>\n",
       "      <td>2019-01-03 21:12:52.380612</td>\n",
       "      <td>example_2</td>\n",
       "      <td>5</td>\n",
       "      <td>0</td>\n",
       "      <td>16</td>\n",
       "      <td>-19.6133</td>\n",
       "      <td>3.904943</td>\n",
       "      <td>8.822633</td>\n",
       "      <td>-6.310976</td>\n",
       "      <td>-4.847561</td>\n",
       "      <td>6.067073</td>\n",
       "      <td>25.800588</td>\n",
       "      <td>2019-01-03 21:12:52.380612</td>\n",
       "    </tr>\n",
       "  </tbody>\n",
       "</table>\n",
       "</div>"
      ],
      "text/plain": [
       "                  std_time_ms description  sample_n  arange  grange       ax  \\\n",
       "0  2019-01-03 21:12:52.329888   example_2         1       0      16 -19.6133   \n",
       "1  2019-01-03 21:12:52.338349   example_2         2       0      16 -19.6133   \n",
       "2  2019-01-03 21:12:52.362723   example_2         3       0      16 -19.6133   \n",
       "3  2019-01-03 21:12:52.370911   example_2         4       0      16 -19.6133   \n",
       "4  2019-01-03 21:12:52.380612   example_2         5       0      16 -19.6133   \n",
       "\n",
       "         ay        az        gx        gy        gz     temp_C  \\\n",
       "0  3.881001  8.683769 -6.310976 -4.939024  6.097561  25.894706   \n",
       "1  3.849876  8.602367 -6.371951 -4.969512  6.432927  25.800588   \n",
       "2  3.914520  8.678981 -6.128049 -5.030488  6.128049  25.847647   \n",
       "3  3.818752  8.774749 -6.310976 -4.878049  6.097561  25.800588   \n",
       "4  3.904943  8.822633 -6.310976 -4.847561  6.067073  25.800588   \n",
       "\n",
       "               datetime64_ns  \n",
       "0 2019-01-03 21:12:52.329888  \n",
       "1 2019-01-03 21:12:52.338349  \n",
       "2 2019-01-03 21:12:52.362723  \n",
       "3 2019-01-03 21:12:52.370911  \n",
       "4 2019-01-03 21:12:52.380612  "
      ]
     },
     "execution_count": 13,
     "metadata": {},
     "output_type": "execute_result"
    }
   ],
   "source": [
    "df.head()"
   ]
  },
  {
   "cell_type": "code",
   "execution_count": 14,
   "metadata": {},
   "outputs": [
    {
     "data": {
      "text/plain": [
       "std_time_ms              object\n",
       "description              object\n",
       "sample_n                  int64\n",
       "arange                    int64\n",
       "grange                    int64\n",
       "ax                      float64\n",
       "ay                      float64\n",
       "az                      float64\n",
       "gx                      float64\n",
       "gy                      float64\n",
       "gz                      float64\n",
       "temp_C                  float64\n",
       "datetime64_ns    datetime64[ns]\n",
       "dtype: object"
      ]
     },
     "execution_count": 14,
     "metadata": {},
     "output_type": "execute_result"
    }
   ],
   "source": [
    "df.dtypes"
   ]
  },
  {
   "cell_type": "code",
   "execution_count": 15,
   "metadata": {},
   "outputs": [
    {
     "data": {
      "image/png": "[encoded data removed]",
      "text/plain": [
       "<Figure size 432x288 with 1 Axes>"
      ]
     },
     "metadata": {
      "needs_background": "light"
     },
     "output_type": "display_data"
    }
   ],
   "source": [
    "df[['datetime64_ns', \n",
    "    'ax', 'ay', 'az', \n",
    "    'gx', 'gy', 'gz', 'temp_C']].plot(x='datetime64_ns');\n",
    "plt.legend(loc='center left', bbox_to_anchor=(1, 0.5));\n",
    "plt.xlabel('Date & Time');\n",
    "plt.ylabel('m/s**2 or degree/s');"
   ]
  }
 ],
 "metadata": {
  "kernelspec": {
   "display_name": "Python 3",
   "language": "python",
   "name": "python3"
  },
  "language_info": {
   "codemirror_mode": {
    "name": "ipython",
    "version": 3
   },
   "file_extension": ".py",
   "mimetype": "text/x-python",
   "name": "python",
   "nbconvert_exporter": "python",
   "pygments_lexer": "ipython3",
   "version": "3.6.6"
  }
 },
 "nbformat": 4,
 "nbformat_minor": 2
}

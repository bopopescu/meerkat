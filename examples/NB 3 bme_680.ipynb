{
 "cells": [
  {
   "cell_type": "code",
   "execution_count": 1,
   "metadata": {},
   "outputs": [],
   "source": [
    "import time\n",
    "import pandas as pd\n",
    "import matplotlib.pyplot as plt"
   ]
  },
  {
   "cell_type": "code",
   "execution_count": 2,
   "metadata": {},
   "outputs": [],
   "source": [
    "from meerkat import bme680, tools\n",
    "from meerkat.base import TimePiece"
   ]
  },
  {
   "cell_type": "code",
   "execution_count": 3,
   "metadata": {},
   "outputs": [],
   "source": [
    "from importlib import reload"
   ]
  },
  {
   "cell_type": "code",
   "execution_count": 4,
   "metadata": {},
   "outputs": [],
   "source": [
    "def bp(x):\n",
    "    return tools.bprint(x, n=8)"
   ]
  },
  {
   "cell_type": "code",
   "execution_count": 5,
   "metadata": {},
   "outputs": [],
   "source": [
    "tp = TimePiece()"
   ]
  },
  {
   "cell_type": "code",
   "execution_count": 6,
   "metadata": {},
   "outputs": [],
   "source": [
    "reload(bme680)\n",
    "dev = bme680.BME680(bus_n=1)"
   ]
  },
  {
   "cell_type": "code",
   "execution_count": 7,
   "metadata": {},
   "outputs": [],
   "source": [
    "dev.read_calibration()"
   ]
  },
  {
   "cell_type": "markdown",
   "metadata": {},
   "source": [
    "1. Set humidty oversample\n",
    "2. Set temperature oversample\n",
    "3. Set pressure oversample"
   ]
  },
  {
   "cell_type": "code",
   "execution_count": 8,
   "metadata": {},
   "outputs": [],
   "source": [
    "dev.set_oversampling(h=1, t=2, p=16)"
   ]
  },
  {
   "cell_type": "markdown",
   "metadata": {},
   "source": [
    "4. Set gas wait time with gas_wait_0 to 0x59 = 100ms"
   ]
  },
  {
   "cell_type": "code",
   "execution_count": 9,
   "metadata": {},
   "outputs": [
    {
     "name": "stdout",
     "output_type": "stream",
     "text": [
      "89 0x59\n"
     ]
    }
   ],
   "source": [
    "wait = dev.calc_wait_time(t=25, x=4)\n",
    "print(wait, hex(wait))"
   ]
  },
  {
   "cell_type": "code",
   "execution_count": 10,
   "metadata": {},
   "outputs": [],
   "source": [
    "dev.set_gas_wait(n=0, value=wait)"
   ]
  },
  {
   "cell_type": "markdown",
   "metadata": {},
   "source": [
    "5. Set heater set-point with res_heat_0, 150 C here"
   ]
  },
  {
   "cell_type": "code",
   "execution_count": 11,
   "metadata": {},
   "outputs": [
    {
     "data": {
      "text/plain": [
       "151"
      ]
     },
     "execution_count": 11,
     "metadata": {},
     "output_type": "execute_result"
    }
   ],
   "source": [
    "resistance = dev.calc_res_heat(target_temp=150)\n",
    "resistance"
   ]
  },
  {
   "cell_type": "code",
   "execution_count": 12,
   "metadata": {},
   "outputs": [],
   "source": [
    "dev.set_res_heat(n=0, value=resistance)"
   ]
  },
  {
   "cell_type": "markdown",
   "metadata": {},
   "source": [
    "6. Set nb_conv to the 0 profile used in steps 4 and 5"
   ]
  },
  {
   "cell_type": "code",
   "execution_count": 13,
   "metadata": {},
   "outputs": [],
   "source": [
    "dev.nb_conv = 0"
   ]
  },
  {
   "cell_type": "markdown",
   "metadata": {},
   "source": [
    "7. Set run_gas to 1 to enable gas measurements"
   ]
  },
  {
   "cell_type": "code",
   "execution_count": 14,
   "metadata": {},
   "outputs": [],
   "source": [
    "dev.gas_on()"
   ]
  },
  {
   "cell_type": "markdown",
   "metadata": {},
   "source": [
    "8. Set mode to 0b01 to trigger a single forced mode measurement"
   ]
  },
  {
   "cell_type": "code",
   "execution_count": 15,
   "metadata": {},
   "outputs": [],
   "source": [
    "dev.forced_mode()"
   ]
  },
  {
   "cell_type": "code",
   "execution_count": 16,
   "metadata": {},
   "outputs": [
    {
     "name": "stdout",
     "output_type": "stream",
     "text": [
      "T:  25.004609375\n",
      "P:  999.3404630221833\n",
      "RH: 31.543904546490346\n",
      "CPU times: user 36.7 ms, sys: 2.37 ms, total: 39 ms\n",
      "Wall time: 351 ms\n"
     ]
    }
   ],
   "source": [
    "%%time\n",
    "dev.measure()\n",
    "t = dev.temperature()\n",
    "p = dev.pressure()\n",
    "h = dev.humidity()\n",
    "print(\"T: \", t)\n",
    "print(\"P: \", p)\n",
    "print(\"RH:\", h)\n",
    "#dev.setup_gas(t_ms=40, x=4, t_c=150)"
   ]
  },
  {
   "cell_type": "code",
   "execution_count": 17,
   "metadata": {},
   "outputs": [
    {
     "name": "stdout",
     "output_type": "stream",
     "text": [
      "CPU times: user 128 µs, sys: 18 µs, total: 146 µs\n",
      "Wall time: 183 µs\n"
     ]
    }
   ],
   "source": [
    "%%time\n",
    "t = dev.temperature()\n",
    "p = dev.pressure()\n",
    "h = dev.humidity()"
   ]
  },
  {
   "cell_type": "code",
   "execution_count": 18,
   "metadata": {},
   "outputs": [
    {
     "name": "stdout",
     "output_type": "stream",
     "text": [
      "T:  25.004609375\n",
      "P:  999.3404630221833\n",
      "RH: 31.543904546490346\n"
     ]
    }
   ],
   "source": [
    "print(\"T: \", t)\n",
    "print(\"P: \", p)\n",
    "print(\"RH:\", h)"
   ]
  },
  {
   "cell_type": "code",
   "execution_count": 19,
   "metadata": {},
   "outputs": [
    {
     "data": {
      "text/plain": [
       "243"
      ]
     },
     "execution_count": 19,
     "metadata": {},
     "output_type": "execute_result"
    }
   ],
   "source": [
    "dev._range_switch_error"
   ]
  },
  {
   "cell_type": "code",
   "execution_count": 20,
   "metadata": {},
   "outputs": [
    {
     "name": "stdout",
     "output_type": "stream",
     "text": [
      "CPU times: user 66 µs, sys: 9 µs, total: 75 µs\n",
      "Wall time: 108 µs\n"
     ]
    }
   ],
   "source": [
    "%%time\n",
    "g = dev.gas()"
   ]
  },
  {
   "cell_type": "code",
   "execution_count": 21,
   "metadata": {},
   "outputs": [
    {
     "data": {
      "text/plain": [
       "(30669.599606688604, 563, 8, 83722239, 85393407)"
      ]
     },
     "execution_count": 21,
     "metadata": {},
     "output_type": "execute_result"
    }
   ],
   "source": [
    "g"
   ]
  },
  {
   "cell_type": "code",
   "execution_count": null,
   "metadata": {},
   "outputs": [
    {
     "name": "stdout",
     "output_type": "stream",
     "text": [
      "['2020-03-25 00:44:46', 26.1286328125, 999.3698282410176, 31.605636265300255, 33996.107688876, 308, 8, 83722239, 77037567, 1, 3]\n",
      "['2020-03-25 00:44:49', 25.288203125, 999.35573749439, 31.056647313375382, 36018.37910692307, 176, 8, 83722239, 72712191, 1, 3]\n",
      "['2020-03-25 00:44:51', 25.2856640625, 999.3391740303093, 30.71946489598359, 37540.97617882963, 86, 8, 83722239, 69763071, 1, 3]\n",
      "['2020-03-25 00:44:54', 25.3008984375, 999.3752728634992, 30.53633108042905, 54771.28071618692, 893, 7, 83052462, 95537070, 1, 3]\n",
      "['2020-03-25 00:44:56', 25.3059765625, 999.3380850660121, 30.357964650690363, 56736.72073421223, 792, 7, 83052462, 92227502, 1, 3]\n",
      "['2020-03-25 00:44:58', 25.3161328125, 999.3480873659438, 30.22352488928452, 58439.28906001736, 710, 7, 83052462, 89540526, 1, 3]\n",
      "['2020-03-25 00:45:01', 25.331171875, 999.3627629785916, 30.13827669669474, 60133.76659460827, 633, 7, 83052462, 87017390, 1, 3]\n",
      "['2020-03-25 00:45:03', 25.33625, 999.3501842561451, 30.09546187888622, 61571.27431849947, 571, 7, 83052462, 84985774, 1, 3]\n",
      "['2020-03-25 00:45:06', 25.341328125, 999.3393632106572, 30.074275464521143, 63304.245974612444, 500, 7, 83052462, 82659246, 1, 3]\n",
      "['2020-03-25 00:45:08', 25.34640625, 999.3373318724772, 29.98826205944207, 64636.65433301411, 448, 7, 83052462, 80955310, 1, 3]\n",
      "['2020-03-25 00:45:10', 25.351484375, 999.3440904471576, 30.004898792276524, 65835.81120726716, 403, 7, 83052462, 79480750, 1, 3]\n",
      "['2020-03-25 00:45:13', 25.3565625, 999.3578811210004, 29.972922613982362, 67136.7073923193, 356, 7, 83052462, 77940654, 1, 3]\n",
      "['2020-03-25 00:45:15', 25.361640625, 999.3453012951026, 29.897762945111197, 68460.6885732017, 310, 7, 83052462, 76433326, 1, 3]\n",
      "['2020-03-25 00:45:18', 25.3641796875, 999.356591735424, 30.011381249617607, 69443.13139935723, 277, 7, 83052462, 75351982, 1, 3]\n",
      "['2020-03-25 00:45:20', 25.371796875, 999.3289310530073, 29.931016769976438, 70578.73768805175, 240, 7, 83052462, 74139566, 1, 3]\n",
      "['2020-03-25 00:45:23', 25.376875, 999.3409634953539, 29.91525083223336, 71816.6405433182, 201, 7, 83052462, 72861614, 1, 3]\n",
      "['2020-03-25 00:45:25', 25.3794140625, 999.3469797462669, 29.829112074011984, 72732.51254747609, 173, 7, 83052462, 71944110, 1, 3]\n",
      "['2020-03-25 00:45:27', 25.4274609375, 999.3396473894189, 29.887153361371865, 70268.17058415186, 250, 7, 83052462, 74467246, 1, 3]\n",
      "['2020-03-25 00:45:30', 25.4477734375, 999.3350288595917, 31.272169798535455, 73132.21951753671, 161, 7, 83052462, 71550894, 1, 3]\n",
      "['2020-03-25 00:45:32', 25.4653515625, 999.3434062205312, 31.759686389310076, 74740.96948067925, 114, 7, 83052462, 70010798, 1, 3]\n",
      "['2020-03-25 00:45:35', 25.47296875, 999.2946375534428, 31.743958955763794, 76021.89309363566, 78, 7, 83052462, 68831150, 1, 3]\n",
      "['2020-03-25 00:45:37', 25.4907421875, 999.3332322848656, 31.466885908038762, 107570.38867230043, 926, 6, 83722239, 97288191, 1, 3]\n",
      "['2020-03-25 00:45:39', 25.5438671875, 999.33438857184, 31.788584897274994, 74601.30421632614, 118, 7, 83052462, 70141870, 1, 3]\n",
      "['2020-03-25 00:45:42', 25.576875, 999.354562040642, 32.88448326816098, 74916.28818990228, 109, 7, 83052462, 69846958, 1, 3]\n",
      "['2020-03-25 00:45:44', 25.61984375, 999.3369130750855, 34.04519433404464, 107353.44099544176, 932, 6, 83722239, 97484799, 1, 3]\n",
      "['2020-03-25 00:45:47', 25.64015625, 999.3322757210827, 34.32520000164328, 107824.6051572647, 919, 6, 83722239, 97058815, 1, 3]\n",
      "['2020-03-25 00:45:49', 25.6628125, 999.3350832940209, 34.39975040619372, 110971.660379381, 835, 6, 83722239, 94306303, 1, 3]\n",
      "['2020-03-25 00:45:52', 25.6907421875, 999.3432117621803, 34.23540978721414, 113535.87136513049, 770, 6, 83722239, 92176383, 1, 3]\n",
      "['2020-03-25 00:45:54', 25.7008984375, 999.3444079209872, 33.78081655808714, 116902.03724481672, 689, 6, 83722239, 89522175, 1, 3]\n",
      "['2020-03-25 00:45:56', 25.7110546875, 999.3403266872648, 33.15071714433975, 115173.59761993923, 730, 6, 83722239, 90865663, 1, 3]\n",
      "['2020-03-25 00:45:59', 25.721015625, 999.3218453071353, 33.06328352128422, 117590.7061023033, 673, 6, 83722239, 88997887, 1, 3]\n",
      "['2020-03-25 00:46:01', 25.7387890625, 999.3428453813716, 32.805672588197446, 120383.08569885882, 610, 6, 83722239, 86933503, 1, 3]\n",
      "['2020-03-25 00:46:04', 25.741328125, 999.3471018536854, 32.409627563249416, 121945.89897165548, 576, 6, 83722239, 85819391, 1, 3]\n",
      "['2020-03-25 00:46:06', 25.73625, 999.313962099275, 31.89341321911311, 123693.37372583052, 539, 6, 83722239, 84606975, 1, 3]\n"
     ]
    }
   ],
   "source": [
    "hrs = 6   # hours\n",
    "delay = 2 # seconds\n",
    "data = []\n",
    "c = 0\n",
    "while True:\n",
    "    dev.forced_mode()\n",
    "    dev.measure()\n",
    "    t = dev.temperature()\n",
    "    p = dev.pressure()\n",
    "    h = dev.humidity()\n",
    "    \n",
    "    g = dev.gas()\n",
    "    d = [tp.std_time(), t,p,h] + list(g) + [dev._gas_valid, dev._heat_stab]\n",
    "    print(d)\n",
    "    data.append(d)\n",
    "    time.sleep(delay)\n",
    "    if c > ((hrs * 60 * 60 )/ delay):\n",
    "        break"
   ]
  },
  {
   "cell_type": "code",
   "execution_count": null,
   "metadata": {},
   "outputs": [],
   "source": [
    "bp(0xF0//16)"
   ]
  },
  {
   "cell_type": "raw",
   "metadata": {},
   "source": [
    "data"
   ]
  },
  {
   "cell_type": "code",
   "execution_count": null,
   "metadata": {},
   "outputs": [],
   "source": [
    "df = pd.DataFrame(data, columns=[\"dt\", \"t\", \"p\", \"h\", \n",
    "                                 \"gas_res\"]) #, \"adc_gas\", \"adc_gas2\", \"v1\", \"v2\"])\n",
    "df.dt = pd.to_datetime(df.dt)"
   ]
  },
  {
   "cell_type": "code",
   "execution_count": null,
   "metadata": {},
   "outputs": [],
   "source": [
    "df[[\"dt\", \"gas_res\"]].plot(x=\"dt\");"
   ]
  },
  {
   "cell_type": "raw",
   "metadata": {},
   "source": [
    "df[[\"dt\", \"v1\", \"v2\"]].plot(x=\"dt\");"
   ]
  },
  {
   "cell_type": "raw",
   "metadata": {},
   "source": [
    "df[[\"dt\", \"adc_gas\", \"adc_gas2\"]].plot(x=\"dt\");"
   ]
  },
  {
   "cell_type": "raw",
   "metadata": {},
   "source": [
    "df[[\"dt\", \"t\", \"h\"]].plot(x=\"dt\");"
   ]
  },
  {
   "cell_type": "raw",
   "metadata": {},
   "source": [
    "df[[\"dt\", \"p\"]].plot(x=\"dt\");"
   ]
  },
  {
   "cell_type": "code",
   "execution_count": null,
   "metadata": {},
   "outputs": [],
   "source": [
    "reload(bme680)\n",
    "dev = bme680.BME680(bus_n=1)\n",
    "dev.debug_read_registers()"
   ]
  },
  {
   "cell_type": "code",
   "execution_count": null,
   "metadata": {},
   "outputs": [],
   "source": []
  }
 ],
 "metadata": {
  "kernelspec": {
   "display_name": "Python 3",
   "language": "python",
   "name": "python3"
  },
  "language_info": {
   "codemirror_mode": {
    "name": "ipython",
    "version": 3
   },
   "file_extension": ".py",
   "mimetype": "text/x-python",
   "name": "python",
   "nbconvert_exporter": "python",
   "pygments_lexer": "ipython3",
   "version": "3.7.3"
  }
 },
 "nbformat": 4,
 "nbformat_minor": 4
}

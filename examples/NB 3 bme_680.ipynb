{
 "cells": [
  {
   "cell_type": "code",
   "execution_count": 1,
   "metadata": {},
   "outputs": [],
   "source": [
    "import time\n",
    "import pandas as pd\n",
    "import matplotlib.pyplot as plt"
   ]
  },
  {
   "cell_type": "code",
   "execution_count": 2,
   "metadata": {},
   "outputs": [],
   "source": [
    "from meerkat import bme680, tools\n",
    "from meerkat.base import TimePiece"
   ]
  },
  {
   "cell_type": "code",
   "execution_count": 3,
   "metadata": {},
   "outputs": [],
   "source": [
    "from importlib import reload"
   ]
  },
  {
   "cell_type": "code",
   "execution_count": 4,
   "metadata": {},
   "outputs": [],
   "source": [
    "def bp(x):\n",
    "    return tools.bprint(x, n=8)"
   ]
  },
  {
   "cell_type": "code",
   "execution_count": 5,
   "metadata": {},
   "outputs": [],
   "source": [
    "tp = TimePiece()"
   ]
  },
  {
   "cell_type": "code",
   "execution_count": 6,
   "metadata": {},
   "outputs": [],
   "source": [
    "reload(bme680)\n",
    "dev = bme680.BME680(bus_n=1)"
   ]
  },
  {
   "cell_type": "code",
   "execution_count": 7,
   "metadata": {},
   "outputs": [],
   "source": [
    "dev.read_calibration()"
   ]
  },
  {
   "cell_type": "markdown",
   "metadata": {},
   "source": [
    "1. Set humidty oversample\n",
    "2. Set temperature oversample\n",
    "3. Set pressure oversample"
   ]
  },
  {
   "cell_type": "code",
   "execution_count": 8,
   "metadata": {},
   "outputs": [],
   "source": [
    "dev.set_oversampling(h=1, t=2, p=16)"
   ]
  },
  {
   "cell_type": "markdown",
   "metadata": {},
   "source": [
    "4. Set gas wait time with gas_wait_0 to 0x59 = 100ms"
   ]
  },
  {
   "cell_type": "code",
   "execution_count": 9,
   "metadata": {},
   "outputs": [
    {
     "name": "stdout",
     "output_type": "stream",
     "text": [
      "89 0x59\n"
     ]
    }
   ],
   "source": [
    "wait = dev.calc_wait_time(t=25, x=4)\n",
    "print(wait, hex(wait))"
   ]
  },
  {
   "cell_type": "code",
   "execution_count": 10,
   "metadata": {},
   "outputs": [],
   "source": [
    "dev.set_gas_wait(n=0, value=wait)"
   ]
  },
  {
   "cell_type": "markdown",
   "metadata": {},
   "source": [
    "5. Set heater set-point with res_heat_0, 150 C here"
   ]
  },
  {
   "cell_type": "code",
   "execution_count": 11,
   "metadata": {},
   "outputs": [
    {
     "data": {
      "text/plain": [
       "151"
      ]
     },
     "execution_count": 11,
     "metadata": {},
     "output_type": "execute_result"
    }
   ],
   "source": [
    "resistance = dev.calc_res_heat(target_temp=150)\n",
    "resistance"
   ]
  },
  {
   "cell_type": "code",
   "execution_count": 12,
   "metadata": {},
   "outputs": [],
   "source": [
    "dev.set_res_heat(n=0, value=resistance)"
   ]
  },
  {
   "cell_type": "markdown",
   "metadata": {},
   "source": [
    "6. Set nb_conv to the 0 profile used in steps 4 and 5"
   ]
  },
  {
   "cell_type": "code",
   "execution_count": 13,
   "metadata": {},
   "outputs": [],
   "source": [
    "dev.nb_conv = 0"
   ]
  },
  {
   "cell_type": "markdown",
   "metadata": {},
   "source": [
    "7. Set run_gas to 1 to enable gas measurements"
   ]
  },
  {
   "cell_type": "code",
   "execution_count": 14,
   "metadata": {},
   "outputs": [],
   "source": [
    "dev.gas_on()"
   ]
  },
  {
   "cell_type": "markdown",
   "metadata": {},
   "source": [
    "8. Set mode to 0b01 to trigger a single forced mode measurement"
   ]
  },
  {
   "cell_type": "code",
   "execution_count": 15,
   "metadata": {},
   "outputs": [],
   "source": [
    "dev.forced_mode()"
   ]
  },
  {
   "cell_type": "code",
   "execution_count": 16,
   "metadata": {},
   "outputs": [
    {
     "name": "stdout",
     "output_type": "stream",
     "text": [
      "T:  19.1469921875\n",
      "P:  1003.2034217157541\n",
      "RH: 40.88439942020818\n",
      "CPU times: user 35.9 ms, sys: 0 ns, total: 35.9 ms\n",
      "Wall time: 348 ms\n"
     ]
    }
   ],
   "source": [
    "%%time\n",
    "dev.measure()\n",
    "t = dev.temperature()\n",
    "p = dev.pressure()\n",
    "h = dev.humidity()\n",
    "print(\"T: \", t)\n",
    "print(\"P: \", p)\n",
    "print(\"RH:\", h)\n",
    "#dev.setup_gas(t_ms=40, x=4, t_c=150)"
   ]
  },
  {
   "cell_type": "code",
   "execution_count": 17,
   "metadata": {},
   "outputs": [
    {
     "name": "stdout",
     "output_type": "stream",
     "text": [
      "CPU times: user 144 µs, sys: 0 ns, total: 144 µs\n",
      "Wall time: 362 µs\n"
     ]
    }
   ],
   "source": [
    "%%time\n",
    "t = dev.temperature()\n",
    "p = dev.pressure()\n",
    "h = dev.humidity()"
   ]
  },
  {
   "cell_type": "code",
   "execution_count": 18,
   "metadata": {},
   "outputs": [
    {
     "name": "stdout",
     "output_type": "stream",
     "text": [
      "T:  19.1469921875\n",
      "P:  1003.2034217157541\n",
      "RH: 40.88439942020818\n"
     ]
    }
   ],
   "source": [
    "print(\"T: \", t)\n",
    "print(\"P: \", p)\n",
    "print(\"RH:\", h)"
   ]
  },
  {
   "cell_type": "code",
   "execution_count": 19,
   "metadata": {},
   "outputs": [
    {
     "data": {
      "text/plain": [
       "243"
      ]
     },
     "execution_count": 19,
     "metadata": {},
     "output_type": "execute_result"
    }
   ],
   "source": [
    "dev._range_switch_error"
   ]
  },
  {
   "cell_type": "code",
   "execution_count": 20,
   "metadata": {},
   "outputs": [
    {
     "name": "stdout",
     "output_type": "stream",
     "text": [
      "CPU times: user 140 µs, sys: 22 µs, total: 162 µs\n",
      "Wall time: 196 µs\n"
     ]
    }
   ],
   "source": [
    "%%time\n",
    "g = dev.gas()"
   ]
  },
  {
   "cell_type": "code",
   "execution_count": 21,
   "metadata": {},
   "outputs": [
    {
     "data": {
      "text/plain": [
       "(4483.370327089864, 185, 11, 83303628, 72588492)"
      ]
     },
     "execution_count": 21,
     "metadata": {},
     "output_type": "execute_result"
    }
   ],
   "source": [
    "g"
   ]
  },
  {
   "cell_type": "raw",
   "metadata": {},
   "source": [
    "hrs = 24   # hours\n",
    "delay = 2 # seconds\n",
    "data = []\n",
    "c = 0\n",
    "while True:\n",
    "    dev.forced_mode()\n",
    "    dev.measure()\n",
    "    t = dev.temperature()\n",
    "    p = dev.pressure()\n",
    "    h = dev.humidity()\n",
    "    \n",
    "    g = dev.gas()\n",
    "    d = [tp.std_time(), t,p,h] + list(g) + [dev._gas_valid, dev._heat_stab]\n",
    "    #print(d)\n",
    "    data.append(d)\n",
    "    time.sleep(delay)\n",
    "    if c > ((hrs * 60 * 60 )/ delay):\n",
    "        break"
   ]
  },
  {
   "cell_type": "raw",
   "metadata": {},
   "source": [
    "data"
   ]
  },
  {
   "cell_type": "code",
   "execution_count": 67,
   "metadata": {},
   "outputs": [
    {
     "ename": "KeyboardInterrupt",
     "evalue": "",
     "output_type": "error",
     "traceback": [
      "\u001b[0;31m---------------------------------------------------------------------------\u001b[0m",
      "\u001b[0;31mKeyboardInterrupt\u001b[0m                         Traceback (most recent call last)",
      "\u001b[0;32m<ipython-input-67-dc0a26c5882b>\u001b[0m in \u001b[0;36m<module>\u001b[0;34m()\u001b[0m\n\u001b[1;32m     15\u001b[0m         \u001b[0md_line\u001b[0m \u001b[0;34m=\u001b[0m \u001b[0;34m\",\"\u001b[0m\u001b[0;34m.\u001b[0m\u001b[0mjoin\u001b[0m\u001b[0;34m(\u001b[0m\u001b[0md\u001b[0m\u001b[0;34m)\u001b[0m\u001b[0;34m\u001b[0m\u001b[0;34m\u001b[0m\u001b[0m\n\u001b[1;32m     16\u001b[0m         \u001b[0mf\u001b[0m\u001b[0;34m.\u001b[0m\u001b[0mwrite\u001b[0m\u001b[0;34m(\u001b[0m\u001b[0md_line\u001b[0m \u001b[0;34m+\u001b[0m \u001b[0;34m\"\\n\"\u001b[0m\u001b[0;34m)\u001b[0m\u001b[0;34m\u001b[0m\u001b[0;34m\u001b[0m\u001b[0m\n\u001b[0;32m---> 17\u001b[0;31m         \u001b[0mtime\u001b[0m\u001b[0;34m.\u001b[0m\u001b[0msleep\u001b[0m\u001b[0;34m(\u001b[0m\u001b[0mdelay\u001b[0m\u001b[0;34m)\u001b[0m\u001b[0;34m\u001b[0m\u001b[0;34m\u001b[0m\u001b[0m\n\u001b[0m\u001b[1;32m     18\u001b[0m         \u001b[0;32mif\u001b[0m \u001b[0mc\u001b[0m \u001b[0;34m>\u001b[0m \u001b[0;34m(\u001b[0m\u001b[0;34m(\u001b[0m\u001b[0mhrs\u001b[0m \u001b[0;34m*\u001b[0m \u001b[0;36m60\u001b[0m \u001b[0;34m*\u001b[0m \u001b[0;36m60\u001b[0m \u001b[0;34m)\u001b[0m\u001b[0;34m/\u001b[0m \u001b[0mdelay\u001b[0m\u001b[0;34m)\u001b[0m\u001b[0;34m:\u001b[0m\u001b[0;34m\u001b[0m\u001b[0;34m\u001b[0m\u001b[0m\n\u001b[1;32m     19\u001b[0m             \u001b[0;32mbreak\u001b[0m\u001b[0;34m\u001b[0m\u001b[0;34m\u001b[0m\u001b[0m\n",
      "\u001b[0;31mKeyboardInterrupt\u001b[0m: "
     ]
    }
   ],
   "source": [
    "fp = \"test_5.csv\"\n",
    "hrs = 24   # hours\n",
    "delay = 1 # seconds\n",
    "with open(fp, 'a') as f:\n",
    "    while True:\n",
    "        dev.forced_mode()\n",
    "        dev.measure()\n",
    "        t = dev.temperature()\n",
    "        p = dev.pressure()\n",
    "        h = dev.humidity()\n",
    "        g = dev.gas()\n",
    "\n",
    "        d = [tp.std_time(), t,p,h] + list(g) + [dev._gas_valid, dev._heat_stab]\n",
    "        d = [str(_x) for _x in d]\n",
    "        d_line = \",\".join(d)\n",
    "        f.write(d_line + \"\\n\")\n",
    "        time.sleep(delay)\n",
    "        if c > ((hrs * 60 * 60 )/ delay):\n",
    "            break"
   ]
  },
  {
   "cell_type": "raw",
   "metadata": {},
   "source": [
    "df = pd.DataFrame(data, columns=[\"dt\", \n",
    "                                 \"t\", \"p\", \"h\", \n",
    "                                 \"gas_res\", \"adc_gas\", \"adc_gas2\", \"v1\", \"v2\", \n",
    "                                 \"valid\", \"stable\"])\n",
    "df.dt = pd.to_datetime(df.dt)"
   ]
  },
  {
   "cell_type": "raw",
   "metadata": {
    "jupyter": {
     "outputs_hidden": true
    }
   },
   "source": [
    "pd.read_csv?"
   ]
  },
  {
   "cell_type": "code",
   "execution_count": 55,
   "metadata": {},
   "outputs": [],
   "source": [
    "df1 = pd.read_csv(\"test_1.csv\", names=[\"dt\", \n",
    "                                 \"t\", \"p\", \"h\", \n",
    "                                 \"gas_res\", \"adc_gas\", \"adc_gas2\", \"v1\", \"v2\", \n",
    "                                 \"valid\", \"stable\"])\n",
    "df1.dt = pd.to_datetime(df1.dt)"
   ]
  },
  {
   "cell_type": "code",
   "execution_count": 56,
   "metadata": {},
   "outputs": [],
   "source": [
    "df2 = pd.read_csv(\"test_2.csv\", names=[\"dt\", \n",
    "                                 \"t\", \"p\", \"h\", \n",
    "                                 \"gas_res\", \"adc_gas\", \"adc_gas2\", \"v1\", \"v2\", \n",
    "                                 \"valid\", \"stable\"])\n",
    "df2.dt = pd.to_datetime(df2.dt)"
   ]
  },
  {
   "cell_type": "code",
   "execution_count": 62,
   "metadata": {},
   "outputs": [],
   "source": [
    "df3 = pd.read_csv(\"test_3.csv\", names=[\"dt\", \n",
    "                                 \"t\", \"p\", \"h\", \n",
    "                                 \"gas_res\", \"adc_gas\", \"adc_gas2\", \"v1\", \"v2\", \n",
    "                                 \"valid\", \"stable\"])\n",
    "df3.dt = pd.to_datetime(df3.dt)"
   ]
  },
  {
   "cell_type": "code",
   "execution_count": 68,
   "metadata": {},
   "outputs": [],
   "source": [
    "df4 = pd.read_csv(\"test_4.csv\", names=[\"dt\", \n",
    "                                 \"t\", \"p\", \"h\", \n",
    "                                 \"gas_res\", \"adc_gas\", \"adc_gas2\", \"v1\", \"v2\", \n",
    "                                 \"valid\", \"stable\"])\n",
    "df4.dt = pd.to_datetime(df4.dt)"
   ]
  },
  {
   "cell_type": "raw",
   "metadata": {},
   "source": [
    "df5 = pd.read_csv(\"test_5.csv\", names=[\"dt\", \n",
    "                                 \"t\", \"p\", \"h\", \n",
    "                                 \"gas_res\", \"adc_gas\", \"adc_gas2\", \"v1\", \"v2\", \n",
    "                                 \"valid\", \"stable\"])\n",
    "df5.dt = pd.to_datetime(df5.dt)"
   ]
  },
  {
   "cell_type": "raw",
   "metadata": {},
   "source": [
    "df3 = pd.read_csv(\"test_4.csv\", names=[\"dt\", \n",
    "                                 \"t\", \"p\", \"h\", \n",
    "                                 \"gas_res\", \"adc_gas\", \"adc_gas2\", \"v1\", \"v2\", \n",
    "                                 \"valid\", \"stable\"])\n",
    "df3.dt = pd.to_datetime(df3.dt)"
   ]
  },
  {
   "cell_type": "code",
   "execution_count": 69,
   "metadata": {},
   "outputs": [],
   "source": [
    "df = pd.concat([df1, df2, df3, df4], axis=0)"
   ]
  },
  {
   "cell_type": "code",
   "execution_count": 70,
   "metadata": {},
   "outputs": [
    {
     "data": {
      "image/png": "[encoded data removed]",
      "text/plain": [
       "<Figure size 432x288 with 1 Axes>"
      ]
     },
     "metadata": {
      "needs_background": "light"
     },
     "output_type": "display_data"
    }
   ],
   "source": [
    "df[[\"dt\", \"gas_res\"]].plot(x=\"dt\");"
   ]
  },
  {
   "cell_type": "raw",
   "metadata": {},
   "source": [
    "df.dtypes"
   ]
  },
  {
   "cell_type": "raw",
   "metadata": {},
   "source": [
    "t0 = pd.to_datetime(\"2020-03-26 08:30:00\")\n",
    "t0"
   ]
  },
  {
   "cell_type": "raw",
   "metadata": {},
   "source": [
    "df.loc[df.dt > t0, [\"dt\", \"gas_res\"]].plot(x=\"dt\");"
   ]
  },
  {
   "cell_type": "raw",
   "metadata": {},
   "source": [
    "t0 = pd.to_datetime(\"2020-03-26 08:50:00\")\n",
    "t0"
   ]
  },
  {
   "cell_type": "raw",
   "metadata": {},
   "source": [
    "df.loc[df.dt > t0, [\"dt\", \"gas_res\"]].plot(x=\"dt\");"
   ]
  },
  {
   "cell_type": "raw",
   "metadata": {},
   "source": [
    "df[[\"dt\", \"v1\", \"v2\"]].plot(x=\"dt\");"
   ]
  },
  {
   "cell_type": "raw",
   "metadata": {},
   "source": [
    "df[[\"dt\", \"adc_gas\", \"adc_gas2\"]].plot(x=\"dt\");"
   ]
  },
  {
   "cell_type": "code",
   "execution_count": 71,
   "metadata": {},
   "outputs": [
    {
     "data": {
      "image/png": "[encoded data removed]",
      "text/plain": [
       "<Figure size 432x288 with 2 Axes>"
      ]
     },
     "metadata": {
      "needs_background": "light"
     },
     "output_type": "display_data"
    }
   ],
   "source": [
    "df[[\"dt\", \"t\", \"h\"]].plot(x=\"dt\", secondary_y=\"h\");"
   ]
  },
  {
   "cell_type": "code",
   "execution_count": 72,
   "metadata": {},
   "outputs": [
    {
     "data": {
      "image/png": "[encoded data removed]",
      "text/plain": [
       "<Figure size 432x288 with 1 Axes>"
      ]
     },
     "metadata": {
      "needs_background": "light"
     },
     "output_type": "display_data"
    }
   ],
   "source": [
    "df[[\"dt\", \"p\"]].plot(x=\"dt\");"
   ]
  },
  {
   "cell_type": "code",
   "execution_count": null,
   "metadata": {},
   "outputs": [],
   "source": []
  }
 ],
 "metadata": {
  "kernelspec": {
   "display_name": "Python 3",
   "language": "python",
   "name": "python3"
  },
  "language_info": {
   "codemirror_mode": {
    "name": "ipython",
    "version": 3
   },
   "file_extension": ".py",
   "mimetype": "text/x-python",
   "name": "python",
   "nbconvert_exporter": "python",
   "pygments_lexer": "ipython3",
   "version": "3.7.3"
  }
 },
 "nbformat": 4,
 "nbformat_minor": 4
}

{
 "cells": [
  {
   "cell_type": "code",
   "execution_count": 1,
   "metadata": {},
   "outputs": [],
   "source": [
    "import os\n",
    "import sys\n",
    "import smbus\n",
    "\n",
    "from time import sleep\n",
    "from datetime import datetime"
   ]
  },
  {
   "cell_type": "code",
   "execution_count": 2,
   "metadata": {},
   "outputs": [
    {
     "name": "stdout",
     "output_type": "stream",
     "text": [
      "Current working directory is: /home/colin/code/meerkat_good/examples\n",
      "Appending directory to path: /home/colin/code/meerkat_good\n"
     ]
    }
   ],
   "source": [
    "# get current working directory and append to path for package import\n",
    "if os.name == 'posix':\n",
    "    _wd = !pwd\n",
    "elif os.name == 'nt':\n",
    "    _wd = !cd\n",
    "_wd = _wd[0]\n",
    "print('Current working directory is:', _wd)\n",
    "p = os.path.dirname(_wd)\n",
    "p = os.path.join(p, '.')\n",
    "p = os.path.abspath(p)\n",
    "print('Appending directory to path:', p)\n",
    "sys.path.insert(0, p)"
   ]
  },
  {
   "cell_type": "code",
   "execution_count": 3,
   "metadata": {},
   "outputs": [],
   "source": [
    "from meerkat import ads"
   ]
  },
  {
   "cell_type": "markdown",
   "metadata": {},
   "source": [
    "### Setup ADS1115"
   ]
  },
  {
   "cell_type": "code",
   "execution_count": 4,
   "metadata": {},
   "outputs": [
    {
     "data": {
      "text/plain": [
       "17795"
      ]
     },
     "execution_count": 4,
     "metadata": {},
     "output_type": "execute_result"
    }
   ],
   "source": [
    "i2c = smbus.SMBus(1)\n",
    "dev = ads.ADS1115(bus=i2c)\n",
    "dev.get_config()\n",
    "dev.pga('2.048')  # Other options: '6.144', '4.096'\n",
    "dev.mux('0G')     # pin 0 relative to ground\n",
    "dev.get_config()  # refresh for measurements"
   ]
  },
  {
   "cell_type": "markdown",
   "metadata": {},
   "source": [
    "### Print Status"
   ]
  },
  {
   "cell_type": "code",
   "execution_count": 5,
   "metadata": {},
   "outputs": [
    {
     "name": "stdout",
     "output_type": "stream",
     "text": [
      "ADS11x5 Configuration Attributes\n",
      "--------------------------------\n",
      "Config Register: 17795 0x4583 0b100010110000011\n",
      "PGA Range: +/- 2.048 Volts\n",
      "Mode: single\n",
      "Data Rate: 128 SPS\n",
      "Input Multiplexer: 0G\n",
      "Comparator:\n",
      " Queue: off\n",
      " Latching: off\n",
      " Polarity: Active 1\n",
      " Mode: trad\n"
     ]
    }
   ],
   "source": [
    "dev.print_attributes()"
   ]
  },
  {
   "cell_type": "code",
   "execution_count": 6,
   "metadata": {},
   "outputs": [],
   "source": [
    "def get_time():\n",
    "    return datetime.now().strftime('%Y-%m-%d %H:%M:%S.%f')"
   ]
  },
  {
   "cell_type": "markdown",
   "metadata": {},
   "source": [
    "### Single Tests"
   ]
  },
  {
   "cell_type": "code",
   "execution_count": 7,
   "metadata": {},
   "outputs": [
    {
     "name": "stdout",
     "output_type": "stream",
     "text": [
      "Measured voltage: 0.2645\n"
     ]
    }
   ],
   "source": [
    "print('Measured voltage: {}'.format(dev.measure()))"
   ]
  },
  {
   "cell_type": "code",
   "execution_count": 8,
   "metadata": {},
   "outputs": [
    {
     "name": "stdout",
     "output_type": "stream",
     "text": [
      "#!{\"_file_init\": false, \"accuracy\": null, \"bytes\": null, \"case_sensitive_header\": false, \"comment\": \"#\", \"data\": [], \"delimiter\": \",\", \"description\": null, \"device_metadata\": null, \"double_quote\": true, \"dtypes\": null, \"encoding\": \"utf-8\", \"escape_char\": \"\\\\\", \"format\": null, \"hash\": null, \"header\": [\"datetime\", \"sample_id\", \"voltage\"], \"licenses\": null, \"line_terminator\": \"\\n\", \"media_type\": \"text/csv\", \"name\": \"ADS1115\", \"null_sequence\": \"NA\", \"path\": null, \"precision\": null, \"quote_char\": \"\\\"\", \"schema\": null, \"shebang\": true, \"skip_initial_space\": true, \"skip_lines\": 1, \"sources\": null, \"standard\": \"Follow RFC 4180\", \"title\": null, \"units\": null, \"version\": \"0.1 Alpha\"}\n"
     ]
    }
   ],
   "source": [
    "print(dev.data.writer.create_metadata())"
   ]
  },
  {
   "cell_type": "code",
   "execution_count": 9,
   "metadata": {},
   "outputs": [
    {
     "name": "stdout",
     "output_type": "stream",
     "text": [
      "['datetime', 'sample_id', 'voltage']\n"
     ]
    }
   ],
   "source": [
    "print(dev.data.writer.header)"
   ]
  },
  {
   "cell_type": "code",
   "execution_count": 10,
   "metadata": {},
   "outputs": [
    {
     "name": "stdout",
     "output_type": "stream",
     "text": [
      "['2018-06-02 02:10:02.722075', 'test', 0.265125]\n"
     ]
    }
   ],
   "source": [
    "print(dev.get(t=get_time(), sid='test'))"
   ]
  },
  {
   "cell_type": "markdown",
   "metadata": {},
   "source": [
    "### File Save Test"
   ]
  },
  {
   "cell_type": "code",
   "execution_count": 11,
   "metadata": {},
   "outputs": [],
   "source": [
    "samples = 20"
   ]
  },
  {
   "cell_type": "code",
   "execution_count": 12,
   "metadata": {},
   "outputs": [],
   "source": [
    "dev.data.writer.path = 'test.csv'\n",
    "for _ in range(samples):\n",
    "    dev.write(t=get_time(), sid='test_' + str(_))"
   ]
  },
  {
   "cell_type": "code",
   "execution_count": 13,
   "metadata": {},
   "outputs": [],
   "source": [
    "import pandas as pd\n",
    "import matplotlib.pyplot as plt\n",
    "\n",
    "from meerkat import parser"
   ]
  },
  {
   "cell_type": "code",
   "execution_count": 14,
   "metadata": {},
   "outputs": [],
   "source": [
    "m, df = parser.csv_resource('test.csv')"
   ]
  },
  {
   "cell_type": "code",
   "execution_count": 15,
   "metadata": {},
   "outputs": [],
   "source": [
    "df['datetime64_ns'] = pd.to_datetime(df.datetime)"
   ]
  },
  {
   "cell_type": "code",
   "execution_count": 16,
   "metadata": {},
   "outputs": [],
   "source": [
    "df.index = df.datetime64_ns"
   ]
  },
  {
   "cell_type": "code",
   "execution_count": 17,
   "metadata": {},
   "outputs": [],
   "source": [
    "df['rolling_mean'] = df.voltage.rolling(4, win_type='triang').mean()"
   ]
  },
  {
   "cell_type": "code",
   "execution_count": 18,
   "metadata": {},
   "outputs": [],
   "source": [
    "df_mean = df.voltage.mean()\n",
    "df['mean'] = df_mean"
   ]
  },
  {
   "cell_type": "code",
   "execution_count": 19,
   "metadata": {},
   "outputs": [
    {
     "data": {
      "image/png": "[encoded data removed]",
      "text/plain": [
       "<Figure size 432x288 with 1 Axes>"
      ]
     },
     "metadata": {},
     "output_type": "display_data"
    }
   ],
   "source": [
    "df[['voltage', 'rolling_mean', 'mean']].plot(style=[' xb', '-g', '-r']);"
   ]
  },
  {
   "cell_type": "code",
   "execution_count": 20,
   "metadata": {},
   "outputs": [
    {
     "name": "stdout",
     "output_type": "stream",
     "text": [
      "Mean: 0.26459375 Volts DC\n",
      "Standard Deviation: 0.00028569225714\n"
     ]
    }
   ],
   "source": [
    "print('Mean:', df_mean, 'Volts DC')\n",
    "print('Standard Deviation:', df.voltage.std())"
   ]
  },
  {
   "cell_type": "code",
   "execution_count": 21,
   "metadata": {},
   "outputs": [
    {
     "name": "stdout",
     "output_type": "stream",
     "text": [
      "Sample Rate: 3.4727 Hz\n"
     ]
    }
   ],
   "source": [
    "dt = df.index[-1]-df.index[0]\n",
    "dtt = dt.seconds + dt.microseconds / 10**6\n",
    "print('Sample Rate: {:.4f} Hz'.format(len(df)/dtt))"
   ]
  },
  {
   "cell_type": "code",
   "execution_count": 22,
   "metadata": {},
   "outputs": [
    {
     "data": {
      "image/png": "[encoded data removed]",
      "text/plain": [
       "<Figure size 432x288 with 1 Axes>"
      ]
     },
     "metadata": {},
     "output_type": "display_data"
    }
   ],
   "source": [
    "df.voltage.hist(bins=20);"
   ]
  },
  {
   "cell_type": "code",
   "execution_count": null,
   "metadata": {},
   "outputs": [],
   "source": []
  }
 ],
 "metadata": {
  "kernelspec": {
   "display_name": "Python 3",
   "language": "python",
   "name": "python3"
  },
  "language_info": {
   "codemirror_mode": {
    "name": "ipython",
    "version": 3
   },
   "file_extension": ".py",
   "mimetype": "text/x-python",
   "name": "python",
   "nbconvert_exporter": "python",
   "pygments_lexer": "ipython3",
   "version": "3.5.2"
  }
 },
 "nbformat": 4,
 "nbformat_minor": 2
}

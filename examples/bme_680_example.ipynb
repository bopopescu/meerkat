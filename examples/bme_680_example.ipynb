{
 "cells": [
  {
   "cell_type": "code",
   "execution_count": 1,
   "metadata": {},
   "outputs": [],
   "source": [
    "import time\n",
    "import pandas as pd\n",
    "import matplotlib.pyplot as plt"
   ]
  },
  {
   "cell_type": "code",
   "execution_count": 2,
   "metadata": {},
   "outputs": [],
   "source": [
    "from meerkat import bme680, tools"
   ]
  },
  {
   "cell_type": "code",
   "execution_count": null,
   "metadata": {},
   "outputs": [],
   "source": [
    "from importlib import reload"
   ]
  },
  {
   "cell_type": "code",
   "execution_count": 4,
   "metadata": {},
   "outputs": [],
   "source": [
    "def bp(x):\n",
    "    return tools.bprint(x, n=8)"
   ]
  },
  {
   "cell_type": "code",
   "execution_count": 5,
   "metadata": {},
   "outputs": [],
   "source": [
    "reload(bme680)\n",
    "dev = bme680.BME680(bus_n=1)"
   ]
  },
  {
   "cell_type": "code",
   "execution_count": 6,
   "metadata": {},
   "outputs": [],
   "source": [
    "dev.read_calibration()"
   ]
  },
  {
   "cell_type": "markdown",
   "metadata": {},
   "source": [
    "1. Set humidty oversample\n",
    "2. Set temperature oversample\n",
    "3. Set pressure oversample"
   ]
  },
  {
   "cell_type": "code",
   "execution_count": 7,
   "metadata": {},
   "outputs": [],
   "source": [
    "dev.set_oversampling(h=1, t=2, p=16)"
   ]
  },
  {
   "cell_type": "markdown",
   "metadata": {},
   "source": [
    "4. Set gas wait time with gas_wait_0 to 0x59 = 100ms"
   ]
  },
  {
   "cell_type": "code",
   "execution_count": 8,
   "metadata": {},
   "outputs": [
    {
     "name": "stdout",
     "output_type": "stream",
     "text": [
      "0x59\n"
     ]
    }
   ],
   "source": [
    "wait = dev.calc_wait_time(t=25, x=4)\n",
    "print(hex(wait))"
   ]
  },
  {
   "cell_type": "code",
   "execution_count": 9,
   "metadata": {},
   "outputs": [],
   "source": [
    "dev.set_gas_wait(n=0, value=wait)"
   ]
  },
  {
   "cell_type": "markdown",
   "metadata": {},
   "source": [
    "5. Set heater set-point with res_heat_0, 150 C here"
   ]
  },
  {
   "cell_type": "code",
   "execution_count": 10,
   "metadata": {},
   "outputs": [
    {
     "data": {
      "text/plain": [
       "151"
      ]
     },
     "execution_count": 10,
     "metadata": {},
     "output_type": "execute_result"
    }
   ],
   "source": [
    "resistance = dev.calc_res_heat(target_temp=150)\n",
    "resistance"
   ]
  },
  {
   "cell_type": "code",
   "execution_count": 11,
   "metadata": {},
   "outputs": [],
   "source": [
    "dev.set_res_heat(n=0, value=resistance)"
   ]
  },
  {
   "cell_type": "markdown",
   "metadata": {},
   "source": [
    "6. Set nb_conv to the 0 profile used in steps 4 and 5"
   ]
  },
  {
   "cell_type": "code",
   "execution_count": 12,
   "metadata": {},
   "outputs": [],
   "source": [
    "dev.nb_conv = 0"
   ]
  },
  {
   "cell_type": "markdown",
   "metadata": {},
   "source": [
    "7. Set run_gas to 1 to enable gas measurements"
   ]
  },
  {
   "cell_type": "code",
   "execution_count": 13,
   "metadata": {},
   "outputs": [],
   "source": [
    "dev.gas_on()"
   ]
  },
  {
   "cell_type": "markdown",
   "metadata": {},
   "source": [
    "8. Set mode to 0b01 to trigger a single forced mode measurement"
   ]
  },
  {
   "cell_type": "code",
   "execution_count": 14,
   "metadata": {},
   "outputs": [
    {
     "name": "stdout",
     "output_type": "stream",
     "text": [
      "T:  21.959296875\n",
      "P:  988.9324631197717\n",
      "RH: 37.14407996473337\n",
      "G: 9371\n",
      "Gas Valid: 1\n",
      "Heat Stable: 1\n",
      "CPU times: user 26.7 ms, sys: 1.88 ms, total: 28.6 ms\n",
      "Wall time: 166 ms\n"
     ]
    }
   ],
   "source": [
    "%%time\n",
    "dev.forced_mode()\n",
    "dev.measure()\n",
    "t = dev.temperature()\n",
    "p = dev.pressure()\n",
    "h = dev.humidity()\n",
    "g = dev.gas()\n",
    "print(\"T: \", t)\n",
    "print(\"P: \", p)\n",
    "print(\"RH:\", h)\n",
    "print(\"Gas Resistance:\", g)\n",
    "print(\"Gas Valid:\", dev._gas_valid)\n",
    "print(\"Heat Stable:\", dev._heat_stab)"
   ]
  },
  {
   "cell_type": "code",
   "execution_count": 15,
   "metadata": {},
   "outputs": [
    {
     "data": {
      "text/plain": [
       "['NA', 1, 22.70109375, 988.9402810123087, 37.35885131851007, 14775, 1, 1]"
      ]
     },
     "execution_count": 15,
     "metadata": {},
     "output_type": "execute_result"
    }
   ],
   "source": [
    "dev.get()"
   ]
  },
  {
   "cell_type": "code",
   "execution_count": 16,
   "metadata": {},
   "outputs": [
    {
     "data": {
      "text/plain": [
       "['{\"description\": \"test_1\", \"sample_n\": 1, \"T\": 23.232734375, \"P\": 988.9183441202491, \"RH\": 37.44036984710466, \"g_res\": 16137, \"g_val\": 1, \"heat_stab\": 1, \"std_time_ms\": \"2020-04-05 15:35:01.945124\"}',\n",
       " '{\"description\": \"test_1\", \"sample_n\": 2, \"T\": 23.576875, \"P\": 988.8233891715868, \"RH\": 37.480666083113746, \"g_res\": 17245, \"g_val\": 1, \"heat_stab\": 1, \"std_time_ms\": \"2020-04-05 15:35:02.098218\"}',\n",
       " '{\"description\": \"test_1\", \"sample_n\": 3, \"T\": 24.0048046875, \"P\": 988.8723947784522, \"RH\": 37.540918016558436, \"g_res\": 18122, \"g_val\": 1, \"heat_stab\": 1, \"std_time_ms\": \"2020-04-05 15:35:02.251030\"}',\n",
       " '{\"description\": \"test_1\", \"sample_n\": 4, \"T\": 24.3262890625, \"P\": 988.8858694178858, \"RH\": 37.59056538641925, \"g_res\": 18787, \"g_val\": 1, \"heat_stab\": 1, \"std_time_ms\": \"2020-04-05 15:35:02.404414\"}',\n",
       " '{\"description\": \"test_1\", \"sample_n\": 5, \"T\": 24.5591015625, \"P\": 988.9200691667602, \"RH\": 37.51210646973395, \"g_res\": 27569, \"g_val\": 1, \"heat_stab\": 1, \"std_time_ms\": \"2020-04-05 15:35:02.555534\"}']"
      ]
     },
     "execution_count": 16,
     "metadata": {},
     "output_type": "execute_result"
    }
   ],
   "source": [
    "dev.publish(description='test_1', n=5)"
   ]
  },
  {
   "cell_type": "code",
   "execution_count": 17,
   "metadata": {},
   "outputs": [
    {
     "ename": "KeyboardInterrupt",
     "evalue": "",
     "output_type": "error",
     "traceback": [
      "\u001b[0;31m---------------------------------------------------------------------------\u001b[0m",
      "\u001b[0;31mKeyboardInterrupt\u001b[0m                         Traceback (most recent call last)",
      "\u001b[0;32m<ipython-input-17-44e47103355a>\u001b[0m in \u001b[0;36m<module>\u001b[0;34m()\u001b[0m\n\u001b[0;32m----> 1\u001b[0;31m \u001b[0mdev\u001b[0m\u001b[0;34m.\u001b[0m\u001b[0mwrite\u001b[0m\u001b[0;34m(\u001b[0m\u001b[0mdescription\u001b[0m\u001b[0;34m=\u001b[0m\u001b[0;34m'test_2'\u001b[0m\u001b[0;34m,\u001b[0m \u001b[0mn\u001b[0m\u001b[0;34m=\u001b[0m\u001b[0;36m60\u001b[0m\u001b[0;34m*\u001b[0m\u001b[0;36m60\u001b[0m\u001b[0;34m*\u001b[0m\u001b[0;36m5\u001b[0m\u001b[0;34m,\u001b[0m \u001b[0mdelay\u001b[0m\u001b[0;34m=\u001b[0m\u001b[0;36m1\u001b[0m\u001b[0;34m)\u001b[0m\u001b[0;34m\u001b[0m\u001b[0;34m\u001b[0m\u001b[0m\n\u001b[0m",
      "\u001b[0;32m/home/pi/code/meerkat/meerkat/bme680.py\u001b[0m in \u001b[0;36mwrite\u001b[0;34m(self, description, n, delay)\u001b[0m\n\u001b[1;32m    692\u001b[0m             \u001b[0mwr\u001b[0m\u001b[0;34m.\u001b[0m\u001b[0mwrite\u001b[0m\u001b[0;34m(\u001b[0m\u001b[0mself\u001b[0m\u001b[0;34m.\u001b[0m\u001b[0m_get\u001b[0m\u001b[0;34m(\u001b[0m\u001b[0mdescription\u001b[0m\u001b[0;34m=\u001b[0m\u001b[0mdescription\u001b[0m\u001b[0;34m,\u001b[0m \u001b[0mm\u001b[0m\u001b[0;34m=\u001b[0m\u001b[0mm\u001b[0m\u001b[0;34m)\u001b[0m\u001b[0;34m)\u001b[0m\u001b[0;34m\u001b[0m\u001b[0;34m\u001b[0m\u001b[0m\n\u001b[1;32m    693\u001b[0m             \u001b[0;32mif\u001b[0m \u001b[0mdelay\u001b[0m \u001b[0;32mis\u001b[0m \u001b[0;32mnot\u001b[0m \u001b[0;32mNone\u001b[0m\u001b[0;34m:\u001b[0m\u001b[0;34m\u001b[0m\u001b[0;34m\u001b[0m\u001b[0m\n\u001b[0;32m--> 694\u001b[0;31m                 \u001b[0mtime\u001b[0m\u001b[0;34m.\u001b[0m\u001b[0msleep\u001b[0m\u001b[0;34m(\u001b[0m\u001b[0mdelay\u001b[0m\u001b[0;34m)\u001b[0m\u001b[0;34m\u001b[0m\u001b[0;34m\u001b[0m\u001b[0m\n\u001b[0m",
      "\u001b[0;31mKeyboardInterrupt\u001b[0m: "
     ]
    }
   ],
   "source": [
    "# with delay = 1 second, n = number of seconds to record\n",
    "hrs = 5\n",
    "seconds = hrs * 60 * 60\n",
    "dev.write(description='test_2', n=seconds, delay=1)"
   ]
  },
  {
   "cell_type": "code",
   "execution_count": 18,
   "metadata": {},
   "outputs": [],
   "source": [
    "from meerkat import parser"
   ]
  },
  {
   "cell_type": "code",
   "execution_count": 19,
   "metadata": {},
   "outputs": [
    {
     "data": {
      "text/plain": [
       "'2020_04_05_15_35_02_data.csv'"
      ]
     },
     "execution_count": 19,
     "metadata": {},
     "output_type": "execute_result"
    }
   ],
   "source": [
    "dev.csv_writer.path"
   ]
  },
  {
   "cell_type": "code",
   "execution_count": 24,
   "metadata": {},
   "outputs": [],
   "source": [
    "metadata, df = parser.csv_resource(dev.csv_writer.path)"
   ]
  },
  {
   "cell_type": "code",
   "execution_count": 25,
   "metadata": {},
   "outputs": [
    {
     "data": {
      "text/html": [
       "<div>\n",
       "<style scoped>\n",
       "    .dataframe tbody tr th:only-of-type {\n",
       "        vertical-align: middle;\n",
       "    }\n",
       "\n",
       "    .dataframe tbody tr th {\n",
       "        vertical-align: top;\n",
       "    }\n",
       "\n",
       "    .dataframe thead th {\n",
       "        text-align: right;\n",
       "    }\n",
       "</style>\n",
       "<table border=\"1\" class=\"dataframe\">\n",
       "  <thead>\n",
       "    <tr style=\"text-align: right;\">\n",
       "      <th></th>\n",
       "      <th>std_time_ms</th>\n",
       "      <th>description</th>\n",
       "      <th>sample_n</th>\n",
       "      <th>T</th>\n",
       "      <th>P</th>\n",
       "      <th>RH</th>\n",
       "      <th>g_res</th>\n",
       "      <th>g_val</th>\n",
       "      <th>heat_stab</th>\n",
       "      <th>datetime64_ns</th>\n",
       "    </tr>\n",
       "  </thead>\n",
       "  <tbody>\n",
       "    <tr>\n",
       "      <th>0</th>\n",
       "      <td>2020-04-05 15:35:02.743802</td>\n",
       "      <td>test_2</td>\n",
       "      <td>0</td>\n",
       "      <td>24.726289</td>\n",
       "      <td>988.971434</td>\n",
       "      <td>37.529125</td>\n",
       "      <td>28463</td>\n",
       "      <td>1</td>\n",
       "      <td>1</td>\n",
       "      <td>2020-04-05 15:35:02.743802</td>\n",
       "    </tr>\n",
       "    <tr>\n",
       "      <th>1</th>\n",
       "      <td>2020-04-05 15:35:03.896068</td>\n",
       "      <td>test_2</td>\n",
       "      <td>1</td>\n",
       "      <td>22.653047</td>\n",
       "      <td>988.958277</td>\n",
       "      <td>37.088669</td>\n",
       "      <td>27790</td>\n",
       "      <td>1</td>\n",
       "      <td>1</td>\n",
       "      <td>2020-04-05 15:35:03.896068</td>\n",
       "    </tr>\n",
       "    <tr>\n",
       "      <th>2</th>\n",
       "      <td>2020-04-05 15:35:05.049668</td>\n",
       "      <td>test_2</td>\n",
       "      <td>2</td>\n",
       "      <td>22.389766</td>\n",
       "      <td>988.955440</td>\n",
       "      <td>36.634659</td>\n",
       "      <td>27858</td>\n",
       "      <td>1</td>\n",
       "      <td>1</td>\n",
       "      <td>2020-04-05 15:35:05.049668</td>\n",
       "    </tr>\n",
       "    <tr>\n",
       "      <th>3</th>\n",
       "      <td>2020-04-05 15:35:06.200333</td>\n",
       "      <td>test_2</td>\n",
       "      <td>3</td>\n",
       "      <td>22.316328</td>\n",
       "      <td>988.946804</td>\n",
       "      <td>36.520687</td>\n",
       "      <td>28152</td>\n",
       "      <td>1</td>\n",
       "      <td>1</td>\n",
       "      <td>2020-04-05 15:35:06.200333</td>\n",
       "    </tr>\n",
       "    <tr>\n",
       "      <th>4</th>\n",
       "      <td>2020-04-05 15:35:07.351505</td>\n",
       "      <td>test_2</td>\n",
       "      <td>4</td>\n",
       "      <td>22.301094</td>\n",
       "      <td>988.958156</td>\n",
       "      <td>36.328314</td>\n",
       "      <td>28483</td>\n",
       "      <td>1</td>\n",
       "      <td>1</td>\n",
       "      <td>2020-04-05 15:35:07.351505</td>\n",
       "    </tr>\n",
       "  </tbody>\n",
       "</table>\n",
       "</div>"
      ],
      "text/plain": [
       "                  std_time_ms description  sample_n          T           P  \\\n",
       "0  2020-04-05 15:35:02.743802      test_2         0  24.726289  988.971434   \n",
       "1  2020-04-05 15:35:03.896068      test_2         1  22.653047  988.958277   \n",
       "2  2020-04-05 15:35:05.049668      test_2         2  22.389766  988.955440   \n",
       "3  2020-04-05 15:35:06.200333      test_2         3  22.316328  988.946804   \n",
       "4  2020-04-05 15:35:07.351505      test_2         4  22.301094  988.958156   \n",
       "\n",
       "          RH  g_res  g_val  heat_stab              datetime64_ns  \n",
       "0  37.529125  28463      1          1 2020-04-05 15:35:02.743802  \n",
       "1  37.088669  27790      1          1 2020-04-05 15:35:03.896068  \n",
       "2  36.634659  27858      1          1 2020-04-05 15:35:05.049668  \n",
       "3  36.520687  28152      1          1 2020-04-05 15:35:06.200333  \n",
       "4  36.328314  28483      1          1 2020-04-05 15:35:07.351505  "
      ]
     },
     "execution_count": 25,
     "metadata": {},
     "output_type": "execute_result"
    }
   ],
   "source": [
    "df.head()"
   ]
  },
  {
   "cell_type": "code",
   "execution_count": 26,
   "metadata": {},
   "outputs": [
    {
     "data": {
      "image/png": "[encoded data removed]",
      "text/plain": [
       "<Figure size 432x288 with 1 Axes>"
      ]
     },
     "metadata": {
      "needs_background": "light"
     },
     "output_type": "display_data"
    }
   ],
   "source": [
    "df[[\"std_time_ms\", \"g_res\"]].plot(x=\"std_time_ms\");"
   ]
  },
  {
   "cell_type": "code",
   "execution_count": 27,
   "metadata": {},
   "outputs": [
    {
     "data": {
      "image/png": "[encoded data removed]",
      "text/plain": [
       "<Figure size 432x288 with 2 Axes>"
      ]
     },
     "metadata": {
      "needs_background": "light"
     },
     "output_type": "display_data"
    }
   ],
   "source": [
    "df[[\"std_time_ms\", \"T\", \"RH\"]].plot(x=\"std_time_ms\", secondary_y=\"RH\");"
   ]
  },
  {
   "cell_type": "code",
   "execution_count": 28,
   "metadata": {},
   "outputs": [
    {
     "data": {
      "image/png": "[encoded data removed]",
      "text/plain": [
       "<Figure size 432x288 with 1 Axes>"
      ]
     },
     "metadata": {
      "needs_background": "light"
     },
     "output_type": "display_data"
    }
   ],
   "source": [
    "df[[\"std_time_ms\", \"P\"]].plot(x=\"std_time_ms\");"
   ]
  },
  {
   "cell_type": "code",
   "execution_count": null,
   "metadata": {},
   "outputs": [],
   "source": []
  }
 ],
 "metadata": {
  "kernelspec": {
   "display_name": "Python 3",
   "language": "python",
   "name": "python3"
  },
  "language_info": {
   "codemirror_mode": {
    "name": "ipython",
    "version": 3
   },
   "file_extension": ".py",
   "mimetype": "text/x-python",
   "name": "python",
   "nbconvert_exporter": "python",
   "pygments_lexer": "ipython3",
   "version": "3.7.3"
  }
 },
 "nbformat": 4,
 "nbformat_minor": 4
}
